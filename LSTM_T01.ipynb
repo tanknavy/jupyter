{
 "cells": [
  {
   "cell_type": "code",
   "execution_count": 1,
   "metadata": {
    "collapsed": true
   },
   "outputs": [],
   "source": [
    "def read_text_file():\n",
    "    #Open textfile and return a separated input and output variable(series of words)\n",
    "    with open(\"main.txt\", \"r\") as text_file:\n",
    "        data = text_file.read()\n",
    "    text = list(data)\n",
    "    outputSize = len(text)\n",
    "    data = list(set(text))\n",
    "    uniqueWords, dataSize = len(data), len(data) \n",
    "    returnData = np.zeros((uniqueWords, dataSize))\n",
    "    for i in range(0, dataSize):\n",
    "        returnData[i][i] = 1\n",
    "    returnData = np.append(returnData, np.atleast_2d(data), axis=0)\n",
    "    output = np.zeros((uniqueWords, outputSize))\n",
    "    for i in range(0, outputSize):\n",
    "        index = np.where(np.asarray(data) == text[i])\n",
    "        output[:,i] = returnData[0:-1,index[0]].astype(float).ravel()  \n",
    "    return returnData, uniqueWords, output, outputSize, data\n"
   ]
  },
  {
   "cell_type": "code",
   "execution_count": 5,
   "metadata": {
    "collapsed": false
   },
   "outputs": [
    {
     "data": {
      "text/plain": [
       "(44670, ['¡', '¡', '¡', '¡', 'W', 'h', 'y', ' ', 'G', 'o'])"
      ]
     },
     "execution_count": 5,
     "metadata": {},
     "output_type": "execute_result"
    }
   ],
   "source": [
    "with open(\"c:/input/NLP/College.txt\", \"r\") as text_file:\n",
    "    data = text_file.read()\n",
    "#text = list(data)\n",
    "text = list(data.strip().split())\n",
    "len(text),text[:10]"
   ]
  },
  {
   "cell_type": "code",
   "execution_count": null,
   "metadata": {
    "collapsed": true
   },
   "outputs": [],
   "source": []
  }
 ],
 "metadata": {
  "kernelspec": {
   "display_name": "Python 3",
   "language": "python",
   "name": "python3"
  },
  "language_info": {
   "codemirror_mode": {
    "name": "ipython",
    "version": 3
   },
   "file_extension": ".py",
   "mimetype": "text/x-python",
   "name": "python",
   "nbconvert_exporter": "python",
   "pygments_lexer": "ipython3",
   "version": "3.5.4"
  }
 },
 "nbformat": 4,
 "nbformat_minor": 0
}
