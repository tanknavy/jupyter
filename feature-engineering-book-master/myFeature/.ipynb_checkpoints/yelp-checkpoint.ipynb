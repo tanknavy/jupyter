{
 "cells": [
  {
   "cell_type": "code",
   "execution_count": 1,
   "metadata": {},
   "outputs": [],
   "source": [
    "import pandas as pd\n",
    "import numpy as np\n",
    "import json\n",
    "import matplotlib.pyplot as plt\n",
    "import seaborn as sns"
   ]
  },
  {
   "cell_type": "code",
   "execution_count": null,
   "metadata": {},
   "outputs": [],
   "source": []
  },
  {
   "cell_type": "code",
   "execution_count": 2,
   "metadata": {},
   "outputs": [],
   "source": [
    "# 注意json中load和loads的区别，一个是针对.read()支持的文本文件或者二进制文件，loads是字符，字节，字节数组\n",
    "with open('d:/input/FeatureEngineer/yelp_dataset_all/business.json',encoding='utf8') as biz_file:\n",
    "    biz_df = pd.DataFrame([json.loads(x) for x in biz_file.readlines()])"
   ]
  },
  {
   "cell_type": "code",
   "execution_count": 3,
   "metadata": {},
   "outputs": [
    {
     "data": {
      "text/plain": [
       "{'Monday': '9:0-0:0',\n",
       " 'Tuesday': '9:0-0:0',\n",
       " 'Wednesday': '9:0-0:0',\n",
       " 'Thursday': '9:0-0:0',\n",
       " 'Friday': '9:0-1:0',\n",
       " 'Saturday': '9:0-1:0',\n",
       " 'Sunday': '9:0-0:0'}"
      ]
     },
     "execution_count": 3,
     "metadata": {},
     "output_type": "execute_result"
    }
   ],
   "source": [
    "biz_df['hours'][1]"
   ]
  },
  {
   "cell_type": "code",
   "execution_count": 4,
   "metadata": {},
   "outputs": [
    {
     "data": {
      "text/plain": [
       "Index(['address', 'attributes', 'business_id', 'categories', 'city', 'hours',\n",
       "       'is_open', 'latitude', 'longitude', 'name', 'postal_code',\n",
       "       'review_count', 'stars', 'state'],\n",
       "      dtype='object')"
      ]
     },
     "execution_count": 4,
     "metadata": {},
     "output_type": "execute_result"
    }
   ],
   "source": [
    "biz_df.columns"
   ]
  },
  {
   "cell_type": "code",
   "execution_count": 5,
   "metadata": {},
   "outputs": [],
   "source": [
    "# lines:文件每一行是一个json\n",
    "json\n",
    "df = pd.read_json('d:/input/FeatureEngineer/yelp_dataset_all/business.json',orient='columns',lines=True, encoding='utf8')"
   ]
  },
  {
   "cell_type": "code",
   "execution_count": 6,
   "metadata": {},
   "outputs": [
    {
     "data": {
      "text/plain": [
       "RangeIndex(start=0, stop=192609, step=1)"
      ]
     },
     "execution_count": 6,
     "metadata": {},
     "output_type": "execute_result"
    }
   ],
   "source": [
    "df.index"
   ]
  },
  {
   "cell_type": "code",
   "execution_count": 7,
   "metadata": {},
   "outputs": [
    {
     "data": {
      "image/png": "[encoded data removed]",
      "text/plain": [
       "<Figure size 432x288 with 1 Axes>"
      ]
     },
     "metadata": {},
     "output_type": "display_data"
    }
   ],
   "source": [
    "sns.set_style('whitegrid')\n",
    "fig,ax = plt.subplots()\n",
    "biz_df['review_count'].hist(ax=ax,bins=20) # 固定分箱,数据范围/分箱数，\n",
    "\n",
    "ax.set_xscale('log') # 数量差别过来，分成数量级，log变换把大数压缩，很小的数延展\n",
    "ax.set_yscale('log') # 数量差别过来，分成数量级，log变换把大数压缩，很小的数延展\n",
    "ax.set_xlabel(\"review count\",fontsize=14)\n",
    "ax.set_ylabel(\"occurence\",fontsize=14)\n",
    "\n",
    "ax.tick_params(labelsize=14)"
   ]
  },
  {
   "cell_type": "code",
   "execution_count": 8,
   "metadata": {},
   "outputs": [
    {
     "data": {
      "text/plain": [
       "0.1     3.0\n",
       "0.2     4.0\n",
       "0.3     5.0\n",
       "0.4     7.0\n",
       "0.5     9.0\n",
       "0.6    13.0\n",
       "0.7    19.0\n",
       "0.8    33.0\n",
       "0.9    70.0\n",
       "Name: review_count, dtype: float64"
      ]
     },
     "execution_count": 8,
     "metadata": {},
     "output_type": "execute_result"
    }
   ],
   "source": [
    "biz_df['review_count'].quantile([.1,.2,.3,.4,.5,.6,.7,.8,.9])"
   ]
  },
  {
   "cell_type": "code",
   "execution_count": 9,
   "metadata": {},
   "outputs": [
    {
     "data": {
      "text/plain": [
       "(192609, 14)"
      ]
     },
     "execution_count": 9,
     "metadata": {},
     "output_type": "execute_result"
    }
   ],
   "source": [
    "df.shape;biz_df.shape"
   ]
  },
  {
   "cell_type": "code",
   "execution_count": 10,
   "metadata": {},
   "outputs": [
    {
     "data": {
      "image/png": "[encoded data removed]",
      "text/plain": [
       "<Figure size 432x288 with 1 Axes>"
      ]
     },
     "metadata": {},
     "output_type": "display_data"
    }
   ],
   "source": [
    "sns.set_style(\"whitegrid\")\n",
    "fig,ax = plt.subplots()\n",
    "biz_df['review_count'].hist(ax=ax,bins=100)# 柱状图，分箱固定分箱\n",
    "ax.set_yscale(\"log\")# 跨度很大，使用Log\n",
    "ax.set_xscale(\"log\")# 跨度很大，使用Log\n",
    "ax.tick_params(labelsize=14) # 刻度树"
   ]
  },
  {
   "cell_type": "code",
   "execution_count": 11,
   "metadata": {},
   "outputs": [
    {
     "data": {
      "text/plain": [
       "<matplotlib.axes._subplots.AxesSubplot at 0x145580b8>"
      ]
     },
     "execution_count": 11,
     "metadata": {},
     "output_type": "execute_result"
    },
    {
     "data": {
      "image/png": "[encoded data removed]",
      "text/plain": [
       "<Figure size 432x288 with 1 Axes>"
      ]
     },
     "metadata": {},
     "output_type": "display_data"
    }
   ],
   "source": [
    "pd.Series(np.random.randint(0,20,10000)).hist(bins=5) # hist的含义，这个序列的数据出现次数"
   ]
  },
  {
   "cell_type": "code",
   "execution_count": 12,
   "metadata": {},
   "outputs": [],
   "source": [
    "lc = [296, 8286, 64011, 80, 3, 725, 867, 2215, 7689, 11495, 91897,44, 28, 7971, 926, 122, 22222]"
   ]
  },
  {
   "cell_type": "code",
   "execution_count": 13,
   "metadata": {},
   "outputs": [
    {
     "data": {
      "text/plain": [
       "array([ 122.,  926., 8286.])"
      ]
     },
     "execution_count": 13,
     "metadata": {},
     "output_type": "execute_result"
    }
   ],
   "source": [
    "np.quantile(lc,[0.25,0.5,0.75])\n"
   ]
  },
  {
   "cell_type": "code",
   "execution_count": 14,
   "metadata": {},
   "outputs": [
    {
     "data": {
      "text/plain": [
       "array([1, 2, 3, 0, 0, 1, 1, 2, 2, 3, 3, 0, 0, 2, 1, 0, 3], dtype=int64)"
      ]
     },
     "execution_count": 14,
     "metadata": {},
     "output_type": "execute_result"
    }
   ],
   "source": [
    "pd.qcut(lc,4,labels=False)# qcut按照分位数分箱, 在第几个段位\n",
    "#pd.qcut(lc,4)# qcut按照分位数分箱"
   ]
  },
  {
   "cell_type": "code",
   "execution_count": 15,
   "metadata": {},
   "outputs": [
    {
     "data": {
      "text/plain": [
       "<matplotlib.collections.PathCollection at 0x14a92c88>"
      ]
     },
     "execution_count": 15,
     "metadata": {},
     "output_type": "execute_result"
    },
    {
     "data": {
      "image/png": "[encoded data removed]",
      "text/plain": [
       "<Figure size 432x288 with 2 Axes>"
      ]
     },
     "metadata": {},
     "output_type": "display_data"
    }
   ],
   "source": [
    "biz_df['log_review_count'] = np.log10(biz_df['review_count'] + 1) # 避免0时出错\n",
    "fig,(ax1,ax2)= plt.subplots(2,1) # 绘图，刻度\n",
    "ax1.scatter(biz_df[\"review_count\"],biz_df[\"stars\"]) # 散点图在坐标轴上，直方图在数据上\n",
    "ax2.scatter(biz_df[\"log_review_count\"],biz_df[\"stars\"])"
   ]
  },
  {
   "cell_type": "code",
   "execution_count": null,
   "metadata": {},
   "outputs": [],
   "source": []
  },
  {
   "cell_type": "code",
   "execution_count": 16,
   "metadata": {},
   "outputs": [],
   "source": [
    "from sklearn import linear_model\n",
    "from sklearn.model_selection import cross_val_score"
   ]
  },
  {
   "cell_type": "code",
   "execution_count": 17,
   "metadata": {},
   "outputs": [
    {
     "data": {
      "text/plain": [
       "Index(['address', 'attributes', 'business_id', 'categories', 'city', 'hours',\n",
       "       'is_open', 'latitude', 'longitude', 'name', 'postal_code',\n",
       "       'review_count', 'stars', 'state', 'log_review_count'],\n",
       "      dtype='object')"
      ]
     },
     "execution_count": 17,
     "metadata": {},
     "output_type": "execute_result"
    }
   ],
   "source": [
    "#biz_df['log_review_count'] = np.log10(biz_df['review_count'] + 1) # 避免0时出错\n",
    "biz_df.columns"
   ]
  },
  {
   "cell_type": "code",
   "execution_count": 18,
   "metadata": {},
   "outputs": [],
   "source": [
    "# 定义模型\n",
    "model_ori = linear_model.LinearRegression() # 初识值模型，\n",
    "model_log = linear_model.LinearRegression()"
   ]
  },
  {
   "cell_type": "code",
   "execution_count": 19,
   "metadata": {},
   "outputs": [],
   "source": [
    "# 预测输入的review_count和start的线性关系\n",
    "scores_ori = cross_val_score(model_ori,biz_df[['review_count']],biz_df['stars'], cv=10)  # 输入要求2d\n",
    "scores_log = cross_val_score(model_log,np.array(biz_df['log_review_count']).reshape(-1,1),biz_df['stars'], cv=10) # 输入要求2d\n"
   ]
  },
  {
   "cell_type": "code",
   "execution_count": 20,
   "metadata": {},
   "outputs": [
    {
     "name": "stdout",
     "output_type": "stream",
     "text": [
      "R-squared score w/o log: 0.00160, 0.00045\n",
      "R-squared score w/  log: 0.00408, 0.00074\n"
     ]
    }
   ],
   "source": [
    "print(\"R-squared score w/o log: %0.5f, %0.5f\" % (scores_ori.mean(), scores_ori.std()))\n",
    "print(\"R-squared score w/  log: %0.5f, %0.5f\" % (scores_log.mean(), scores_log.std())) # 好一点点而已"
   ]
  },
  {
   "cell_type": "code",
   "execution_count": 21,
   "metadata": {},
   "outputs": [],
   "source": [
    "# 指数变换：对数变换的推广"
   ]
  },
  {
   "cell_type": "code",
   "execution_count": 22,
   "metadata": {},
   "outputs": [],
   "source": [
    "from scipy import stats # box-cox变换，指数变换：lambda小于1压缩高端制，否则相反"
   ]
  },
  {
   "cell_type": "code",
   "execution_count": 23,
   "metadata": {},
   "outputs": [
    {
     "data": {
      "text/plain": [
       "192609"
      ]
     },
     "execution_count": 23,
     "metadata": {},
     "output_type": "execute_result"
    }
   ],
   "source": [
    "biz_df['review_count'].min() # 检查最小值确保>0\n",
    "rc_log= stats.boxcox(biz_df[\"review_count\"],lmbda=0)\n",
    "len(rc_log)"
   ]
  },
  {
   "cell_type": "code",
   "execution_count": 24,
   "metadata": {},
   "outputs": [
    {
     "data": {
      "text/plain": [
       "-0.37107910850437914"
      ]
     },
     "execution_count": 24,
     "metadata": {},
     "output_type": "execute_result"
    }
   ],
   "source": [
    "rc_bc,bc_params=stats.boxcox(biz_df[\"review_count\"]) # 默认lambda是的输出最接近正态分布的lambda参数\n",
    "bc_params"
   ]
  },
  {
   "cell_type": "code",
   "execution_count": 25,
   "metadata": {},
   "outputs": [],
   "source": [
    "biz_df['rc_bc']=rc_bc"
   ]
  },
  {
   "cell_type": "code",
   "execution_count": 26,
   "metadata": {},
   "outputs": [
    {
     "data": {
      "text/plain": [
       "array([1.60943791, 4.85203026, 5.13579844, 1.09861229, 1.38629436,\n",
       "       1.09861229, 1.94591015, 1.09861229, 2.07944154, 2.07944154])"
      ]
     },
     "execution_count": 26,
     "metadata": {},
     "output_type": "execute_result"
    }
   ],
   "source": [
    "rc_log[:10]"
   ]
  },
  {
   "cell_type": "code",
   "execution_count": 27,
   "metadata": {},
   "outputs": [
    {
     "data": {
      "text/plain": [
       "array([1.21177768, 2.2496055 , 2.29410519, 0.90224163, 1.08374646,\n",
       "       0.90224163, 1.38585636, 0.90224163, 1.44913685, 1.44913685])"
      ]
     },
     "execution_count": 27,
     "metadata": {},
     "output_type": "execute_result"
    }
   ],
   "source": [
    "rc_bc[:10]"
   ]
  },
  {
   "cell_type": "code",
   "execution_count": 28,
   "metadata": {},
   "outputs": [
    {
     "data": {
      "text/plain": [
       "<matplotlib.axes._subplots.AxesSubplot at 0x16aec5f8>"
      ]
     },
     "execution_count": 28,
     "metadata": {},
     "output_type": "execute_result"
    },
    {
     "data": {
      "image/png": "[encoded data removed]",
      "text/plain": [
       "<Figure size 432x288 with 3 Axes>"
      ]
     },
     "metadata": {},
     "output_type": "display_data"
    }
   ],
   "source": [
    "fig,(ax1,ax2,ax3) = plt.subplots(3,1)\n",
    "ax1.set_yscale('log')\n",
    "ax2.set_yscale('log')\n",
    "ax3.set_yscale('log')\n",
    "biz_df['review_count'].hist(ax=ax1,bins=100)\n",
    "biz_df['log_review_count'].hist(ax=ax2,bins=100)\n",
    "biz_df['rc_bc'].hist(ax=ax3,bins=100)\n",
    "#pd.Series(rc_bc).hist(ax=ax3,bins=100)"
   ]
  },
  {
   "cell_type": "code",
   "execution_count": 29,
   "metadata": {},
   "outputs": [
    {
     "data": {
      "text/plain": [
       "0.902241625404323"
      ]
     },
     "execution_count": 29,
     "metadata": {},
     "output_type": "execute_result"
    }
   ],
   "source": [
    "rc_bc.min()"
   ]
  },
  {
   "cell_type": "code",
   "execution_count": 30,
   "metadata": {},
   "outputs": [
    {
     "data": {
      "text/plain": [
       "2.600368323938402"
      ]
     },
     "execution_count": 30,
     "metadata": {},
     "output_type": "execute_result"
    }
   ],
   "source": [
    "rc_bc.max()"
   ]
  },
  {
   "cell_type": "code",
   "execution_count": 31,
   "metadata": {},
   "outputs": [],
   "source": [
    "# 概率图(probplot)，比较数据的实际分布与理论分布，本质是表示实测分位数和理论分位数关系的散点图"
   ]
  },
  {
   "cell_type": "code",
   "execution_count": 32,
   "metadata": {},
   "outputs": [],
   "source": [
    "me,st= 0, 1\n",
    "nor = np.random.normal(me,st,1000)"
   ]
  },
  {
   "cell_type": "code",
   "execution_count": 33,
   "metadata": {},
   "outputs": [
    {
     "data": {
      "text/plain": [
       "(array([ 3.,  1.,  2.,  5., 13., 12., 20., 32., 31., 50., 51., 58., 63.,\n",
       "        80., 95., 75., 76., 64., 61., 55., 36., 37., 30., 15., 10.,  8.,\n",
       "         7.,  6.,  1.,  3.]),\n",
       " array([-3.00529564, -2.80438819, -2.60348074, -2.40257329, -2.20166584,\n",
       "        -2.0007584 , -1.79985095, -1.5989435 , -1.39803605, -1.1971286 ,\n",
       "        -0.99622115, -0.7953137 , -0.59440625, -0.39349881, -0.19259136,\n",
       "         0.00831609,  0.20922354,  0.41013099,  0.61103844,  0.81194589,\n",
       "         1.01285333,  1.21376078,  1.41466823,  1.61557568,  1.81648313,\n",
       "         2.01739058,  2.21829803,  2.41920548,  2.62011292,  2.82102037,\n",
       "         3.02192782]),\n",
       " <a list of 30 Patch objects>)"
      ]
     },
     "execution_count": 33,
     "metadata": {},
     "output_type": "execute_result"
    },
    {
     "data": {
      "image/png": "[encoded data removed]",
      "text/plain": [
       "<Figure size 432x288 with 1 Axes>"
      ]
     },
     "metadata": {},
     "output_type": "display_data"
    }
   ],
   "source": [
    "plt.hist(nor,bins=30)"
   ]
  },
  {
   "cell_type": "code",
   "execution_count": 34,
   "metadata": {},
   "outputs": [
    {
     "name": "stderr",
     "output_type": "stream",
     "text": [
      "C:\\ProgramData\\Anaconda3\\lib\\site-packages\\ipykernel_launcher.py:1: MatplotlibDeprecationWarning: \n",
      "The 'normed' kwarg was deprecated in Matplotlib 2.1 and will be removed in 3.1. Use 'density' instead.\n",
      "  \"\"\"Entry point for launching an IPython kernel.\n"
     ]
    },
    {
     "data": {
      "image/png": "[encoded data removed]",
      "text/plain": [
       "<Figure size 432x288 with 1 Axes>"
      ]
     },
     "metadata": {},
     "output_type": "display_data"
    }
   ],
   "source": [
    "count, bins, ignored = plt.hist(nor, 30, normed=True)"
   ]
  },
  {
   "cell_type": "code",
   "execution_count": 35,
   "metadata": {},
   "outputs": [
    {
     "data": {
      "image/png": "[encoded data removed]",
      "text/plain": [
       "<Figure size 432x288 with 1 Axes>"
      ]
     },
     "metadata": {},
     "output_type": "display_data"
    }
   ],
   "source": [
    "fig2,ax1= plt.subplots()\n",
    "prob1 = stats.probplot(nor,dist=stats.norm,plot=ax1) # 产生正态分布，使用概率图和理论的正态分布比较"
   ]
  },
  {
   "cell_type": "code",
   "execution_count": 36,
   "metadata": {},
   "outputs": [
    {
     "data": {
      "text/plain": [
       "((array([-4.48776455, -4.294984  , -4.19033488, ...,  4.19033488,\n",
       "          4.294984  ,  4.48776455]),\n",
       "  array([0.90224163, 0.90224163, 0.90224163, ..., 2.59238071, 2.6003305 ,\n",
       "         2.60036832])),\n",
       " (0.4326176893645403, 1.5146862405015689, 0.9714764879066051))"
      ]
     },
     "execution_count": 36,
     "metadata": {},
     "output_type": "execute_result"
    },
    {
     "data": {
      "image/png": "[encoded data removed]",
      "text/plain": [
       "<Figure size 432x288 with 3 Axes>"
      ]
     },
     "metadata": {},
     "output_type": "display_data"
    }
   ],
   "source": [
    "fig3,(ax1,ax2,ax3)= plt.subplots(3,1)\n",
    "prob1 = stats.probplot(biz_df['review_count'],dist=stats.norm,plot=ax1) # 产生正态分布，使用概率图和理论的正态分布比较\n",
    "prob2 = stats.probplot(biz_df['log_review_count'],dist=stats.norm,plot=ax2)\n",
    "stats.probplot(biz_df['rc_bc'],dist=stats.norm,plot=ax3)"
   ]
  },
  {
   "cell_type": "code",
   "execution_count": 37,
   "metadata": {},
   "outputs": [
    {
     "data": {
      "text/plain": [
       "((array([-4.48776455, -4.294984  , -4.19033488, ...,  4.19033488,\n",
       "          4.294984  ,  4.48776455]),\n",
       "  array([   3,    3,    3, ..., 6708, 8339, 8348], dtype=int64)),\n",
       " (52.9636801494107, 33.53896235378409, 0.48088655129666247))"
      ]
     },
     "execution_count": 37,
     "metadata": {},
     "output_type": "execute_result"
    }
   ],
   "source": [
    "prob1"
   ]
  },
  {
   "cell_type": "code",
   "execution_count": 38,
   "metadata": {},
   "outputs": [
    {
     "name": "stderr",
     "output_type": "stream",
     "text": [
      "C:\\ProgramData\\Anaconda3\\lib\\site-packages\\ipykernel_launcher.py:1: ParserWarning: Falling back to the 'python' engine because the 'c' engine does not support regex separators (separators > 1 char and different from '\\s+' are interpreted as regex); you can avoid this warning by specifying engine='python'.\n",
      "  \"\"\"Entry point for launching an IPython kernel.\n"
     ]
    }
   ],
   "source": [
    "news = pd.read_csv('d:/input/FeatureEngineer/OnlineNewsPopularity.csv',delimiter=', ') # 有个空格"
   ]
  },
  {
   "cell_type": "code",
   "execution_count": 39,
   "metadata": {
    "scrolled": true
   },
   "outputs": [
    {
     "data": {
      "text/plain": [
       "Index(['url', 'timedelta', 'n_tokens_title', 'n_tokens_content',\n",
       "       'n_unique_tokens', 'n_non_stop_words', 'n_non_stop_unique_tokens',\n",
       "       'num_hrefs', 'num_self_hrefs', 'num_imgs', 'num_videos',\n",
       "       'average_token_length', 'num_keywords', 'data_channel_is_lifestyle',\n",
       "       'data_channel_is_entertainment', 'data_channel_is_bus',\n",
       "       'data_channel_is_socmed', 'data_channel_is_tech',\n",
       "       'data_channel_is_world', 'kw_min_min', 'kw_max_min', 'kw_avg_min',\n",
       "       'kw_min_max', 'kw_max_max', 'kw_avg_max', 'kw_min_avg', 'kw_max_avg',\n",
       "       'kw_avg_avg', 'self_reference_min_shares', 'self_reference_max_shares',\n",
       "       'self_reference_avg_sharess', 'weekday_is_monday', 'weekday_is_tuesday',\n",
       "       'weekday_is_wednesday', 'weekday_is_thursday', 'weekday_is_friday',\n",
       "       'weekday_is_saturday', 'weekday_is_sunday', 'is_weekend', 'LDA_00',\n",
       "       'LDA_01', 'LDA_02', 'LDA_03', 'LDA_04', 'global_subjectivity',\n",
       "       'global_sentiment_polarity', 'global_rate_positive_words',\n",
       "       'global_rate_negative_words', 'rate_positive_words',\n",
       "       'rate_negative_words', 'avg_positive_polarity', 'min_positive_polarity',\n",
       "       'max_positive_polarity', 'avg_negative_polarity',\n",
       "       'min_negative_polarity', 'max_negative_polarity', 'title_subjectivity',\n",
       "       'title_sentiment_polarity', 'abs_title_subjectivity',\n",
       "       'abs_title_sentiment_polarity', 'shares'],\n",
       "      dtype='object')"
      ]
     },
     "execution_count": 39,
     "metadata": {},
     "output_type": "execute_result"
    }
   ],
   "source": [
    "news.columns"
   ]
  },
  {
   "cell_type": "code",
   "execution_count": 40,
   "metadata": {},
   "outputs": [
    {
     "data": {
      "text/plain": [
       "array([ 219.,  255.,  211.,  531., 1072.,  370.,  960.,  989.,   97.,\n",
       "        231.])"
      ]
     },
     "execution_count": 40,
     "metadata": {},
     "output_type": "execute_result"
    }
   ],
   "source": [
    "news['n_tokens_content'][0:10].values # 使用values"
   ]
  },
  {
   "cell_type": "code",
   "execution_count": 41,
   "metadata": {},
   "outputs": [],
   "source": [
    "import sklearn.preprocessing as pre\n",
    "news['minmax'] = pre.minmax_scale(news['n_tokens_content'])\n",
    "news['standard'] = pre.StandardScaler().fit_transform(news[['n_tokens_content']])\n",
    "news['l2'] = pre.normalize(news[['n_tokens_content']],axis=0) #L2正则化"
   ]
  },
  {
   "cell_type": "code",
   "execution_count": 42,
   "metadata": {},
   "outputs": [
    {
     "data": {
      "text/plain": [
       "(0    0.025844\n",
       " 1    0.030092\n",
       " 2    0.024900\n",
       " 3    0.062662\n",
       " 4    0.126505\n",
       " 5    0.043663\n",
       " 6    0.113288\n",
       " 7    0.116710\n",
       " 8    0.011447\n",
       " 9    0.027260\n",
       " Name: minmax, dtype: float64, 0   -0.695210\n",
       " 1   -0.618794\n",
       " 2   -0.712192\n",
       " 3   -0.032933\n",
       " 4    1.115439\n",
       " 5   -0.374685\n",
       " 6    0.877699\n",
       " 7    0.939257\n",
       " 8   -0.954178\n",
       " 9   -0.669738\n",
       " Name: standard, dtype: float64, 0    0.001524\n",
       " 1    0.001775\n",
       " 2    0.001469\n",
       " 3    0.003696\n",
       " 4    0.007462\n",
       " 5    0.002575\n",
       " 6    0.006682\n",
       " 7    0.006884\n",
       " 8    0.000675\n",
       " 9    0.001608\n",
       " Name: l2, dtype: float64)"
      ]
     },
     "execution_count": 42,
     "metadata": {},
     "output_type": "execute_result"
    }
   ],
   "source": [
    "news['minmax'][:10], news['standard'][:10], news['l2'][:10] # 最小最大，标准，L2"
   ]
  },
  {
   "cell_type": "code",
   "execution_count": 43,
   "metadata": {},
   "outputs": [
    {
     "data": {
      "text/plain": [
       "(39644, 18)"
      ]
     },
     "execution_count": 43,
     "metadata": {},
     "output_type": "execute_result"
    }
   ],
   "source": [
    "features = ['n_tokens_title', 'n_tokens_content','n_unique_tokens', 'n_non_stop_words', 'n_non_stop_unique_tokens','num_hrefs',\n",
    "            'num_self_hrefs', 'num_imgs', 'num_videos','average_token_length', 'num_keywords', 'data_channel_is_lifestyle',\n",
    "            'average_token_length', 'num_keywords', 'data_channel_is_lifestyle',\n",
    "            'data_channel_is_socmed', 'data_channel_is_tech','data_channel_is_world']\n",
    "X = news[features] # X还是dataframe\n",
    "y = news['shares']\n",
    "X.shape"
   ]
  },
  {
   "cell_type": "code",
   "execution_count": null,
   "metadata": {},
   "outputs": [],
   "source": []
  },
  {
   "cell_type": "code",
   "execution_count": 44,
   "metadata": {},
   "outputs": [
    {
     "data": {
      "text/plain": [
       "(39644, 189)"
      ]
     },
     "execution_count": 44,
     "metadata": {},
     "output_type": "execute_result"
    }
   ],
   "source": [
    "import sklearn.preprocessing as pre\n",
    "X2 = pre.PolynomialFeatures(include_bias=False).fit_transform(X) # x2是numpy.ndarray类型\n",
    "X2.shape"
   ]
  },
  {
   "cell_type": "code",
   "execution_count": 45,
   "metadata": {},
   "outputs": [],
   "source": [
    "from sklearn.model_selection import train_test_split # 第一个是*args\n",
    "X_train,X_test,X2_train,X2_test,y_train,y_test = train_test_split(X,X2,y,test_size=0.3,random_state=123)\n"
   ]
  },
  {
   "cell_type": "code",
   "execution_count": 46,
   "metadata": {},
   "outputs": [],
   "source": [
    "model=linear_model.LinearRegression().fit(X_train,y_train)\n",
    "r_score = model.score(X_test,y_test)\n",
    "model2=linear_model.LinearRegression().fit(X2_train,y_train)\n",
    "r_score2=model2.score(X2_test,y_test)"
   ]
  },
  {
   "cell_type": "code",
   "execution_count": 47,
   "metadata": {},
   "outputs": [
    {
     "data": {
      "text/plain": [
       "(0.005859833486384747, 0.009880023721540954)"
      ]
     },
     "execution_count": 47,
     "metadata": {},
     "output_type": "execute_result"
    }
   ],
   "source": [
    "r_score,r_score2 # 多项式的好一些，但是训练时长从O(n)到O(n2)"
   ]
  },
  {
   "cell_type": "code",
   "execution_count": 48,
   "metadata": {},
   "outputs": [],
   "source": [
    "# 特征选择，过滤"
   ]
  },
  {
   "cell_type": "code",
   "execution_count": 49,
   "metadata": {},
   "outputs": [
    {
     "data": {
      "text/plain": [
       "array([ 219.,  255.,  211.,  531., 1072.,  370.,  960.,  989.,   97.,\n",
       "        231.])"
      ]
     },
     "execution_count": 49,
     "metadata": {},
     "output_type": "execute_result"
    }
   ],
   "source": [
    "news['n_tokens_content'][0:10].values # 使用values"
   ]
  },
  {
   "cell_type": "code",
   "execution_count": 50,
   "metadata": {},
   "outputs": [],
   "source": [
    "from sklearn.feature_extraction.text import CountVectorizer"
   ]
  },
  {
   "cell_type": "code",
   "execution_count": 4,
   "metadata": {},
   "outputs": [],
   "source": [
    "# yelp中review点评数据，带有很多罕见单词\n",
    "import json\n",
    "import pandas as pd\n",
    "texts = []\n",
    "with open('d:/input/FeatureEngineer/yelp_dataset_all/review.json',encoding='utf8') as f:\n",
    "    for i in range(10000):\n",
    "        texts.append(json.loads(f.readline())) # readline一次读一行\n",
    "review = pd.DataFrame(texts)"
   ]
  },
  {
   "cell_type": "code",
   "execution_count": 5,
   "metadata": {},
   "outputs": [
    {
     "data": {
      "text/plain": [
       "Index(['business_id', 'cool', 'date', 'funny', 'review_id', 'stars', 'text',\n",
       "       'useful', 'user_id'],\n",
       "      dtype='object')"
      ]
     },
     "execution_count": 5,
     "metadata": {},
     "output_type": "execute_result"
    }
   ],
   "source": [
    "review.columns"
   ]
  },
  {
   "cell_type": "code",
   "execution_count": 8,
   "metadata": {},
   "outputs": [
    {
     "data": {
      "text/plain": [
       "(numpy.ndarray, 9848045, 112)"
      ]
     },
     "execution_count": 8,
     "metadata": {},
     "output_type": "execute_result"
    }
   ],
   "source": [
    "from sys import getsizeof\n",
    "review_np = review.values\n",
    "type(review_np),getsizeof(review),getsizeof(review_np) # 从DataFrame到numpy数组转换，数据大小由减小到了8万分之一"
   ]
  },
  {
   "cell_type": "code",
   "execution_count": 53,
   "metadata": {},
   "outputs": [],
   "source": [
    "#texts_full = []\n",
    "#with open('d:/input/FeatureEngineer/yelp_dataset_all/review.json',encoding='utf8') as f:\n",
    "#    texts_full = [json.loads(x) for x in f.readlines()] # 太大了，不能readlines一次读取\n",
    "#del texts_full"
   ]
  },
  {
   "cell_type": "code",
   "execution_count": 54,
   "metadata": {},
   "outputs": [],
   "source": [
    "# bag of word 词袋模型\n",
    "# (?u):unicode,(?a):ascii,(?L):local \n",
    "bow_converter = CountVectorizer(token_pattern='(?a)\\\\b\\\\w+\\\\b')\n",
    "bingram_converter = CountVectorizer(ngram_range=(2,2),token_pattern='(?a)\\\\b\\\\w+\\\\b') # (?u)unicode匹配，\\\\b前后空格\n",
    "trigram_converter = CountVectorizer(ngram_range=(3,3),token_pattern='(?a)\\\\b\\\\w+\\\\b')"
   ]
  },
  {
   "cell_type": "code",
   "execution_count": 55,
   "metadata": {},
   "outputs": [
    {
     "data": {
      "text/plain": [
       "CountVectorizer(analyzer='word', binary=False, decode_error='strict',\n",
       "                dtype=<class 'numpy.int64'>, encoding='utf-8', input='content',\n",
       "                lowercase=True, max_df=1.0, max_features=None, min_df=1,\n",
       "                ngram_range=(3, 3), preprocessor=None, stop_words=None,\n",
       "                strip_accents=None, token_pattern='(?a)\\\\b\\\\w+\\\\b',\n",
       "                tokenizer=None, vocabulary=None)"
      ]
     },
     "execution_count": 55,
     "metadata": {},
     "output_type": "execute_result"
    }
   ],
   "source": [
    "bow_converter.fit(review['text'])\n",
    "bingram_converter.fit(review['text'])\n",
    "trigram_converter.fit(review['text'])\n"
   ]
  },
  {
   "cell_type": "code",
   "execution_count": 56,
   "metadata": {},
   "outputs": [],
   "source": [
    "words = bow_converter.get_feature_names() # 特征单词\n",
    "bingrams = bingram_converter.get_feature_names() # 二元特征单词\n",
    "trigrams = trigram_converter.get_feature_names()"
   ]
  },
  {
   "cell_type": "code",
   "execution_count": 57,
   "metadata": {},
   "outputs": [
    {
     "data": {
      "text/plain": [
       "['0', '00', '000', '00am', '00pm', '01', '01pm', '02', '025', '03']"
      ]
     },
     "execution_count": 57,
     "metadata": {},
     "output_type": "execute_result"
    }
   ],
   "source": [
    "words[:10]"
   ]
  },
  {
   "cell_type": "code",
   "execution_count": 58,
   "metadata": {},
   "outputs": [
    {
     "data": {
      "text/plain": [
       "['zuma a',\n",
       " 'zumal der',\n",
       " 'zumba class',\n",
       " 'zumba didn',\n",
       " 'zumba goer',\n",
       " 'zumba here',\n",
       " 'zumba was',\n",
       " 'zupas to',\n",
       " 'zuppas they',\n",
       " 'zzz that']"
      ]
     },
     "execution_count": 58,
     "metadata": {},
     "output_type": "execute_result"
    }
   ],
   "source": [
    "bingrams[-10:]"
   ]
  },
  {
   "cell_type": "code",
   "execution_count": 59,
   "metadata": {},
   "outputs": [
    {
     "data": {
      "text/plain": [
       "['0 1 0',\n",
       " '0 1 dessert',\n",
       " '0 1 good',\n",
       " '0 1 it',\n",
       " '0 1 prices',\n",
       " '0 1 speed',\n",
       " '0 10 mbps',\n",
       " '0 2 decor',\n",
       " '0 2 even',\n",
       " '0 2 it']"
      ]
     },
     "execution_count": 59,
     "metadata": {},
     "output_type": "execute_result"
    }
   ],
   "source": [
    "trigrams[:10]"
   ]
  },
  {
   "cell_type": "code",
   "execution_count": 60,
   "metadata": {},
   "outputs": [],
   "source": [
    "import spacy\n",
    "nlp=spacy.load(\"en\") # pip install spacy && python -m spacy download en\n",
    "doc_df = review['text'].apply(nlp)"
   ]
  },
  {
   "cell_type": "code",
   "execution_count": 61,
   "metadata": {},
   "outputs": [
    {
     "name": "stdout",
     "output_type": "stream",
     "text": [
      "['Today', 'NOUN', 'NN']\n",
      "['was', 'VERB', 'VBD']\n",
      "['my', 'DET', 'PRP$']\n",
      "['second', 'ADJ', 'JJ']\n",
      "['out', 'ADP', 'IN']\n",
      "['of', 'ADP', 'IN']\n",
      "['three', 'NUM', 'CD']\n",
      "['sessions', 'NOUN', 'NNS']\n",
      "['I', 'PRON', 'PRP']\n",
      "['had', 'VERB', 'VBD']\n",
      "['paid', 'VERB', 'VBN']\n",
      "['for', 'ADP', 'IN']\n",
      "['.', 'PUNCT', '.']\n",
      "['Although', 'ADP', 'IN']\n",
      "['my', 'DET', 'PRP$']\n",
      "['first', 'ADJ', 'JJ']\n",
      "['session', 'NOUN', 'NN']\n",
      "['went', 'VERB', 'VBD']\n",
      "['well', 'ADV', 'RB']\n",
      "[',', 'PUNCT', ',']\n",
      "['I', 'PRON', 'PRP']\n",
      "['could', 'VERB', 'MD']\n",
      "['tell', 'VERB', 'VB']\n",
      "['Meredith', 'PROPN', 'NNP']\n",
      "['had', 'VERB', 'VBD']\n",
      "['a', 'DET', 'DT']\n",
      "['particular', 'ADJ', 'JJ']\n",
      "['enjoyment', 'NOUN', 'NN']\n",
      "['for', 'ADP', 'IN']\n",
      "['her', 'DET', 'PRP$']\n",
      "['male', 'ADJ', 'JJ']\n",
      "['clients', 'NOUN', 'NNS']\n",
      "['over', 'ADP', 'IN']\n",
      "['her', 'DET', 'PRP$']\n",
      "['female', 'NOUN', 'NN']\n",
      "['.', 'PUNCT', '.']\n",
      "['However', 'ADV', 'RB']\n",
      "[',', 'PUNCT', ',']\n",
      "['I', 'PRON', 'PRP']\n",
      "['returned', 'VERB', 'VBD']\n",
      "['because', 'ADP', 'IN']\n",
      "['she', 'PRON', 'PRP']\n",
      "['did', 'VERB', 'VBD']\n",
      "['my', 'DET', 'PRP$']\n",
      "['teeth', 'NOUN', 'NNS']\n",
      "['fine', 'ADV', 'RB']\n",
      "['and', 'CCONJ', 'CC']\n",
      "['I', 'PRON', 'PRP']\n",
      "['was', 'VERB', 'VBD']\n",
      "['pleased', 'ADJ', 'JJ']\n",
      "['with', 'ADP', 'IN']\n",
      "['the', 'DET', 'DT']\n",
      "['results', 'NOUN', 'NNS']\n",
      "['.', 'PUNCT', '.']\n",
      "['When', 'ADV', 'WRB']\n",
      "['I', 'PRON', 'PRP']\n",
      "['went', 'VERB', 'VBD']\n",
      "['in', 'ADP', 'IN']\n",
      "['today', 'NOUN', 'NN']\n",
      "[',', 'PUNCT', ',']\n",
      "['I', 'PRON', 'PRP']\n",
      "['was', 'VERB', 'VBD']\n",
      "['in', 'ADP', 'IN']\n",
      "['the', 'DET', 'DT']\n",
      "['whitening', 'NOUN', 'NN']\n",
      "['room', 'NOUN', 'NN']\n",
      "['with', 'ADP', 'IN']\n",
      "['three', 'NUM', 'CD']\n",
      "['other', 'ADJ', 'JJ']\n",
      "['gentlemen', 'NOUN', 'NNS']\n",
      "['.', 'PUNCT', '.']\n",
      "['My', 'DET', 'PRP$']\n",
      "['appointment', 'NOUN', 'NN']\n",
      "['started', 'VERB', 'VBD']\n",
      "['out', 'PART', 'RP']\n",
      "['well', 'ADV', 'RB']\n",
      "[',', 'PUNCT', ',']\n",
      "['although', 'ADP', 'IN']\n",
      "[',', 'PUNCT', ',']\n",
      "['being', 'VERB', 'VBG']\n",
      "['a', 'DET', 'DT']\n",
      "['person', 'NOUN', 'NN']\n",
      "['who', 'PRON', 'WP']\n",
      "['is', 'VERB', 'VBZ']\n",
      "['in', 'ADP', 'IN']\n",
      "['the', 'DET', 'DT']\n",
      "['service', 'NOUN', 'NN']\n",
      "['industry', 'NOUN', 'NN']\n",
      "[',', 'PUNCT', ',']\n",
      "['I', 'PRON', 'PRP']\n",
      "['always', 'ADV', 'RB']\n",
      "['attend', 'VERB', 'VBP']\n",
      "['to', 'ADP', 'IN']\n",
      "['my', 'DET', 'PRP$']\n",
      "['female', 'ADJ', 'JJ']\n",
      "['clientele', 'NOUN', 'NNS']\n",
      "['first', 'ADV', 'RB']\n",
      "['when', 'ADV', 'WRB']\n",
      "['a', 'DET', 'DT']\n",
      "['couple', 'NOUN', 'NN']\n",
      "['arrives', 'VERB', 'VBZ']\n",
      "['.', 'PUNCT', '.']\n",
      "['Unbothered', 'VERB', 'VBN']\n",
      "['by', 'ADP', 'IN']\n",
      "['those', 'DET', 'DT']\n",
      "['signs', 'NOUN', 'NNS']\n",
      "[',', 'PUNCT', ',']\n",
      "['I', 'PRON', 'PRP']\n",
      "['waited', 'VERB', 'VBD']\n",
      "['my', 'DET', 'PRP$']\n",
      "['turn', 'NOUN', 'NN']\n",
      "['.', 'PUNCT', '.']\n",
      "['She', 'PRON', 'PRP']\n",
      "['checked', 'VERB', 'VBD']\n",
      "['on', 'ADP', 'IN']\n",
      "['me', 'PRON', 'PRP']\n",
      "['once', 'ADV', 'RB']\n",
      "['after', 'ADP', 'IN']\n",
      "['my', 'DET', 'PRP$']\n",
      "['original', 'ADJ', 'JJ']\n",
      "['30', 'NUM', 'CD']\n",
      "['minute', 'NOUN', 'NN']\n",
      "['timer', 'NOUN', 'NN']\n",
      "['to', 'PART', 'TO']\n",
      "['ask', 'VERB', 'VB']\n",
      "['if', 'ADP', 'IN']\n",
      "['I', 'PRON', 'PRP']\n",
      "['was', 'VERB', 'VBD']\n",
      "['ok', 'ADJ', 'JJ']\n",
      "['.', 'PUNCT', '.']\n",
      "['She', 'PRON', 'PRP']\n",
      "['attended', 'VERB', 'VBD']\n",
      "['my', 'DET', 'PRP$']\n",
      "['boyfriend', 'NOUN', 'NN']\n",
      "['on', 'ADP', 'IN']\n",
      "['numerous', 'ADJ', 'JJ']\n",
      "['occasions', 'NOUN', 'NNS']\n",
      "[',', 'PUNCT', ',']\n",
      "['as', 'ADV', 'RB']\n",
      "['well', 'ADV', 'RB']\n",
      "['as', 'ADP', 'IN']\n",
      "['the', 'DET', 'DT']\n",
      "['other', 'ADJ', 'JJ']\n",
      "['men', 'NOUN', 'NNS']\n",
      "[',', 'PUNCT', ',']\n",
      "['and', 'CCONJ', 'CC']\n",
      "['would', 'VERB', 'MD']\n",
      "['exit', 'VERB', 'VB']\n",
      "['the', 'DET', 'DT']\n",
      "['room', 'NOUN', 'NN']\n",
      "['without', 'ADP', 'IN']\n",
      "['even', 'ADV', 'RB']\n",
      "['asking', 'VERB', 'VBG']\n",
      "['me', 'PRON', 'PRP']\n",
      "['or', 'CCONJ', 'CC']\n",
      "['looking', 'VERB', 'VBG']\n",
      "['to', 'PART', 'TO']\n",
      "['see', 'VERB', 'VB']\n",
      "['if', 'ADP', 'IN']\n",
      "['I', 'PRON', 'PRP']\n",
      "['had', 'VERB', 'VBD']\n",
      "['any', 'DET', 'DT']\n",
      "['irritation', 'NOUN', 'NN']\n",
      "['.', 'PUNCT', '.']\n",
      "['Half', 'ADJ', 'JJ']\n",
      "['way', 'NOUN', 'NN']\n",
      "['through', 'ADV', 'RB']\n",
      "[',', 'PUNCT', ',']\n",
      "['another', 'DET', 'DT']\n",
      "['woman', 'NOUN', 'NN']\n",
      "['had', 'VERB', 'VBD']\n",
      "['showed', 'VERB', 'VBN']\n",
      "['up', 'PART', 'RP']\n",
      "['who', 'PRON', 'WP']\n",
      "['she', 'PRON', 'PRP']\n",
      "['was', 'VERB', 'VBD']\n",
      "['explaining', 'VERB', 'VBG']\n",
      "['the', 'DET', 'DT']\n",
      "['deals', 'NOUN', 'NNS']\n",
      "['to', 'ADP', 'IN']\n",
      "['in', 'ADP', 'IN']\n",
      "['the', 'DET', 'DT']\n",
      "['lobby', 'NOUN', 'NN']\n",
      "['.', 'PUNCT', '.']\n",
      "['While', 'ADP', 'IN']\n",
      "['she', 'PRON', 'PRP']\n",
      "['admits', 'VERB', 'VBZ']\n",
      "['timers', 'NOUN', 'NNS']\n",
      "['must', 'VERB', 'MD']\n",
      "['be', 'VERB', 'VB']\n",
      "['reset', 'VERB', 'VB']\n",
      "['half', 'DET', 'DT']\n",
      "['way', 'NOUN', 'NN']\n",
      "['through', 'ADP', 'IN']\n",
      "['the', 'DET', 'DT']\n",
      "['process', 'NOUN', 'NN']\n",
      "[',', 'PUNCT', ',']\n",
      "['she', 'PRON', 'PRP']\n",
      "['reset', 'VERB', 'VBP']\n",
      "['my', 'DET', 'PRP$']\n",
      "['boyfriends', 'NOUN', 'NNS']\n",
      "[',', 'PUNCT', ',']\n",
      "['left', 'VERB', 'VBN']\n",
      "[',', 'PUNCT', ',']\n",
      "['rest', 'VERB', 'VB']\n",
      "['the', 'DET', 'DT']\n",
      "['gentleman', 'NOUN', 'NN']\n",
      "['furthest', 'ADV', 'RBS']\n",
      "['away', 'ADV', 'RB']\n",
      "['from', 'ADP', 'IN']\n",
      "['me', 'PRON', 'PRP']\n",
      "['who', 'PRON', 'WP']\n",
      "['had', 'VERB', 'VBD']\n",
      "['time', 'NOUN', 'NN']\n",
      "['to', 'PART', 'TO']\n",
      "['come', 'VERB', 'VB']\n",
      "['in', 'ADV', 'RB']\n",
      "[',', 'PUNCT', ',']\n",
      "['redeem', 'VERB', 'VB']\n",
      "['his', 'DET', 'PRP$']\n",
      "['deal', 'NOUN', 'NN']\n",
      "[',', 'PUNCT', ',']\n",
      "['get', 'VERB', 'VB']\n",
      "['set', 'VERB', 'VBN']\n",
      "[',', 'PUNCT', ',']\n",
      "['and', 'CCONJ', 'CC']\n",
      "['gave', 'VERB', 'VBD']\n",
      "['his', 'DET', 'PRP$']\n",
      "['timer', 'NOUN', 'NN']\n",
      "['done', 'VERB', 'VBN']\n",
      "[',', 'PUNCT', ',']\n",
      "['before', 'ADP', 'IN']\n",
      "['me', 'PRON', 'PRP']\n",
      "[',', 'PUNCT', ',']\n",
      "['then', 'ADV', 'RB']\n",
      "['left', 'VERB', 'VBD']\n",
      "[',', 'PUNCT', ',']\n",
      "['and', 'CCONJ', 'CC']\n",
      "['at', 'ADP', 'IN']\n",
      "['this', 'DET', 'DT']\n",
      "['point', 'NOUN', 'NN']\n",
      "['my', 'DET', 'PRP$']\n",
      "['time', 'NOUN', 'NN']\n",
      "['was', 'VERB', 'VBD']\n",
      "['at', 'ADP', 'IN']\n",
      "['10', 'NUM', 'CD']\n",
      "['minutes', 'NOUN', 'NNS']\n",
      "['.', 'PUNCT', '.']\n",
      "['So', 'ADV', 'RB']\n",
      "[',', 'PUNCT', ',']\n",
      "['she', 'PRON', 'PRP']\n",
      "['should', 'VERB', 'MD']\n",
      "['have', 'VERB', 'VB']\n",
      "['reset', 'VERB', 'VB']\n",
      "['it', 'PRON', 'PRP']\n",
      "['5', 'NUM', 'CD']\n",
      "['minutes', 'NOUN', 'NNS']\n",
      "['ago', 'ADV', 'RB']\n",
      "[',', 'PUNCT', ',']\n",
      "['according', 'VERB', 'VBG']\n",
      "['to', 'ADP', 'IN']\n",
      "['her', 'PRON', 'PRP']\n",
      "['.', 'PUNCT', '.']\n",
      "['While', 'ADP', 'IN']\n",
      "['I', 'PRON', 'PRP']\n",
      "['sat', 'VERB', 'VBD']\n",
      "['there', 'ADV', 'RB']\n",
      "['patiently', 'ADV', 'RB']\n",
      "['this', 'DET', 'DT']\n",
      "['whole', 'ADJ', 'JJ']\n",
      "['time', 'NOUN', 'NN']\n",
      "['with', 'ADP', 'IN']\n",
      "['major', 'ADJ', 'JJ']\n",
      "['pain', 'NOUN', 'NN']\n",
      "['in', 'ADP', 'IN']\n",
      "['my', 'DET', 'PRP$']\n",
      "['gums', 'NOUN', 'NNS']\n",
      "[',', 'PUNCT', ',']\n",
      "['i', 'PRON', 'PRP']\n",
      "['watched', 'VERB', 'VBD']\n",
      "['the', 'DET', 'DT']\n",
      "['time', 'NOUN', 'NN']\n",
      "['until', 'ADP', 'IN']\n",
      "['the', 'DET', 'DT']\n",
      "['lamp', 'NOUN', 'NN']\n",
      "['shut', 'VERB', 'VBD']\n",
      "['off', 'PART', 'RP']\n",
      "['.', 'PUNCT', '.']\n",
      "['Not', 'ADV', 'RB']\n",
      "['only', 'ADV', 'RB']\n",
      "['had', 'VERB', 'VBD']\n",
      "['she', 'PRON', 'PRP']\n",
      "['reset', 'VERB', 'VB']\n",
      "['two', 'NUM', 'CD']\n",
      "['others', 'NOUN', 'NNS']\n",
      "[',', 'PUNCT', ',']\n",
      "['explained', 'VERB', 'VBD']\n",
      "['deals', 'NOUN', 'NNS']\n",
      "['to', 'ADP', 'IN']\n",
      "['other', 'ADJ', 'JJ']\n",
      "['guest', 'NOUN', 'NN']\n",
      "[',', 'PUNCT', ',']\n",
      "['but', 'CCONJ', 'CC']\n",
      "['she', 'PRON', 'PRP']\n",
      "['never', 'ADV', 'RB']\n",
      "['once', 'ADV', 'RB']\n",
      "['checked', 'VERB', 'VBD']\n",
      "['on', 'ADP', 'IN']\n",
      "['my', 'DET', 'PRP$']\n",
      "['time', 'NOUN', 'NN']\n",
      "['.', 'PUNCT', '.']\n",
      "['When', 'ADV', 'WRB']\n",
      "['my', 'DET', 'PRP$']\n",
      "['light', 'NOUN', 'NN']\n",
      "['turned', 'VERB', 'VBD']\n",
      "['off', 'PART', 'RP']\n",
      "[',', 'PUNCT', ',']\n",
      "['I', 'PRON', 'PRP']\n",
      "['released', 'VERB', 'VBD']\n",
      "['the', 'DET', 'DT']\n",
      "['stance', 'NOUN', 'NN']\n",
      "['of', 'ADP', 'IN']\n",
      "['my', 'DET', 'PRP$']\n",
      "['mouth', 'NOUN', 'NN']\n",
      "['to', 'ADP', 'IN']\n",
      "['a', 'DET', 'DT']\n",
      "['more', 'ADV', 'RBR']\n",
      "['relaxed', 'ADJ', 'JJ']\n",
      "['state', 'NOUN', 'NN']\n",
      "[',', 'PUNCT', ',']\n",
      "['assuming', 'VERB', 'VBG']\n",
      "['I', 'PRON', 'PRP']\n",
      "['was', 'VERB', 'VBD']\n",
      "['only', 'ADV', 'RB']\n",
      "['getting', 'VERB', 'VBG']\n",
      "['a', 'DET', 'DT']\n",
      "['thirty', 'NUM', 'CD']\n",
      "['minute', 'NOUN', 'NN']\n",
      "['session', 'NOUN', 'NN']\n",
      "['instead', 'ADV', 'RB']\n",
      "['of', 'ADP', 'IN']\n",
      "['the', 'DET', 'DT']\n",
      "['usual', 'ADJ', 'JJ']\n",
      "['45', 'NUM', 'CD']\n",
      "[',', 'PUNCT', ',']\n",
      "['because', 'ADP', 'IN']\n",
      "['she', 'PRON', 'PRP']\n",
      "['had', 'VERB', 'VBD']\n",
      "['yet', 'ADV', 'RB']\n",
      "['to', 'PART', 'TO']\n",
      "['come', 'VERB', 'VB']\n",
      "['in', 'PART', 'RP']\n",
      "['.', 'PUNCT', '.']\n",
      "['At', 'ADP', 'IN']\n",
      "['this', 'DET', 'DT']\n",
      "['point', 'NOUN', 'NN']\n",
      "[',', 'PUNCT', ',']\n",
      "['the', 'DET', 'DT']\n",
      "['teeth', 'NOUN', 'NNS']\n",
      "['formula', 'NOUN', 'NN']\n",
      "['was', 'VERB', 'VBD']\n",
      "['not', 'ADV', 'RB']\n",
      "['only', 'ADV', 'RB']\n",
      "['burning', 'VERB', 'VBG']\n",
      "['the', 'DET', 'DT']\n",
      "['gum', 'NOUN', 'NN']\n",
      "['she', 'PRON', 'PRP']\n",
      "['neglected', 'VERB', 'VBD']\n",
      "['for', 'ADP', 'IN']\n",
      "['25', 'NUM', 'CD']\n",
      "['minutes', 'NOUN', 'NNS']\n",
      "['now', 'ADV', 'RB']\n",
      "[',', 'PUNCT', ',']\n",
      "['but', 'CCONJ', 'CC']\n",
      "['it', 'PRON', 'PRP']\n",
      "['began', 'VERB', 'VBD']\n",
      "['to', 'PART', 'TO']\n",
      "['burn', 'VERB', 'VB']\n",
      "['my', 'DET', 'PRP$']\n",
      "['lips', 'NOUN', 'NNS']\n",
      "['.', 'PUNCT', '.']\n",
      "['I', 'PRON', 'PRP']\n",
      "['began', 'VERB', 'VBD']\n",
      "['squealing', 'VERB', 'VBG']\n",
      "['and', 'CCONJ', 'CC']\n",
      "['slapping', 'VERB', 'VBG']\n",
      "['my', 'DET', 'PRP$']\n",
      "['chair', 'NOUN', 'NN']\n",
      "['trying', 'VERB', 'VBG']\n",
      "['to', 'PART', 'TO']\n",
      "['get', 'VERB', 'VB']\n",
      "['her', 'DET', 'PRP$']\n",
      "['attention', 'NOUN', 'NN']\n",
      "['from', 'ADP', 'IN']\n",
      "['the', 'DET', 'DT']\n",
      "['other', 'ADJ', 'JJ']\n",
      "['room', 'NOUN', 'NN']\n",
      "['in', 'ADP', 'IN']\n",
      "['a', 'DET', 'DT']\n",
      "['panic', 'NOUN', 'NN']\n",
      "['.', 'PUNCT', '.']\n",
      "['I', 'PRON', 'PRP']\n",
      "['was', 'VERB', 'VBD']\n",
      "['in', 'ADP', 'IN']\n",
      "['so', 'ADV', 'RB']\n",
      "['much', 'ADJ', 'JJ']\n",
      "['pain', 'NOUN', 'NN']\n",
      "[',', 'PUNCT', ',']\n",
      "['that', 'ADP', 'IN']\n",
      "['by', 'ADP', 'IN']\n",
      "['the', 'DET', 'DT']\n",
      "['time', 'NOUN', 'NN']\n",
      "['she', 'PRON', 'PRP']\n",
      "['entered', 'VERB', 'VBD']\n",
      "['the', 'DET', 'DT']\n",
      "['room', 'NOUN', 'NN']\n",
      "['I', 'PRON', 'PRP']\n",
      "['was', 'VERB', 'VBD']\n",
      "['already', 'ADV', 'RB']\n",
      "['out', 'ADP', 'IN']\n",
      "['of', 'ADP', 'IN']\n",
      "['my', 'DET', 'PRP$']\n",
      "['chair', 'NOUN', 'NN']\n",
      "['.', 'PUNCT', '.']\n",
      "['She', 'PRON', 'PRP']\n",
      "['finally', 'ADV', 'RB']\n",
      "['then', 'ADV', 'RB']\n",
      "['acknowledged', 'VERB', 'VBD']\n",
      "['me', 'PRON', 'PRP']\n",
      "[',', 'PUNCT', ',']\n",
      "['and', 'CCONJ', 'CC']\n",
      "['asked', 'VERB', 'VBD']\n",
      "['if', 'ADP', 'IN']\n",
      "['she', 'PRON', 'PRP']\n",
      "['could', 'VERB', 'MD']\n",
      "['put', 'VERB', 'VB']\n",
      "['vitamin', 'NOUN', 'NN']\n",
      "['E', 'NOUN', 'NN']\n",
      "['on', 'ADP', 'IN']\n",
      "['my', 'DET', 'PRP$']\n",
      "['gum', 'NOUN', 'NN']\n",
      "['burn', 'NOUN', 'NN']\n",
      "['(', 'PUNCT', '-LRB-']\n",
      "['pictured', 'VERB', 'VBN']\n",
      "['below', 'ADV', 'RB']\n",
      "[')', 'PUNCT', '-RRB-']\n",
      "['.', 'PUNCT', '.']\n",
      "['At', 'ADP', 'IN']\n",
      "['this', 'DET', 'DT']\n",
      "['point', 'NOUN', 'NN']\n",
      "[',', 'PUNCT', ',']\n",
      "['she', 'PRON', 'PRP']\n",
      "['has', 'VERB', 'VBZ']\n",
      "['treated', 'VERB', 'VBN']\n",
      "['two', 'NUM', 'CD']\n",
      "['other', 'ADJ', 'JJ']\n",
      "['gums', 'NOUN', 'NNS']\n",
      "['burns', 'NOUN', 'NNS']\n",
      "[',', 'PUNCT', ',']\n",
      "['while', 'ADP', 'IN']\n",
      "['neglecting', 'VERB', 'VBG']\n",
      "['me', 'PRON', 'PRP']\n",
      "[',', 'PUNCT', ',']\n",
      "['and', 'CCONJ', 'CC']\n",
      "['I', 'PRON', 'PRP']\n",
      "['was', 'VERB', 'VBD']\n",
      "['so', 'ADV', 'RB']\n",
      "['irritated', 'ADJ', 'JJ']\n",
      "['that', 'ADP', 'IN']\n",
      "['I', 'PRON', 'PRP']\n",
      "['had', 'VERB', 'VBD']\n",
      "['to', 'PART', 'TO']\n",
      "['suffer', 'VERB', 'VB']\n",
      "[',', 'PUNCT', ',']\n",
      "['all', 'DET', 'DT']\n",
      "['I', 'PRON', 'PRP']\n",
      "['wanted', 'VERB', 'VBD']\n",
      "['was', 'VERB', 'VBD']\n",
      "['to', 'PART', 'TO']\n",
      "['leave', 'VERB', 'VB']\n",
      "['.', 'PUNCT', '.']\n",
      "['While', 'ADP', 'IN']\n",
      "['I', 'PRON', 'PRP']\n",
      "['waited', 'VERB', 'VBD']\n",
      "['for', 'ADP', 'IN']\n",
      "['my', 'DET', 'PRP$']\n",
      "['boyfriend', 'NOUN', 'NN']\n",
      "[',', 'PUNCT', ',']\n",
      "['she', 'PRON', 'PRP']\n",
      "['kept', 'VERB', 'VBD']\n",
      "['harassing', 'VERB', 'VBG']\n",
      "['me', 'PRON', 'PRP']\n",
      "['about', 'ADP', 'IN']\n",
      "['the', 'DET', 'DT']\n",
      "['issue', 'NOUN', 'NN']\n",
      "['.', 'PUNCT', '.']\n",
      "['Saying', 'VERB', 'VBG']\n",
      "[',', 'PUNCT', ',']\n",
      "['\"', 'PUNCT', \"''\"]\n",
      "['well', 'ADJ', 'JJ']\n",
      "['burns', 'NOUN', 'NNS']\n",
      "['come', 'VERB', 'VBP']\n",
      "['with', 'ADP', 'IN']\n",
      "['teeth', 'NOUN', 'NNS']\n",
      "['whitening', 'VERB', 'VBG']\n",
      "['.', 'PUNCT', '.']\n",
      "['\"', 'PUNCT', \"''\"]\n",
      "['While', 'ADP', 'IN']\n",
      "['I', 'PRON', 'PRP']\n",
      "['totally', 'ADV', 'RB']\n",
      "['agree', 'VERB', 'VBP']\n",
      "[',', 'PUNCT', ',']\n",
      "['and', 'CCONJ', 'CC']\n",
      "['under', 'ADP', 'IN']\n",
      "['justifiable', 'ADJ', 'JJ']\n",
      "['circumstances', 'NOUN', 'NNS']\n",
      "['would', 'VERB', 'MD']\n",
      "['not', 'ADV', 'RB']\n",
      "['be', 'VERB', 'VB']\n",
      "['as', 'ADV', 'RB']\n",
      "['irritate', 'ADJ', 'JJ']\n",
      "[',', 'PUNCT', ',']\n",
      "['it', 'PRON', 'PRP']\n",
      "['could', 'VERB', 'MD']\n",
      "['have', 'VERB', 'VB']\n",
      "['easily', 'ADV', 'RB']\n",
      "['been', 'VERB', 'VBN']\n",
      "['avoid', 'VERB', 'VB']\n",
      "['if', 'ADP', 'IN']\n",
      "['she', 'PRON', 'PRP']\n",
      "['had', 'VERB', 'VBD']\n",
      "['checked', 'VERB', 'VBN']\n",
      "['on', 'ADP', 'IN']\n",
      "['me', 'PRON', 'PRP']\n",
      "['even', 'ADV', 'RB']\n",
      "['a', 'DET', 'DT']\n",
      "['second', 'ADJ', 'JJ']\n",
      "['time', 'NOUN', 'NN']\n",
      "[',', 'PUNCT', ',']\n",
      "['so', 'CCONJ', 'CC']\n",
      "['I', 'PRON', 'PRP']\n",
      "['could', 'VERB', 'MD']\n",
      "['let', 'VERB', 'VB']\n",
      "['her', 'PRON', 'PRP']\n",
      "['know', 'VERB', 'VB']\n",
      "['.', 'PUNCT', '.']\n",
      "['Not', 'ADV', 'RB']\n",
      "['only', 'ADV', 'RB']\n",
      "['did', 'VERB', 'VBD']\n",
      "['she', 'PRON', 'PRP']\n",
      "['never', 'ADV', 'RB']\n",
      "['check', 'VERB', 'VB']\n",
      "['on', 'ADP', 'IN']\n",
      "['my', 'DET', 'PRP$']\n",
      "['physical', 'ADJ', 'JJ']\n",
      "['health', 'NOUN', 'NN']\n",
      "[',', 'PUNCT', ',']\n",
      "['she', 'PRON', 'PRP']\n",
      "['could', 'AUX', 'MD']\n",
      "[\"n't\", 'ADV', 'RB']\n",
      "['even', 'ADV', 'RB']\n",
      "['take', 'VERB', 'VB']\n",
      "['two', 'NUM', 'CD']\n",
      "['seconds', 'NOUN', 'NNS']\n",
      "['to', 'PART', 'TO']\n",
      "['reset', 'VERB', 'VB']\n",
      "['the', 'DET', 'DT']\n",
      "['timer', 'NOUN', 'NN']\n",
      "[',', 'PUNCT', ',']\n",
      "['which', 'DET', 'WDT']\n",
      "['she', 'PRON', 'PRP']\n",
      "['even', 'ADV', 'RB']\n",
      "['admitted', 'VERB', 'VBD']\n",
      "['to', 'ADP', 'IN']\n",
      "['me', 'PRON', 'PRP']\n",
      "['.', 'PUNCT', '.']\n",
      "['Her', 'DET', 'PRP$']\n",
      "['accuse', 'NOUN', 'NN']\n",
      "['was', 'VERB', 'VBD']\n",
      "['that', 'ADP', 'IN']\n",
      "['she', 'PRON', 'PRP']\n",
      "['was', 'VERB', 'VBD']\n",
      "['coming', 'VERB', 'VBG']\n",
      "['in', 'PART', 'RP']\n",
      "['to', 'PART', 'TO']\n",
      "['do', 'VERB', 'VB']\n",
      "['it', 'PRON', 'PRP']\n",
      "[',', 'PUNCT', ',']\n",
      "['but', 'CCONJ', 'CC']\n",
      "['I', 'PRON', 'PRP']\n",
      "['had', 'VERB', 'VBD']\n",
      "['the', 'DET', 'DT']\n",
      "['light', 'NOUN', 'NN']\n",
      "['off', 'PART', 'RP']\n",
      "['for', 'ADP', 'IN']\n",
      "['a', 'DET', 'DT']\n",
      "['solid', 'ADJ', 'JJ']\n",
      "['two', 'NUM', 'CD']\n",
      "['minutes', 'NOUN', 'NNS']\n",
      "['before', 'ADP', 'IN']\n",
      "['I', 'PRON', 'PRP']\n",
      "['could', 'AUX', 'MD']\n",
      "[\"n't\", 'ADV', 'RB']\n",
      "['stand', 'VERB', 'VB']\n",
      "['the', 'DET', 'DT']\n",
      "['pain', 'NOUN', 'NN']\n",
      "['.', 'PUNCT', '.']\n",
      "['She', 'PRON', 'PRP']\n",
      "['admitted', 'VERB', 'VBD']\n",
      "['it', 'PRON', 'PRP']\n",
      "['should', 'VERB', 'MD']\n",
      "['be', 'VERB', 'VB']\n",
      "['reset', 'VERB', 'VBN']\n",
      "['every', 'DET', 'DT']\n",
      "['15', 'NUM', 'CD']\n",
      "['minutes', 'NOUN', 'NNS']\n",
      "[',', 'PUNCT', ',']\n",
      "['which', 'DET', 'WDT']\n",
      "['means', 'VERB', 'VBZ']\n",
      "['for', 'ADP', 'IN']\n",
      "['25', 'NUM', 'CD']\n",
      "['minutes', 'NOUN', 'NNS']\n",
      "['she', 'PRON', 'PRP']\n",
      "['did', 'VERB', 'VBD']\n",
      "['not', 'ADV', 'RB']\n",
      "['bother', 'VERB', 'VB']\n",
      "['to', 'PART', 'TO']\n",
      "['help', 'VERB', 'VB']\n",
      "['me', 'PRON', 'PRP']\n",
      "['at', 'ADV', 'RB']\n",
      "['all', 'ADV', 'RB']\n",
      "['.', 'PUNCT', '.']\n",
      "['Her', 'DET', 'PRP$']\n",
      "['guest', 'NOUN', 'NN']\n",
      "['in', 'ADP', 'IN']\n",
      "['the', 'DET', 'DT']\n",
      "['lobby', 'NOUN', 'NN']\n",
      "['then', 'ADV', 'RB']\n",
      "['proceeded', 'VERB', 'VBD']\n",
      "['to', 'PART', 'TO']\n",
      "['attack', 'VERB', 'VB']\n",
      "['me', 'PRON', 'PRP']\n",
      "['as', 'ADV', 'RB']\n",
      "['well', 'ADV', 'RB']\n",
      "[',', 'PUNCT', ',']\n",
      "['simply', 'ADV', 'RB']\n",
      "['because', 'ADP', 'IN']\n",
      "['I', 'PRON', 'PRP']\n",
      "['wanted', 'VERB', 'VBD']\n",
      "['to', 'PART', 'TO']\n",
      "['leave', 'VERB', 'VB']\n",
      "['after', 'ADP', 'IN']\n",
      "['the', 'DET', 'DT']\n",
      "['way', 'NOUN', 'NN']\n",
      "['I', 'PRON', 'PRP']\n",
      "['was', 'VERB', 'VBD']\n",
      "['treated', 'VERB', 'VBN']\n",
      "['.', 'PUNCT', '.']\n",
      "['I', 'PRON', 'PRP']\n",
      "['also', 'ADV', 'RB']\n",
      "['expected', 'VERB', 'VBD']\n",
      "['a', 'DET', 'DT']\n",
      "['refund', 'NOUN', 'NN']\n",
      "['for', 'ADP', 'IN']\n",
      "['not', 'ADV', 'RB']\n",
      "['getting', 'VERB', 'VBG']\n",
      "['a', 'DET', 'DT']\n",
      "['complete', 'ADJ', 'JJ']\n",
      "['session', 'NOUN', 'NN']\n",
      "['today', 'NOUN', 'NN']\n",
      "[',', 'PUNCT', ',']\n",
      "['due', 'ADP', 'IN']\n",
      "['to', 'ADP', 'IN']\n",
      "['the', 'DET', 'DT']\n",
      "['neglect', 'NOUN', 'NN']\n",
      "[',', 'PUNCT', ',']\n",
      "['and', 'CCONJ', 'CC']\n",
      "['the', 'DET', 'DT']\n",
      "['fact', 'NOUN', 'NN']\n",
      "['I', 'PRON', 'PRP']\n",
      "['wo', 'AUX', 'MD']\n",
      "[\"n't\", 'ADV', 'RB']\n",
      "['be', 'VERB', 'VB']\n",
      "['returning', 'VERB', 'VBG']\n",
      "['for', 'ADP', 'IN']\n",
      "['my', 'DET', 'PRP$']\n",
      "['last', 'ADJ', 'JJ']\n",
      "[',', 'PUNCT', ',']\n",
      "['she', 'PRON', 'PRP']\n",
      "['had', 'VERB', 'VBD']\n",
      "['failed', 'VERB', 'VBN']\n",
      "['to', 'PART', 'TO']\n",
      "['do', 'VERB', 'VB']\n",
      "['that', 'DET', 'DT']\n",
      "['.', 'PUNCT', '.']\n",
      "['She', 'PRON', 'PRP']\n",
      "['was', 'VERB', 'VBD']\n",
      "['even', 'ADV', 'RB']\n",
      "['screaming', 'VERB', 'VBG']\n",
      "['from', 'ADP', 'IN']\n",
      "['the', 'DET', 'DT']\n",
      "['door', 'NOUN', 'NN']\n",
      "[',', 'PUNCT', ',']\n",
      "['and', 'CCONJ', 'CC']\n",
      "['continued', 'VERB', 'VBD']\n",
      "['to', 'PART', 'TO']\n",
      "['until', 'ADP', 'IN']\n",
      "['my', 'DET', 'PRP$']\n",
      "['boyfriend', 'NOUN', 'NN']\n",
      "['and', 'CCONJ', 'CC']\n",
      "['I', 'PRON', 'PRP']\n",
      "['were', 'VERB', 'VBD']\n",
      "['down', 'ADP', 'IN']\n",
      "['the', 'DET', 'DT']\n",
      "['steps', 'NOUN', 'NNS']\n",
      "['.', 'PUNCT', '.']\n",
      "['I', 'PRON', 'PRP']\n",
      "['have', 'VERB', 'VBP']\n",
      "['never', 'ADV', 'RB']\n"
     ]
    },
    {
     "name": "stdout",
     "output_type": "stream",
     "text": [
      "['in', 'ADP', 'IN']\n",
      "['my', 'DET', 'PRP$']\n",
      "['life', 'NOUN', 'NN']\n",
      "['been', 'VERB', 'VBN']\n",
      "['more', 'ADV', 'RBR']\n",
      "['appalled', 'VERB', 'VBN']\n",
      "['by', 'ADP', 'IN']\n",
      "['a', 'DET', 'DT']\n",
      "['grown', 'VERB', 'VBN']\n",
      "['woman', 'NOUN', 'NN']\n",
      "[\"'s\", 'PART', 'POS']\n",
      "['behavior', 'NOUN', 'NN']\n",
      "[',', 'PUNCT', ',']\n",
      "['who', 'PRON', 'WP']\n",
      "['claims', 'VERB', 'VBZ']\n",
      "['to', 'PART', 'TO']\n",
      "['be', 'VERB', 'VB']\n",
      "['in', 'ADP', 'IN']\n",
      "['the', 'DET', 'DT']\n",
      "['business', 'NOUN', 'NN']\n",
      "['for', 'ADP', 'IN']\n",
      "['\"', 'PUNCT', '``']\n",
      "['10', 'NUM', 'CD']\n",
      "['years', 'NOUN', 'NNS']\n",
      "['.', 'PUNCT', '.']\n",
      "['\"', 'PUNCT', \"''\"]\n",
      "['Admit', 'VERB', 'VB']\n",
      "['your', 'DET', 'PRP$']\n",
      "['wrongs', 'NOUN', 'NNS']\n",
      "[',', 'PUNCT', ',']\n",
      "['but', 'CCONJ', 'CC']\n",
      "['do', 'VERB', 'VB']\n",
      "[\"n't\", 'ADV', 'RB']\n",
      "['make', 'VERB', 'VB']\n",
      "['your', 'DET', 'PRP$']\n",
      "['guest', 'NOUN', 'NN']\n",
      "['feel', 'VERB', 'VB']\n",
      "['unwelcome', 'ADJ', 'JJ']\n",
      "['because', 'ADP', 'IN']\n",
      "['you', 'PRON', 'PRP']\n",
      "['ca', 'AUX', 'MD']\n",
      "[\"n't\", 'ADV', 'RB']\n",
      "['do', 'VERB', 'VB']\n",
      "['you', 'PRON', 'PRP']\n",
      "['job', 'VERB', 'VB']\n",
      "['properly', 'ADV', 'RB']\n",
      "['.', 'PUNCT', '.']\n"
     ]
    }
   ],
   "source": [
    "for doc in doc_df[4]:\n",
    "    print([doc.text,doc.pos_,doc.tag_])"
   ]
  },
  {
   "cell_type": "code",
   "execution_count": 62,
   "metadata": {},
   "outputs": [
    {
     "data": {
      "text/plain": [
       "<spacy.pipeline.pipes.EntityRecognizer at 0x5d53ec48>"
      ]
     },
     "execution_count": 62,
     "metadata": {},
     "output_type": "execute_result"
    }
   ],
   "source": [
    "nlp.entity"
   ]
  },
  {
   "cell_type": "code",
   "execution_count": 63,
   "metadata": {},
   "outputs": [],
   "source": [
    "from textblob import TextBlob\n",
    "blob_df = review['text'].apply(TextBlob)"
   ]
  },
  {
   "cell_type": "code",
   "execution_count": 64,
   "metadata": {},
   "outputs": [],
   "source": [
    "# tf-idf词袋的一种简单扩展"
   ]
  },
  {
   "cell_type": "code",
   "execution_count": 65,
   "metadata": {},
   "outputs": [
    {
     "data": {
      "text/plain": [
       "Index(['address', 'attributes', 'business_id', 'categories', 'city', 'hours',\n",
       "       'is_open', 'latitude', 'longitude', 'name', 'postal_code',\n",
       "       'review_count', 'stars', 'state', 'log_review_count', 'rc_bc'],\n",
       "      dtype='object')"
      ]
     },
     "execution_count": 65,
     "metadata": {},
     "output_type": "execute_result"
    }
   ],
   "source": [
    "biz_df.columns"
   ]
  },
  {
   "cell_type": "code",
   "execution_count": 66,
   "metadata": {},
   "outputs": [
    {
     "data": {
      "text/html": [
       "<div>\n",
       "<style scoped>\n",
       "    .dataframe tbody tr th:only-of-type {\n",
       "        vertical-align: middle;\n",
       "    }\n",
       "\n",
       "    .dataframe tbody tr th {\n",
       "        vertical-align: top;\n",
       "    }\n",
       "\n",
       "    .dataframe thead th {\n",
       "        text-align: right;\n",
       "    }\n",
       "</style>\n",
       "<table border=\"1\" class=\"dataframe\">\n",
       "  <thead>\n",
       "    <tr style=\"text-align: right;\">\n",
       "      <th></th>\n",
       "      <th>address</th>\n",
       "      <th>attributes</th>\n",
       "      <th>business_id</th>\n",
       "      <th>categories</th>\n",
       "      <th>city</th>\n",
       "      <th>hours</th>\n",
       "      <th>is_open</th>\n",
       "      <th>latitude</th>\n",
       "      <th>longitude</th>\n",
       "      <th>name</th>\n",
       "      <th>postal_code</th>\n",
       "      <th>review_count</th>\n",
       "      <th>stars</th>\n",
       "      <th>state</th>\n",
       "      <th>log_review_count</th>\n",
       "      <th>rc_bc</th>\n",
       "    </tr>\n",
       "  </thead>\n",
       "  <tbody>\n",
       "    <tr>\n",
       "      <th>0</th>\n",
       "      <td>2818 E Camino Acequia Drive</td>\n",
       "      <td>{'GoodForKids': 'False'}</td>\n",
       "      <td>1SWheh84yJXfytovILXOAQ</td>\n",
       "      <td>Golf, Active Life</td>\n",
       "      <td>Phoenix</td>\n",
       "      <td>None</td>\n",
       "      <td>0</td>\n",
       "      <td>33.522143</td>\n",
       "      <td>-112.018481</td>\n",
       "      <td>Arizona Biltmore Golf Club</td>\n",
       "      <td>85016</td>\n",
       "      <td>5</td>\n",
       "      <td>3.0</td>\n",
       "      <td>AZ</td>\n",
       "      <td>0.778151</td>\n",
       "      <td>1.211778</td>\n",
       "    </tr>\n",
       "    <tr>\n",
       "      <th>1</th>\n",
       "      <td>30 Eglinton Avenue W</td>\n",
       "      <td>{'RestaurantsReservations': 'True', 'GoodForMe...</td>\n",
       "      <td>QXAEGFB4oINsVuTFxEYKFQ</td>\n",
       "      <td>Specialty Food, Restaurants, Dim Sum, Imported...</td>\n",
       "      <td>Mississauga</td>\n",
       "      <td>{'Monday': '9:0-0:0', 'Tuesday': '9:0-0:0', 'W...</td>\n",
       "      <td>1</td>\n",
       "      <td>43.605499</td>\n",
       "      <td>-79.652289</td>\n",
       "      <td>Emerald Chinese Restaurant</td>\n",
       "      <td>L5R 3E7</td>\n",
       "      <td>128</td>\n",
       "      <td>2.5</td>\n",
       "      <td>ON</td>\n",
       "      <td>2.110590</td>\n",
       "      <td>2.249606</td>\n",
       "    </tr>\n",
       "  </tbody>\n",
       "</table>\n",
       "</div>"
      ],
      "text/plain": [
       "                       address  \\\n",
       "0  2818 E Camino Acequia Drive   \n",
       "1         30 Eglinton Avenue W   \n",
       "\n",
       "                                          attributes             business_id  \\\n",
       "0                           {'GoodForKids': 'False'}  1SWheh84yJXfytovILXOAQ   \n",
       "1  {'RestaurantsReservations': 'True', 'GoodForMe...  QXAEGFB4oINsVuTFxEYKFQ   \n",
       "\n",
       "                                          categories         city  \\\n",
       "0                                  Golf, Active Life      Phoenix   \n",
       "1  Specialty Food, Restaurants, Dim Sum, Imported...  Mississauga   \n",
       "\n",
       "                                               hours  is_open   latitude  \\\n",
       "0                                               None        0  33.522143   \n",
       "1  {'Monday': '9:0-0:0', 'Tuesday': '9:0-0:0', 'W...        1  43.605499   \n",
       "\n",
       "    longitude                        name postal_code  review_count  stars  \\\n",
       "0 -112.018481  Arizona Biltmore Golf Club       85016             5    3.0   \n",
       "1  -79.652289  Emerald Chinese Restaurant     L5R 3E7           128    2.5   \n",
       "\n",
       "  state  log_review_count     rc_bc  \n",
       "0    AZ          0.778151  1.211778  \n",
       "1    ON          2.110590  2.249606  "
      ]
     },
     "execution_count": 66,
     "metadata": {},
     "output_type": "execute_result"
    }
   ],
   "source": [
    "biz_df[:2]"
   ]
  },
  {
   "cell_type": "code",
   "execution_count": 67,
   "metadata": {},
   "outputs": [],
   "source": [
    "# 选出夜店和餐馆, lambda函数返回1或0\n",
    "def nig_res(x):\n",
    "    if x['categories'] is not None: # 如果不为空才进行下一步判断\n",
    "         return 'Nightlife' in x['categories'] or 'Restaurants' in x['categories']\n",
    "    return False\n",
    "\n",
    "#two_biz = biz_df[biz_df.apply(lambda x: ('Nightlife' in x['categories'] or 'Restaurants' in x['categories']) and x['categories'] is not None, axis=1)]\n",
    "two_biz = biz_df[biz_df.apply(nig_res, axis=1)]"
   ]
  },
  {
   "cell_type": "code",
   "execution_count": 68,
   "metadata": {},
   "outputs": [
    {
     "data": {
      "text/plain": [
       "True"
      ]
     },
     "execution_count": 68,
     "metadata": {},
     "output_type": "execute_result"
    }
   ],
   "source": [
    "biz_df.at[265,'categories'] is None # at使用非label只返回一个值"
   ]
  },
  {
   "cell_type": "code",
   "execution_count": 69,
   "metadata": {},
   "outputs": [
    {
     "data": {
      "text/plain": [
       "pandas.core.series.Series"
      ]
     },
     "execution_count": 69,
     "metadata": {},
     "output_type": "execute_result"
    }
   ],
   "source": [
    "type(biz_df[265:266]['categories']) #默认是返回series"
   ]
  },
  {
   "cell_type": "code",
   "execution_count": 70,
   "metadata": {},
   "outputs": [
    {
     "data": {
      "text/plain": [
       "True"
      ]
     },
     "execution_count": 70,
     "metadata": {},
     "output_type": "execute_result"
    }
   ],
   "source": [
    "biz_df[265:266]['categories'].iat[0] is None # series的某行(不是label，是自然排序)"
   ]
  },
  {
   "cell_type": "code",
   "execution_count": 71,
   "metadata": {},
   "outputs": [],
   "source": [
    "# 创建分类数据\n",
    "night = two_biz[two_biz.apply(lambda x: 'Nightlife' in x['categories'] and 'Restaurants' not in x['categories'],axis=1)]\n",
    "rest = two_biz[two_biz.apply(lambda x: 'Restaurants' in x['categories'] and  'Nightlife' not in x['categories'],axis=1)]\n",
    "night_rest = two_biz[two_biz.apply(lambda x: 'Nightlife' in x['categories'] and 'Restaurants' in x['categories'],axis=1)]"
   ]
  },
  {
   "cell_type": "code",
   "execution_count": 72,
   "metadata": {},
   "outputs": [
    {
     "data": {
      "text/plain": [
       "True"
      ]
     },
     "execution_count": 72,
     "metadata": {},
     "output_type": "execute_result"
    }
   ],
   "source": [
    "night.shape[0] + rest.shape[0] + night_rest.shape[0]== two_biz.shape[0]"
   ]
  },
  {
   "cell_type": "code",
   "execution_count": 73,
   "metadata": {},
   "outputs": [
    {
     "data": {
      "text/plain": [
       "((4533, 16), (50809, 16))"
      ]
     },
     "execution_count": 73,
     "metadata": {},
     "output_type": "execute_result"
    }
   ],
   "source": [
    "night.shape,rest.shape"
   ]
  },
  {
   "cell_type": "code",
   "execution_count": 74,
   "metadata": {},
   "outputs": [
    {
     "data": {
      "text/plain": [
       "(0.08921647739573697,)"
      ]
     },
     "execution_count": 74,
     "metadata": {},
     "output_type": "execute_result"
    }
   ],
   "source": [
    "night.shape[0] /rest.shape[0],"
   ]
  },
  {
   "cell_type": "code",
   "execution_count": 75,
   "metadata": {},
   "outputs": [],
   "source": [
    "# biz_df和review按照inner join\n",
    "night_rest = pd.concat([night,rest])\n",
    "nig_res_review_f = night_rest.merge(review, on ='business_id', how='inner')"
   ]
  },
  {
   "cell_type": "code",
   "execution_count": 76,
   "metadata": {},
   "outputs": [
    {
     "name": "stderr",
     "output_type": "stream",
     "text": [
      "C:\\ProgramData\\Anaconda3\\lib\\site-packages\\ipykernel_launcher.py:3: SettingWithCopyWarning: \n",
      "A value is trying to be set on a copy of a slice from a DataFrame.\n",
      "Try using .loc[row_indexer,col_indexer] = value instead\n",
      "\n",
      "See the caveats in the documentation: http://pandas.pydata.org/pandas-docs/stable/indexing.html#indexing-view-versus-copy\n",
      "  This is separate from the ipykernel package so we can avoid doing imports until\n"
     ]
    }
   ],
   "source": [
    "# 选择所需特征和目标特征\n",
    "nig_res_review = nig_res_review_f[['business_id','name','stars_y','text', 'categories']]\n",
    "nig_res_review['target'] = nig_res_review.apply(lambda x: 'Nightlife' in x['categories'],axis=1) # 目标变量为是否夜店"
   ]
  },
  {
   "cell_type": "code",
   "execution_count": 77,
   "metadata": {},
   "outputs": [
    {
     "data": {
      "text/plain": [
       "(Index(['business_id', 'name', 'stars_y', 'text', 'categories', 'target'], dtype='object'),\n",
       " (5140, 6))"
      ]
     },
     "execution_count": 77,
     "metadata": {},
     "output_type": "execute_result"
    }
   ],
   "source": [
    "nig_res_review.columns, nig_res_review.shape"
   ]
  },
  {
   "cell_type": "code",
   "execution_count": 78,
   "metadata": {},
   "outputs": [],
   "source": [
    "nightlife = nig_res_review[nig_res_review.apply(lambda x: 'Nightlife' in x['categories'],axis=1)]\n",
    "restaurants = nig_res_review[nig_res_review.apply(lambda x: 'Restaurants' in x['categories'],axis=1)]"
   ]
  },
  {
   "cell_type": "code",
   "execution_count": 79,
   "metadata": {},
   "outputs": [],
   "source": [
    "# 类别不平衡，\n",
    "night_sub = nightlife.sample(frac=0.5,random_state=123)\n",
    "rest_sub = restaurants.sample(frac=(0.5 * 0.089),random_state=123)"
   ]
  },
  {
   "cell_type": "code",
   "execution_count": 80,
   "metadata": {},
   "outputs": [],
   "source": [
    "nig_res = pd.concat([night_sub,rest_sub],axis=0) # 模式向下拼接"
   ]
  },
  {
   "cell_type": "code",
   "execution_count": 81,
   "metadata": {},
   "outputs": [
    {
     "data": {
      "text/plain": [
       "(345, 6)"
      ]
     },
     "execution_count": 81,
     "metadata": {},
     "output_type": "execute_result"
    }
   ],
   "source": [
    "nig_res.shape"
   ]
  },
  {
   "cell_type": "code",
   "execution_count": 82,
   "metadata": {},
   "outputs": [
    {
     "data": {
      "text/plain": [
       "Index(['business_id', 'name', 'stars_y', 'text', 'categories', 'target'], dtype='object')"
      ]
     },
     "execution_count": 82,
     "metadata": {},
     "output_type": "execute_result"
    }
   ],
   "source": [
    "nig_res.columns"
   ]
  },
  {
   "cell_type": "code",
   "execution_count": null,
   "metadata": {},
   "outputs": [],
   "source": []
  },
  {
   "cell_type": "code",
   "execution_count": 83,
   "metadata": {},
   "outputs": [],
   "source": [
    "# biz_df和review按照inner join\n",
    "#two_biz_rew = nig_res.merge(review, on ='business_id', how='inner')"
   ]
  },
  {
   "cell_type": "code",
   "execution_count": 84,
   "metadata": {},
   "outputs": [],
   "source": [
    "from sklearn.model_selection import train_test_split\n",
    "train,test = train_test_split(nig_res,train_size=0.7,random_state=123)"
   ]
  },
  {
   "cell_type": "code",
   "execution_count": null,
   "metadata": {},
   "outputs": [],
   "source": []
  },
  {
   "cell_type": "code",
   "execution_count": null,
   "metadata": {},
   "outputs": [],
   "source": []
  },
  {
   "cell_type": "code",
   "execution_count": 85,
   "metadata": {},
   "outputs": [
    {
     "data": {
      "text/plain": [
       "Index(['business_id', 'name', 'stars_y', 'text', 'categories', 'target'], dtype='object')"
      ]
     },
     "execution_count": 85,
     "metadata": {},
     "output_type": "execute_result"
    }
   ],
   "source": [
    "train.columns"
   ]
  },
  {
   "cell_type": "code",
   "execution_count": 86,
   "metadata": {},
   "outputs": [],
   "source": [
    "#y_tr = train['target']\n",
    "#y_te = test['target']"
   ]
  },
  {
   "cell_type": "code",
   "execution_count": 88,
   "metadata": {},
   "outputs": [],
   "source": [
    "from sklearn.feature_extraction.text import CountVectorizer\n",
    "from sklearn.feature_extraction.text import TfidfTransformer\n",
    "# 词袋模型\n",
    "bow_trans = CountVectorizer(token_pattern='(?a)\\\\b\\\\w+\\\\b')\n",
    "X_bow_tr = bow_trans.fit_transform(train['text']) # 稀疏矩阵\n",
    "X_bow_te = bow_trans.transform(test['text'])\n",
    "y_tr = train['target']\n",
    "y_te = test['target']\n",
    "# 使用词袋模型创建tf-idf\n",
    "tfidf_trans = TfidfTransformer(norm=None)\n",
    "X_tfidf_tr = tfidf_trans.fit_transform(X_bow_tr) #稀疏矩阵\n",
    "X_tfidf_te = tfidf_trans.transform(X_bow_te)\n",
    "# 对词袋表示l2归一化，稀疏矩阵，不用minmax,standscer,为什么要l2\n",
    "X_l2_tr=pre.normalize(X_bow_tr,axis=0)\n",
    "X_l2_te=pre.normalize(X_bow_te,axis=0)"
   ]
  },
  {
   "cell_type": "code",
   "execution_count": 90,
   "metadata": {},
   "outputs": [
    {
     "data": {
      "text/plain": [
       "(<241x4074 sparse matrix of type '<class 'numpy.int64'>'\n",
       " \twith 18419 stored elements in Compressed Sparse Row format>,\n",
       " <241x4074 sparse matrix of type '<class 'numpy.float64'>'\n",
       " \twith 18419 stored elements in Compressed Sparse Row format>)"
      ]
     },
     "execution_count": 90,
     "metadata": {},
     "output_type": "execute_result"
    }
   ],
   "source": [
    "X_bow_tr,X_tfidf_tr"
   ]
  },
  {
   "cell_type": "code",
   "execution_count": 91,
   "metadata": {},
   "outputs": [
    {
     "data": {
      "text/plain": [
       "4074"
      ]
     },
     "execution_count": 91,
     "metadata": {},
     "output_type": "execute_result"
    }
   ],
   "source": [
    "len(bow_trans.vocabulary_)"
   ]
  },
  {
   "cell_type": "code",
   "execution_count": 92,
   "metadata": {},
   "outputs": [],
   "source": [
    "from sklearn.linear_model import LogisticRegression\n",
    "def simple_logistic(X_tr,y_tr,X_te,y_te,description):\n",
    "    m = LogisticRegression().fit(X_tr,y_tr)\n",
    "    s = m.score(X_te,y_te) # validation\n",
    "    print('Test score with ', description, 'features:', s)\n",
    "    return m"
   ]
  },
  {
   "cell_type": "code",
   "execution_count": 93,
   "metadata": {},
   "outputs": [
    {
     "name": "stderr",
     "output_type": "stream",
     "text": [
      "C:\\ProgramData\\Anaconda3\\lib\\site-packages\\sklearn\\linear_model\\logistic.py:432: FutureWarning: Default solver will be changed to 'lbfgs' in 0.22. Specify a solver to silence this warning.\n",
      "  FutureWarning)\n"
     ]
    },
    {
     "name": "stdout",
     "output_type": "stream",
     "text": [
      "Test score with  CountVectorizer features: 0.8173076923076923\n",
      "Test score with  CountVectorizer + Tf-Idf features: 0.8557692307692307\n",
      "Test score with  CountVectorizer + l2 normalize features: 0.7980769230769231\n"
     ]
    }
   ],
   "source": [
    "# 效果出乎意料\n",
    "m1 = simple_logistic(X_bow_tr,y_tr,X_bow_te,y_te,\"CountVectorizer\")\n",
    "\n",
    "m2= simple_logistic(X_tfidf_tr,y_tr,X_tfidf_te,y_te,\"CountVectorizer + Tf-Idf\")\n",
    "\n",
    "m3= simple_logistic(X_l2_tr,y_tr,X_l2_te,y_te,\"CountVectorizer + l2 normalize\")"
   ]
  },
  {
   "cell_type": "code",
   "execution_count": 94,
   "metadata": {},
   "outputs": [],
   "source": [
    "# 使用网格搜索，逻辑回归最佳超参数\n",
    "from sklearn.model_selection import GridSearchCV\n",
    "par={\"C\":[1e-5,1e-3,1e-1,1e0,1e1,1e2]} # 逻辑回归的参数正则化参数C\n",
    "gs_bow   = GridSearchCV(LogisticRegression(),cv=5,param_grid=par)\n",
    "gs_tfidf = GridSearchCV(LogisticRegression(),cv=5,param_grid=par)\n",
    "gs_l2    = GridSearchCV(LogisticRegression(),cv=5,param_grid=par)"
   ]
  },
  {
   "cell_type": "code",
   "execution_count": 95,
   "metadata": {},
   "outputs": [
    {
     "name": "stderr",
     "output_type": "stream",
     "text": [
      "C:\\ProgramData\\Anaconda3\\lib\\site-packages\\sklearn\\linear_model\\logistic.py:432: FutureWarning: Default solver will be changed to 'lbfgs' in 0.22. Specify a solver to silence this warning.\n",
      "  FutureWarning)\n",
      "C:\\ProgramData\\Anaconda3\\lib\\site-packages\\sklearn\\model_selection\\_search.py:813: DeprecationWarning: The default of the `iid` parameter will change from True to False in version 0.22 and will be removed in 0.24. This will change numeric results when test-set sizes are unequal.\n",
      "  DeprecationWarning)\n",
      "C:\\ProgramData\\Anaconda3\\lib\\site-packages\\sklearn\\linear_model\\logistic.py:432: FutureWarning: Default solver will be changed to 'lbfgs' in 0.22. Specify a solver to silence this warning.\n",
      "  FutureWarning)\n",
      "C:\\ProgramData\\Anaconda3\\lib\\site-packages\\sklearn\\model_selection\\_search.py:813: DeprecationWarning: The default of the `iid` parameter will change from True to False in version 0.22 and will be removed in 0.24. This will change numeric results when test-set sizes are unequal.\n",
      "  DeprecationWarning)\n",
      "C:\\ProgramData\\Anaconda3\\lib\\site-packages\\sklearn\\linear_model\\logistic.py:432: FutureWarning: Default solver will be changed to 'lbfgs' in 0.22. Specify a solver to silence this warning.\n",
      "  FutureWarning)\n"
     ]
    },
    {
     "data": {
      "text/plain": [
       "GridSearchCV(cv=5, error_score='raise-deprecating',\n",
       "             estimator=LogisticRegression(C=1.0, class_weight=None, dual=False,\n",
       "                                          fit_intercept=True,\n",
       "                                          intercept_scaling=1, l1_ratio=None,\n",
       "                                          max_iter=100, multi_class='warn',\n",
       "                                          n_jobs=None, penalty='l2',\n",
       "                                          random_state=None, solver='warn',\n",
       "                                          tol=0.0001, verbose=0,\n",
       "                                          warm_start=False),\n",
       "             iid='warn', n_jobs=None,\n",
       "             param_grid={'C': [1e-05, 0.001, 0.1, 1.0, 10.0, 100.0]},\n",
       "             pre_dispatch='2*n_jobs', refit=True, return_train_score=False,\n",
       "             scoring=None, verbose=0)"
      ]
     },
     "execution_count": 95,
     "metadata": {},
     "output_type": "execute_result"
    }
   ],
   "source": [
    "gs_bow.fit(X_bow_tr,y_tr)\n",
    "gs_tfidf.fit(X_tfidf_tr,y_tr)\n",
    "gs_l2.fit(X_l2_tr,y_tr)"
   ]
  },
  {
   "cell_type": "code",
   "execution_count": 96,
   "metadata": {},
   "outputs": [
    {
     "data": {
      "text/plain": [
       "{'mean_fit_time': array([0.00540042, 0.00340014, 0.00460033, 0.00680046, 0.00840034,\n",
       "        0.00860052]),\n",
       " 'std_fit_time': array([0.00431765, 0.00080005, 0.00048982, 0.0021356 , 0.00185485,\n",
       "        0.00048982]),\n",
       " 'mean_score_time': array([0.0006    , 0.00080009, 0.00079999, 0.00080004, 0.00080013,\n",
       "        0.00039997]),\n",
       " 'std_score_time': array([0.0004899 , 0.00040004, 0.00039999, 0.0007483 , 0.00040007,\n",
       "        0.00048986]),\n",
       " 'param_C': masked_array(data=[1e-05, 0.001, 0.1, 1.0, 10.0, 100.0],\n",
       "              mask=[False, False, False, False, False, False],\n",
       "        fill_value='?',\n",
       "             dtype=object),\n",
       " 'params': [{'C': 1e-05},\n",
       "  {'C': 0.001},\n",
       "  {'C': 0.1},\n",
       "  {'C': 1.0},\n",
       "  {'C': 10.0},\n",
       "  {'C': 100.0}],\n",
       " 'split0_test_score': array([0.63265306, 0.71428571, 0.83673469, 0.83673469, 0.83673469,\n",
       "        0.83673469]),\n",
       " 'split1_test_score': array([0.63265306, 0.59183673, 0.81632653, 0.81632653, 0.79591837,\n",
       "        0.7755102 ]),\n",
       " 'split2_test_score': array([0.625     , 0.70833333, 0.85416667, 0.89583333, 0.89583333,\n",
       "        0.89583333]),\n",
       " 'split3_test_score': array([0.625     , 0.6875    , 0.79166667, 0.77083333, 0.77083333,\n",
       "        0.77083333]),\n",
       " 'split4_test_score': array([0.63829787, 0.68085106, 0.82978723, 0.78723404, 0.78723404,\n",
       "        0.76595745]),\n",
       " 'mean_test_score': array([0.63070539, 0.67634855, 0.82572614, 0.82157676, 0.81742739,\n",
       "        0.80912863]),\n",
       " 'std_test_score': array([0.00507457, 0.04446638, 0.0209277 , 0.04351328, 0.04477097,\n",
       "        0.05037461]),\n",
       " 'rank_test_score': array([6, 5, 1, 2, 3, 4])}"
      ]
     },
     "execution_count": 96,
     "metadata": {},
     "output_type": "execute_result"
    }
   ],
   "source": [
    "gs_bow.cv_results_"
   ]
  },
  {
   "cell_type": "code",
   "execution_count": 97,
   "metadata": {},
   "outputs": [],
   "source": [
    "gs_df = pd.DataFrame.from_dict({'bow':gs_bow.cv_results_['mean_test_score'],\n",
    "                               'tfidf':gs_tfidf.cv_results_['mean_test_score'],\n",
    "                               'l2':gs_l2.cv_results_['mean_test_score']})"
   ]
  },
  {
   "cell_type": "code",
   "execution_count": 98,
   "metadata": {},
   "outputs": [
    {
     "data": {
      "text/html": [
       "<div>\n",
       "<style scoped>\n",
       "    .dataframe tbody tr th:only-of-type {\n",
       "        vertical-align: middle;\n",
       "    }\n",
       "\n",
       "    .dataframe tbody tr th {\n",
       "        vertical-align: top;\n",
       "    }\n",
       "\n",
       "    .dataframe thead th {\n",
       "        text-align: right;\n",
       "    }\n",
       "</style>\n",
       "<table border=\"1\" class=\"dataframe\">\n",
       "  <thead>\n",
       "    <tr style=\"text-align: right;\">\n",
       "      <th></th>\n",
       "      <th>bow</th>\n",
       "      <th>tfidf</th>\n",
       "      <th>l2</th>\n",
       "    </tr>\n",
       "  </thead>\n",
       "  <tbody>\n",
       "    <tr>\n",
       "      <th>0</th>\n",
       "      <td>0.630705</td>\n",
       "      <td>0.626556</td>\n",
       "      <td>0.630705</td>\n",
       "    </tr>\n",
       "    <tr>\n",
       "      <th>1</th>\n",
       "      <td>0.676349</td>\n",
       "      <td>0.825726</td>\n",
       "      <td>0.630705</td>\n",
       "    </tr>\n",
       "    <tr>\n",
       "      <th>2</th>\n",
       "      <td>0.825726</td>\n",
       "      <td>0.846473</td>\n",
       "      <td>0.639004</td>\n",
       "    </tr>\n",
       "    <tr>\n",
       "      <th>3</th>\n",
       "      <td>0.821577</td>\n",
       "      <td>0.846473</td>\n",
       "      <td>0.721992</td>\n",
       "    </tr>\n",
       "    <tr>\n",
       "      <th>4</th>\n",
       "      <td>0.817427</td>\n",
       "      <td>0.842324</td>\n",
       "      <td>0.742739</td>\n",
       "    </tr>\n",
       "    <tr>\n",
       "      <th>5</th>\n",
       "      <td>0.809129</td>\n",
       "      <td>0.842324</td>\n",
       "      <td>0.759336</td>\n",
       "    </tr>\n",
       "  </tbody>\n",
       "</table>\n",
       "</div>"
      ],
      "text/plain": [
       "        bow     tfidf        l2\n",
       "0  0.630705  0.626556  0.630705\n",
       "1  0.676349  0.825726  0.630705\n",
       "2  0.825726  0.846473  0.639004\n",
       "3  0.821577  0.846473  0.721992\n",
       "4  0.817427  0.842324  0.742739\n",
       "5  0.809129  0.842324  0.759336"
      ]
     },
     "execution_count": 98,
     "metadata": {},
     "output_type": "execute_result"
    }
   ],
   "source": [
    "gs_df"
   ]
  },
  {
   "cell_type": "code",
   "execution_count": 99,
   "metadata": {},
   "outputs": [
    {
     "data": {
      "text/plain": [
       "<matplotlib.axes._subplots.AxesSubplot at 0x7be9b908>"
      ]
     },
     "execution_count": 99,
     "metadata": {},
     "output_type": "execute_result"
    },
    {
     "data": {
      "image/png": "[encoded data removed]",
      "text/plain": [
       "<Figure size 432x288 with 2 Axes>"
      ]
     },
     "metadata": {},
     "output_type": "display_data"
    }
   ],
   "source": [
    "#常用的matplotlib设置，seaborn美化图形\n",
    "import matplotlib.pyplot as plt\n",
    "import seaborn as sns\n",
    "sns.set_style('whitegrid')\n",
    "fig,(ax1,ax2) = plt.subplots(2,1)\n",
    "gs_df.boxplot(ax=ax1)\n",
    "#plt.boxplot(gs_df,ax=ax1)\n",
    "sns.boxplot(data=gs_df,ax=ax2)"
   ]
  },
  {
   "cell_type": "code",
   "execution_count": 100,
   "metadata": {},
   "outputs": [],
   "source": [
    "from sklearn.linear_model import LogisticRegression\n",
    "def simple_logistic_classify(X_tr,y_tr,X_te,y_te,description,_C):\n",
    "    m = LogisticRegression(C=_C).fit(X_tr,y_tr)\n",
    "    s = m.score(X_te,y_te) # validation\n",
    "    print('Test score with ', description, 'features:', s)\n",
    "    return m"
   ]
  },
  {
   "cell_type": "code",
   "execution_count": 101,
   "metadata": {},
   "outputs": [
    {
     "name": "stderr",
     "output_type": "stream",
     "text": [
      "C:\\ProgramData\\Anaconda3\\lib\\site-packages\\sklearn\\linear_model\\logistic.py:432: FutureWarning: Default solver will be changed to 'lbfgs' in 0.22. Specify a solver to silence this warning.\n",
      "  FutureWarning)\n"
     ]
    },
    {
     "name": "stdout",
     "output_type": "stream",
     "text": [
      "Test score with  CountVectorizer features: 0.8365384615384616\n",
      "Test score with  CountVectorizer +tfidf features: 0.8557692307692307\n",
      "Test score with  CountVectorizer + l2 features: 0.8076923076923077\n"
     ]
    }
   ],
   "source": [
    "m1 = simple_logistic_classify(X_bow_tr,y_tr,X_bow_te,y_te,\"CountVectorizer\",_C=gs_bow.best_params_['C'])\n",
    "m2 = simple_logistic_classify(X_tfidf_tr,y_tr,X_tfidf_te,y_te,\"CountVectorizer +tfidf\",_C=gs_tfidf.best_params_['C'])\n",
    "m3 = simple_logistic_classify(X_l2_tr,y_tr,X_l2_te,y_te,\"CountVectorizer + l2\",_C=gs_l2.best_params_['C'])"
   ]
  },
  {
   "cell_type": "code",
   "execution_count": 102,
   "metadata": {},
   "outputs": [
    {
     "data": {
      "text/html": [
       "<div>\n",
       "<style scoped>\n",
       "    .dataframe tbody tr th:only-of-type {\n",
       "        vertical-align: middle;\n",
       "    }\n",
       "\n",
       "    .dataframe tbody tr th {\n",
       "        vertical-align: top;\n",
       "    }\n",
       "\n",
       "    .dataframe thead th {\n",
       "        text-align: right;\n",
       "    }\n",
       "</style>\n",
       "<table border=\"1\" class=\"dataframe\">\n",
       "  <thead>\n",
       "    <tr style=\"text-align: right;\">\n",
       "      <th></th>\n",
       "      <th>City</th>\n",
       "      <th>Rent</th>\n",
       "    </tr>\n",
       "  </thead>\n",
       "  <tbody>\n",
       "    <tr>\n",
       "      <th>0</th>\n",
       "      <td>SF</td>\n",
       "      <td>3999</td>\n",
       "    </tr>\n",
       "    <tr>\n",
       "      <th>1</th>\n",
       "      <td>SF</td>\n",
       "      <td>4000</td>\n",
       "    </tr>\n",
       "    <tr>\n",
       "      <th>2</th>\n",
       "      <td>SF</td>\n",
       "      <td>4001</td>\n",
       "    </tr>\n",
       "    <tr>\n",
       "      <th>3</th>\n",
       "      <td>NYC</td>\n",
       "      <td>3499</td>\n",
       "    </tr>\n",
       "    <tr>\n",
       "      <th>4</th>\n",
       "      <td>NYC</td>\n",
       "      <td>3500</td>\n",
       "    </tr>\n",
       "    <tr>\n",
       "      <th>5</th>\n",
       "      <td>NYC</td>\n",
       "      <td>3501</td>\n",
       "    </tr>\n",
       "    <tr>\n",
       "      <th>6</th>\n",
       "      <td>Seattle</td>\n",
       "      <td>2499</td>\n",
       "    </tr>\n",
       "    <tr>\n",
       "      <th>7</th>\n",
       "      <td>Seattle</td>\n",
       "      <td>2500</td>\n",
       "    </tr>\n",
       "    <tr>\n",
       "      <th>8</th>\n",
       "      <td>Seattle</td>\n",
       "      <td>2501</td>\n",
       "    </tr>\n",
       "  </tbody>\n",
       "</table>\n",
       "</div>"
      ],
      "text/plain": [
       "      City  Rent\n",
       "0       SF  3999\n",
       "1       SF  4000\n",
       "2       SF  4001\n",
       "3      NYC  3499\n",
       "4      NYC  3500\n",
       "5      NYC  3501\n",
       "6  Seattle  2499\n",
       "7  Seattle  2500\n",
       "8  Seattle  2501"
      ]
     },
     "execution_count": 102,
     "metadata": {},
     "output_type": "execute_result"
    }
   ],
   "source": [
    "# 类别变量\n",
    "rent_df = pd.DataFrame({'City':['SF','SF','SF','NYC','NYC','NYC','Seattle','Seattle','Seattle'],\n",
    "                  'Rent':[3999,4000,4001,3499,3500,3501,2499,2500,2501]})\n",
    "rent_df"
   ]
  },
  {
   "cell_type": "code",
   "execution_count": 103,
   "metadata": {},
   "outputs": [
    {
     "data": {
      "text/plain": [
       "3333.3333333333335"
      ]
     },
     "execution_count": 103,
     "metadata": {},
     "output_type": "execute_result"
    }
   ],
   "source": [
    "rent_df['Rent'].mean()"
   ]
  },
  {
   "cell_type": "code",
   "execution_count": 104,
   "metadata": {},
   "outputs": [],
   "source": [
    "onehot_df = pd.get_dummies(rent_df,prefix=['city'])"
   ]
  },
  {
   "cell_type": "code",
   "execution_count": 105,
   "metadata": {},
   "outputs": [
    {
     "data": {
      "text/html": [
       "<div>\n",
       "<style scoped>\n",
       "    .dataframe tbody tr th:only-of-type {\n",
       "        vertical-align: middle;\n",
       "    }\n",
       "\n",
       "    .dataframe tbody tr th {\n",
       "        vertical-align: top;\n",
       "    }\n",
       "\n",
       "    .dataframe thead th {\n",
       "        text-align: right;\n",
       "    }\n",
       "</style>\n",
       "<table border=\"1\" class=\"dataframe\">\n",
       "  <thead>\n",
       "    <tr style=\"text-align: right;\">\n",
       "      <th></th>\n",
       "      <th>Rent</th>\n",
       "      <th>city_NYC</th>\n",
       "      <th>city_SF</th>\n",
       "      <th>city_Seattle</th>\n",
       "    </tr>\n",
       "  </thead>\n",
       "  <tbody>\n",
       "    <tr>\n",
       "      <th>0</th>\n",
       "      <td>3999</td>\n",
       "      <td>0</td>\n",
       "      <td>1</td>\n",
       "      <td>0</td>\n",
       "    </tr>\n",
       "    <tr>\n",
       "      <th>1</th>\n",
       "      <td>4000</td>\n",
       "      <td>0</td>\n",
       "      <td>1</td>\n",
       "      <td>0</td>\n",
       "    </tr>\n",
       "    <tr>\n",
       "      <th>2</th>\n",
       "      <td>4001</td>\n",
       "      <td>0</td>\n",
       "      <td>1</td>\n",
       "      <td>0</td>\n",
       "    </tr>\n",
       "    <tr>\n",
       "      <th>3</th>\n",
       "      <td>3499</td>\n",
       "      <td>1</td>\n",
       "      <td>0</td>\n",
       "      <td>0</td>\n",
       "    </tr>\n",
       "    <tr>\n",
       "      <th>4</th>\n",
       "      <td>3500</td>\n",
       "      <td>1</td>\n",
       "      <td>0</td>\n",
       "      <td>0</td>\n",
       "    </tr>\n",
       "    <tr>\n",
       "      <th>5</th>\n",
       "      <td>3501</td>\n",
       "      <td>1</td>\n",
       "      <td>0</td>\n",
       "      <td>0</td>\n",
       "    </tr>\n",
       "    <tr>\n",
       "      <th>6</th>\n",
       "      <td>2499</td>\n",
       "      <td>0</td>\n",
       "      <td>0</td>\n",
       "      <td>1</td>\n",
       "    </tr>\n",
       "    <tr>\n",
       "      <th>7</th>\n",
       "      <td>2500</td>\n",
       "      <td>0</td>\n",
       "      <td>0</td>\n",
       "      <td>1</td>\n",
       "    </tr>\n",
       "    <tr>\n",
       "      <th>8</th>\n",
       "      <td>2501</td>\n",
       "      <td>0</td>\n",
       "      <td>0</td>\n",
       "      <td>1</td>\n",
       "    </tr>\n",
       "  </tbody>\n",
       "</table>\n",
       "</div>"
      ],
      "text/plain": [
       "   Rent  city_NYC  city_SF  city_Seattle\n",
       "0  3999         0        1             0\n",
       "1  4000         0        1             0\n",
       "2  4001         0        1             0\n",
       "3  3499         1        0             0\n",
       "4  3500         1        0             0\n",
       "5  3501         1        0             0\n",
       "6  2499         0        0             1\n",
       "7  2500         0        0             1\n",
       "8  2501         0        0             1"
      ]
     },
     "execution_count": 105,
     "metadata": {},
     "output_type": "execute_result"
    }
   ],
   "source": [
    "onehot_df"
   ]
  },
  {
   "cell_type": "code",
   "execution_count": 106,
   "metadata": {},
   "outputs": [
    {
     "data": {
      "text/plain": [
       "['city_NYC', 'city_SF', 'city_Seattle']"
      ]
     },
     "execution_count": 106,
     "metadata": {},
     "output_type": "execute_result"
    }
   ],
   "source": [
    "[x for x in onehot_df.columns if x.startswith(\"city\")]"
   ]
  },
  {
   "cell_type": "code",
   "execution_count": 107,
   "metadata": {},
   "outputs": [],
   "source": [
    "from sklearn.linear_model import LinearRegression\n",
    "model = LinearRegression().fit(X=onehot_df[[x for x in onehot_df.columns if x.startswith(\"city\")]],y=onehot_df['Rent'])"
   ]
  },
  {
   "cell_type": "code",
   "execution_count": 108,
   "metadata": {},
   "outputs": [
    {
     "data": {
      "text/plain": [
       "(array([ 166.66666667,  666.66666667, -833.33333333]), 3333.3333333333335)"
      ]
     },
     "execution_count": 108,
     "metadata": {},
     "output_type": "execute_result"
    }
   ],
   "source": [
    "model.coef_, model.intercept_  # 独热编码模型：截距是均值，系数是控制与均值的偏差"
   ]
  },
  {
   "cell_type": "code",
   "execution_count": 109,
   "metadata": {},
   "outputs": [
    {
     "data": {
      "text/html": [
       "<div>\n",
       "<style scoped>\n",
       "    .dataframe tbody tr th:only-of-type {\n",
       "        vertical-align: middle;\n",
       "    }\n",
       "\n",
       "    .dataframe tbody tr th {\n",
       "        vertical-align: top;\n",
       "    }\n",
       "\n",
       "    .dataframe thead th {\n",
       "        text-align: right;\n",
       "    }\n",
       "</style>\n",
       "<table border=\"1\" class=\"dataframe\">\n",
       "  <thead>\n",
       "    <tr style=\"text-align: right;\">\n",
       "      <th></th>\n",
       "      <th>Rent</th>\n",
       "      <th>city_SF</th>\n",
       "      <th>city_Seattle</th>\n",
       "    </tr>\n",
       "  </thead>\n",
       "  <tbody>\n",
       "    <tr>\n",
       "      <th>0</th>\n",
       "      <td>3999</td>\n",
       "      <td>1</td>\n",
       "      <td>0</td>\n",
       "    </tr>\n",
       "    <tr>\n",
       "      <th>1</th>\n",
       "      <td>4000</td>\n",
       "      <td>1</td>\n",
       "      <td>0</td>\n",
       "    </tr>\n",
       "    <tr>\n",
       "      <th>2</th>\n",
       "      <td>4001</td>\n",
       "      <td>1</td>\n",
       "      <td>0</td>\n",
       "    </tr>\n",
       "    <tr>\n",
       "      <th>3</th>\n",
       "      <td>3499</td>\n",
       "      <td>0</td>\n",
       "      <td>0</td>\n",
       "    </tr>\n",
       "    <tr>\n",
       "      <th>4</th>\n",
       "      <td>3500</td>\n",
       "      <td>0</td>\n",
       "      <td>0</td>\n",
       "    </tr>\n",
       "    <tr>\n",
       "      <th>5</th>\n",
       "      <td>3501</td>\n",
       "      <td>0</td>\n",
       "      <td>0</td>\n",
       "    </tr>\n",
       "    <tr>\n",
       "      <th>6</th>\n",
       "      <td>2499</td>\n",
       "      <td>0</td>\n",
       "      <td>1</td>\n",
       "    </tr>\n",
       "    <tr>\n",
       "      <th>7</th>\n",
       "      <td>2500</td>\n",
       "      <td>0</td>\n",
       "      <td>1</td>\n",
       "    </tr>\n",
       "    <tr>\n",
       "      <th>8</th>\n",
       "      <td>2501</td>\n",
       "      <td>0</td>\n",
       "      <td>1</td>\n",
       "    </tr>\n",
       "  </tbody>\n",
       "</table>\n",
       "</div>"
      ],
      "text/plain": [
       "   Rent  city_SF  city_Seattle\n",
       "0  3999        1             0\n",
       "1  4000        1             0\n",
       "2  4001        1             0\n",
       "3  3499        0             0\n",
       "4  3500        0             0\n",
       "5  3501        0             0\n",
       "6  2499        0             1\n",
       "7  2500        0             1\n",
       "8  2501        0             1"
      ]
     },
     "execution_count": 109,
     "metadata": {},
     "output_type": "execute_result"
    }
   ],
   "source": [
    "#虚拟编码，没有被使用的特征通过一个全零向量来表示，成为参照类\n",
    "#Whether to get k-1 dummies out of k categorical\n",
    "dummy_df = pd.get_dummies(rent_df,prefix=['city'],columns=['City'],drop_first=True) # drop_first标志生成虚拟编码\n",
    "dummy_df"
   ]
  },
  {
   "cell_type": "code",
   "execution_count": 110,
   "metadata": {},
   "outputs": [],
   "source": [
    "model2 = LinearRegression().fit(dummy_df[['city_SF','city_Seattle']],dummy_df['Rent'])"
   ]
  },
  {
   "cell_type": "code",
   "execution_count": 111,
   "metadata": {},
   "outputs": [
    {
     "data": {
      "text/plain": [
       "(array([  500., -1000.]), 3500.0)"
      ]
     },
     "execution_count": 111,
     "metadata": {},
     "output_type": "execute_result"
    }
   ],
   "source": [
    "model2.coef_, model2.intercept_ # 截距是的NewYork, 系数是参照于NewYork的偏差"
   ]
  },
  {
   "cell_type": "code",
   "execution_count": 112,
   "metadata": {},
   "outputs": [],
   "source": [
    " # 效果编码：和虚拟相似，区别是参照类使用全部由-1组成的向量表示，它的线性回归模型更容易解释\n",
    "effect_df= dummy_df.copy()\n",
    "effect_df.loc[3:5,['city_SF','city_Seattle']] = -1.0 # 指定3到5行的数据为-1"
   ]
  },
  {
   "cell_type": "code",
   "execution_count": 113,
   "metadata": {},
   "outputs": [
    {
     "data": {
      "text/html": [
       "<div>\n",
       "<style scoped>\n",
       "    .dataframe tbody tr th:only-of-type {\n",
       "        vertical-align: middle;\n",
       "    }\n",
       "\n",
       "    .dataframe tbody tr th {\n",
       "        vertical-align: top;\n",
       "    }\n",
       "\n",
       "    .dataframe thead th {\n",
       "        text-align: right;\n",
       "    }\n",
       "</style>\n",
       "<table border=\"1\" class=\"dataframe\">\n",
       "  <thead>\n",
       "    <tr style=\"text-align: right;\">\n",
       "      <th></th>\n",
       "      <th>Rent</th>\n",
       "      <th>city_SF</th>\n",
       "      <th>city_Seattle</th>\n",
       "    </tr>\n",
       "  </thead>\n",
       "  <tbody>\n",
       "    <tr>\n",
       "      <th>0</th>\n",
       "      <td>3999</td>\n",
       "      <td>1.0</td>\n",
       "      <td>0.0</td>\n",
       "    </tr>\n",
       "    <tr>\n",
       "      <th>1</th>\n",
       "      <td>4000</td>\n",
       "      <td>1.0</td>\n",
       "      <td>0.0</td>\n",
       "    </tr>\n",
       "    <tr>\n",
       "      <th>2</th>\n",
       "      <td>4001</td>\n",
       "      <td>1.0</td>\n",
       "      <td>0.0</td>\n",
       "    </tr>\n",
       "    <tr>\n",
       "      <th>3</th>\n",
       "      <td>3499</td>\n",
       "      <td>-1.0</td>\n",
       "      <td>-1.0</td>\n",
       "    </tr>\n",
       "    <tr>\n",
       "      <th>4</th>\n",
       "      <td>3500</td>\n",
       "      <td>-1.0</td>\n",
       "      <td>-1.0</td>\n",
       "    </tr>\n",
       "    <tr>\n",
       "      <th>5</th>\n",
       "      <td>3501</td>\n",
       "      <td>-1.0</td>\n",
       "      <td>-1.0</td>\n",
       "    </tr>\n",
       "    <tr>\n",
       "      <th>6</th>\n",
       "      <td>2499</td>\n",
       "      <td>0.0</td>\n",
       "      <td>1.0</td>\n",
       "    </tr>\n",
       "    <tr>\n",
       "      <th>7</th>\n",
       "      <td>2500</td>\n",
       "      <td>0.0</td>\n",
       "      <td>1.0</td>\n",
       "    </tr>\n",
       "    <tr>\n",
       "      <th>8</th>\n",
       "      <td>2501</td>\n",
       "      <td>0.0</td>\n",
       "      <td>1.0</td>\n",
       "    </tr>\n",
       "  </tbody>\n",
       "</table>\n",
       "</div>"
      ],
      "text/plain": [
       "   Rent  city_SF  city_Seattle\n",
       "0  3999      1.0           0.0\n",
       "1  4000      1.0           0.0\n",
       "2  4001      1.0           0.0\n",
       "3  3499     -1.0          -1.0\n",
       "4  3500     -1.0          -1.0\n",
       "5  3501     -1.0          -1.0\n",
       "6  2499      0.0           1.0\n",
       "7  2500      0.0           1.0\n",
       "8  2501      0.0           1.0"
      ]
     },
     "execution_count": 113,
     "metadata": {},
     "output_type": "execute_result"
    }
   ],
   "source": [
    "effect_df"
   ]
  },
  {
   "cell_type": "code",
   "execution_count": 114,
   "metadata": {},
   "outputs": [
    {
     "data": {
      "text/plain": [
       "(array([ 666.66666667, -833.33333333]), 3333.3333333333335)"
      ]
     },
     "execution_count": 114,
     "metadata": {},
     "output_type": "execute_result"
    }
   ],
   "source": [
    "model3 = LinearRegression().fit(effect_df[['city_SF','city_Seattle']],effect_df['Rent'])\n",
    "model3.coef_, model3.intercept_"
   ]
  },
  {
   "cell_type": "code",
   "execution_count": 115,
   "metadata": {},
   "outputs": [
    {
     "data": {
      "text/plain": [
       "4618"
      ]
     },
     "execution_count": 115,
     "metadata": {},
     "output_type": "execute_result"
    }
   ],
   "source": [
    "# 大型类别变量的特征散列化\n",
    "from sklearn.feature_extraction import FeatureHasher\n",
    "m = len(review['business_id'].unique())\n",
    "m"
   ]
  },
  {
   "cell_type": "code",
   "execution_count": 116,
   "metadata": {},
   "outputs": [],
   "source": [
    "# 商户名特征散列化\n",
    "h = FeatureHasher(n_features=m, input_type='string')\n",
    "f = h.transform(review['business_id']) # f是稀疏矩阵"
   ]
  },
  {
   "cell_type": "code",
   "execution_count": 117,
   "metadata": {},
   "outputs": [
    {
     "data": {
      "text/plain": [
       "['ujmEBvifdJM6h6RLv4wQIg',\n",
       " 'NZnhc2sEQy3RmzKTZnqtwQ',\n",
       " 'WTqjgwHlXbSFevF32_DJVw',\n",
       " 'ikCg8xy5JIg_NGPx-MSIDA',\n",
       " 'b1b1eb3uo-w561D0ZfCEiQ']"
      ]
     },
     "execution_count": 117,
     "metadata": {},
     "output_type": "execute_result"
    }
   ],
   "source": [
    "review['business_id'].unique().tolist()[:5]"
   ]
  },
  {
   "cell_type": "code",
   "execution_count": 118,
   "metadata": {},
   "outputs": [
    {
     "data": {
      "text/plain": [
       "(10000, 4618)"
      ]
     },
     "execution_count": 118,
     "metadata": {},
     "output_type": "execute_result"
    }
   ],
   "source": [
    "f.toarray().shape"
   ]
  },
  {
   "cell_type": "code",
   "execution_count": 144,
   "metadata": {},
   "outputs": [
    {
     "data": {
      "text/plain": [
       "(array([[0., 0., 0., ..., 0., 0., 0.],\n",
       "        [0., 0., 0., ..., 0., 0., 0.],\n",
       "        [0., 0., 0., ..., 0., 0., 0.],\n",
       "        [0., 0., 0., ..., 0., 0., 0.],\n",
       "        [0., 0., 0., ..., 0., 0., 0.]]),\n",
       " scipy.sparse.csr.csr_matrix,\n",
       " (1, 4618),\n",
       " 2.0,\n",
       " 0.0)"
      ]
     },
     "execution_count": 144,
     "metadata": {},
     "output_type": "execute_result"
    }
   ],
   "source": [
    "f.toarray()[:5],type(f),f.toarray()[:1].shape,f.toarray()[:1].sum(), f.toarray()[-1].sum()"
   ]
  },
  {
   "cell_type": "code",
   "execution_count": 120,
   "metadata": {},
   "outputs": [
    {
     "data": {
      "text/plain": [
       "(790104, 56)"
      ]
     },
     "execution_count": 120,
     "metadata": {},
     "output_type": "execute_result"
    }
   ],
   "source": [
    "# 查看以下存储空间\n",
    "from sys import getsizeof\n",
    "getsizeof(review['business_id']),getsizeof(f) # 返回存储大小，单位字节"
   ]
  },
  {
   "cell_type": "code",
   "execution_count": 121,
   "metadata": {
    "scrolled": true
   },
   "outputs": [
    {
     "data": {
      "text/html": [
       "<div>\n",
       "<style scoped>\n",
       "    .dataframe tbody tr th:only-of-type {\n",
       "        vertical-align: middle;\n",
       "    }\n",
       "\n",
       "    .dataframe tbody tr th {\n",
       "        vertical-align: top;\n",
       "    }\n",
       "\n",
       "    .dataframe thead th {\n",
       "        text-align: right;\n",
       "    }\n",
       "</style>\n",
       "<table border=\"1\" class=\"dataframe\">\n",
       "  <thead>\n",
       "    <tr style=\"text-align: right;\">\n",
       "      <th></th>\n",
       "      <th>id</th>\n",
       "      <th>click</th>\n",
       "      <th>hour</th>\n",
       "      <th>C1</th>\n",
       "      <th>banner_pos</th>\n",
       "      <th>site_id</th>\n",
       "      <th>site_domain</th>\n",
       "      <th>site_category</th>\n",
       "      <th>app_id</th>\n",
       "      <th>app_domain</th>\n",
       "      <th>...</th>\n",
       "      <th>device_type</th>\n",
       "      <th>device_conn_type</th>\n",
       "      <th>C14</th>\n",
       "      <th>C15</th>\n",
       "      <th>C16</th>\n",
       "      <th>C17</th>\n",
       "      <th>C18</th>\n",
       "      <th>C19</th>\n",
       "      <th>C20</th>\n",
       "      <th>C21</th>\n",
       "    </tr>\n",
       "  </thead>\n",
       "  <tbody>\n",
       "    <tr>\n",
       "      <th>0</th>\n",
       "      <td>1000009418151094273</td>\n",
       "      <td>0</td>\n",
       "      <td>14102100</td>\n",
       "      <td>1005</td>\n",
       "      <td>0</td>\n",
       "      <td>1fbe01fe</td>\n",
       "      <td>f3845767</td>\n",
       "      <td>28905ebd</td>\n",
       "      <td>ecad2386</td>\n",
       "      <td>7801e8d9</td>\n",
       "      <td>...</td>\n",
       "      <td>1</td>\n",
       "      <td>2</td>\n",
       "      <td>15706</td>\n",
       "      <td>320</td>\n",
       "      <td>50</td>\n",
       "      <td>1722</td>\n",
       "      <td>0</td>\n",
       "      <td>35</td>\n",
       "      <td>-1</td>\n",
       "      <td>79</td>\n",
       "    </tr>\n",
       "    <tr>\n",
       "      <th>1</th>\n",
       "      <td>10000169349117863715</td>\n",
       "      <td>0</td>\n",
       "      <td>14102100</td>\n",
       "      <td>1005</td>\n",
       "      <td>0</td>\n",
       "      <td>1fbe01fe</td>\n",
       "      <td>f3845767</td>\n",
       "      <td>28905ebd</td>\n",
       "      <td>ecad2386</td>\n",
       "      <td>7801e8d9</td>\n",
       "      <td>...</td>\n",
       "      <td>1</td>\n",
       "      <td>0</td>\n",
       "      <td>15704</td>\n",
       "      <td>320</td>\n",
       "      <td>50</td>\n",
       "      <td>1722</td>\n",
       "      <td>0</td>\n",
       "      <td>35</td>\n",
       "      <td>100084</td>\n",
       "      <td>79</td>\n",
       "    </tr>\n",
       "    <tr>\n",
       "      <th>2</th>\n",
       "      <td>10000371904215119486</td>\n",
       "      <td>0</td>\n",
       "      <td>14102100</td>\n",
       "      <td>1005</td>\n",
       "      <td>0</td>\n",
       "      <td>1fbe01fe</td>\n",
       "      <td>f3845767</td>\n",
       "      <td>28905ebd</td>\n",
       "      <td>ecad2386</td>\n",
       "      <td>7801e8d9</td>\n",
       "      <td>...</td>\n",
       "      <td>1</td>\n",
       "      <td>0</td>\n",
       "      <td>15704</td>\n",
       "      <td>320</td>\n",
       "      <td>50</td>\n",
       "      <td>1722</td>\n",
       "      <td>0</td>\n",
       "      <td>35</td>\n",
       "      <td>100084</td>\n",
       "      <td>79</td>\n",
       "    </tr>\n",
       "    <tr>\n",
       "      <th>3</th>\n",
       "      <td>10000640724480838376</td>\n",
       "      <td>0</td>\n",
       "      <td>14102100</td>\n",
       "      <td>1005</td>\n",
       "      <td>0</td>\n",
       "      <td>1fbe01fe</td>\n",
       "      <td>f3845767</td>\n",
       "      <td>28905ebd</td>\n",
       "      <td>ecad2386</td>\n",
       "      <td>7801e8d9</td>\n",
       "      <td>...</td>\n",
       "      <td>1</td>\n",
       "      <td>0</td>\n",
       "      <td>15706</td>\n",
       "      <td>320</td>\n",
       "      <td>50</td>\n",
       "      <td>1722</td>\n",
       "      <td>0</td>\n",
       "      <td>35</td>\n",
       "      <td>100084</td>\n",
       "      <td>79</td>\n",
       "    </tr>\n",
       "    <tr>\n",
       "      <th>4</th>\n",
       "      <td>10000679056417042096</td>\n",
       "      <td>0</td>\n",
       "      <td>14102100</td>\n",
       "      <td>1005</td>\n",
       "      <td>1</td>\n",
       "      <td>fe8cc448</td>\n",
       "      <td>9166c161</td>\n",
       "      <td>0569f928</td>\n",
       "      <td>ecad2386</td>\n",
       "      <td>7801e8d9</td>\n",
       "      <td>...</td>\n",
       "      <td>1</td>\n",
       "      <td>0</td>\n",
       "      <td>18993</td>\n",
       "      <td>320</td>\n",
       "      <td>50</td>\n",
       "      <td>2161</td>\n",
       "      <td>0</td>\n",
       "      <td>35</td>\n",
       "      <td>-1</td>\n",
       "      <td>157</td>\n",
       "    </tr>\n",
       "    <tr>\n",
       "      <th>5</th>\n",
       "      <td>10000720757801103869</td>\n",
       "      <td>0</td>\n",
       "      <td>14102100</td>\n",
       "      <td>1005</td>\n",
       "      <td>0</td>\n",
       "      <td>d6137915</td>\n",
       "      <td>bb1ef334</td>\n",
       "      <td>f028772b</td>\n",
       "      <td>ecad2386</td>\n",
       "      <td>7801e8d9</td>\n",
       "      <td>...</td>\n",
       "      <td>1</td>\n",
       "      <td>0</td>\n",
       "      <td>16920</td>\n",
       "      <td>320</td>\n",
       "      <td>50</td>\n",
       "      <td>1899</td>\n",
       "      <td>0</td>\n",
       "      <td>431</td>\n",
       "      <td>100077</td>\n",
       "      <td>117</td>\n",
       "    </tr>\n",
       "    <tr>\n",
       "      <th>6</th>\n",
       "      <td>10000724729988544911</td>\n",
       "      <td>0</td>\n",
       "      <td>14102100</td>\n",
       "      <td>1005</td>\n",
       "      <td>0</td>\n",
       "      <td>8fda644b</td>\n",
       "      <td>25d4cfcd</td>\n",
       "      <td>f028772b</td>\n",
       "      <td>ecad2386</td>\n",
       "      <td>7801e8d9</td>\n",
       "      <td>...</td>\n",
       "      <td>1</td>\n",
       "      <td>0</td>\n",
       "      <td>20362</td>\n",
       "      <td>320</td>\n",
       "      <td>50</td>\n",
       "      <td>2333</td>\n",
       "      <td>0</td>\n",
       "      <td>39</td>\n",
       "      <td>-1</td>\n",
       "      <td>157</td>\n",
       "    </tr>\n",
       "    <tr>\n",
       "      <th>7</th>\n",
       "      <td>10000918755742328737</td>\n",
       "      <td>0</td>\n",
       "      <td>14102100</td>\n",
       "      <td>1005</td>\n",
       "      <td>1</td>\n",
       "      <td>e151e245</td>\n",
       "      <td>7e091613</td>\n",
       "      <td>f028772b</td>\n",
       "      <td>ecad2386</td>\n",
       "      <td>7801e8d9</td>\n",
       "      <td>...</td>\n",
       "      <td>1</td>\n",
       "      <td>0</td>\n",
       "      <td>20632</td>\n",
       "      <td>320</td>\n",
       "      <td>50</td>\n",
       "      <td>2374</td>\n",
       "      <td>3</td>\n",
       "      <td>39</td>\n",
       "      <td>-1</td>\n",
       "      <td>23</td>\n",
       "    </tr>\n",
       "    <tr>\n",
       "      <th>8</th>\n",
       "      <td>10000949271186029916</td>\n",
       "      <td>1</td>\n",
       "      <td>14102100</td>\n",
       "      <td>1005</td>\n",
       "      <td>0</td>\n",
       "      <td>1fbe01fe</td>\n",
       "      <td>f3845767</td>\n",
       "      <td>28905ebd</td>\n",
       "      <td>ecad2386</td>\n",
       "      <td>7801e8d9</td>\n",
       "      <td>...</td>\n",
       "      <td>1</td>\n",
       "      <td>2</td>\n",
       "      <td>15707</td>\n",
       "      <td>320</td>\n",
       "      <td>50</td>\n",
       "      <td>1722</td>\n",
       "      <td>0</td>\n",
       "      <td>35</td>\n",
       "      <td>-1</td>\n",
       "      <td>79</td>\n",
       "    </tr>\n",
       "    <tr>\n",
       "      <th>9</th>\n",
       "      <td>10001264480619467364</td>\n",
       "      <td>0</td>\n",
       "      <td>14102100</td>\n",
       "      <td>1002</td>\n",
       "      <td>0</td>\n",
       "      <td>84c7ba46</td>\n",
       "      <td>c4e18dd6</td>\n",
       "      <td>50e219e0</td>\n",
       "      <td>ecad2386</td>\n",
       "      <td>7801e8d9</td>\n",
       "      <td>...</td>\n",
       "      <td>0</td>\n",
       "      <td>0</td>\n",
       "      <td>21689</td>\n",
       "      <td>320</td>\n",
       "      <td>50</td>\n",
       "      <td>2496</td>\n",
       "      <td>3</td>\n",
       "      <td>167</td>\n",
       "      <td>100191</td>\n",
       "      <td>23</td>\n",
       "    </tr>\n",
       "  </tbody>\n",
       "</table>\n",
       "<p>10 rows × 24 columns</p>\n",
       "</div>"
      ],
      "text/plain": [
       "                     id  click      hour    C1  banner_pos   site_id  \\\n",
       "0   1000009418151094273      0  14102100  1005           0  1fbe01fe   \n",
       "1  10000169349117863715      0  14102100  1005           0  1fbe01fe   \n",
       "2  10000371904215119486      0  14102100  1005           0  1fbe01fe   \n",
       "3  10000640724480838376      0  14102100  1005           0  1fbe01fe   \n",
       "4  10000679056417042096      0  14102100  1005           1  fe8cc448   \n",
       "5  10000720757801103869      0  14102100  1005           0  d6137915   \n",
       "6  10000724729988544911      0  14102100  1005           0  8fda644b   \n",
       "7  10000918755742328737      0  14102100  1005           1  e151e245   \n",
       "8  10000949271186029916      1  14102100  1005           0  1fbe01fe   \n",
       "9  10001264480619467364      0  14102100  1002           0  84c7ba46   \n",
       "\n",
       "  site_domain site_category    app_id app_domain  ... device_type  \\\n",
       "0    f3845767      28905ebd  ecad2386   7801e8d9  ...           1   \n",
       "1    f3845767      28905ebd  ecad2386   7801e8d9  ...           1   \n",
       "2    f3845767      28905ebd  ecad2386   7801e8d9  ...           1   \n",
       "3    f3845767      28905ebd  ecad2386   7801e8d9  ...           1   \n",
       "4    9166c161      0569f928  ecad2386   7801e8d9  ...           1   \n",
       "5    bb1ef334      f028772b  ecad2386   7801e8d9  ...           1   \n",
       "6    25d4cfcd      f028772b  ecad2386   7801e8d9  ...           1   \n",
       "7    7e091613      f028772b  ecad2386   7801e8d9  ...           1   \n",
       "8    f3845767      28905ebd  ecad2386   7801e8d9  ...           1   \n",
       "9    c4e18dd6      50e219e0  ecad2386   7801e8d9  ...           0   \n",
       "\n",
       "  device_conn_type    C14  C15  C16   C17  C18  C19     C20  C21  \n",
       "0                2  15706  320   50  1722    0   35      -1   79  \n",
       "1                0  15704  320   50  1722    0   35  100084   79  \n",
       "2                0  15704  320   50  1722    0   35  100084   79  \n",
       "3                0  15706  320   50  1722    0   35  100084   79  \n",
       "4                0  18993  320   50  2161    0   35      -1  157  \n",
       "5                0  16920  320   50  1899    0  431  100077  117  \n",
       "6                0  20362  320   50  2333    0   39      -1  157  \n",
       "7                0  20632  320   50  2374    3   39      -1   23  \n",
       "8                2  15707  320   50  1722    0   35      -1   79  \n",
       "9                0  21689  320   50  2496    3  167  100191   23  \n",
       "\n",
       "[10 rows x 24 columns]"
      ]
     },
     "execution_count": 121,
     "metadata": {},
     "output_type": "execute_result"
    }
   ],
   "source": [
    "# 广告数据太大，\n",
    "ad = pd.read_csv('d:/input/FeatureEngineer/avazu-ctr/train',encoding='utf8',nrows=10000)\n",
    "ad[:10]"
   ]
  },
  {
   "cell_type": "code",
   "execution_count": 122,
   "metadata": {},
   "outputs": [
    {
     "data": {
      "text/plain": [
       "(7050104,\n",
       " Index(['id', 'click', 'hour', 'C1', 'banner_pos', 'site_id', 'site_domain',\n",
       "        'site_category', 'app_id', 'app_domain', 'app_category', 'device_id',\n",
       "        'device_ip', 'device_model', 'device_type', 'device_conn_type', 'C14',\n",
       "        'C15', 'C16', 'C17', 'C18', 'C19', 'C20', 'C21'],\n",
       "       dtype='object'))"
      ]
     },
     "execution_count": 122,
     "metadata": {},
     "output_type": "execute_result"
    }
   ],
   "source": [
    "getsizeof(ad),ad.columns"
   ]
  },
  {
   "cell_type": "code",
   "execution_count": 123,
   "metadata": {},
   "outputs": [],
   "source": [
    "# 分箱计数,广告点击率\n",
    "def click_count(x,bin_column):\n",
    "    clicks = pd.Series(x[x['click'] > 0][bin_column].value_counts(),name='clicks') # 每个类别的计数\n",
    "    no_clicks = pd.Series(x[x['click'] < 1][bin_column].value_counts(),name='no_clicks')\n",
    "    \n",
    "    counts = pd.DataFrame([clicks,no_clicks]).T.fillna('0') # 注意，两个Series合并成DataFrame时是name作为index，所以这里要转置\n",
    "    counts['total_clicks'] = counts['clicks'].astype('int64') + counts['no_clicks'].astype('int64') # 对应Series直接相加，\n",
    "    return counts\n",
    "\n",
    "def bin_count(counts): # 分箱\n",
    "    counts['N+'] = counts['clicks'].astype('int64').divide(counts['total_clicks'].astype('int64'))\n",
    "    counts['N-'] = counts['no_clicks'].astype('int64').divide(counts['total_clicks'].astype('int64')) \n",
    "    counts['log_N+'] = counts['N+'].divide(counts['N-']) # 优势比，相同特征下点击对不点击的优势比，注意有0\n",
    "    bin_counts = counts.filter(items=['N+','N-','log_N+']) # 选择所需栏位\n",
    "    return counts,bin_counts\n",
    "    "
   ]
  },
  {
   "cell_type": "code",
   "execution_count": 124,
   "metadata": {},
   "outputs": [
    {
     "data": {
      "text/plain": [
       "(                N+        N-    log_N+\n",
       " a99f214a  0.178932  0.821068  0.217925\n",
       " 25635c83  1.000000  0.000000       inf\n",
       " 135f7d9a  1.000000  0.000000       inf\n",
       " e62f1261  0.400000  0.600000  0.666667\n",
       " 9af87478  1.000000  0.000000       inf\n",
       " c357dbff  0.117647  0.882353  0.133333\n",
       " f44a9312  1.000000  0.000000       inf\n",
       " c980e472  1.000000  0.000000       inf\n",
       " 625c3d26  0.333333  0.666667  0.500000\n",
       " d62216cc  1.000000  0.000000       inf,\n",
       "          clicks no_clicks  total_clicks        N+        N-    log_N+\n",
       " a99f214a   1561      7163          8724  0.178932  0.821068  0.217925\n",
       " c357dbff      2        15            17  0.117647  0.882353  0.133333\n",
       " a167aa83      0         9             9  0.000000  1.000000  0.000000\n",
       " 3c0208dc      0         9             9  0.000000  1.000000  0.000000\n",
       " 31da1bd0      0         8             8  0.000000  1.000000  0.000000\n",
       " d2bbb640      0         7             7  0.000000  1.000000  0.000000\n",
       " 971d35f0      0         5             5  0.000000  1.000000  0.000000\n",
       " 24c3c3fe      0         5             5  0.000000  1.000000  0.000000\n",
       " 936e92fb      0         5             5  0.000000  1.000000  0.000000\n",
       " 05f75302      0         5             5  0.000000  1.000000  0.000000)"
      ]
     },
     "execution_count": 124,
     "metadata": {},
     "output_type": "execute_result"
    }
   ],
   "source": [
    "ad_counts= click_count(ad,'device_id')\n",
    "ad_counts[:10]\n",
    "ad_counts_device, ad_bin = bin_count(ad_counts)\n",
    "ad_bin[:10], ad_counts_device.sort_values(by='total_clicks',ascending=False).head(10) # df使用sort_values(by='col')排序"
   ]
  },
  {
   "cell_type": "code",
   "execution_count": 125,
   "metadata": {},
   "outputs": [
    {
     "data": {
      "text/plain": [
       "(1075, 140, 953)"
      ]
     },
     "execution_count": 125,
     "metadata": {},
     "output_type": "execute_result"
    }
   ],
   "source": [
    "len(ad['device_id'].unique()),len(ad[ad['click'] >0]['device_id'].unique()),len(ad[ad['click'] < 1]['device_id'].unique())"
   ]
  },
  {
   "cell_type": "code",
   "execution_count": 126,
   "metadata": {},
   "outputs": [],
   "source": [
    "cli = pd.Series(ad[ad['click']>0]['device_id'].value_counts(),name='clicks') # value_counts出来的唯一元素是索引\n",
    "cln = pd.Series(ad[ad['click']<1]['device_id'].value_counts(),name='no_clicks')"
   ]
  },
  {
   "cell_type": "code",
   "execution_count": 127,
   "metadata": {},
   "outputs": [
    {
     "data": {
      "text/plain": [
       "(140, 953)"
      ]
     },
     "execution_count": 127,
     "metadata": {},
     "output_type": "execute_result"
    }
   ],
   "source": [
    "len(cli),len(cln)"
   ]
  },
  {
   "cell_type": "code",
   "execution_count": 128,
   "metadata": {},
   "outputs": [
    {
     "data": {
      "text/plain": [
       "(a99f214a    1561\n",
       " 25635c83       3\n",
       " 135f7d9a       2\n",
       " e62f1261       2\n",
       " 9af87478       2\n",
       " Name: clicks, dtype: int64, a99f214a    7163\n",
       " c357dbff      15\n",
       " a167aa83       9\n",
       " 3c0208dc       9\n",
       " 31da1bd0       8\n",
       " Name: no_clicks, dtype: int64)"
      ]
     },
     "execution_count": 128,
     "metadata": {},
     "output_type": "execute_result"
    }
   ],
   "source": [
    "cli[:5],cln[:5] # 相同索引会一起"
   ]
  },
  {
   "cell_type": "code",
   "execution_count": 129,
   "metadata": {},
   "outputs": [],
   "source": [
    "ad_df = pd.DataFrame([cli,cln]).fillna(0) # 如果没有【】会将第一列认为是index,相同的id会对其吗"
   ]
  },
  {
   "cell_type": "code",
   "execution_count": 130,
   "metadata": {},
   "outputs": [
    {
     "data": {
      "text/html": [
       "<div>\n",
       "<style scoped>\n",
       "    .dataframe tbody tr th:only-of-type {\n",
       "        vertical-align: middle;\n",
       "    }\n",
       "\n",
       "    .dataframe tbody tr th {\n",
       "        vertical-align: top;\n",
       "    }\n",
       "\n",
       "    .dataframe thead th {\n",
       "        text-align: right;\n",
       "    }\n",
       "</style>\n",
       "<table border=\"1\" class=\"dataframe\">\n",
       "  <thead>\n",
       "    <tr style=\"text-align: right;\">\n",
       "      <th></th>\n",
       "      <th>a99f214a</th>\n",
       "      <th>25635c83</th>\n",
       "      <th>135f7d9a</th>\n",
       "      <th>e62f1261</th>\n",
       "      <th>9af87478</th>\n",
       "      <th>c357dbff</th>\n",
       "      <th>f44a9312</th>\n",
       "      <th>c980e472</th>\n",
       "      <th>625c3d26</th>\n",
       "      <th>d62216cc</th>\n",
       "      <th>...</th>\n",
       "      <th>b8fa7a6a</th>\n",
       "      <th>b5300cd9</th>\n",
       "      <th>6a09c267</th>\n",
       "      <th>c8069988</th>\n",
       "      <th>e10183a3</th>\n",
       "      <th>1469b756</th>\n",
       "      <th>5187f846</th>\n",
       "      <th>624cbab5</th>\n",
       "      <th>ee1828a1</th>\n",
       "      <th>3348f73b</th>\n",
       "    </tr>\n",
       "  </thead>\n",
       "  <tbody>\n",
       "    <tr>\n",
       "      <th>clicks</th>\n",
       "      <td>1561.0</td>\n",
       "      <td>3.0</td>\n",
       "      <td>2.0</td>\n",
       "      <td>2.0</td>\n",
       "      <td>2.0</td>\n",
       "      <td>2.0</td>\n",
       "      <td>1.0</td>\n",
       "      <td>1.0</td>\n",
       "      <td>1.0</td>\n",
       "      <td>1.0</td>\n",
       "      <td>...</td>\n",
       "      <td>0.0</td>\n",
       "      <td>0.0</td>\n",
       "      <td>0.0</td>\n",
       "      <td>0.0</td>\n",
       "      <td>0.0</td>\n",
       "      <td>0.0</td>\n",
       "      <td>0.0</td>\n",
       "      <td>0.0</td>\n",
       "      <td>0.0</td>\n",
       "      <td>0.0</td>\n",
       "    </tr>\n",
       "    <tr>\n",
       "      <th>no_clicks</th>\n",
       "      <td>7163.0</td>\n",
       "      <td>0.0</td>\n",
       "      <td>0.0</td>\n",
       "      <td>3.0</td>\n",
       "      <td>0.0</td>\n",
       "      <td>15.0</td>\n",
       "      <td>0.0</td>\n",
       "      <td>0.0</td>\n",
       "      <td>2.0</td>\n",
       "      <td>0.0</td>\n",
       "      <td>...</td>\n",
       "      <td>1.0</td>\n",
       "      <td>1.0</td>\n",
       "      <td>1.0</td>\n",
       "      <td>1.0</td>\n",
       "      <td>1.0</td>\n",
       "      <td>1.0</td>\n",
       "      <td>1.0</td>\n",
       "      <td>1.0</td>\n",
       "      <td>1.0</td>\n",
       "      <td>1.0</td>\n",
       "    </tr>\n",
       "  </tbody>\n",
       "</table>\n",
       "<p>2 rows × 1075 columns</p>\n",
       "</div>"
      ],
      "text/plain": [
       "           a99f214a  25635c83  135f7d9a  e62f1261  9af87478  c357dbff  \\\n",
       "clicks       1561.0       3.0       2.0       2.0       2.0       2.0   \n",
       "no_clicks    7163.0       0.0       0.0       3.0       0.0      15.0   \n",
       "\n",
       "           f44a9312  c980e472  625c3d26  d62216cc  ...  b8fa7a6a  b5300cd9  \\\n",
       "clicks          1.0       1.0       1.0       1.0  ...       0.0       0.0   \n",
       "no_clicks       0.0       0.0       2.0       0.0  ...       1.0       1.0   \n",
       "\n",
       "           6a09c267  c8069988  e10183a3  1469b756  5187f846  624cbab5  \\\n",
       "clicks          0.0       0.0       0.0       0.0       0.0       0.0   \n",
       "no_clicks       1.0       1.0       1.0       1.0       1.0       1.0   \n",
       "\n",
       "           ee1828a1  3348f73b  \n",
       "clicks          0.0       0.0  \n",
       "no_clicks       1.0       1.0  \n",
       "\n",
       "[2 rows x 1075 columns]"
      ]
     },
     "execution_count": 130,
     "metadata": {},
     "output_type": "execute_result"
    }
   ],
   "source": [
    "ad_df[:10]"
   ]
  },
  {
   "cell_type": "code",
   "execution_count": 131,
   "metadata": {},
   "outputs": [
    {
     "data": {
      "text/plain": [
       "(1561, 7163)"
      ]
     },
     "execution_count": 131,
     "metadata": {},
     "output_type": "execute_result"
    }
   ],
   "source": [
    "cli['a99f214a'],cln['a99f214a'] # 证明两个Searies相同的index会对自动对其,作为新DataFrame的header"
   ]
  },
  {
   "cell_type": "code",
   "execution_count": 132,
   "metadata": {},
   "outputs": [
    {
     "data": {
      "text/plain": [
       "(1075, 6)"
      ]
     },
     "execution_count": 132,
     "metadata": {},
     "output_type": "execute_result"
    }
   ],
   "source": [
    "ad_counts_device.shape"
   ]
  },
  {
   "cell_type": "code",
   "execution_count": 133,
   "metadata": {},
   "outputs": [
    {
     "data": {
      "text/html": [
       "<div>\n",
       "<style scoped>\n",
       "    .dataframe tbody tr th:only-of-type {\n",
       "        vertical-align: middle;\n",
       "    }\n",
       "\n",
       "    .dataframe tbody tr th {\n",
       "        vertical-align: top;\n",
       "    }\n",
       "\n",
       "    .dataframe thead th {\n",
       "        text-align: right;\n",
       "    }\n",
       "</style>\n",
       "<table border=\"1\" class=\"dataframe\">\n",
       "  <thead>\n",
       "    <tr style=\"text-align: right;\">\n",
       "      <th></th>\n",
       "      <th>clicks</th>\n",
       "      <th>no_clicks</th>\n",
       "      <th>total_clicks</th>\n",
       "      <th>N+</th>\n",
       "      <th>N-</th>\n",
       "      <th>log_N+</th>\n",
       "    </tr>\n",
       "  </thead>\n",
       "  <tbody>\n",
       "    <tr>\n",
       "      <th>a99f214a</th>\n",
       "      <td>1561</td>\n",
       "      <td>7163</td>\n",
       "      <td>8724</td>\n",
       "      <td>0.178932</td>\n",
       "      <td>0.821068</td>\n",
       "      <td>0.217925</td>\n",
       "    </tr>\n",
       "    <tr>\n",
       "      <th>25635c83</th>\n",
       "      <td>3</td>\n",
       "      <td>0</td>\n",
       "      <td>3</td>\n",
       "      <td>1.000000</td>\n",
       "      <td>0.000000</td>\n",
       "      <td>inf</td>\n",
       "    </tr>\n",
       "    <tr>\n",
       "      <th>135f7d9a</th>\n",
       "      <td>2</td>\n",
       "      <td>0</td>\n",
       "      <td>2</td>\n",
       "      <td>1.000000</td>\n",
       "      <td>0.000000</td>\n",
       "      <td>inf</td>\n",
       "    </tr>\n",
       "    <tr>\n",
       "      <th>e62f1261</th>\n",
       "      <td>2</td>\n",
       "      <td>3</td>\n",
       "      <td>5</td>\n",
       "      <td>0.400000</td>\n",
       "      <td>0.600000</td>\n",
       "      <td>0.666667</td>\n",
       "    </tr>\n",
       "    <tr>\n",
       "      <th>9af87478</th>\n",
       "      <td>2</td>\n",
       "      <td>0</td>\n",
       "      <td>2</td>\n",
       "      <td>1.000000</td>\n",
       "      <td>0.000000</td>\n",
       "      <td>inf</td>\n",
       "    </tr>\n",
       "  </tbody>\n",
       "</table>\n",
       "</div>"
      ],
      "text/plain": [
       "         clicks no_clicks  total_clicks        N+        N-    log_N+\n",
       "a99f214a   1561      7163          8724  0.178932  0.821068  0.217925\n",
       "25635c83      3         0             3  1.000000  0.000000       inf\n",
       "135f7d9a      2         0             2  1.000000  0.000000       inf\n",
       "e62f1261      2         3             5  0.400000  0.600000  0.666667\n",
       "9af87478      2         0             2  1.000000  0.000000       inf"
      ]
     },
     "execution_count": 133,
     "metadata": {},
     "output_type": "execute_result"
    }
   ],
   "source": [
    "ad_counts_device[:5]"
   ]
  },
  {
   "cell_type": "code",
   "execution_count": 134,
   "metadata": {},
   "outputs": [],
   "source": [
    "ad_minor = ad_counts_device[ad_counts_device['total_clicks']<=2]\n",
    "min_clicks = ad_minor['clicks'].astype('int64').sum()\n",
    "min_no_clicks = ad_minor['no_clicks'].astype('int64').sum()\n",
    "min_total = min_clicks + min_no_clicks\n",
    "min_N_ad = min_clicks/min_total\n",
    "min_N_mi = 1 - min_clicks/min_total\n",
    "min_log = min_N_ad/min_N_mi"
   ]
  },
  {
   "cell_type": "code",
   "execution_count": 135,
   "metadata": {},
   "outputs": [
    {
     "data": {
      "text/html": [
       "<div>\n",
       "<style scoped>\n",
       "    .dataframe tbody tr th:only-of-type {\n",
       "        vertical-align: middle;\n",
       "    }\n",
       "\n",
       "    .dataframe tbody tr th {\n",
       "        vertical-align: top;\n",
       "    }\n",
       "\n",
       "    .dataframe thead th {\n",
       "        text-align: right;\n",
       "    }\n",
       "</style>\n",
       "<table border=\"1\" class=\"dataframe\">\n",
       "  <thead>\n",
       "    <tr style=\"text-align: right;\">\n",
       "      <th></th>\n",
       "      <th>clicks</th>\n",
       "      <th>no_clicks</th>\n",
       "      <th>total_clicks</th>\n",
       "      <th>N+</th>\n",
       "      <th>N-</th>\n",
       "      <th>log_N+</th>\n",
       "    </tr>\n",
       "  </thead>\n",
       "  <tbody>\n",
       "    <tr>\n",
       "      <th>minor</th>\n",
       "      <td>134.0</td>\n",
       "      <td>961.0</td>\n",
       "      <td>1095.0</td>\n",
       "      <td>0.122374</td>\n",
       "      <td>0.877626</td>\n",
       "      <td>0.139438</td>\n",
       "    </tr>\n",
       "  </tbody>\n",
       "</table>\n",
       "</div>"
      ],
      "text/plain": [
       "       clicks  no_clicks  total_clicks        N+        N-    log_N+\n",
       "minor   134.0      961.0        1095.0  0.122374  0.877626  0.139438"
      ]
     },
     "execution_count": 135,
     "metadata": {},
     "output_type": "execute_result"
    }
   ],
   "source": [
    "minor_df= pd.DataFrame(index=['minor'],data=np.array([min_clicks,min_no_clicks,min_total,min_N_ad,min_N_mi,min_log]).reshape(1,-1))\n",
    "minor_df.columns = ad_counts_device.columns\n",
    "minor_df"
   ]
  },
  {
   "cell_type": "code",
   "execution_count": 138,
   "metadata": {},
   "outputs": [
    {
     "data": {
      "text/html": [
       "<div>\n",
       "<style scoped>\n",
       "    .dataframe tbody tr th:only-of-type {\n",
       "        vertical-align: middle;\n",
       "    }\n",
       "\n",
       "    .dataframe tbody tr th {\n",
       "        vertical-align: top;\n",
       "    }\n",
       "\n",
       "    .dataframe thead th {\n",
       "        text-align: right;\n",
       "    }\n",
       "</style>\n",
       "<table border=\"1\" class=\"dataframe\">\n",
       "  <thead>\n",
       "    <tr style=\"text-align: right;\">\n",
       "      <th></th>\n",
       "      <th>clicks</th>\n",
       "      <th>no_clicks</th>\n",
       "      <th>total_clicks</th>\n",
       "      <th>N+</th>\n",
       "      <th>N-</th>\n",
       "      <th>log_N+</th>\n",
       "    </tr>\n",
       "  </thead>\n",
       "  <tbody>\n",
       "    <tr>\n",
       "      <th>da3579c6</th>\n",
       "      <td>0</td>\n",
       "      <td>3</td>\n",
       "      <td>3.0</td>\n",
       "      <td>0.000000</td>\n",
       "      <td>1.000000</td>\n",
       "      <td>0.000000</td>\n",
       "    </tr>\n",
       "    <tr>\n",
       "      <th>c9c05240</th>\n",
       "      <td>0</td>\n",
       "      <td>3</td>\n",
       "      <td>3.0</td>\n",
       "      <td>0.000000</td>\n",
       "      <td>1.000000</td>\n",
       "      <td>0.000000</td>\n",
       "    </tr>\n",
       "    <tr>\n",
       "      <th>227d6c97</th>\n",
       "      <td>0</td>\n",
       "      <td>3</td>\n",
       "      <td>3.0</td>\n",
       "      <td>0.000000</td>\n",
       "      <td>1.000000</td>\n",
       "      <td>0.000000</td>\n",
       "    </tr>\n",
       "    <tr>\n",
       "      <th>104811b5</th>\n",
       "      <td>0</td>\n",
       "      <td>3</td>\n",
       "      <td>3.0</td>\n",
       "      <td>0.000000</td>\n",
       "      <td>1.000000</td>\n",
       "      <td>0.000000</td>\n",
       "    </tr>\n",
       "    <tr>\n",
       "      <th>minor</th>\n",
       "      <td>134</td>\n",
       "      <td>961</td>\n",
       "      <td>1095.0</td>\n",
       "      <td>0.122374</td>\n",
       "      <td>0.877626</td>\n",
       "      <td>0.139438</td>\n",
       "    </tr>\n",
       "  </tbody>\n",
       "</table>\n",
       "</div>"
      ],
      "text/plain": [
       "         clicks no_clicks  total_clicks        N+        N-    log_N+\n",
       "da3579c6      0         3           3.0  0.000000  1.000000  0.000000\n",
       "c9c05240      0         3           3.0  0.000000  1.000000  0.000000\n",
       "227d6c97      0         3           3.0  0.000000  1.000000  0.000000\n",
       "104811b5      0         3           3.0  0.000000  1.000000  0.000000\n",
       "minor       134       961        1095.0  0.122374  0.877626  0.139438"
      ]
     },
     "execution_count": 138,
     "metadata": {},
     "output_type": "execute_result"
    }
   ],
   "source": [
    "#pd.concat([ad_counts_device[ad_counts_device['total_clicks']>2], [\"minor\",min_clicks,min_no_clicks,min_total,min_N_ad,min_N_mi,min_log]])\n",
    "pd.concat([ad_counts_device[ad_counts_device['total_clicks']>2], minor_df])[-5:]"
   ]
  },
  {
   "cell_type": "code",
   "execution_count": null,
   "metadata": {},
   "outputs": [],
   "source": []
  },
  {
   "cell_type": "code",
   "execution_count": null,
   "metadata": {},
   "outputs": [],
   "source": []
  },
  {
   "cell_type": "code",
   "execution_count": null,
   "metadata": {},
   "outputs": [],
   "source": []
  },
  {
   "cell_type": "code",
   "execution_count": null,
   "metadata": {},
   "outputs": [],
   "source": []
  }
 ],
 "metadata": {
  "kernelspec": {
   "display_name": "Python 3",
   "language": "python",
   "name": "python3"
  },
  "language_info": {
   "codemirror_mode": {
    "name": "ipython",
    "version": 3
   },
   "file_extension": ".py",
   "mimetype": "text/x-python",
   "name": "python",
   "nbconvert_exporter": "python",
   "pygments_lexer": "ipython3",
   "version": "3.7.3"
  }
 },
 "nbformat": 4,
 "nbformat_minor": 2
}
