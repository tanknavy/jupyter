{
 "cells": [
  {
   "cell_type": "code",
   "execution_count": 74,
   "metadata": {},
   "outputs": [],
   "source": [
    "'''\n",
    "__author__ = 'Alex Cheng'\n",
    "向前逐步回归\n",
    "红酒打分\n",
    "'''\n",
    "import numpy as np\n",
    "import pandas as pd\n",
    "import matplotlib.pyplot as plt\n",
    "from sklearn import datasets,linear_model\n",
    "from math import sqrt"
   ]
  },
  {
   "cell_type": "code",
   "execution_count": 75,
   "metadata": {},
   "outputs": [
    {
     "data": {
      "text/html": [
       "<div>\n",
       "<style scoped>\n",
       "    .dataframe tbody tr th:only-of-type {\n",
       "        vertical-align: middle;\n",
       "    }\n",
       "\n",
       "    .dataframe tbody tr th {\n",
       "        vertical-align: top;\n",
       "    }\n",
       "\n",
       "    .dataframe thead th {\n",
       "        text-align: right;\n",
       "    }\n",
       "</style>\n",
       "<table border=\"1\" class=\"dataframe\">\n",
       "  <thead>\n",
       "    <tr style=\"text-align: right;\">\n",
       "      <th></th>\n",
       "      <th>fixed acidity</th>\n",
       "      <th>volatile acidity</th>\n",
       "      <th>citric acid</th>\n",
       "      <th>residual sugar</th>\n",
       "      <th>chlorides</th>\n",
       "      <th>free sulfur dioxide</th>\n",
       "      <th>total sulfur dioxide</th>\n",
       "      <th>density</th>\n",
       "      <th>pH</th>\n",
       "      <th>sulphates</th>\n",
       "      <th>alcohol</th>\n",
       "      <th>quality</th>\n",
       "    </tr>\n",
       "  </thead>\n",
       "  <tbody>\n",
       "    <tr>\n",
       "      <th>0</th>\n",
       "      <td>7.4</td>\n",
       "      <td>0.70</td>\n",
       "      <td>0.00</td>\n",
       "      <td>1.9</td>\n",
       "      <td>0.076</td>\n",
       "      <td>11.0</td>\n",
       "      <td>34.0</td>\n",
       "      <td>0.9978</td>\n",
       "      <td>3.51</td>\n",
       "      <td>0.56</td>\n",
       "      <td>9.4</td>\n",
       "      <td>5</td>\n",
       "    </tr>\n",
       "    <tr>\n",
       "      <th>1</th>\n",
       "      <td>7.8</td>\n",
       "      <td>0.88</td>\n",
       "      <td>0.00</td>\n",
       "      <td>2.6</td>\n",
       "      <td>0.098</td>\n",
       "      <td>25.0</td>\n",
       "      <td>67.0</td>\n",
       "      <td>0.9968</td>\n",
       "      <td>3.20</td>\n",
       "      <td>0.68</td>\n",
       "      <td>9.8</td>\n",
       "      <td>5</td>\n",
       "    </tr>\n",
       "    <tr>\n",
       "      <th>2</th>\n",
       "      <td>7.8</td>\n",
       "      <td>0.76</td>\n",
       "      <td>0.04</td>\n",
       "      <td>2.3</td>\n",
       "      <td>0.092</td>\n",
       "      <td>15.0</td>\n",
       "      <td>54.0</td>\n",
       "      <td>0.9970</td>\n",
       "      <td>3.26</td>\n",
       "      <td>0.65</td>\n",
       "      <td>9.8</td>\n",
       "      <td>5</td>\n",
       "    </tr>\n",
       "    <tr>\n",
       "      <th>3</th>\n",
       "      <td>11.2</td>\n",
       "      <td>0.28</td>\n",
       "      <td>0.56</td>\n",
       "      <td>1.9</td>\n",
       "      <td>0.075</td>\n",
       "      <td>17.0</td>\n",
       "      <td>60.0</td>\n",
       "      <td>0.9980</td>\n",
       "      <td>3.16</td>\n",
       "      <td>0.58</td>\n",
       "      <td>9.8</td>\n",
       "      <td>6</td>\n",
       "    </tr>\n",
       "    <tr>\n",
       "      <th>4</th>\n",
       "      <td>7.4</td>\n",
       "      <td>0.70</td>\n",
       "      <td>0.00</td>\n",
       "      <td>1.9</td>\n",
       "      <td>0.076</td>\n",
       "      <td>11.0</td>\n",
       "      <td>34.0</td>\n",
       "      <td>0.9978</td>\n",
       "      <td>3.51</td>\n",
       "      <td>0.56</td>\n",
       "      <td>9.4</td>\n",
       "      <td>5</td>\n",
       "    </tr>\n",
       "  </tbody>\n",
       "</table>\n",
       "</div>"
      ],
      "text/plain": [
       "   fixed acidity  volatile acidity  citric acid  residual sugar  chlorides  \\\n",
       "0            7.4              0.70         0.00             1.9      0.076   \n",
       "1            7.8              0.88         0.00             2.6      0.098   \n",
       "2            7.8              0.76         0.04             2.3      0.092   \n",
       "3           11.2              0.28         0.56             1.9      0.075   \n",
       "4            7.4              0.70         0.00             1.9      0.076   \n",
       "\n",
       "   free sulfur dioxide  total sulfur dioxide  density    pH  sulphates  \\\n",
       "0                 11.0                  34.0   0.9978  3.51       0.56   \n",
       "1                 25.0                  67.0   0.9968  3.20       0.68   \n",
       "2                 15.0                  54.0   0.9970  3.26       0.65   \n",
       "3                 17.0                  60.0   0.9980  3.16       0.58   \n",
       "4                 11.0                  34.0   0.9978  3.51       0.56   \n",
       "\n",
       "   alcohol  quality  \n",
       "0      9.4        5  \n",
       "1      9.8        5  \n",
       "2      9.8        5  \n",
       "3      9.8        6  \n",
       "4      9.4        5  "
      ]
     },
     "execution_count": 75,
     "metadata": {},
     "output_type": "execute_result"
    }
   ],
   "source": [
    "target_url3 = (\"http://archive.ics.uci.edu/ml/machine-learning-databases/\"\n",
    "\"wine-quality/winequality-red.csv\")\n",
    "df = pd.read_csv(target_url3,header=0,sep=\";\")\n",
    "df.head()"
   ]
  },
  {
   "cell_type": "code",
   "execution_count": 76,
   "metadata": {},
   "outputs": [],
   "source": [
    "def xattrSelect(x,idxSet):\n",
    "    # x as matrix(list of list) returns subset containing columns in idxSet\n",
    "    xOut = []\n",
    "    for row in x:\n",
    "        xOut.append([row[i] for i in idxSet])\n",
    "    return (xOut) \n",
    "    "
   ]
  },
  {
   "cell_type": "code",
   "execution_count": 83,
   "metadata": {},
   "outputs": [],
   "source": [
    "labels = [i for i in df.iloc[:,-1]] # 最后一列就是label\n",
    "\n",
    "# 将属性矩阵和标签向量2/3训练，1/3测试\n",
    "indices = len(df) # len表示df有多少行\n",
    "df.iloc[:,-1].value_counts() # M:111, R:97\n",
    "xTrain = np.array(df[df.index % 3 != 0].iloc[:,:-1]) # dataframe转为numpy数组\n",
    "#yTrain = np.array(df[df.index % 3 != 0].iloc[:,-1])\n",
    "yTrain = np.array([labels[i] for i in df.index if i%3 !=0])\n",
    "xTest =  np.array(df[df.index % 3 == 0].iloc[:,:-1])\n",
    "yTest = np.array([labels[i] for i in df.index if i%3 ==0])"
   ]
  },
  {
   "cell_type": "code",
   "execution_count": 84,
   "metadata": {},
   "outputs": [
    {
     "name": "stdout",
     "output_type": "stream",
     "text": [
      "[0.7234259255116278, 0.6860993152837196, 0.6734365033420278, 0.6677033213897796, 0.6622558568522273, 0.6590004754154626, 0.6572717206143076, 0.6570905806207697, 0.656999309644614, 0.6575818940043472, 0.6573909869011337]\n",
      "\n",
      " [10, 1, 9, 4, 6, 8, 5, 3, 2, 7, 0]\n",
      "\n",
      " ['alcohol', 'volatile acidity', 'sulphates', 'chlorides', 'total sulfur dioxide', 'pH', 'free sulfur dioxide', 'residual sugar', 'citric acid', 'density', 'fixed acidity']\n"
     ]
    }
   ],
   "source": [
    "# 一次添加一个属性，从0开始\n",
    "attributeList = []\n",
    "index = range(len(xTrain[1])) \n",
    "indexSet = set(index) # 总的属性\n",
    "indexSeq = []\n",
    "oosError = []\n",
    "\n",
    "for i in index:\n",
    "    attSet = set(attributeList) #已有的属性集\n",
    "    attTrySet = indexSet - attSet # 未用的属性集合\n",
    "    attTry = [ii for ii in attTrySet]\n",
    "    errorList = []\n",
    "    attTemp = []\n",
    "    # 尝试每一个之前没有用到的属性\n",
    "    for iTry in attTry:\n",
    "        attTemp = [] + attributeList\n",
    "        attTemp.append(iTry)\n",
    "        # 使用attTemp组成训练集和测试集\n",
    "        xTrainTemp = xattrSelect(xTrain,attTemp)\n",
    "        xTestTemp = xattrSelect(xTest,attTemp)\n",
    "        #yTrainTemp = yTrain\n",
    "        #yTestTemp = yTest\n",
    "        \n",
    "        # scikit linear regression\n",
    "        wineModel = linear_model.LinearRegression()\n",
    "        wineModel.fit(xTrainTemp,yTrain)\n",
    "        testPred = wineModel.predict(xTestTemp)\n",
    "        rmsError = np.linalg.norm((yTest - testPred),2) / sqrt(len(yTest)) # 2阶norm就是平方和再开方\n",
    "        errorList.append(rmsError)\n",
    "        attTemp = []\n",
    "        \n",
    "    iBest = np.argmin(errorList) # 对应最小错误的属性的位置\n",
    "    attributeList.append(attTry[iBest]) # 拿到对应的属性编号\n",
    "    oosError.append(errorList[iBest]) # 每种数量属性组合的最小值\n",
    " \n",
    "print(oosError)\n",
    "print(\"\\n\",attributeList)\n",
    "namesList = [df.columns[i] for i in attributeList]\n",
    "print(\"\\n\",namesList)\n",
    "    \n",
    "     \n",
    "#for i in index:"
   ]
  },
  {
   "cell_type": "code",
   "execution_count": 85,
   "metadata": {},
   "outputs": [
    {
     "data": {
      "image/png": "[encoded data removed]",
      "text/plain": [
       "<Figure size 432x288 with 1 Axes>"
      ]
     },
     "metadata": {
      "needs_background": "light"
     },
     "output_type": "display_data"
    }
   ],
   "source": [
    "# plot error vs number of attributes\n",
    "x = range(len(oosError))\n",
    "plt.plot(x,oosError,'k')\n",
    "plt.xlabel('number of Attributes')\n",
    "plt.ylabel('Error(RMS)')\n",
    "plt.show()"
   ]
  },
  {
   "cell_type": "code",
   "execution_count": 86,
   "metadata": {},
   "outputs": [
    {
     "data": {
      "image/png": "[encoded data removed]",
      "text/plain": [
       "<Figure size 432x288 with 1 Axes>"
      ]
     },
     "metadata": {
      "needs_background": "light"
     },
     "output_type": "display_data"
    }
   ],
   "source": [
    "# histogram of out-sample errors for best number of attributes\n",
    "indexBest = oosError.index(min(oosError)) # list最小值对应索引位置\n",
    "attributeBest = attributeList[:(indexBest + 1)]\n",
    "\n",
    "#  定义column-wise 子集 \n",
    "xTrainTemp = xattrSelect(xTrain,attributeBest)\n",
    "xTestTemp = xattrSelect(xTest,attributeBest)\n",
    "# train and plot error histogram\n",
    "wineModel = linear_model.LinearRegression()\n",
    "wineModel.fit(xTrainTemp,yTrain)\n",
    "errorVector = yTest - wineModel.predict(xTestTemp) #错误分布 hisogram直方图\n",
    "#print(errorVector)\n",
    "plt.hist(errorVector) # 错误分布直方图\n",
    "plt.xlabel(\"Bin Boundaries\")\n",
    "plt.ylabel(\"Counts\")\n",
    "plt.show()"
   ]
  },
  {
   "cell_type": "code",
   "execution_count": 87,
   "metadata": {},
   "outputs": [
    {
     "data": {
      "image/png": "[encoded data removed]",
      "text/plain": [
       "<Figure size 432x288 with 1 Axes>"
      ]
     },
     "metadata": {
      "needs_background": "light"
     },
     "output_type": "display_data"
    }
   ],
   "source": [
    "# scatter plot of actucl vs predicted\n",
    "plt.scatter(wineModel.predict(xTestTemp),yTest,s=100,alpha=0.5) # size散点大小\n",
    "plt.xlabel(\"Predicted Taste Score\")\n",
    "plt.ylabel(\"Actual Taste Score\")\n",
    "plt.show()"
   ]
  },
  {
   "cell_type": "code",
   "execution_count": null,
   "metadata": {},
   "outputs": [],
   "source": []
  },
  {
   "cell_type": "code",
   "execution_count": 88,
   "metadata": {},
   "outputs": [
    {
     "data": {
      "text/plain": [
       "Index(['fixed acidity', 'volatile acidity', 'citric acid', 'residual sugar',\n",
       "       'chlorides', 'free sulfur dioxide', 'total sulfur dioxide', 'density',\n",
       "       'pH', 'sulphates', 'alcohol', 'quality'],\n",
       "      dtype='object')"
      ]
     },
     "execution_count": 88,
     "metadata": {},
     "output_type": "execute_result"
    }
   ],
   "source": [
    "df.columns"
   ]
  },
  {
   "cell_type": "code",
   "execution_count": null,
   "metadata": {},
   "outputs": [],
   "source": []
  },
  {
   "cell_type": "code",
   "execution_count": null,
   "metadata": {},
   "outputs": [],
   "source": []
  },
  {
   "cell_type": "code",
   "execution_count": null,
   "metadata": {},
   "outputs": [],
   "source": []
  }
 ],
 "metadata": {
  "kernelspec": {
   "display_name": "Python 3",
   "language": "python",
   "name": "python3"
  },
  "language_info": {
   "codemirror_mode": {
    "name": "ipython",
    "version": 3
   },
   "file_extension": ".py",
   "mimetype": "text/x-python",
   "name": "python",
   "nbconvert_exporter": "python",
   "pygments_lexer": "ipython3",
   "version": "3.7.3"
  }
 },
 "nbformat": 4,
 "nbformat_minor": 2
}
