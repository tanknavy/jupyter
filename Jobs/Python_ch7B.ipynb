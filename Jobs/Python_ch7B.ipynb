{
 "cells": [
  {
   "cell_type": "code",
   "execution_count": 3,
   "metadata": {},
   "outputs": [],
   "source": [
    "'''\n",
    "__author__ = 'Alex Cheng'\n",
    "Python集成方法工具包解决回归问题\n",
    "ensemble.\n",
    "'''\n",
    "import numpy as np\n",
    "import pandas as pd\n",
    "import matplotlib.pyplot as plt\n",
    "\n",
    "#from sklearn.cross_validation import train_test_split\n",
    "from sklearn.model_selection import train_test_split\n",
    "from sklearn import ensemble\n",
    "from sklearn import datasets,linear_model\n",
    "from sklearn.tree import DecisionTreeRegressor\n",
    "from sklearn.metrics import roc_curve,auc,roc_auc_score,mean_squared_error\n",
    "from math import sqrt\n",
    "import random"
   ]
  },
  {
   "cell_type": "code",
   "execution_count": 4,
   "metadata": {},
   "outputs": [
    {
     "data": {
      "text/html": [
       "<div>\n",
       "<style scoped>\n",
       "    .dataframe tbody tr th:only-of-type {\n",
       "        vertical-align: middle;\n",
       "    }\n",
       "\n",
       "    .dataframe tbody tr th {\n",
       "        vertical-align: top;\n",
       "    }\n",
       "\n",
       "    .dataframe thead th {\n",
       "        text-align: right;\n",
       "    }\n",
       "</style>\n",
       "<table border=\"1\" class=\"dataframe\">\n",
       "  <thead>\n",
       "    <tr style=\"text-align: right;\">\n",
       "      <th></th>\n",
       "      <th>fixed acidity</th>\n",
       "      <th>volatile acidity</th>\n",
       "      <th>citric acid</th>\n",
       "      <th>residual sugar</th>\n",
       "      <th>chlorides</th>\n",
       "      <th>free sulfur dioxide</th>\n",
       "      <th>total sulfur dioxide</th>\n",
       "      <th>density</th>\n",
       "      <th>pH</th>\n",
       "      <th>sulphates</th>\n",
       "      <th>alcohol</th>\n",
       "      <th>quality</th>\n",
       "    </tr>\n",
       "  </thead>\n",
       "  <tbody>\n",
       "    <tr>\n",
       "      <th>0</th>\n",
       "      <td>7.4</td>\n",
       "      <td>0.70</td>\n",
       "      <td>0.00</td>\n",
       "      <td>1.9</td>\n",
       "      <td>0.076</td>\n",
       "      <td>11.0</td>\n",
       "      <td>34.0</td>\n",
       "      <td>0.9978</td>\n",
       "      <td>3.51</td>\n",
       "      <td>0.56</td>\n",
       "      <td>9.4</td>\n",
       "      <td>5</td>\n",
       "    </tr>\n",
       "    <tr>\n",
       "      <th>1</th>\n",
       "      <td>7.8</td>\n",
       "      <td>0.88</td>\n",
       "      <td>0.00</td>\n",
       "      <td>2.6</td>\n",
       "      <td>0.098</td>\n",
       "      <td>25.0</td>\n",
       "      <td>67.0</td>\n",
       "      <td>0.9968</td>\n",
       "      <td>3.20</td>\n",
       "      <td>0.68</td>\n",
       "      <td>9.8</td>\n",
       "      <td>5</td>\n",
       "    </tr>\n",
       "    <tr>\n",
       "      <th>2</th>\n",
       "      <td>7.8</td>\n",
       "      <td>0.76</td>\n",
       "      <td>0.04</td>\n",
       "      <td>2.3</td>\n",
       "      <td>0.092</td>\n",
       "      <td>15.0</td>\n",
       "      <td>54.0</td>\n",
       "      <td>0.9970</td>\n",
       "      <td>3.26</td>\n",
       "      <td>0.65</td>\n",
       "      <td>9.8</td>\n",
       "      <td>5</td>\n",
       "    </tr>\n",
       "    <tr>\n",
       "      <th>3</th>\n",
       "      <td>11.2</td>\n",
       "      <td>0.28</td>\n",
       "      <td>0.56</td>\n",
       "      <td>1.9</td>\n",
       "      <td>0.075</td>\n",
       "      <td>17.0</td>\n",
       "      <td>60.0</td>\n",
       "      <td>0.9980</td>\n",
       "      <td>3.16</td>\n",
       "      <td>0.58</td>\n",
       "      <td>9.8</td>\n",
       "      <td>6</td>\n",
       "    </tr>\n",
       "    <tr>\n",
       "      <th>4</th>\n",
       "      <td>7.4</td>\n",
       "      <td>0.70</td>\n",
       "      <td>0.00</td>\n",
       "      <td>1.9</td>\n",
       "      <td>0.076</td>\n",
       "      <td>11.0</td>\n",
       "      <td>34.0</td>\n",
       "      <td>0.9978</td>\n",
       "      <td>3.51</td>\n",
       "      <td>0.56</td>\n",
       "      <td>9.4</td>\n",
       "      <td>5</td>\n",
       "    </tr>\n",
       "  </tbody>\n",
       "</table>\n",
       "</div>"
      ],
      "text/plain": [
       "   fixed acidity  volatile acidity  citric acid  residual sugar  chlorides  \\\n",
       "0            7.4              0.70         0.00             1.9      0.076   \n",
       "1            7.8              0.88         0.00             2.6      0.098   \n",
       "2            7.8              0.76         0.04             2.3      0.092   \n",
       "3           11.2              0.28         0.56             1.9      0.075   \n",
       "4            7.4              0.70         0.00             1.9      0.076   \n",
       "\n",
       "   free sulfur dioxide  total sulfur dioxide  density    pH  sulphates  \\\n",
       "0                 11.0                  34.0   0.9978  3.51       0.56   \n",
       "1                 25.0                  67.0   0.9968  3.20       0.68   \n",
       "2                 15.0                  54.0   0.9970  3.26       0.65   \n",
       "3                 17.0                  60.0   0.9980  3.16       0.58   \n",
       "4                 11.0                  34.0   0.9978  3.51       0.56   \n",
       "\n",
       "   alcohol  quality  \n",
       "0      9.4        5  \n",
       "1      9.8        5  \n",
       "2      9.8        5  \n",
       "3      9.8        6  \n",
       "4      9.4        5  "
      ]
     },
     "execution_count": 4,
     "metadata": {},
     "output_type": "execute_result"
    }
   ],
   "source": [
    "target_url = (\"http://archive.ics.uci.edu/ml/machine-learning-databases/\"\n",
    "\"wine-quality/winequality-red.csv\")\n",
    "df = pd.read_csv(target_url,header=0,sep=\";\")\n",
    "df.head()"
   ]
  },
  {
   "cell_type": "code",
   "execution_count": 9,
   "metadata": {},
   "outputs": [
    {
     "data": {
      "text/plain": [
       "GradientBoostingRegressor(alpha=0.9, criterion='friedman_mse', init=None,\n",
       "                          learning_rate=0.01, loss='ls', max_depth=7,\n",
       "                          max_features=None, max_leaf_nodes=None,\n",
       "                          min_impurity_decrease=0.0, min_impurity_split=None,\n",
       "                          min_samples_leaf=1, min_samples_split=2,\n",
       "                          min_weight_fraction_leaf=0.0, n_estimators=200,\n",
       "                          n_iter_no_change=None, presort='auto',\n",
       "                          random_state=None, subsample=0.5, tol=0.0001,\n",
       "                          validation_fraction=0.1, verbose=0, warm_start=False)"
      ]
     },
     "execution_count": 9,
     "metadata": {},
     "output_type": "execute_result"
    }
   ],
   "source": [
    "# 原始数组\n",
    "xList  = np.array(df.iloc[:,:-1]) # 属性数组\n",
    "labels = [i for i in df.iloc[:,-1]] # 最后一列就是label\n",
    "names = df.columns\n",
    "\n",
    "# RandomForest 要求数据为np.array格式\n",
    "x = np.array(df.iloc[:,:-1])\n",
    "y = np.array(labels)\n",
    "wineNames = np.array(names)\n",
    "\n",
    "# 正则化columns in x and labels\n",
    "nrows = len(xList)\n",
    "ncols = len(xList[0])\n",
    "\n",
    "# model_selection\n",
    "xTrain,xTest,yTrain,yTest = train_test_split(x,y,test_size=0.30,random_state=828)\n",
    "\n",
    "# 训练Gradient Boosting model 最小化均方误差\n",
    "nEst = 200\n",
    "depth = 7\n",
    "learnRate = 0.01\n",
    "subSamp = 0.5\n",
    "\n",
    "wineGB = ensemble.GradientBoostingRegressor(n_estimators=nEst,max_depth=depth,\n",
    "            learning_rate=learnRate,subsample=subSamp,loss='ls')\n",
    "wineGB.fit(xTrain,yTrain)"
   ]
  },
  {
   "cell_type": "code",
   "execution_count": 40,
   "metadata": {},
   "outputs": [
    {
     "name": "stdout",
     "output_type": "stream",
     "text": [
      "The index of min error:  198\n",
      "Min MSE with Boosting treeDepth 7 maxTree 200 : 0.3428074251941915\n"
     ]
    },
    {
     "data": {
      "image/png": "[encoded data removed]",
      "text/plain": [
       "<Figure size 432x288 with 1 Axes>"
      ]
     },
     "metadata": {
      "needs_background": "light"
     },
     "output_type": "display_data"
    }
   ],
   "source": [
    "# 计算测试集的mse\n",
    "mse = []\n",
    "# staged_predict根据梯度提升法生成一些列模型，然后根据模型产生一系列的预测值，\n",
    "# 每次都会利用梯度提升法在已产生的一系列模型中增加一个决策树，然后产生一个预测值\n",
    "# 回归: staged_predict, 分类：staged_decision_fundtion\n",
    "pred = wineGB.staged_predict(xTest)\n",
    "for p in pred:\n",
    "    mse.append(mean_squared_error(yTest,p))\n",
    "#print(len(mse))\n",
    "#print(\"min MSE: \", min(mse))\n",
    "print(\"The index of min error: \",mse.index(min(mse)))\n",
    "print('Min MSE with Boosting treeDepth',treeDepth,'maxTree',numTreeMax, \":\", min(mse))\n",
    "\n",
    "# 训练集的错误 vs 树的数量\n",
    "plt.figure()\n",
    "plt.plot(range(1,nEst+1), wineGB.train_score_, label='Traing set MSE')\n",
    "plt.plot(range(1,nEst+1), mse,                 label='Test set MSE')\n",
    "plt.legend(loc='upper right')\n",
    "plt.xlabel(\"number of trees in ensemble\")\n",
    "plt.ylabel('mean squared error')\n",
    "plt.show()\n"
   ]
  },
  {
   "cell_type": "code",
   "execution_count": 28,
   "metadata": {},
   "outputs": [
    {
     "data": {
      "image/png": "[encoded data removed]",
      "text/plain": [
       "<Figure size 432x288 with 1 Axes>"
      ]
     },
     "metadata": {
      "needs_background": "light"
     },
     "output_type": "display_data"
    }
   ],
   "source": [
    "# 特征重要性\n",
    "featImportance = wineGB.feature_importances_\n",
    "featImportance = featImportance / featImportance.max()\n",
    "idxSorted = np.argsort(featImportance)\n",
    "barPos = np.arange(idxSorted.shape[0]) + .5\n",
    "plt.barh(barPos,featImportance[idxSorted], align='center') # 水平柱状图\n",
    "plt.yticks(barPos, wineNames[idxSorted])\n",
    "plt.xlabel('variable importance')\n",
    "plt.subplots_adjust(left=0.2,right=0.9,top=0.9,bottom=0.1)\n",
    "plt.show()\n"
   ]
  },
  {
   "cell_type": "code",
   "execution_count": 45,
   "metadata": {},
   "outputs": [
    {
     "name": "stdout",
     "output_type": "stream",
     "text": [
      "100\n",
      "The index of min error:  96\n",
      "Min MSE with Bagging treeDepth 7 maxTree 100 : 0.3546925169928963\n"
     ]
    },
    {
     "data": {
      "image/png": "[encoded data removed]",
      "text/plain": [
       "<Figure size 432x288 with 1 Axes>"
      ]
     },
     "metadata": {
      "needs_background": "light"
     },
     "output_type": "display_data"
    }
   ],
   "source": [
    "# Bagging模型和上面的Boosting对比\n",
    "numTreeMax = 100\n",
    "treeDepth = 7\n",
    "modelList = []\n",
    "predList = []\n",
    "\n",
    "nBagSamples = int(len(xTrain) * .5)\n",
    "\n",
    "# bootstrap抽样的决策树模型\n",
    "for iTree in range(numTreeMax):\n",
    "    idxBag = []\n",
    "    # 每次不同的采样,以下是没有放回的\n",
    "    #idxBag = random.sample(range(len(xTrain)),range(nBagSamples))\n",
    "    # Bag是有放回的, 所以random.chioce\n",
    "    for i in range(nBagSamples):\n",
    "        idxBag.append(random.choice(range(len(xTrain))))\n",
    "    \n",
    "    xSample = [xTrain[i] for i in idxBag]\n",
    "    ySample = [yTrain[i] for i in idxBag]\n",
    "    modelList.append(DecisionTreeRegressor(max_depth=treeDepth))\n",
    "    modelList[-1].fit(xSample,ySample)\n",
    "    \n",
    "    latestPred = modelList[-1].predict(xTest) # 每个模型的预知\n",
    "    predList.append(list(latestPred))\n",
    "print(len(predList))\n",
    "\n",
    "# 前n个决策树模型的累计\n",
    "allPred = []\n",
    "mse = []\n",
    "for iModel in range(len(modelList)): # 注意，不要有0棵树的\n",
    "    modelPred = []\n",
    "    for iTest in range(len(xTest)):\n",
    "        pred = sum([predList[i][iTest] for i in range(iModel+1 )]) / (iModel + 1) # 前iModel个树，对第iTest个测试数据的预测平均值\n",
    "        modelPred.append(pred)\n",
    "    allPred.append(modelPred)\n",
    "    #print(len(allPred),len(allPred[0]))\n",
    "    \n",
    "    # 检查错误\n",
    "    errors = [allPred[iModel][j] - yTest[j] for j in range(len(xTest))]\n",
    "    mse.append(sum([e * e for e in errors]) / len(yTest))\n",
    "print(\"The index of min error: \",mse.index(min(mse)))\n",
    "\n",
    "nModels = [i+1 for i in range(len(modelList))]\n",
    "plt.plot(nModels,mse)\n",
    "plt.axis('tight')\n",
    "plt.xlabel('number of Bagging Tree Models in Ensemble')\n",
    "plt.ylabel('Mean Squared Error')\n",
    "#plt.ylim(0.0,max(mse))\n",
    "print('Min MSE with Bagging treeDepth',treeDepth,'maxTree',numTreeMax, \":\", min(mse))\n",
    "plt.show() \n"
   ]
  },
  {
   "cell_type": "code",
   "execution_count": null,
   "metadata": {},
   "outputs": [],
   "source": []
  }
 ],
 "metadata": {
  "kernelspec": {
   "display_name": "Python 3",
   "language": "python",
   "name": "python3"
  },
  "language_info": {
   "codemirror_mode": {
    "name": "ipython",
    "version": 3
   },
   "file_extension": ".py",
   "mimetype": "text/x-python",
   "name": "python",
   "nbconvert_exporter": "python",
   "pygments_lexer": "ipython3",
   "version": "3.7.3"
  }
 },
 "nbformat": 4,
 "nbformat_minor": 2
}
