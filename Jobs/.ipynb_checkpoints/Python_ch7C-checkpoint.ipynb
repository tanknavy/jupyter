{
 "cells": [
  {
   "cell_type": "code",
   "execution_count": 1,
   "metadata": {},
   "outputs": [],
   "source": [
    "'''\n",
    "__author__ = 'Alex Cheng'\n",
    "Python集成方法工具包解决回归问题,引入非数值属性\n",
    "ensemble\n",
    "对于鲍鱼年龄预测，看到随机森林和梯度提升都没有显著的差异，\n",
    "无论梯度提升法采用决策树还是随机森林作为基学习期（改变max_features大小）\n",
    "'''\n",
    "import numpy as np\n",
    "import pandas as pd\n",
    "import matplotlib.pyplot as plt\n",
    "\n",
    "#from sklearn.cross_validation import train_test_split\n",
    "from sklearn.model_selection import train_test_split\n",
    "from sklearn import ensemble\n",
    "from sklearn import datasets,linear_model\n",
    "from sklearn.tree import DecisionTreeRegressor\n",
    "from sklearn.metrics import roc_curve,auc,roc_auc_score,mean_squared_error\n",
    "from math import sqrt\n",
    "import random"
   ]
  },
  {
   "cell_type": "code",
   "execution_count": 2,
   "metadata": {},
   "outputs": [],
   "source": [
    "target_url2 = (\"http://archive.ics.uci.edu/ml/machine-learning-databases/\"\n",
    "\"abalone/abalone.data\")\n",
    "df = pd.read_csv(target_url2,header=None,prefix=\"V\")\n",
    "df.columns = ['Sex','Length','Diameter','Heigth','Whole weight',\n",
    "              'Shucked weight','Viscera weight','Shell weight','Rings']"
   ]
  },
  {
   "cell_type": "code",
   "execution_count": 4,
   "metadata": {},
   "outputs": [
    {
     "data": {
      "text/html": [
       "<div>\n",
       "<style scoped>\n",
       "    .dataframe tbody tr th:only-of-type {\n",
       "        vertical-align: middle;\n",
       "    }\n",
       "\n",
       "    .dataframe tbody tr th {\n",
       "        vertical-align: top;\n",
       "    }\n",
       "\n",
       "    .dataframe thead th {\n",
       "        text-align: right;\n",
       "    }\n",
       "</style>\n",
       "<table border=\"1\" class=\"dataframe\">\n",
       "  <thead>\n",
       "    <tr style=\"text-align: right;\">\n",
       "      <th></th>\n",
       "      <th>Sex</th>\n",
       "      <th>Length</th>\n",
       "      <th>Diameter</th>\n",
       "      <th>Heigth</th>\n",
       "      <th>Whole weight</th>\n",
       "      <th>Shucked weight</th>\n",
       "      <th>Viscera weight</th>\n",
       "      <th>Shell weight</th>\n",
       "      <th>Rings</th>\n",
       "    </tr>\n",
       "  </thead>\n",
       "  <tbody>\n",
       "    <tr>\n",
       "      <th>0</th>\n",
       "      <td>M</td>\n",
       "      <td>0.455</td>\n",
       "      <td>0.365</td>\n",
       "      <td>0.095</td>\n",
       "      <td>0.5140</td>\n",
       "      <td>0.2245</td>\n",
       "      <td>0.1010</td>\n",
       "      <td>0.150</td>\n",
       "      <td>15</td>\n",
       "    </tr>\n",
       "    <tr>\n",
       "      <th>1</th>\n",
       "      <td>M</td>\n",
       "      <td>0.350</td>\n",
       "      <td>0.265</td>\n",
       "      <td>0.090</td>\n",
       "      <td>0.2255</td>\n",
       "      <td>0.0995</td>\n",
       "      <td>0.0485</td>\n",
       "      <td>0.070</td>\n",
       "      <td>7</td>\n",
       "    </tr>\n",
       "    <tr>\n",
       "      <th>2</th>\n",
       "      <td>F</td>\n",
       "      <td>0.530</td>\n",
       "      <td>0.420</td>\n",
       "      <td>0.135</td>\n",
       "      <td>0.6770</td>\n",
       "      <td>0.2565</td>\n",
       "      <td>0.1415</td>\n",
       "      <td>0.210</td>\n",
       "      <td>9</td>\n",
       "    </tr>\n",
       "    <tr>\n",
       "      <th>3</th>\n",
       "      <td>M</td>\n",
       "      <td>0.440</td>\n",
       "      <td>0.365</td>\n",
       "      <td>0.125</td>\n",
       "      <td>0.5160</td>\n",
       "      <td>0.2155</td>\n",
       "      <td>0.1140</td>\n",
       "      <td>0.155</td>\n",
       "      <td>10</td>\n",
       "    </tr>\n",
       "    <tr>\n",
       "      <th>4</th>\n",
       "      <td>I</td>\n",
       "      <td>0.330</td>\n",
       "      <td>0.255</td>\n",
       "      <td>0.080</td>\n",
       "      <td>0.2050</td>\n",
       "      <td>0.0895</td>\n",
       "      <td>0.0395</td>\n",
       "      <td>0.055</td>\n",
       "      <td>7</td>\n",
       "    </tr>\n",
       "  </tbody>\n",
       "</table>\n",
       "</div>"
      ],
      "text/plain": [
       "  Sex  Length  Diameter  Heigth  Whole weight  Shucked weight  Viscera weight  \\\n",
       "0   M   0.455     0.365   0.095        0.5140          0.2245          0.1010   \n",
       "1   M   0.350     0.265   0.090        0.2255          0.0995          0.0485   \n",
       "2   F   0.530     0.420   0.135        0.6770          0.2565          0.1415   \n",
       "3   M   0.440     0.365   0.125        0.5160          0.2155          0.1140   \n",
       "4   I   0.330     0.255   0.080        0.2050          0.0895          0.0395   \n",
       "\n",
       "   Shell weight  Rings  \n",
       "0         0.150     15  \n",
       "1         0.070      7  \n",
       "2         0.210      9  \n",
       "3         0.155     10  \n",
       "4         0.055      7  "
      ]
     },
     "execution_count": 4,
     "metadata": {},
     "output_type": "execute_result"
    }
   ],
   "source": [
    "df.head()"
   ]
  },
  {
   "cell_type": "code",
   "execution_count": 18,
   "metadata": {},
   "outputs": [
    {
     "data": {
      "text/plain": [
       "['Sex1',\n",
       " 'Sex2',\n",
       " 'Length',\n",
       " 'Diameter',\n",
       " 'Heigth',\n",
       " 'Whole weight',\n",
       " 'Shucked weight',\n",
       " 'Viscera weight',\n",
       " 'Shell weight',\n",
       " 'Rings']"
      ]
     },
     "execution_count": 18,
     "metadata": {},
     "output_type": "execute_result"
    }
   ],
   "source": [
    "# 原始数组\n",
    "xList  = np.array(df.iloc[:,:-1]) # 属性数组\n",
    "labels = [i for i in df.iloc[:,-1]] # 最后一列就是label\n",
    "names = df.columns\n",
    "\n",
    "# 将sex属性装换为数值型\n",
    "xCoded = []\n",
    "for row in xList:\n",
    "    codedSex = [0.0,0.0] # 对应三种性别属性，还有未知\n",
    "    if row[0] == 'M': codedSex[0] = 1.0\n",
    "    if row[0] == 'F': codedSex[1] = 1.0\n",
    "    \n",
    "    numRow = [float(row[i]) for i in range(1,len(row))] # 其他值转换成float\n",
    "    rowCoded = list(codedSex) + numRow # 合并性别one-hot编码和其他属性\n",
    "    xCoded.append(rowCoded) \n",
    "    # 不包含标签\n",
    "    namesCoded = ['Sex1','Sex2'] + list(df.columns[1:-1])\n",
    "    # 包含标签\n",
    "    namesCoded = ['Sex1','Sex2'] + list(df.columns[1:])\n",
    " \n",
    "nrows = len(xCoded)\n",
    "ncols = len(xCoded[0])\n",
    "namesCoded\n",
    "#print(xCoded[0])"
   ]
  },
  {
   "cell_type": "code",
   "execution_count": 8,
   "metadata": {},
   "outputs": [],
   "source": [
    "# 要求数据为np.array格式\n",
    "x = np.array(xCoded)\n",
    "y = np.array(labels)\n",
    "abaloneNames = np.array(namesCoded)\n",
    "\n",
    "# model_selection\n",
    "xTrain,xTest,yTrain,yTest = train_test_split(x,y,test_size=0.30,random_state=828)"
   ]
  },
  {
   "cell_type": "code",
   "execution_count": 42,
   "metadata": {},
   "outputs": [
    {
     "name": "stderr",
     "output_type": "stream",
     "text": [
      "No handles with labels found to put in legend.\n"
     ]
    },
    {
     "name": "stdout",
     "output_type": "stream",
     "text": [
      "The index of min error:  37\n",
      "Min MSE with RF treeDepth None maxTree 490 : 5.163437403935524\n"
     ]
    },
    {
     "data": {
      "image/png": "[encoded data removed]",
      "text/plain": [
       "<Figure size 432x288 with 1 Axes>"
      ]
     },
     "metadata": {
      "needs_background": "light"
     },
     "output_type": "display_data"
    }
   ],
   "source": [
    "mse = []\n",
    "nTreeList = range(50,500,10)\n",
    "for iTree in nTreeList:\n",
    "    depth = None\n",
    "    maxFeat = 4\n",
    "    # 随机森林\n",
    "    abaloneRF = ensemble.RandomForestRegressor(n_estimators=iTree,\n",
    "                 max_depth=depth,max_features=maxFeat,oob_score=False,random_state=828)\n",
    "    \n",
    "    abaloneRF.fit(xTrain,yTrain)\n",
    "    \n",
    "    # 累计mse 在测试集\n",
    "    pred = abaloneRF.predict(xTest)\n",
    "    mse.append(mean_squared_error(yTest,pred))\n",
    "\n",
    "\n",
    "print(\"The index of min error: \",mse.index(min(mse)))\n",
    "print('Min MSE with RF treeDepth',depth,'maxTree',max(nTreeList), \":\", min(mse))\n",
    "\n",
    "# 训练集的错误 vs 树的数量\n",
    "plt.figure()\n",
    "plt.plot(nTreeList,mse)\n",
    "plt.legend(loc='upper right')\n",
    "plt.xlabel(\"number of trees in ensemble\")\n",
    "plt.ylabel('mean squared error')\n",
    "plt.show()\n"
   ]
  },
  {
   "cell_type": "code",
   "execution_count": 41,
   "metadata": {},
   "outputs": [
    {
     "data": {
      "image/png": "[encoded data removed]",
      "text/plain": [
       "<Figure size 432x288 with 1 Axes>"
      ]
     },
     "metadata": {
      "needs_background": "light"
     },
     "output_type": "display_data"
    }
   ],
   "source": [
    "# 特征重要性\n",
    "featImportance = abaloneRF.feature_importances_\n",
    "featImportance = featImportance / featImportance.max()\n",
    "#print(len(featImportance))\n",
    "idxSorted = np.argsort(featImportance)\n",
    "barPos = np.arange(idxSorted.shape[0]) + .5\n",
    "plt.barh(barPos,featImportance[idxSorted], align='center') # 水平柱状图\n",
    "plt.yticks(barPos, abaloneNames[idxSorted]) # np.array的数组可以[]取值\n",
    "plt.xlabel('variable importance')\n",
    "plt.subplots_adjust(left=0.2,right=0.9,top=0.9,bottom=0.1)\n",
    "plt.show()\n"
   ]
  },
  {
   "cell_type": "code",
   "execution_count": 48,
   "metadata": {},
   "outputs": [
    {
     "name": "stdout",
     "output_type": "stream",
     "text": [
      "The index of min error:  3769\n",
      "Min MSE with RF treeDepth 5 maxTree 490 : 5.040036895115388\n"
     ]
    },
    {
     "data": {
      "image/png": "[encoded data removed]",
      "text/plain": [
       "<Figure size 432x288 with 1 Axes>"
      ]
     },
     "metadata": {
      "needs_background": "light"
     },
     "output_type": "display_data"
    }
   ],
   "source": [
    "# 梯度提升回归\n",
    "nEst = 2000\n",
    "depth =  5\n",
    "learnRate = 0.005\n",
    "maxFeat = 3\n",
    "subsamp = 0.5\n",
    "\n",
    "\n",
    "abaloneGB = ensemble.GradientBoostingRegressor(n_estimators=nEst,max_depth=depth,\n",
    "                learning_rate=learnRate,max_features=maxFeat,subsample=subsamp,loss='ls')\n",
    "    \n",
    "abaloneGB.fit(xTrain,yTrain)\n",
    "    \n",
    "# 梯度提升自带staged迭代属性\n",
    "#pred = abaloneGB.staged_decision_function(xTest)\n",
    "mse2 = []\n",
    "pred = abaloneGB.staged_predict(xTest)\n",
    "for p in pred:\n",
    "    mse2.append(mean_squared_error(yTest,p))\n",
    "\n",
    "print(\"The index of min error: \",mse.index(min(mse)))\n",
    "print('Min MSE with RF treeDepth',depth,'maxTree',max(nTreeList), \":\", min(mse))\n",
    "\n",
    "# 训练集的错误 vs 树的数量\n",
    "plt.figure()\n",
    "plt.plot(range(1,nEst+1), abaloneGB.train_score_, label='Training set MSE,linestyle=\":\"')\n",
    "plt.legend(loc='upper right')\n",
    "plt.xlabel(\"number of trees in ensemble\")\n",
    "plt.ylabel('mean squared error')\n",
    "plt.show()\n"
   ]
  },
  {
   "cell_type": "code",
   "execution_count": 47,
   "metadata": {},
   "outputs": [
    {
     "data": {
      "image/png": "[encoded data removed]",
      "text/plain": [
       "<Figure size 432x288 with 1 Axes>"
      ]
     },
     "metadata": {
      "needs_background": "light"
     },
     "output_type": "display_data"
    }
   ],
   "source": [
    "# 特征重要性\n",
    "featImportance = abaloneGB.feature_importances_\n",
    "featImportance = featImportance / featImportance.max()\n",
    "#print(len(featImportance))\n",
    "idxSorted = np.argsort(featImportance)\n",
    "barPos = np.arange(idxSorted.shape[0]) + .5\n",
    "plt.barh(barPos,featImportance[idxSorted], align='center') # 水平柱状图\n",
    "plt.yticks(barPos, abaloneNames[idxSorted]) # np.array的数组可以[]取值\n",
    "plt.xlabel('variable importance')\n",
    "plt.subplots_adjust(left=0.2,right=0.9,top=0.9,bottom=0.1)\n",
    "plt.show()"
   ]
  },
  {
   "cell_type": "code",
   "execution_count": null,
   "metadata": {},
   "outputs": [],
   "source": []
  },
  {
   "cell_type": "code",
   "execution_count": null,
   "metadata": {},
   "outputs": [],
   "source": []
  },
  {
   "cell_type": "code",
   "execution_count": null,
   "metadata": {},
   "outputs": [],
   "source": []
  }
 ],
 "metadata": {
  "kernelspec": {
   "display_name": "Python 3",
   "language": "python",
   "name": "python3"
  },
  "language_info": {
   "codemirror_mode": {
    "name": "ipython",
    "version": 3
   },
   "file_extension": ".py",
   "mimetype": "text/x-python",
   "name": "python",
   "nbconvert_exporter": "python",
   "pygments_lexer": "ipython3",
   "version": "3.7.3"
  }
 },
 "nbformat": 4,
 "nbformat_minor": 2
}
