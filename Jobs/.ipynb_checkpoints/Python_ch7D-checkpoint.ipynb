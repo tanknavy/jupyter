{
 "cells": [
  {
   "cell_type": "code",
   "execution_count": 1,
   "metadata": {},
   "outputs": [],
   "source": [
    "'''\n",
    "__author__ = 'Alex Cheng'\n",
    "Python集成方法工具包解决分类问题：随机森林 处理水雷二分类问题\n",
    "ensemble: RandomForestClassifier,\n",
    "回归：分割点质量是有平方误差和（mse）\n",
    "分类：误分类指标，ROC曲线，误分类率\n",
    "predict,predic_proba,predict_log_proba\n",
    "\n",
    "\n",
    "'''\n",
    "import numpy as np\n",
    "import pandas as pd\n",
    "import matplotlib.pyplot as plt\n",
    "\n",
    "#from sklearn.cross_validation import train_test_split\n",
    "from sklearn.model_selection import train_test_split\n",
    "from sklearn import ensemble\n",
    "from sklearn import datasets,linear_model\n",
    "from sklearn.tree import DecisionTreeRegressor\n",
    "from sklearn.metrics import roc_curve,auc,roc_auc_score,mean_squared_error\n",
    "from math import sqrt\n",
    "import random"
   ]
  },
  {
   "cell_type": "code",
   "execution_count": 2,
   "metadata": {},
   "outputs": [
    {
     "data": {
      "text/html": [
       "<div>\n",
       "<style scoped>\n",
       "    .dataframe tbody tr th:only-of-type {\n",
       "        vertical-align: middle;\n",
       "    }\n",
       "\n",
       "    .dataframe tbody tr th {\n",
       "        vertical-align: top;\n",
       "    }\n",
       "\n",
       "    .dataframe thead th {\n",
       "        text-align: right;\n",
       "    }\n",
       "</style>\n",
       "<table border=\"1\" class=\"dataframe\">\n",
       "  <thead>\n",
       "    <tr style=\"text-align: right;\">\n",
       "      <th></th>\n",
       "      <th>V0</th>\n",
       "      <th>V1</th>\n",
       "      <th>V2</th>\n",
       "      <th>V3</th>\n",
       "      <th>V4</th>\n",
       "      <th>V5</th>\n",
       "      <th>V6</th>\n",
       "      <th>V7</th>\n",
       "      <th>V8</th>\n",
       "      <th>V9</th>\n",
       "      <th>...</th>\n",
       "      <th>V51</th>\n",
       "      <th>V52</th>\n",
       "      <th>V53</th>\n",
       "      <th>V54</th>\n",
       "      <th>V55</th>\n",
       "      <th>V56</th>\n",
       "      <th>V57</th>\n",
       "      <th>V58</th>\n",
       "      <th>V59</th>\n",
       "      <th>V60</th>\n",
       "    </tr>\n",
       "  </thead>\n",
       "  <tbody>\n",
       "    <tr>\n",
       "      <th>0</th>\n",
       "      <td>0.0200</td>\n",
       "      <td>0.0371</td>\n",
       "      <td>0.0428</td>\n",
       "      <td>0.0207</td>\n",
       "      <td>0.0954</td>\n",
       "      <td>0.0986</td>\n",
       "      <td>0.1539</td>\n",
       "      <td>0.1601</td>\n",
       "      <td>0.3109</td>\n",
       "      <td>0.2111</td>\n",
       "      <td>...</td>\n",
       "      <td>0.0027</td>\n",
       "      <td>0.0065</td>\n",
       "      <td>0.0159</td>\n",
       "      <td>0.0072</td>\n",
       "      <td>0.0167</td>\n",
       "      <td>0.0180</td>\n",
       "      <td>0.0084</td>\n",
       "      <td>0.0090</td>\n",
       "      <td>0.0032</td>\n",
       "      <td>R</td>\n",
       "    </tr>\n",
       "    <tr>\n",
       "      <th>1</th>\n",
       "      <td>0.0453</td>\n",
       "      <td>0.0523</td>\n",
       "      <td>0.0843</td>\n",
       "      <td>0.0689</td>\n",
       "      <td>0.1183</td>\n",
       "      <td>0.2583</td>\n",
       "      <td>0.2156</td>\n",
       "      <td>0.3481</td>\n",
       "      <td>0.3337</td>\n",
       "      <td>0.2872</td>\n",
       "      <td>...</td>\n",
       "      <td>0.0084</td>\n",
       "      <td>0.0089</td>\n",
       "      <td>0.0048</td>\n",
       "      <td>0.0094</td>\n",
       "      <td>0.0191</td>\n",
       "      <td>0.0140</td>\n",
       "      <td>0.0049</td>\n",
       "      <td>0.0052</td>\n",
       "      <td>0.0044</td>\n",
       "      <td>R</td>\n",
       "    </tr>\n",
       "    <tr>\n",
       "      <th>2</th>\n",
       "      <td>0.0262</td>\n",
       "      <td>0.0582</td>\n",
       "      <td>0.1099</td>\n",
       "      <td>0.1083</td>\n",
       "      <td>0.0974</td>\n",
       "      <td>0.2280</td>\n",
       "      <td>0.2431</td>\n",
       "      <td>0.3771</td>\n",
       "      <td>0.5598</td>\n",
       "      <td>0.6194</td>\n",
       "      <td>...</td>\n",
       "      <td>0.0232</td>\n",
       "      <td>0.0166</td>\n",
       "      <td>0.0095</td>\n",
       "      <td>0.0180</td>\n",
       "      <td>0.0244</td>\n",
       "      <td>0.0316</td>\n",
       "      <td>0.0164</td>\n",
       "      <td>0.0095</td>\n",
       "      <td>0.0078</td>\n",
       "      <td>R</td>\n",
       "    </tr>\n",
       "    <tr>\n",
       "      <th>3</th>\n",
       "      <td>0.0100</td>\n",
       "      <td>0.0171</td>\n",
       "      <td>0.0623</td>\n",
       "      <td>0.0205</td>\n",
       "      <td>0.0205</td>\n",
       "      <td>0.0368</td>\n",
       "      <td>0.1098</td>\n",
       "      <td>0.1276</td>\n",
       "      <td>0.0598</td>\n",
       "      <td>0.1264</td>\n",
       "      <td>...</td>\n",
       "      <td>0.0121</td>\n",
       "      <td>0.0036</td>\n",
       "      <td>0.0150</td>\n",
       "      <td>0.0085</td>\n",
       "      <td>0.0073</td>\n",
       "      <td>0.0050</td>\n",
       "      <td>0.0044</td>\n",
       "      <td>0.0040</td>\n",
       "      <td>0.0117</td>\n",
       "      <td>R</td>\n",
       "    </tr>\n",
       "    <tr>\n",
       "      <th>4</th>\n",
       "      <td>0.0762</td>\n",
       "      <td>0.0666</td>\n",
       "      <td>0.0481</td>\n",
       "      <td>0.0394</td>\n",
       "      <td>0.0590</td>\n",
       "      <td>0.0649</td>\n",
       "      <td>0.1209</td>\n",
       "      <td>0.2467</td>\n",
       "      <td>0.3564</td>\n",
       "      <td>0.4459</td>\n",
       "      <td>...</td>\n",
       "      <td>0.0031</td>\n",
       "      <td>0.0054</td>\n",
       "      <td>0.0105</td>\n",
       "      <td>0.0110</td>\n",
       "      <td>0.0015</td>\n",
       "      <td>0.0072</td>\n",
       "      <td>0.0048</td>\n",
       "      <td>0.0107</td>\n",
       "      <td>0.0094</td>\n",
       "      <td>R</td>\n",
       "    </tr>\n",
       "  </tbody>\n",
       "</table>\n",
       "<p>5 rows × 61 columns</p>\n",
       "</div>"
      ],
      "text/plain": [
       "       V0      V1      V2      V3      V4      V5      V6      V7      V8  \\\n",
       "0  0.0200  0.0371  0.0428  0.0207  0.0954  0.0986  0.1539  0.1601  0.3109   \n",
       "1  0.0453  0.0523  0.0843  0.0689  0.1183  0.2583  0.2156  0.3481  0.3337   \n",
       "2  0.0262  0.0582  0.1099  0.1083  0.0974  0.2280  0.2431  0.3771  0.5598   \n",
       "3  0.0100  0.0171  0.0623  0.0205  0.0205  0.0368  0.1098  0.1276  0.0598   \n",
       "4  0.0762  0.0666  0.0481  0.0394  0.0590  0.0649  0.1209  0.2467  0.3564   \n",
       "\n",
       "       V9  ...     V51     V52     V53     V54     V55     V56     V57  \\\n",
       "0  0.2111  ...  0.0027  0.0065  0.0159  0.0072  0.0167  0.0180  0.0084   \n",
       "1  0.2872  ...  0.0084  0.0089  0.0048  0.0094  0.0191  0.0140  0.0049   \n",
       "2  0.6194  ...  0.0232  0.0166  0.0095  0.0180  0.0244  0.0316  0.0164   \n",
       "3  0.1264  ...  0.0121  0.0036  0.0150  0.0085  0.0073  0.0050  0.0044   \n",
       "4  0.4459  ...  0.0031  0.0054  0.0105  0.0110  0.0015  0.0072  0.0048   \n",
       "\n",
       "      V58     V59  V60  \n",
       "0  0.0090  0.0032    R  \n",
       "1  0.0052  0.0044    R  \n",
       "2  0.0095  0.0078    R  \n",
       "3  0.0040  0.0117    R  \n",
       "4  0.0107  0.0094    R  \n",
       "\n",
       "[5 rows x 61 columns]"
      ]
     },
     "execution_count": 2,
     "metadata": {},
     "output_type": "execute_result"
    }
   ],
   "source": [
    "path = 'd:/input/jobs/'\n",
    "target_url = (\"http://archive.ics.uci.edu/ml/machine-learning-databases/\"\n",
    "             \"undocumented/connectionist-bench/sonar/sonar.all-data\")\n",
    "df = pd.read_csv(target_url,header=None,prefix=\"V\")\n",
    "df.head()"
   ]
  },
  {
   "cell_type": "code",
   "execution_count": 17,
   "metadata": {},
   "outputs": [],
   "source": [
    "# 原始数组\n",
    "xList  = np.array(df.iloc[:,:-1]) # 属性数组\n",
    "#labels = [i for i in df.iloc[:,-1]] # 最后一列就是label\n",
    "\n",
    "labels = []\n",
    "for label in df.iloc[:,-1]: # 分类问题，标签数值化\n",
    "    if(label == 'M'): # 对df迭代时是案列的\n",
    "        labels.append(1.0)\n",
    "    else:\n",
    "        labels.append(0.0)\n",
    "\n",
    "names = df.columns\n",
    "\n",
    "\n",
    "# 正则化columns in x and labels\n",
    "nrows = len(xList)\n",
    "ncols = len(xList[0])\n",
    "\n",
    "# RandomForest 要求数据为np.array格式\n",
    "x = np.array(xList)\n",
    "y = np.array(labels)\n",
    "names = np.array(df.columns)\n",
    "\n",
    "# model_selection\n",
    "xTrain,xTest,yTrain,yTest = train_test_split(x,y,test_size=0.30,random_state=828)"
   ]
  },
  {
   "cell_type": "code",
   "execution_count": 19,
   "metadata": {},
   "outputs": [
    {
     "name": "stdout",
     "output_type": "stream",
     "text": [
      "[1. 1. 1. 0. 0.]\n"
     ]
    }
   ],
   "source": [
    "print(yTest[:5])"
   ]
  },
  {
   "cell_type": "code",
   "execution_count": 22,
   "metadata": {},
   "outputs": [
    {
     "name": "stderr",
     "output_type": "stream",
     "text": [
      "No handles with labels found to put in legend.\n"
     ]
    },
    {
     "name": "stdout",
     "output_type": "stream",
     "text": [
      "[[0.33384615 0.66615385]\n",
      " [0.15897436 0.84102564]\n",
      " [0.28512821 0.71487179]\n",
      " [0.57846154 0.42153846]\n",
      " [0.4425641  0.5574359 ]]\n",
      "The index of min error:  0\n",
      "max AUC with RF treeDepth None maxTree 1950 : 0.9442190669371197\n"
     ]
    },
    {
     "data": {
      "image/png": "[encoded data removed]",
      "text/plain": [
       "<Figure size 432x288 with 1 Axes>"
      ]
     },
     "metadata": {
      "needs_background": "light"
     },
     "output_type": "display_data"
    }
   ],
   "source": [
    "\n",
    "# 训练Gradient Boosting model 最小化均方误差\n",
    "auc = []\n",
    "nTreeList = range(50,2000,50)\n",
    "for iTree in nTreeList:\n",
    "    depth = None\n",
    "    maxFeat = 8\n",
    "    rockRF = ensemble.RandomForestClassifier(n_estimators=iTree,max_depth=depth,\n",
    "                max_features=maxFeat,oob_score=False,random_state=828)\n",
    "    rockRF.fit(xTrain,yTrain)\n",
    "    \n",
    "    # 累计auc在测试集中\n",
    "    pred = rockRF.predict_proba(xTest) # 分类的概率\n",
    "    #print(pred) # pred = (0.28,0.72)\n",
    "    auc_ = roc_auc_score(yTest,pred[:,1:2]) # 小心取反了,y_score是正例的标签\n",
    "    #print(auc_) # 0.93\n",
    "    auc.append(auc_)\n",
    "print(pred[:5])\n",
    "\n",
    "# 训练接和测试集错误 vs 树的数量\n",
    "print(\"The index of min error: \",auc.index(max(auc))) # 最大AUC\n",
    "print('max AUC with RF treeDepth',depth,'maxTree',max(nTreeList), \":\", max(auc))\n",
    "\n",
    "# 训练集的错误 vs 树的数量\n",
    "plt.figure()\n",
    "plt.plot(nTreeList,auc)\n",
    "plt.legend(loc='upper right')\n",
    "plt.xlabel(\"number of trees in ensemble\")\n",
    "plt.ylabel('Area under ROC curve -AUC')\n",
    "plt.ylim([min(auc),1.1*max(auc)])\n",
    "plt.show()\n",
    "    "
   ]
  },
  {
   "cell_type": "code",
   "execution_count": 16,
   "metadata": {},
   "outputs": [
    {
     "name": "stdout",
     "output_type": "stream",
     "text": [
      "[0.0, 0.0, 0.0, 0.0, 0.0]\n",
      "[[0.33384615 0.66615385]\n",
      " [0.15897436 0.84102564]\n",
      " [0.28512821 0.71487179]\n",
      " [0.57846154 0.42153846]\n",
      " [0.4425641  0.5574359 ]]\n"
     ]
    }
   ],
   "source": [
    "print(labels[:5])\n",
    "print(pred[:5])"
   ]
  },
  {
   "cell_type": "code",
   "execution_count": 44,
   "metadata": {},
   "outputs": [
    {
     "data": {
      "image/png": "[encoded data removed]",
      "text/plain": [
       "<Figure size 432x288 with 1 Axes>"
      ]
     },
     "metadata": {
      "needs_background": "light"
     },
     "output_type": "display_data"
    }
   ],
   "source": [
    "# 特征重要性,top30\n",
    "featImportance = rockRF.feature_importances_\n",
    "featImportance = featImportance / featImportance.max()\n",
    "#print(len(featImportance))\n",
    "idxSorted = np.argsort(featImportance)[40:] # 后面最大60-40个\n",
    "barPos = np.arange(idxSorted.shape[0]) + .5\n",
    "plt.barh(barPos,featImportance[idxSorted], align='center') # 水平柱状图\n",
    "plt.yticks(barPos, names[idxSorted]) # np.array的数组可以[]取值\n",
    "plt.xlabel('variable importance')\n",
    "#plt.subplots_adjust(left=0.2,right=0.9,top=0.9,bottom=0.1)\n",
    "plt.show()"
   ]
  },
  {
   "cell_type": "code",
   "execution_count": 30,
   "metadata": {},
   "outputs": [
    {
     "data": {
      "image/png": "[encoded data removed]",
      "text/plain": [
       "<Figure size 432x288 with 1 Axes>"
      ]
     },
     "metadata": {
      "needs_background": "light"
     },
     "output_type": "display_data"
    }
   ],
   "source": [
    "# 最佳ROC curve\n",
    "fpr,tpr,thresh = roc_curve(yTest,list(pred[:,1:2]))\n",
    "ctClass = [i*0.01 for i in range(101)]\n",
    "\n",
    "plt.plot(ftp,tpr,linewidth=2)\n",
    "plt.plot(ctClass,ctClass,linestyle=':')\n",
    "plt.xlabel('False Postive Rate')\n",
    "plt.ylabel('True Positive Rate')\n",
    "plt.show()"
   ]
  },
  {
   "cell_type": "code",
   "execution_count": 39,
   "metadata": {},
   "outputs": [
    {
     "name": "stdout",
     "output_type": "stream",
     "text": [
      "[0.         0.         0.         0.10344828 0.10344828 0.31034483\n",
      " 0.31034483 0.37931034 0.37931034 0.48275862]\n",
      "[0.         0.02941176 0.79411765 0.79411765 0.88235294 0.88235294\n",
      " 0.91176471 0.91176471 0.94117647 0.94117647]\n",
      "[1.94051282 0.94051282 0.63025641 0.60769231 0.59435897 0.53538462\n",
      " 0.52871795 0.52461538 0.51948718 0.45025641]\n"
     ]
    }
   ],
   "source": [
    "print(fpr[:10])\n",
    "print(tpr[:10])\n",
    "print(thresh[:10])"
   ]
  },
  {
   "cell_type": "code",
   "execution_count": 35,
   "metadata": {},
   "outputs": [
    {
     "name": "stdout",
     "output_type": "stream",
     "text": [
      "confusion matrics for different threshold values\n",
      "\n",
      "Threshold value =  0.6076923076923076\n",
      "TP= 0.42857142857142855 FP= 0.1111111111111111\n",
      "FN= 0.047619047619047616 TN= 0.4126984126984127\n",
      "\n",
      "Threshold value =  0.5246153846153846\n",
      "TP= 0.5238095238095238 FP= 0.015873015873015872\n",
      "FN= 0.2222222222222222 TN= 0.23809523809523808\n",
      "\n",
      "Threshold value =  0.4461538461538462\n",
      "TP= 0.5238095238095238 FP= 0.015873015873015872\n",
      "FN= 0.2222222222222222 TN= 0.23809523809523808\n"
     ]
    }
   ],
   "source": [
    "# 计算confusion matrix, 注意，GBM预测不会再(0,1)范围\n",
    "idx25 = int(len(thresh) * 0.25)\n",
    "idx50 = int(len(thresh) * 0.50)\n",
    "idx75 = int(len(thresh) * 0.75)\n",
    "\n",
    "# \n",
    "totalPts = len(yTest)\n",
    "P = sum(yTest) # 正例数\n",
    "N = totalPts - P\n",
    "print('confusion matrics for different threshold values')\n",
    "# 可以看到 threshold值是递减的\n",
    "\n",
    "#25th\n",
    "TP = tpr[idx25] * P; TF = P - TP;\n",
    "FN = fpr[idx25] * N; TN = N - FN\n",
    "print('')\n",
    "print('Threshold value = ',thresh[idx25])\n",
    "print('TP=',TP/totalPts, 'FP=',TF/totalPts)\n",
    "print('FN=',FN/totalPts, 'TN=',TN/totalPts)\n",
    "\n",
    "#50th\n",
    "TP = tpr[idx75] * P; TF = P - TP;\n",
    "FN = fpr[idx75] * N; TN = N - FN\n",
    "print('')\n",
    "print('Threshold value = ',thresh[idx50])\n",
    "print('TP=',TP/totalPts, 'FP=',TF/totalPts)\n",
    "print('FN=',FN/totalPts, 'TN=',TN/totalPts)\n",
    "\n",
    "#75th\n",
    "TP = tpr[idx75] * P; TF = P - TP;\n",
    "FN = fpr[idx75] * N; TN = N - FN\n",
    "print('')\n",
    "print('Threshold value = ',thresh[idx75])\n",
    "print('TP=',TP/totalPts, 'FP=',TF/totalPts)\n",
    "print('FN=',FN/totalPts, 'TN=',TN/totalPts)\n"
   ]
  },
  {
   "cell_type": "code",
   "execution_count": 27,
   "metadata": {},
   "outputs": [
    {
     "name": "stdout",
     "output_type": "stream",
     "text": [
      "3 7 10\n"
     ]
    }
   ],
   "source": [
    "print(ixd25,ixd50,ixd75)"
   ]
  },
  {
   "cell_type": "code",
   "execution_count": null,
   "metadata": {},
   "outputs": [],
   "source": []
  }
 ],
 "metadata": {
  "kernelspec": {
   "display_name": "Python 3",
   "language": "python",
   "name": "python3"
  },
  "language_info": {
   "codemirror_mode": {
    "name": "ipython",
    "version": 3
   },
   "file_extension": ".py",
   "mimetype": "text/x-python",
   "name": "python",
   "nbconvert_exporter": "python",
   "pygments_lexer": "ipython3",
   "version": "3.7.3"
  }
 },
 "nbformat": 4,
 "nbformat_minor": 2
}
