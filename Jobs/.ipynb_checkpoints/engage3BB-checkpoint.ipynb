{
 "cells": [
  {
   "cell_type": "code",
   "execution_count": 1,
   "metadata": {},
   "outputs": [],
   "source": [
    "import numpy as np\n",
    "import pandas as pd\n",
    "import matplotlib.pyplot as plt\n",
    "import seaborn as sns\n",
    "%matplotlib inline"
   ]
  },
  {
   "cell_type": "code",
   "execution_count": 2,
   "metadata": {},
   "outputs": [
    {
     "data": {
      "text/html": [
       "<div>\n",
       "<style scoped>\n",
       "    .dataframe tbody tr th:only-of-type {\n",
       "        vertical-align: middle;\n",
       "    }\n",
       "\n",
       "    .dataframe tbody tr th {\n",
       "        vertical-align: top;\n",
       "    }\n",
       "\n",
       "    .dataframe thead th {\n",
       "        text-align: right;\n",
       "    }\n",
       "</style>\n",
       "<table border=\"1\" class=\"dataframe\">\n",
       "  <thead>\n",
       "    <tr style=\"text-align: right;\">\n",
       "      <th></th>\n",
       "      <th>PRICE_GROUP</th>\n",
       "      <th>UPC</th>\n",
       "      <th>ITEM_DESCRIPTION</th>\n",
       "      <th>SIZE</th>\n",
       "      <th>CATEGORY_LEVEL_01</th>\n",
       "      <th>CATEGORY_LEVEL_02</th>\n",
       "      <th>CATEGORY_LEVEL_03</th>\n",
       "      <th>CATEGORY_LEVEL_04</th>\n",
       "      <th>IN_SERVICE_DATE</th>\n",
       "    </tr>\n",
       "  </thead>\n",
       "  <tbody>\n",
       "    <tr>\n",
       "      <th>0</th>\n",
       "      <td>50089</td>\n",
       "      <td>1329</td>\n",
       "      <td>PRIVATE LABEL PURIFIED WATER 35PK</td>\n",
       "      <td>35/16.9 FO</td>\n",
       "      <td>GROCERY</td>\n",
       "      <td>GROCERY</td>\n",
       "      <td>GROC-ALL OTHER</td>\n",
       "      <td>WATER</td>\n",
       "      <td>2/15/2016</td>\n",
       "    </tr>\n",
       "    <tr>\n",
       "      <th>1</th>\n",
       "      <td>1500</td>\n",
       "      <td>2591</td>\n",
       "      <td>PRIVATE LABEL PURIFIED WATER 24PK</td>\n",
       "      <td>24/16.9 FO</td>\n",
       "      <td>GROCERY</td>\n",
       "      <td>GROCERY</td>\n",
       "      <td>GROC-ALL OTHER</td>\n",
       "      <td>WATER</td>\n",
       "      <td>2/15/2016</td>\n",
       "    </tr>\n",
       "    <tr>\n",
       "      <th>2</th>\n",
       "      <td>27406</td>\n",
       "      <td>4068</td>\n",
       "      <td>ONIONS GREEN BUNCH RPC</td>\n",
       "      <td>1 CT</td>\n",
       "      <td>PRODUCE</td>\n",
       "      <td>FRESH PRODUCE</td>\n",
       "      <td>VEGETABLES</td>\n",
       "      <td>VEGETABLES SALAD</td>\n",
       "      <td>5/7/2016</td>\n",
       "    </tr>\n",
       "    <tr>\n",
       "      <th>3</th>\n",
       "      <td>17302</td>\n",
       "      <td>4077</td>\n",
       "      <td>CORN WHITE IN HUSK BULK</td>\n",
       "      <td>1 RW</td>\n",
       "      <td>PRODUCE</td>\n",
       "      <td>FRESH PRODUCE</td>\n",
       "      <td>VEGETABLES</td>\n",
       "      <td>CORN</td>\n",
       "      <td>5/7/2016</td>\n",
       "    </tr>\n",
       "    <tr>\n",
       "      <th>4</th>\n",
       "      <td>17302</td>\n",
       "      <td>4078</td>\n",
       "      <td>CORN YELLIN HUSK BULK</td>\n",
       "      <td>48 CT</td>\n",
       "      <td>PRODUCE</td>\n",
       "      <td>FRESH PRODUCE</td>\n",
       "      <td>VEGETABLES</td>\n",
       "      <td>CORN</td>\n",
       "      <td>5/7/2016</td>\n",
       "    </tr>\n",
       "  </tbody>\n",
       "</table>\n",
       "</div>"
      ],
      "text/plain": [
       "  PRICE_GROUP   UPC                   ITEM_DESCRIPTION        SIZE  \\\n",
       "0       50089  1329  PRIVATE LABEL PURIFIED WATER 35PK  35/16.9 FO   \n",
       "1        1500  2591  PRIVATE LABEL PURIFIED WATER 24PK  24/16.9 FO   \n",
       "2       27406  4068     ONIONS GREEN BUNCH RPC                1 CT   \n",
       "3       17302  4077     CORN WHITE IN HUSK BULK               1 RW   \n",
       "4       17302  4078        CORN YELLIN HUSK BULK             48 CT   \n",
       "\n",
       "  CATEGORY_LEVEL_01 CATEGORY_LEVEL_02 CATEGORY_LEVEL_03  \\\n",
       "0           GROCERY   GROCERY           GROC-ALL OTHER    \n",
       "1           GROCERY   GROCERY           GROC-ALL OTHER    \n",
       "2           PRODUCE   FRESH PRODUCE     VEGETABLES        \n",
       "3           PRODUCE   FRESH PRODUCE     VEGETABLES        \n",
       "4           PRODUCE   FRESH PRODUCE     VEGETABLES        \n",
       "\n",
       "                CATEGORY_LEVEL_04 IN_SERVICE_DATE  \n",
       "0  WATER                                2/15/2016  \n",
       "1  WATER                                2/15/2016  \n",
       "2  VEGETABLES SALAD                      5/7/2016  \n",
       "3  CORN                                  5/7/2016  \n",
       "4  CORN                                  5/7/2016  "
      ]
     },
     "execution_count": 2,
     "metadata": {},
     "output_type": "execute_result"
    }
   ],
   "source": [
    "PATH = 'E:/Test/'\n",
    "#df = pd.read_csv(PATH + 'item_list1.csv',header=0,skipinitialspace=True)\n",
    "df = pd.read_csv(PATH + 'item_list1.csv',header=0)\n",
    "df.head()"
   ]
  },
  {
   "cell_type": "code",
   "execution_count": 3,
   "metadata": {},
   "outputs": [
    {
     "data": {
      "text/plain": [
       "0"
      ]
     },
     "execution_count": 3,
     "metadata": {},
     "output_type": "execute_result"
    }
   ],
   "source": [
    "#df[df['CATEGORY_LEVEL_03']=='VEGETABLES']\n",
    "sum(df['CATEGORY_LEVEL_03'] == 'HEALTH') # it seems the elevment includes the some spaces"
   ]
  },
  {
   "cell_type": "code",
   "execution_count": 4,
   "metadata": {},
   "outputs": [
    {
     "data": {
      "text/plain": [
       "Index(['PRICE_GROUP', 'UPC', 'ITEM_DESCRIPTION', 'SIZE', 'CATEGORY_LEVEL_01',\n",
       "       'CATEGORY_LEVEL_02', 'CATEGORY_LEVEL_03', 'CATEGORY_LEVEL_04',\n",
       "       'IN_SERVICE_DATE'],\n",
       "      dtype='object')"
      ]
     },
     "execution_count": 4,
     "metadata": {},
     "output_type": "execute_result"
    }
   ],
   "source": [
    "df.columns"
   ]
  },
  {
   "cell_type": "code",
   "execution_count": 5,
   "metadata": {},
   "outputs": [],
   "source": [
    "#cols = ['PRICE_GROUP', 'UPC',  'CATEGORY_LEVEL_01','CATEGORY_LEVEL_02', 'CATEGORY_LEVEL_03', 'CATEGORY_LEVEL_04']\n",
    "cols = [ 'CATEGORY_LEVEL_01','CATEGORY_LEVEL_02', 'CATEGORY_LEVEL_03', 'CATEGORY_LEVEL_04']\n",
    "# remove the leading/trailing whitespace cause we need the element to filter\n",
    "for col in cols:\n",
    "    df[col] = df[col].str.strip() # remove the leading/trailing whitespace "
   ]
  },
  {
   "cell_type": "code",
   "execution_count": 6,
   "metadata": {},
   "outputs": [
    {
     "data": {
      "text/plain": [
       "535"
      ]
     },
     "execution_count": 6,
     "metadata": {},
     "output_type": "execute_result"
    }
   ],
   "source": [
    "#df[df['CATEGORY_LEVEL_03']=='VEGETABLES']\n",
    "sum(df['CATEGORY_LEVEL_03'] == 'HEALTH') # DURG/GM -- GM --HEALTH"
   ]
  },
  {
   "cell_type": "code",
   "execution_count": 7,
   "metadata": {},
   "outputs": [
    {
     "data": {
      "text/plain": [
       "75"
      ]
     },
     "execution_count": 7,
     "metadata": {},
     "output_type": "execute_result"
    }
   ],
   "source": [
    "#sum(df['CATEGORY_LEVEL_03'] == 'LUNCHMEAT')\n",
    "# the LUNCHMEANT not in category_level_03, but in 04: MEAN - PKG MEAT -- PKG MEANT - LUNCHMEAT\n",
    "sum(df['CATEGORY_LEVEL_04'] == 'LUNCHMEAT') "
   ]
  },
  {
   "cell_type": "code",
   "execution_count": 8,
   "metadata": {},
   "outputs": [
    {
     "data": {
      "text/html": [
       "<div>\n",
       "<style scoped>\n",
       "    .dataframe tbody tr th:only-of-type {\n",
       "        vertical-align: middle;\n",
       "    }\n",
       "\n",
       "    .dataframe tbody tr th {\n",
       "        vertical-align: top;\n",
       "    }\n",
       "\n",
       "    .dataframe thead th {\n",
       "        text-align: right;\n",
       "    }\n",
       "</style>\n",
       "<table border=\"1\" class=\"dataframe\">\n",
       "  <thead>\n",
       "    <tr style=\"text-align: right;\">\n",
       "      <th></th>\n",
       "      <th>PRICE_GROUP</th>\n",
       "      <th>UPC</th>\n",
       "      <th>ITEM_DESCRIPTION</th>\n",
       "      <th>SIZE</th>\n",
       "      <th>CATEGORY_LEVEL_01</th>\n",
       "      <th>CATEGORY_LEVEL_02</th>\n",
       "      <th>CATEGORY_LEVEL_03</th>\n",
       "      <th>CATEGORY_LEVEL_04</th>\n",
       "      <th>IN_SERVICE_DATE</th>\n",
       "    </tr>\n",
       "  </thead>\n",
       "  <tbody>\n",
       "    <tr>\n",
       "      <th>14</th>\n",
       "      <td>29327</td>\n",
       "      <td>834612203</td>\n",
       "      <td>SLMFST 321 CHOC ROYAL 4PK</td>\n",
       "      <td>4/11 FO</td>\n",
       "      <td>DRUG/GM</td>\n",
       "      <td>HBC</td>\n",
       "      <td>HEALTH</td>\n",
       "      <td>DIETARY AID PRDCT/MED LIQ NUTR</td>\n",
       "      <td>8/29/2015</td>\n",
       "    </tr>\n",
       "    <tr>\n",
       "      <th>15</th>\n",
       "      <td>29327</td>\n",
       "      <td>834612204</td>\n",
       "      <td>SLMFST 321 MLK CHO SHK4PK</td>\n",
       "      <td>4/11 FO</td>\n",
       "      <td>DRUG/GM</td>\n",
       "      <td>HBC</td>\n",
       "      <td>HEALTH</td>\n",
       "      <td>DIETARY AID PRDCT/MED LIQ NUTR</td>\n",
       "      <td>8/29/2015</td>\n",
       "    </tr>\n",
       "    <tr>\n",
       "      <th>16</th>\n",
       "      <td>29327</td>\n",
       "      <td>834628710</td>\n",
       "      <td>SLMFST RTD MLKCHOC 6PKBNS</td>\n",
       "      <td>6/10 FO</td>\n",
       "      <td>DRUG/GM</td>\n",
       "      <td>HBC</td>\n",
       "      <td>HEALTH</td>\n",
       "      <td>DIETARY AID PRDCT/MED LIQ NUTR</td>\n",
       "      <td>8/29/2015</td>\n",
       "    </tr>\n",
       "    <tr>\n",
       "      <th>17</th>\n",
       "      <td>29327</td>\n",
       "      <td>834628711</td>\n",
       "      <td>SLMFST RTD CHC RYL 6PKBNS</td>\n",
       "      <td>6/10 FO</td>\n",
       "      <td>DRUG/GM</td>\n",
       "      <td>HBC</td>\n",
       "      <td>HEALTH</td>\n",
       "      <td>DIETARY AID PRDCT/MED LIQ NUTR</td>\n",
       "      <td>8/29/2015</td>\n",
       "    </tr>\n",
       "    <tr>\n",
       "      <th>18</th>\n",
       "      <td>29327</td>\n",
       "      <td>834628713</td>\n",
       "      <td>SLMFST RTD CAPPDLG 6PKBNS</td>\n",
       "      <td>6/10 FO</td>\n",
       "      <td>DRUG/GM</td>\n",
       "      <td>HBC</td>\n",
       "      <td>HEALTH</td>\n",
       "      <td>DIETARY AID PRDCT/MED LIQ NUTR</td>\n",
       "      <td>8/29/2015</td>\n",
       "    </tr>\n",
       "  </tbody>\n",
       "</table>\n",
       "</div>"
      ],
      "text/plain": [
       "   PRICE_GROUP        UPC           ITEM_DESCRIPTION     SIZE  \\\n",
       "14       29327  834612203  SLMFST 321 CHOC ROYAL 4PK  4/11 FO   \n",
       "15       29327  834612204  SLMFST 321 MLK CHO SHK4PK  4/11 FO   \n",
       "16       29327  834628710  SLMFST RTD MLKCHOC 6PKBNS  6/10 FO   \n",
       "17       29327  834628711  SLMFST RTD CHC RYL 6PKBNS  6/10 FO   \n",
       "18       29327  834628713  SLMFST RTD CAPPDLG 6PKBNS  6/10 FO   \n",
       "\n",
       "   CATEGORY_LEVEL_01 CATEGORY_LEVEL_02 CATEGORY_LEVEL_03  \\\n",
       "14           DRUG/GM               HBC            HEALTH   \n",
       "15           DRUG/GM               HBC            HEALTH   \n",
       "16           DRUG/GM               HBC            HEALTH   \n",
       "17           DRUG/GM               HBC            HEALTH   \n",
       "18           DRUG/GM               HBC            HEALTH   \n",
       "\n",
       "                 CATEGORY_LEVEL_04 IN_SERVICE_DATE  \n",
       "14  DIETARY AID PRDCT/MED LIQ NUTR       8/29/2015  \n",
       "15  DIETARY AID PRDCT/MED LIQ NUTR       8/29/2015  \n",
       "16  DIETARY AID PRDCT/MED LIQ NUTR       8/29/2015  \n",
       "17  DIETARY AID PRDCT/MED LIQ NUTR       8/29/2015  \n",
       "18  DIETARY AID PRDCT/MED LIQ NUTR       8/29/2015  "
      ]
     },
     "execution_count": 8,
     "metadata": {},
     "output_type": "execute_result"
    }
   ],
   "source": [
    "#df['CATEGORY_LEVEL_03'].value_counts()\n",
    "df[df['CATEGORY_LEVEL_03'] == 'HEALTH'][:5]"
   ]
  },
  {
   "cell_type": "code",
   "execution_count": 9,
   "metadata": {},
   "outputs": [
    {
     "data": {
      "text/html": [
       "<div>\n",
       "<style scoped>\n",
       "    .dataframe tbody tr th:only-of-type {\n",
       "        vertical-align: middle;\n",
       "    }\n",
       "\n",
       "    .dataframe tbody tr th {\n",
       "        vertical-align: top;\n",
       "    }\n",
       "\n",
       "    .dataframe thead th {\n",
       "        text-align: right;\n",
       "    }\n",
       "</style>\n",
       "<table border=\"1\" class=\"dataframe\">\n",
       "  <thead>\n",
       "    <tr style=\"text-align: right;\">\n",
       "      <th></th>\n",
       "      <th>PRICE_GROUP</th>\n",
       "      <th>UPC</th>\n",
       "      <th>ITEM_DESCRIPTION</th>\n",
       "      <th>SIZE</th>\n",
       "      <th>CATEGORY_LEVEL_01</th>\n",
       "      <th>CATEGORY_LEVEL_02</th>\n",
       "      <th>CATEGORY_LEVEL_03</th>\n",
       "      <th>CATEGORY_LEVEL_04</th>\n",
       "      <th>IN_SERVICE_DATE</th>\n",
       "    </tr>\n",
       "  </thead>\n",
       "  <tbody>\n",
       "    <tr>\n",
       "      <th>910</th>\n",
       "      <td>38554</td>\n",
       "      <td>1111008505</td>\n",
       "      <td>PRIVATE LABEL BLACK FOREST HAM</td>\n",
       "      <td>9 OZ</td>\n",
       "      <td>MEAT</td>\n",
       "      <td>PKG MEAT</td>\n",
       "      <td>PKG MEAT</td>\n",
       "      <td>LUNCHMEAT</td>\n",
       "      <td>7/8/2017</td>\n",
       "    </tr>\n",
       "    <tr>\n",
       "      <th>911</th>\n",
       "      <td>38554</td>\n",
       "      <td>1111008506</td>\n",
       "      <td>PRIVATE LABEL HONEY HAM</td>\n",
       "      <td>9 OZ</td>\n",
       "      <td>MEAT</td>\n",
       "      <td>PKG MEAT</td>\n",
       "      <td>PKG MEAT</td>\n",
       "      <td>LUNCHMEAT</td>\n",
       "      <td>7/8/2017</td>\n",
       "    </tr>\n",
       "    <tr>\n",
       "      <th>912</th>\n",
       "      <td>38554</td>\n",
       "      <td>1111008507</td>\n",
       "      <td>PRIVATE LABEL HONEY TURKEY</td>\n",
       "      <td>9 OZ</td>\n",
       "      <td>MEAT</td>\n",
       "      <td>PKG MEAT</td>\n",
       "      <td>PKG MEAT</td>\n",
       "      <td>LUNCHMEAT</td>\n",
       "      <td>7/8/2017</td>\n",
       "    </tr>\n",
       "    <tr>\n",
       "      <th>913</th>\n",
       "      <td>38554</td>\n",
       "      <td>1111008508</td>\n",
       "      <td>PRIVATE LABEL MSQT SMKD TRKY BREAST</td>\n",
       "      <td>9 OZ</td>\n",
       "      <td>MEAT</td>\n",
       "      <td>PKG MEAT</td>\n",
       "      <td>PKG MEAT</td>\n",
       "      <td>LUNCHMEAT</td>\n",
       "      <td>7/8/2017</td>\n",
       "    </tr>\n",
       "    <tr>\n",
       "      <th>914</th>\n",
       "      <td>38554</td>\n",
       "      <td>1111008509</td>\n",
       "      <td>PRIVATE LABEL OVN RSTD TRKY BREAST</td>\n",
       "      <td>9 OZ</td>\n",
       "      <td>MEAT</td>\n",
       "      <td>PKG MEAT</td>\n",
       "      <td>PKG MEAT</td>\n",
       "      <td>LUNCHMEAT</td>\n",
       "      <td>7/8/2017</td>\n",
       "    </tr>\n",
       "  </tbody>\n",
       "</table>\n",
       "</div>"
      ],
      "text/plain": [
       "    PRICE_GROUP         UPC                          ITEM_DESCRIPTION  SIZE  \\\n",
       "910       38554  1111008505  PRIVATE LABEL BLACK FOREST HAM            9 OZ   \n",
       "911       38554  1111008506  PRIVATE LABEL HONEY HAM                   9 OZ   \n",
       "912       38554  1111008507  PRIVATE LABEL HONEY TURKEY                9 OZ   \n",
       "913       38554  1111008508  PRIVATE LABEL MSQT SMKD TRKY BREAST       9 OZ   \n",
       "914       38554  1111008509  PRIVATE LABEL OVN RSTD TRKY BREAST        9 OZ   \n",
       "\n",
       "    CATEGORY_LEVEL_01 CATEGORY_LEVEL_02 CATEGORY_LEVEL_03 CATEGORY_LEVEL_04  \\\n",
       "910              MEAT          PKG MEAT          PKG MEAT         LUNCHMEAT   \n",
       "911              MEAT          PKG MEAT          PKG MEAT         LUNCHMEAT   \n",
       "912              MEAT          PKG MEAT          PKG MEAT         LUNCHMEAT   \n",
       "913              MEAT          PKG MEAT          PKG MEAT         LUNCHMEAT   \n",
       "914              MEAT          PKG MEAT          PKG MEAT         LUNCHMEAT   \n",
       "\n",
       "    IN_SERVICE_DATE  \n",
       "910        7/8/2017  \n",
       "911        7/8/2017  \n",
       "912        7/8/2017  \n",
       "913        7/8/2017  \n",
       "914        7/8/2017  "
      ]
     },
     "execution_count": 9,
     "metadata": {},
     "output_type": "execute_result"
    }
   ],
   "source": [
    "df[df['CATEGORY_LEVEL_04'] == 'LUNCHMEAT'][:5] # LUNCHMEATN出现在4列"
   ]
  },
  {
   "cell_type": "code",
   "execution_count": 12,
   "metadata": {},
   "outputs": [
    {
     "data": {
      "text/plain": [
       "0    2/15/2016\n",
       "1    2/15/2016\n",
       "2     5/7/2016\n",
       "3     5/7/2016\n",
       "4     5/7/2016\n",
       "Name: IN_SERVICE_DATE, dtype: object"
      ]
     },
     "execution_count": 12,
     "metadata": {},
     "output_type": "execute_result"
    }
   ],
   "source": [
    "#df['IN_SERVICE_DATE'].describe()\n",
    "#pd.to_datetime(df['IN_SERVICE_DATE'],format='%m/%d/%Y') # '12/12/205'\n",
    "#df[df['IN_SERVICE_DATE'] == '12/12/205']['IN_SERVICE_DATE'] = '12/12/2015'\n",
    "#pd.to_datetime(df['IN_SERVICE_DATE'],format='%m/%d/%Y')\n",
    "\n",
    "df.loc[df['IN_SERVICE_DATE'] == '12/12/205','IN_SERVICE_DATE'] = '12/12/2015'\n",
    "#  unknown date\n",
    "df.loc[df['IN_SERVICE_DATE'] == 'UNKNOWN','IN_SERVICE_DATE'] = df['IN_SERVICE_DATE'].mode\n",
    "pd.to_datetime(df['IN_SERVICE_DATE'],format='%m/%d/%Y', errors='ignore')[:5]"
   ]
  },
  {
   "cell_type": "code",
   "execution_count": 14,
   "metadata": {},
   "outputs": [],
   "source": [
    "# check if possible to filter the anomalies date like '12/12/205' and 'unknown'\n",
    "df.iloc[0][-1]\n",
    "date  = df.iloc[0][-1] # '2/15/2016'\n",
    "\n",
    "import re\n",
    "x = re.search('^([1-9] |1[0-9]| 2[0-9])(./-)([1-9] |1[0-2])(./-|)20[0-9][0-9]$',date)\n"
   ]
  },
  {
   "cell_type": "code",
   "execution_count": 13,
   "metadata": {},
   "outputs": [
    {
     "data": {
      "text/plain": [
       "CATEGORY_LEVEL_01  CATEGORY_LEVEL_02  CATEGORY_LEVEL_03  CATEGORY_LEVEL_04             \n",
       "DRUG/GM            HBC                HEALTH             ADULT NUTRITION                    14\n",
       "                                                         ANALGESICS                        119\n",
       "                                                         COLD & FLU                         64\n",
       "                                                         DIETARY AID PRDCT/MED LIQ NUTR     32\n",
       "                                                         DIGESTIVE HEALTH                   87\n",
       "                                                         EYE & EAR CARE PRODUCTS            15\n",
       "                                                         FIRST AID PRODUCTS                 48\n",
       "                                                         FOOT CARE PRODUCTS                 10\n",
       "                                                         NF NUTRITION VITAMINS               3\n",
       "                                                         SINUS & ALLERGY                    42\n",
       "                                                         SMOKING CESSATIONS                 45\n",
       "                                                         VITAMIN PRODUCTS                   56\n",
       "MEAT               PKG MEAT           PKG MEAT           LUNCHMEAT                          75\n",
       "Name: UPC, dtype: int64"
      ]
     },
     "execution_count": 13,
     "metadata": {},
     "output_type": "execute_result"
    }
   ],
   "source": [
    "#df[df['CATEGORY_LEVEL_04'] == 'LUNCHMEAT'].index\n",
    "#df[df['CATEGORY_LEVEL_03'] == 'HEALTH'].index\n",
    "#pd.concat(df[df['CATEGORY_LEVEL_04'] == 'LUNCHMEAT'].index , df[df['CATEGORY_LEVEL_03'] == 'HEALTH'].index)\n",
    "\n",
    "# find the index of  rows which  match 'LUNCHMEAT' and 'HEALTH'\n",
    "temp = list(df[df['CATEGORY_LEVEL_04'] == 'LUNCHMEAT'].index) + list(df[df['CATEGORY_LEVEL_03'] == 'HEALTH'].index)\n",
    "\n",
    "# group by and count the items.\n",
    "df.iloc[sorted(temp)][:].groupby(['CATEGORY_LEVEL_01','CATEGORY_LEVEL_02', 'CATEGORY_LEVEL_03', 'CATEGORY_LEVEL_04']).count()['UPC']\n"
   ]
  },
  {
   "cell_type": "code",
   "execution_count": null,
   "metadata": {},
   "outputs": [],
   "source": []
  }
 ],
 "metadata": {
  "kernelspec": {
   "display_name": "Python 3",
   "language": "python",
   "name": "python3"
  },
  "language_info": {
   "codemirror_mode": {
    "name": "ipython",
    "version": 3
   },
   "file_extension": ".py",
   "mimetype": "text/x-python",
   "name": "python",
   "nbconvert_exporter": "python",
   "pygments_lexer": "ipython3",
   "version": "3.7.3"
  }
 },
 "nbformat": 4,
 "nbformat_minor": 2
}
