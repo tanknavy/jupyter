{
 "cells": [
  {
   "cell_type": "code",
   "execution_count": 5,
   "metadata": {},
   "outputs": [],
   "source": [
    "'''\n",
    "__author__ = 'Alex Cheng'\n",
    "ensemble 集成方法：bagging, boosting, RF\n",
    "\n",
    "Baggin算法：bootstrap，每一个样本集训练一个基学习器，回归问题，结果为均值，\n",
    "            分类问题是从不同类别所占的百分比引申出来各种类别的概率和均值\n",
    "\n",
    "bootstrap: 有放回采样\n",
    "\n",
    "'''\n",
    "import numpy as np\n",
    "import pandas as pd\n",
    "import matplotlib.pyplot as plt\n",
    "from sklearn import tree\n",
    "from sklearn import datasets,linear_model\n",
    "from sklearn.tree import DecisionTreeRegressor\n",
    "from sklearn.metrics import roc_curve,auc,roc_auc_score\n",
    "from sklearn.externals.six import StringIO\n",
    "from math import sqrt\n",
    "import random"
   ]
  },
  {
   "cell_type": "code",
   "execution_count": 6,
   "metadata": {},
   "outputs": [
    {
     "name": "stdout",
     "output_type": "stream",
     "text": [
      "1001 1\n"
     ]
    }
   ],
   "source": [
    "# 合成数组的产生\n",
    "n = 1000\n",
    "xt = [(float(i)/float(n) - 0.5) for i in range(n+1)]\n",
    "x = [[s] for s in xt]\n",
    "# y has random noise added to x-value\n",
    "# set seed\n",
    "np.random.seed(1)\n",
    "y = [s + np.random.normal(scale=0.1) for s in xt] # 上市正态分布的噪音(0,1) * 0.1\n",
    "\n",
    "print(len(x),len(x[0]))"
   ]
  },
  {
   "cell_type": "code",
   "execution_count": 7,
   "metadata": {},
   "outputs": [],
   "source": [
    "# 30% 采样\n",
    "nsample = int(n * 0.30)\n",
    "idxTest = random.sample(range(n),nsample) # 随机30%抽取\n",
    "idxTest.sort()\n",
    "idxTrain = [idx for idx in range(n) if not(idx in idxTest)]\n",
    "\n",
    "# 定义测试和训练的属性和列表\n",
    "xTrain = [x[r] for r in idxTrain]\n",
    "xTest  = [x[r] for r in idxTest]\n",
    "yTrain = [y[r] for r in idxTrain]\n",
    "yTest  = [y[r] for r in idxTest] # 列向量"
   ]
  },
  {
   "cell_type": "code",
   "execution_count": null,
   "metadata": {},
   "outputs": [],
   "source": [
    "# 训练一组模型\n",
    "numTreeMax = 20 # 集成方法包括最大决策树的数目\n",
    "treeDepth = 1 # 树的深度\n",
    "modelList = []\n",
    "predList = []\n",
    "\n",
    "nBagSamples = int(len(xTrain) * 0.5) # 多少个样本用于随机抽样\n",
    "\n",
    "for i in range(numTreeMax): # 不同\n",
    "    idxBag = random.sample(range(len(xTrain)), nBagSamples)\n",
    "    xTrainBag = [xTrain[j] for j in idxBag]\n",
    "    yTrainBag = [yTrain[j] for j in idxBag]\n",
    "    \n",
    "    modelList.append(DecisionTreeRegressor(max_depth=treeDepth))\n",
    "    modelList[-1].fit(xTrainBag,yTrainBag)\n",
    "    \n",
    "    latestPred = modelList[-1].predict(xTest)\n",
    "    predList.append(list(latestPred))\n",
    "    \n",
    "    \n",
    "mse = []\n",
    "allPred = []\n",
    "\n",
    "for i in range(len(modelList)):\n",
    "    pass"
   ]
  },
  {
   "cell_type": "code",
   "execution_count": null,
   "metadata": {},
   "outputs": [],
   "source": []
  },
  {
   "cell_type": "code",
   "execution_count": null,
   "metadata": {},
   "outputs": [],
   "source": []
  }
 ],
 "metadata": {
  "kernelspec": {
   "display_name": "Python 3",
   "language": "python",
   "name": "python3"
  },
  "language_info": {
   "codemirror_mode": {
    "name": "ipython",
    "version": 3
   },
   "file_extension": ".py",
   "mimetype": "text/x-python",
   "name": "python",
   "nbconvert_exporter": "python",
   "pygments_lexer": "ipython3",
   "version": "3.7.3"
  }
 },
 "nbformat": 4,
 "nbformat_minor": 2
}
