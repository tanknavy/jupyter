{
 "cells": [
  {
   "cell_type": "code",
   "execution_count": 11,
   "metadata": {},
   "outputs": [],
   "source": [
    "'''\n",
    "__author__ = 'Alex Cheng'\n",
    "惩罚回归系数控制过拟合-岭回归（L2）\n",
    "让系数变小，而不是将其中一些系数设定为0\n",
    "alpha一系列值按照10的倍数递减，通过不同值来控制模型数量\n",
    "'''\n",
    "import numpy as np\n",
    "import pandas as pd\n",
    "import matplotlib.pyplot as plt\n",
    "from sklearn import datasets,linear_model\n",
    "from sklearn.metrics import roc_curve,auc,roc_auc_score\n",
    "from math import sqrt"
   ]
  },
  {
   "cell_type": "code",
   "execution_count": 12,
   "metadata": {},
   "outputs": [
    {
     "data": {
      "text/html": [
       "<div>\n",
       "<style scoped>\n",
       "    .dataframe tbody tr th:only-of-type {\n",
       "        vertical-align: middle;\n",
       "    }\n",
       "\n",
       "    .dataframe tbody tr th {\n",
       "        vertical-align: top;\n",
       "    }\n",
       "\n",
       "    .dataframe thead th {\n",
       "        text-align: right;\n",
       "    }\n",
       "</style>\n",
       "<table border=\"1\" class=\"dataframe\">\n",
       "  <thead>\n",
       "    <tr style=\"text-align: right;\">\n",
       "      <th></th>\n",
       "      <th>V0</th>\n",
       "      <th>V1</th>\n",
       "      <th>V2</th>\n",
       "      <th>V3</th>\n",
       "      <th>V4</th>\n",
       "      <th>V5</th>\n",
       "      <th>V6</th>\n",
       "      <th>V7</th>\n",
       "      <th>V8</th>\n",
       "      <th>V9</th>\n",
       "      <th>...</th>\n",
       "      <th>V51</th>\n",
       "      <th>V52</th>\n",
       "      <th>V53</th>\n",
       "      <th>V54</th>\n",
       "      <th>V55</th>\n",
       "      <th>V56</th>\n",
       "      <th>V57</th>\n",
       "      <th>V58</th>\n",
       "      <th>V59</th>\n",
       "      <th>V60</th>\n",
       "    </tr>\n",
       "  </thead>\n",
       "  <tbody>\n",
       "    <tr>\n",
       "      <th>0</th>\n",
       "      <td>0.0200</td>\n",
       "      <td>0.0371</td>\n",
       "      <td>0.0428</td>\n",
       "      <td>0.0207</td>\n",
       "      <td>0.0954</td>\n",
       "      <td>0.0986</td>\n",
       "      <td>0.1539</td>\n",
       "      <td>0.1601</td>\n",
       "      <td>0.3109</td>\n",
       "      <td>0.2111</td>\n",
       "      <td>...</td>\n",
       "      <td>0.0027</td>\n",
       "      <td>0.0065</td>\n",
       "      <td>0.0159</td>\n",
       "      <td>0.0072</td>\n",
       "      <td>0.0167</td>\n",
       "      <td>0.0180</td>\n",
       "      <td>0.0084</td>\n",
       "      <td>0.0090</td>\n",
       "      <td>0.0032</td>\n",
       "      <td>R</td>\n",
       "    </tr>\n",
       "    <tr>\n",
       "      <th>1</th>\n",
       "      <td>0.0453</td>\n",
       "      <td>0.0523</td>\n",
       "      <td>0.0843</td>\n",
       "      <td>0.0689</td>\n",
       "      <td>0.1183</td>\n",
       "      <td>0.2583</td>\n",
       "      <td>0.2156</td>\n",
       "      <td>0.3481</td>\n",
       "      <td>0.3337</td>\n",
       "      <td>0.2872</td>\n",
       "      <td>...</td>\n",
       "      <td>0.0084</td>\n",
       "      <td>0.0089</td>\n",
       "      <td>0.0048</td>\n",
       "      <td>0.0094</td>\n",
       "      <td>0.0191</td>\n",
       "      <td>0.0140</td>\n",
       "      <td>0.0049</td>\n",
       "      <td>0.0052</td>\n",
       "      <td>0.0044</td>\n",
       "      <td>R</td>\n",
       "    </tr>\n",
       "    <tr>\n",
       "      <th>2</th>\n",
       "      <td>0.0262</td>\n",
       "      <td>0.0582</td>\n",
       "      <td>0.1099</td>\n",
       "      <td>0.1083</td>\n",
       "      <td>0.0974</td>\n",
       "      <td>0.2280</td>\n",
       "      <td>0.2431</td>\n",
       "      <td>0.3771</td>\n",
       "      <td>0.5598</td>\n",
       "      <td>0.6194</td>\n",
       "      <td>...</td>\n",
       "      <td>0.0232</td>\n",
       "      <td>0.0166</td>\n",
       "      <td>0.0095</td>\n",
       "      <td>0.0180</td>\n",
       "      <td>0.0244</td>\n",
       "      <td>0.0316</td>\n",
       "      <td>0.0164</td>\n",
       "      <td>0.0095</td>\n",
       "      <td>0.0078</td>\n",
       "      <td>R</td>\n",
       "    </tr>\n",
       "    <tr>\n",
       "      <th>3</th>\n",
       "      <td>0.0100</td>\n",
       "      <td>0.0171</td>\n",
       "      <td>0.0623</td>\n",
       "      <td>0.0205</td>\n",
       "      <td>0.0205</td>\n",
       "      <td>0.0368</td>\n",
       "      <td>0.1098</td>\n",
       "      <td>0.1276</td>\n",
       "      <td>0.0598</td>\n",
       "      <td>0.1264</td>\n",
       "      <td>...</td>\n",
       "      <td>0.0121</td>\n",
       "      <td>0.0036</td>\n",
       "      <td>0.0150</td>\n",
       "      <td>0.0085</td>\n",
       "      <td>0.0073</td>\n",
       "      <td>0.0050</td>\n",
       "      <td>0.0044</td>\n",
       "      <td>0.0040</td>\n",
       "      <td>0.0117</td>\n",
       "      <td>R</td>\n",
       "    </tr>\n",
       "    <tr>\n",
       "      <th>4</th>\n",
       "      <td>0.0762</td>\n",
       "      <td>0.0666</td>\n",
       "      <td>0.0481</td>\n",
       "      <td>0.0394</td>\n",
       "      <td>0.0590</td>\n",
       "      <td>0.0649</td>\n",
       "      <td>0.1209</td>\n",
       "      <td>0.2467</td>\n",
       "      <td>0.3564</td>\n",
       "      <td>0.4459</td>\n",
       "      <td>...</td>\n",
       "      <td>0.0031</td>\n",
       "      <td>0.0054</td>\n",
       "      <td>0.0105</td>\n",
       "      <td>0.0110</td>\n",
       "      <td>0.0015</td>\n",
       "      <td>0.0072</td>\n",
       "      <td>0.0048</td>\n",
       "      <td>0.0107</td>\n",
       "      <td>0.0094</td>\n",
       "      <td>R</td>\n",
       "    </tr>\n",
       "  </tbody>\n",
       "</table>\n",
       "<p>5 rows × 61 columns</p>\n",
       "</div>"
      ],
      "text/plain": [
       "       V0      V1      V2      V3      V4      V5      V6      V7      V8  \\\n",
       "0  0.0200  0.0371  0.0428  0.0207  0.0954  0.0986  0.1539  0.1601  0.3109   \n",
       "1  0.0453  0.0523  0.0843  0.0689  0.1183  0.2583  0.2156  0.3481  0.3337   \n",
       "2  0.0262  0.0582  0.1099  0.1083  0.0974  0.2280  0.2431  0.3771  0.5598   \n",
       "3  0.0100  0.0171  0.0623  0.0205  0.0205  0.0368  0.1098  0.1276  0.0598   \n",
       "4  0.0762  0.0666  0.0481  0.0394  0.0590  0.0649  0.1209  0.2467  0.3564   \n",
       "\n",
       "       V9  ...     V51     V52     V53     V54     V55     V56     V57  \\\n",
       "0  0.2111  ...  0.0027  0.0065  0.0159  0.0072  0.0167  0.0180  0.0084   \n",
       "1  0.2872  ...  0.0084  0.0089  0.0048  0.0094  0.0191  0.0140  0.0049   \n",
       "2  0.6194  ...  0.0232  0.0166  0.0095  0.0180  0.0244  0.0316  0.0164   \n",
       "3  0.1264  ...  0.0121  0.0036  0.0150  0.0085  0.0073  0.0050  0.0044   \n",
       "4  0.4459  ...  0.0031  0.0054  0.0105  0.0110  0.0015  0.0072  0.0048   \n",
       "\n",
       "      V58     V59  V60  \n",
       "0  0.0090  0.0032    R  \n",
       "1  0.0052  0.0044    R  \n",
       "2  0.0095  0.0078    R  \n",
       "3  0.0040  0.0117    R  \n",
       "4  0.0107  0.0094    R  \n",
       "\n",
       "[5 rows x 61 columns]"
      ]
     },
     "execution_count": 12,
     "metadata": {},
     "output_type": "execute_result"
    }
   ],
   "source": [
    "target_url = (\"http://archive.ics.uci.edu/ml/machine-learning-databases/\"\n",
    "             \"undocumented/connectionist-bench/sonar/sonar.all-data\")\n",
    "df = pd.read_csv(target_url,header=None,sep=\",\",prefix='V')\n",
    "df.head()"
   ]
  },
  {
   "cell_type": "code",
   "execution_count": 13,
   "metadata": {},
   "outputs": [
    {
     "name": "stdout",
     "output_type": "stream",
     "text": [
      "M    111\n",
      "R     97\n",
      "Name: V60, dtype: int64\n"
     ]
    }
   ],
   "source": [
    "xList  = np.array(df.iloc[:,:-1]) # 属性数组\n",
    "labels = []\n",
    "names = df.columns\n",
    "print(df.iloc[:,-1].value_counts()) # M:111, R:97\n",
    "\n",
    " # 二分类值转换为实数\n",
    "for label in df.iloc[:,-1]:\n",
    "    if(label == 'M'):\n",
    "        labels.append(1.0)\n",
    "    else:\n",
    "        labels.append(0.0)\n"
   ]
  },
  {
   "cell_type": "code",
   "execution_count": 14,
   "metadata": {},
   "outputs": [],
   "source": [
    "# 正则化columns in x and labels\n",
    "nrows = len(xList)\n",
    "ncols = len(xList[0])\n",
    "\n",
    "# 计算means and variance\n",
    "xMeans = []\n",
    "xSD = []\n",
    "for i in range(ncols):\n",
    "    col = [xList[j][i] for j in range(nrows)]\n",
    "    mean = sum(col)/nrows\n",
    "    xMeans.append(mean)\n",
    "    colDiff = sum((col - mean) **2)\n",
    "    \n",
    "    colDiff2 = [(xList[j][i] - mean) for j in range(nrows) ]\n",
    "    sumSq = sum([colDiff2[i]  * colDiff2[i] for i in range(nrows)])\n",
    "    stdDev2 = sqrt(sumSq/nrows)\n",
    "    \n",
    "    stdDev = sqrt(colDiff/nrows)\n",
    "    xSD.append(stdDev)\n",
    "#print(xMeans,'\\n',xSD)\n",
    "#print(stdDev == stdDev2) # broadcast广播变量的方式，发现结果一样\n",
    "\n",
    "\n",
    "# 正则化xList\n",
    "xNorm = []\n",
    "for i in range(nrows):\n",
    "    #rowNorm = ([xList[i] - xMeans]) / xSD  #列表不支持\n",
    "    rowNorm = [(xList[i][j] - xMeans[j]) / xSD[j] for j in range(ncols)]\n",
    "    xNorm.append(rowNorm)\n",
    "\n",
    "# 正则化 labels\n",
    "meanLable = sum(labels)/ nrows\n",
    "sdLabel = sqrt(sum([ (labels[i] - meanLable) * (labels[i] - meanLable) for i in range(nrows)]) / nrows)\n",
    "labelNorm = [ (labels[i] - meanLable) / sdLabel for i in range(nrows) ]"
   ]
  },
  {
   "cell_type": "code",
   "execution_count": 49,
   "metadata": {},
   "outputs": [
    {
     "data": {
      "image/png": "[encoded data removed]",
      "text/plain": [
       "<Figure size 432x288 with 1 Axes>"
      ]
     },
     "metadata": {
      "needs_background": "light"
     },
     "output_type": "display_data"
    }
   ],
   "source": [
    "Y = np.array(labelNorm)\n",
    "X = np.array(xNorm)\n",
    "\n",
    "alphas,coefs,_ = linear_model.enet_path(X,Y,l1_ration=0.8,fit_intercept=False,\n",
    "                                       return_models=False)\n",
    "plt.figure()\n",
    "plt.plot(alphas,coefs.T)\n",
    "plt.xlabel('alpha')\n",
    "plt.ylabel('coefficcients')\n",
    "plt.axis('tight')\n",
    "#plt.semilogx() # 不一定要log变换\n",
    "ax = plt.gca()\n",
    "ax.invert_xaxis()\n",
    "plt.show()\n"
   ]
  },
  {
   "cell_type": "code",
   "execution_count": 50,
   "metadata": {},
   "outputs": [
    {
     "name": "stdout",
     "output_type": "stream",
     "text": [
      "['V10', 'V11', 'V48', 'V44', 'V35', 'V51', 'V45', 'V20', 'V47', 'V3', 'V21', 'V46', 'V43', 'V0', 'V50', 'V15', 'V27', 'V22', 'V30', 'V36', 'V53', 'V56', 'V58', 'V19', 'V8', 'V28', 'V39', 'V6', 'V29', 'V54', 'V57', 'V14', 'V7', 'V2', 'V49', 'V4', 'V23', 'V37', 'V55', 'V38', 'V13', 'V26', 'V1', 'V16', 'V31', 'V34', 'V24', 'V33', 'V17', 'V40', 'V52', 'V5', 'V41', 'V59', 'V12', 'V9', 'V18', 'V42']\n"
     ]
    }
   ],
   "source": [
    "nattr,nalpha = coefs.shape #(60,100)\n",
    "# 找到相关系数顺序\n",
    "nzList = []\n",
    "for i in range(1,nalpha): # 第一组参数为0，没有参考价值\n",
    "    coefList = list(coefs[:,i])\n",
    "    nzCoef = [index for index in range(nattr) if coefList[index] != 0]\n",
    "    for q in nzCoef:\n",
    "        if q not in nzList:\n",
    "            nzList.append(q)\n",
    "\n",
    "nameList=[names[nzList[i]] for i in range(len(nzList))]\n",
    "print(nameList)"
   ]
  },
  {
   "cell_type": "code",
   "execution_count": 73,
   "metadata": {},
   "outputs": [
    {
     "name": "stdout",
     "output_type": "stream",
     "text": [
      "[0.03259342 0.03039673 0.02834809]\n",
      "Best Coefficient Values \n",
      " [0.08100623295538369, 0.01256328141218267, -0.1304570492420752, 0.16831852426889943, 0.007683371193695862, -0.0, -0.04722725354458264, -0.08092044535782172, 0.10237755469206009, 0.0, 0.09523907878409557, 0.21099350498327726, -0.0, -0.013829324800310678, -0.0, -0.12935061828206432, -0.0009177167777602058, 0.0, 0.0, 0.05682386877261369, 0.03233518807301049, 0.010872087556835802, 0.0840134869094667, 0.03709265379117461, -0.0, -0.0, 0.01150496940424765, 0.0, 0.0, 0.17547277236364045, -0.2255478843962794, 0.017642742173670723, 0.0, -0.0, 0.0, -0.16359456341622908, -0.09629734803665785, 0.08832437554931177, 0.028510789379530006, -0.07745270521504143, 0.0, -0.0, 0.0, 0.05585664286103164, 0.09068590394465938, 0.042993083783316045, 0.056384566623747114, 0.0, 0.22748253585390749, -0.10409999354721396, 0.0, 0.07854368715889962, 0.0, 0.06411595439860314, -0.08862954680125561, 0.01776979487983792, -0.07530138224223794, 0.07091389649332255, 0.07248402534976207, 0.0]\n"
     ]
    }
   ],
   "source": [
    "# 找到最佳 alpha对应的相关系数\n",
    "# 在ch5c中 idxMin = 47, idxMax=49\n",
    "print(alphas[47:50]) # [0.03259342 0.03039673 0.02834809]\n",
    "alphaStar = 0.02834809\n",
    "\n",
    "indexLTalphaStar = [index for index in range(100) if alphas[index] >alphaStar]\n",
    "# alphas本来就是从小到大循序的，为何还要找max?\n",
    "indexStar = max(indexLTalphaStar) # 最后一个大于最佳alpha参数的位置\n",
    "coefStar = list(coefs[:,indexStar])\n",
    "print('Best Coefficient Values \\n', coefStar)\n"
   ]
  },
  {
   "cell_type": "code",
   "execution_count": 69,
   "metadata": {},
   "outputs": [
    {
     "data": {
      "text/plain": [
       "array([ 0,  1,  2,  3,  4,  5,  6,  7,  8,  9, 10, 11, 12, 13, 14, 15, 16,\n",
       "       17, 18, 19, 20, 21, 22, 23, 24, 25, 26, 27, 28, 29, 30, 31, 32, 33,\n",
       "       34, 35, 36, 37, 38, 39, 40, 41, 42, 43, 44, 45, 46, 47, 48, 49, 50,\n",
       "       51, 52, 53, 54, 55, 56, 57, 58, 59, 60, 61, 62, 63, 64, 65, 66, 67,\n",
       "       68, 69, 70, 71, 72, 73, 74, 75, 76, 77, 78, 79, 80, 81, 82, 83, 84,\n",
       "       85, 86, 87, 88, 89, 90, 91, 92, 93, 94, 95, 96, 97, 98, 99],\n",
       "      dtype=int64)"
      ]
     },
     "execution_count": 69,
     "metadata": {},
     "output_type": "execute_result"
    }
   ],
   "source": [
    "alphas.argsort()[::-1] # 从大到小"
   ]
  },
  {
   "cell_type": "code",
   "execution_count": 70,
   "metadata": {},
   "outputs": [
    {
     "data": {
      "text/plain": [
       "array([0.86570985, 0.8073639 , 0.75295028, 0.70220395, 0.65487775,\n",
       "       0.61074118, 0.56957927, 0.53119153, 0.495391  , 0.46200331])"
      ]
     },
     "execution_count": 70,
     "metadata": {},
     "output_type": "execute_result"
    }
   ],
   "source": [
    "alphas[:10]"
   ]
  },
  {
   "cell_type": "code",
   "execution_count": 76,
   "metadata": {},
   "outputs": [
    {
     "name": "stdout",
     "output_type": "stream",
     "text": [
      "Attributes ordered by Coef Size at optimum alpha \n",
      " ['V48', 'V30', 'V11', 'V29', 'V3', 'V35', 'V2', 'V15', 'V49', 'V8', 'V36', 'V10', 'V44', 'V54', 'V37', 'V22', 'V0', 'V7', 'V51', 'V39', 'V56', 'V58', 'V57', 'V53', 'V19', 'V46', 'V43', 'V6', 'V45', 'V23', 'V20', 'V38', 'V55', 'V31', 'V13', 'V1', 'V26', 'V21', 'V4', 'V16']\n"
     ]
    }
   ],
   "source": [
    "absCoef = [abs(a) for a in coefStar]\n",
    "# sort by magnitude\n",
    "coefSorted = sorted(absCoef,reverse=True)\n",
    "idxCoefSize = [absCoef.index(a) for a in coefSorted if not(a==0.0)] # 列表按值求索引\n",
    "namesList2 = [names[idxCoefSize[i]] for i in range(len(idxCoefSize))]\n",
    "print('Attributes ordered by Coef Size at optimum alpha \\n', namesList2)"
   ]
  },
  {
   "cell_type": "code",
   "execution_count": null,
   "metadata": {},
   "outputs": [],
   "source": []
  }
 ],
 "metadata": {
  "kernelspec": {
   "display_name": "Python 3",
   "language": "python",
   "name": "python3"
  },
  "language_info": {
   "codemirror_mode": {
    "name": "ipython",
    "version": 3
   },
   "file_extension": ".py",
   "mimetype": "text/x-python",
   "name": "python",
   "nbconvert_exporter": "python",
   "pygments_lexer": "ipython3",
   "version": "3.7.3"
  }
 },
 "nbformat": 4,
 "nbformat_minor": 2
}
