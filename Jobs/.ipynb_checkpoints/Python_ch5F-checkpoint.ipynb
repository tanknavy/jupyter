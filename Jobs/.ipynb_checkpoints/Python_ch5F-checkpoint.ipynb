{
 "cells": [
  {
   "cell_type": "code",
   "execution_count": 2,
   "metadata": {},
   "outputs": [],
   "source": [
    "'''\n",
    "__author__ = 'Alex Cheng'\n",
    "惩罚线性回归-多分类\n",
    "\n",
    "玻璃样本\n",
    "'''\n",
    "import numpy as np\n",
    "import pandas as pd\n",
    "import matplotlib.pyplot as plt\n",
    "from sklearn import datasets,linear_model\n",
    "from sklearn.metrics import roc_curve,auc,roc_auc_score\n",
    "from math import sqrt"
   ]
  },
  {
   "cell_type": "code",
   "execution_count": 3,
   "metadata": {},
   "outputs": [
    {
     "data": {
      "text/html": [
       "<div>\n",
       "<style scoped>\n",
       "    .dataframe tbody tr th:only-of-type {\n",
       "        vertical-align: middle;\n",
       "    }\n",
       "\n",
       "    .dataframe tbody tr th {\n",
       "        vertical-align: top;\n",
       "    }\n",
       "\n",
       "    .dataframe thead th {\n",
       "        text-align: right;\n",
       "    }\n",
       "</style>\n",
       "<table border=\"1\" class=\"dataframe\">\n",
       "  <thead>\n",
       "    <tr style=\"text-align: right;\">\n",
       "      <th></th>\n",
       "      <th>V0</th>\n",
       "      <th>V1</th>\n",
       "      <th>V2</th>\n",
       "      <th>V3</th>\n",
       "      <th>V4</th>\n",
       "      <th>V5</th>\n",
       "      <th>V6</th>\n",
       "      <th>V7</th>\n",
       "      <th>V8</th>\n",
       "      <th>V9</th>\n",
       "      <th>V10</th>\n",
       "    </tr>\n",
       "  </thead>\n",
       "  <tbody>\n",
       "    <tr>\n",
       "      <th>0</th>\n",
       "      <td>1</td>\n",
       "      <td>1.52101</td>\n",
       "      <td>13.64</td>\n",
       "      <td>4.49</td>\n",
       "      <td>1.10</td>\n",
       "      <td>71.78</td>\n",
       "      <td>0.06</td>\n",
       "      <td>8.75</td>\n",
       "      <td>0.0</td>\n",
       "      <td>0.0</td>\n",
       "      <td>1</td>\n",
       "    </tr>\n",
       "    <tr>\n",
       "      <th>1</th>\n",
       "      <td>2</td>\n",
       "      <td>1.51761</td>\n",
       "      <td>13.89</td>\n",
       "      <td>3.60</td>\n",
       "      <td>1.36</td>\n",
       "      <td>72.73</td>\n",
       "      <td>0.48</td>\n",
       "      <td>7.83</td>\n",
       "      <td>0.0</td>\n",
       "      <td>0.0</td>\n",
       "      <td>1</td>\n",
       "    </tr>\n",
       "    <tr>\n",
       "      <th>2</th>\n",
       "      <td>3</td>\n",
       "      <td>1.51618</td>\n",
       "      <td>13.53</td>\n",
       "      <td>3.55</td>\n",
       "      <td>1.54</td>\n",
       "      <td>72.99</td>\n",
       "      <td>0.39</td>\n",
       "      <td>7.78</td>\n",
       "      <td>0.0</td>\n",
       "      <td>0.0</td>\n",
       "      <td>1</td>\n",
       "    </tr>\n",
       "    <tr>\n",
       "      <th>3</th>\n",
       "      <td>4</td>\n",
       "      <td>1.51766</td>\n",
       "      <td>13.21</td>\n",
       "      <td>3.69</td>\n",
       "      <td>1.29</td>\n",
       "      <td>72.61</td>\n",
       "      <td>0.57</td>\n",
       "      <td>8.22</td>\n",
       "      <td>0.0</td>\n",
       "      <td>0.0</td>\n",
       "      <td>1</td>\n",
       "    </tr>\n",
       "    <tr>\n",
       "      <th>4</th>\n",
       "      <td>5</td>\n",
       "      <td>1.51742</td>\n",
       "      <td>13.27</td>\n",
       "      <td>3.62</td>\n",
       "      <td>1.24</td>\n",
       "      <td>73.08</td>\n",
       "      <td>0.55</td>\n",
       "      <td>8.07</td>\n",
       "      <td>0.0</td>\n",
       "      <td>0.0</td>\n",
       "      <td>1</td>\n",
       "    </tr>\n",
       "  </tbody>\n",
       "</table>\n",
       "</div>"
      ],
      "text/plain": [
       "   V0       V1     V2    V3    V4     V5    V6    V7   V8   V9  V10\n",
       "0   1  1.52101  13.64  4.49  1.10  71.78  0.06  8.75  0.0  0.0    1\n",
       "1   2  1.51761  13.89  3.60  1.36  72.73  0.48  7.83  0.0  0.0    1\n",
       "2   3  1.51618  13.53  3.55  1.54  72.99  0.39  7.78  0.0  0.0    1\n",
       "3   4  1.51766  13.21  3.69  1.29  72.61  0.57  8.22  0.0  0.0    1\n",
       "4   5  1.51742  13.27  3.62  1.24  73.08  0.55  8.07  0.0  0.0    1"
      ]
     },
     "execution_count": 3,
     "metadata": {},
     "output_type": "execute_result"
    }
   ],
   "source": [
    "target_url = (\"http://archive.ics.uci.edu/ml/machine-learning-databases/\"\n",
    "             \"glass/glass.data\")\n",
    "df = pd.read_csv(target_url,header=None,sep=\",\",prefix='V')\n",
    "#df = pd.read_csv(target_url,header=0,sep=\",\")\n",
    "df.head()"
   ]
  },
  {
   "cell_type": "code",
   "execution_count": 13,
   "metadata": {},
   "outputs": [
    {
     "data": {
      "text/plain": [
       "array([1, 2, 3, 5, 6, 7], dtype=int64)"
      ]
     },
     "execution_count": 13,
     "metadata": {},
     "output_type": "execute_result"
    }
   ],
   "source": [
    "df['V10'].unique()"
   ]
  },
  {
   "cell_type": "code",
   "execution_count": 4,
   "metadata": {},
   "outputs": [
    {
     "data": {
      "text/plain": [
       "2    76\n",
       "1    70\n",
       "7    29\n",
       "3    17\n",
       "5    13\n",
       "6     9\n",
       "Name: V10, dtype: int64"
      ]
     },
     "execution_count": 4,
     "metadata": {},
     "output_type": "execute_result"
    }
   ],
   "source": [
    "df['V10'].value_counts() # unblance label"
   ]
  },
  {
   "cell_type": "code",
   "execution_count": 5,
   "metadata": {},
   "outputs": [],
   "source": [
    "names = ['RI','Na','Mg','Al','Si','K','Ca','Ba','Fe','Type']"
   ]
  },
  {
   "cell_type": "code",
   "execution_count": 20,
   "metadata": {},
   "outputs": [],
   "source": [
    "xList  = np.array(df.iloc[:,:-1]) # 属性数组\n",
    "labels = [i for i in df.iloc[:,-1]] # 最后一列就是label\n",
    "nrows = len(xList)\n",
    "ncols = len(xList[0])\n",
    "\n",
    "# 创建 one versus all 标签向量,就是one-hot向量编码啦\n",
    "yOneVALL = []\n",
    "labelSet = set(labels)\n",
    "labelList = list(labelSet)\n",
    "labelList.sort() # [1, 2, 3, 5, 6, 7]\n",
    "nlabels = len(labelList)\n",
    "for i in range(nrows):\n",
    "    yRow = [0.0] * nlabels\n",
    "    index = labelList.index(labels[i]) # 标签值在list对应的索引位置\n",
    "    yRow[index] = 1.0\n",
    "    yOneVALL.append(yRow)  "
   ]
  },
  {
   "cell_type": "code",
   "execution_count": null,
   "metadata": {},
   "outputs": [],
   "source": []
  },
  {
   "cell_type": "code",
   "execution_count": 42,
   "metadata": {},
   "outputs": [
    {
     "name": "stdout",
     "output_type": "stream",
     "text": [
      "True\n",
      "214 6\n"
     ]
    }
   ],
   "source": [
    "# 正则化columns in x and labels\n",
    "nrows = len(xList)\n",
    "ncols = len(xList[0])\n",
    "\n",
    "# 计算means and variance\n",
    "xMeans = []\n",
    "xSD = []\n",
    "for i in range(ncols):\n",
    "    col = [xList[j][i] for j in range(nrows)]\n",
    "    mean = sum(col)/nrows\n",
    "    xMeans.append(mean)\n",
    "    colDiff = sum((col - mean) **2)\n",
    "    \n",
    "    colDiff2 = [(xList[j,i] - mean) for j in range(nrows) ]\n",
    "    sumSq = sum([colDiff2[i]  * colDiff2[i] for i in range(nrows)])\n",
    "    stdDev2 = sqrt(sumSq/nrows)\n",
    "    \n",
    "    stdDev = sqrt(colDiff/nrows)\n",
    "    xSD.append(stdDev)\n",
    "#print(xMeans,'\\n',xSD)\n",
    "print(stdDev == stdDev2) # broadcast广播变量的方式，发现结果一样\n",
    "\n",
    "\n",
    "# 正则化xList\n",
    "xNorm = []\n",
    "for i in range(nrows):\n",
    "    #rowNorm = ([xList[i] - xMeans]) / xSD  #列表不支持\n",
    "    rowNorm = [(xList[i,j] - xMeans[j]) / xSD[j] for j in range(ncols)]\n",
    "    xNorm.append(rowNorm)\n",
    "\n",
    "# 正则化 labels\n",
    "#meanLable = sum(labels)/ nrows\n",
    "#sdLabel = sqrt(sum([ (labels[i] - meanLable) * (labels[i] - meanLable) for i in range(nrows)]) / nrows)\n",
    "#labelNorm = [ (labels[i] - meanLable) / sdLabel for i in range(nrows) ]\n",
    "# 多标签\n",
    "\n",
    "yMeans = []\n",
    "ySD = []\n",
    "for i in range(nlabels):\n",
    "    col = [yOneVALL[j][i] for j in range(nrows)]\n",
    "    mean = sum(col)/nrows\n",
    "    colDiff = [(yOneVALL[j][i] - mean) for j in range(nrows)]\n",
    "    sumSq = sum([colDiff[i] * colDiff[i] for i in range(nrows)])\n",
    "    stdDev = sqrt(sumSq/nrows)\n",
    "    yMeans.append(mean)\n",
    "    ySD.append(stdDev)\n",
    "\n",
    "yNorm = []\n",
    "for i in range(nrows):\n",
    "    rowNorm = [(yOneVALL[i][j] - yMeans[j]) / ySD[j] for j in range(nlabels)]\n",
    "    yNorm.append(rowNorm)\n",
    "print(len(yNorm),len(yNorm[0]))"
   ]
  },
  {
   "cell_type": "code",
   "execution_count": 57,
   "metadata": {},
   "outputs": [
    {
     "ename": "SyntaxError",
     "evalue": "invalid character in identifier (<ipython-input-57-ea059f3b8589>, line 31)",
     "output_type": "error",
     "traceback": [
      "\u001b[1;36m  File \u001b[1;32m\"<ipython-input-57-ea059f3b8589>\"\u001b[1;36m, line \u001b[1;32m31\u001b[0m\n\u001b[1;33m    for step in range(1，nAlphas): # 第一轮是\u001b[0m\n\u001b[1;37m                              ^\u001b[0m\n\u001b[1;31mSyntaxError\u001b[0m\u001b[1;31m:\u001b[0m invalid character in identifier\n"
     ]
    }
   ],
   "source": [
    "# cross-validation folds\n",
    "nxval = 10\n",
    "nAlphas = 500\n",
    "misClass = [0.0] * nAlphas\n",
    "\n",
    "for ixval in range(nxval): # 交叉验证\n",
    "    # Define test and traing index sets\n",
    "    idxTest =  [i for i in range(nrows) if i % nxval == ixval]\n",
    "    idxTrain = [i for i in range(nrows) if i % nxval != ixval]\n",
    "    #idxTest =  [i for i in range(nrows) if i % nxval ==0]\n",
    "    #idxTrain = [i for i in range(nrows) if i % nxval !=0]\n",
    "\n",
    "    # 定义测试和训练的属性和列表\n",
    "    xTrain = [xNorm[r] for r in idxTrain]\n",
    "    xTest  = [xNorm[r] for r in idxTest]\n",
    "    yTrain = [yNorm[r] for r in idxTrain]\n",
    "    yTest  = [yNorm[r] for r in idxTest] # 列向量\n",
    "    labelTest = [labels[r] for r in idxTest] # 用于后面预测和真实的y分类比较\n",
    "    \n",
    "     # 为one-hot标签每一列创建模型\n",
    "    models = []\n",
    "    lenTrain = len(yTrain)\n",
    "    lenTest = nrows - lenTrain\n",
    "    for imodel in range(nlabels): #d 多标签\n",
    "        ytemp = np.array([yTrain[j][imodel] for j in range(lenTrain)]) # 每列标签\n",
    "        # 训练次数为200时警告不能收敛 ConvergenceWarning: Objective did not converge\n",
    "        models.append(linear_model.enet_path(xTrain,ytemp,l1_ration=1.0,fit_intercept=False,\n",
    "                     eps=0.5e-3, n_alphas=nAlphas,return_models=False)) # 每列y的预测， \n",
    "        \n",
    "    \n",
    "    for step in range(1,nAlphas): # 第一轮是\n",
    "        allPred = [] # 每个alpha下面的预知\n",
    "        for model in range(nlabels):\n",
    "            _,coefs,_ = models[model]\n",
    "            predTemp = list(np.dot(xTest,coefs[:,step])) # coef : col * 200， 每列的预测\n",
    "            # 数据之前被正则化了，\n",
    "            predUnNorm = [(predTemp[j] * ySD[model] + yMeans[model]) for j in range(len(predTemp))]\n",
    "            allPred.append(predUnNorm) # nlabels * len(test)\n",
    "            \n",
    "        predictions = []\n",
    "        for i in range(lenTest): # 最大值位置要，和yTest的每行比较，\n",
    "            listOfPred = [allPred[j][i] for j in range(nlabels)]\n",
    "            \n",
    "            # 注意，不是要求值相等，因为是one-hot编码，所以每行的预测的最大值对应的位置，再去找查找字典labelList\n",
    "            idxMax = listOfPred.index(max(listOfPred)) \n",
    "            # 不能收敛，ConvergenceWarning: Objective did not converge\n",
    "            #if labelList[idxMax] != yTest[i]: \n",
    "            if labelList[idxMax] != labelTest[i]: # 预测(在标签字典中) ！= 真实y值\n",
    "                misClass[step] += 1.0\n",
    "\n",
    "misClassPlot = [misClass[i] / nrows for i in range(1,nAlphas)] ## 第一个没有计算，默认为0\n",
    "#print(misClass) \n",
    "print('Min error % : ',min(misClassPlot), 'alpha index: ',misClassPlot.index(min(misClassPlot)))\n",
    "\n",
    "plt.plot(misClassPlot)\n",
    "plt.xlabel(\"Penalty Paramter Steps\")\n",
    "plt.ylabel(\"Misclassification Error Rate\")\n",
    "plt.show()"
   ]
  },
  {
   "cell_type": "code",
   "execution_count": null,
   "metadata": {},
   "outputs": [],
   "source": []
  }
 ],
 "metadata": {
  "kernelspec": {
   "display_name": "Python 3",
   "language": "python",
   "name": "python3"
  },
  "language_info": {
   "codemirror_mode": {
    "name": "ipython",
    "version": 3
   },
   "file_extension": ".py",
   "mimetype": "text/x-python",
   "name": "python",
   "nbconvert_exporter": "python",
   "pygments_lexer": "ipython3",
   "version": "3.7.3"
  }
 },
 "nbformat": 4,
 "nbformat_minor": 2
}
