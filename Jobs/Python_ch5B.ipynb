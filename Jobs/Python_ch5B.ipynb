{
 "cells": [
  {
   "cell_type": "code",
   "execution_count": 39,
   "metadata": {},
   "outputs": [],
   "source": [
    "'''\n",
    "__author__ = 'Alex Cheng'\n",
    "sklearn惩罚线性回归模型\n",
    "基扩展\n",
    "\n",
    "'''\n",
    "import numpy as np\n",
    "import pandas as pd\n",
    "import matplotlib.pyplot as plt\n",
    "from sklearn import datasets,linear_model\n",
    "from sklearn.metrics import roc_curve,auc\n",
    "from math import sqrt"
   ]
  },
  {
   "cell_type": "code",
   "execution_count": 40,
   "metadata": {},
   "outputs": [
    {
     "data": {
      "text/html": [
       "<div>\n",
       "<style scoped>\n",
       "    .dataframe tbody tr th:only-of-type {\n",
       "        vertical-align: middle;\n",
       "    }\n",
       "\n",
       "    .dataframe tbody tr th {\n",
       "        vertical-align: top;\n",
       "    }\n",
       "\n",
       "    .dataframe thead th {\n",
       "        text-align: right;\n",
       "    }\n",
       "</style>\n",
       "<table border=\"1\" class=\"dataframe\">\n",
       "  <thead>\n",
       "    <tr style=\"text-align: right;\">\n",
       "      <th></th>\n",
       "      <th>fixed acidity</th>\n",
       "      <th>volatile acidity</th>\n",
       "      <th>citric acid</th>\n",
       "      <th>residual sugar</th>\n",
       "      <th>chlorides</th>\n",
       "      <th>free sulfur dioxide</th>\n",
       "      <th>total sulfur dioxide</th>\n",
       "      <th>density</th>\n",
       "      <th>pH</th>\n",
       "      <th>sulphates</th>\n",
       "      <th>alcohol</th>\n",
       "      <th>quality</th>\n",
       "    </tr>\n",
       "  </thead>\n",
       "  <tbody>\n",
       "    <tr>\n",
       "      <th>0</th>\n",
       "      <td>7.4</td>\n",
       "      <td>0.70</td>\n",
       "      <td>0.00</td>\n",
       "      <td>1.9</td>\n",
       "      <td>0.076</td>\n",
       "      <td>11.0</td>\n",
       "      <td>34.0</td>\n",
       "      <td>0.9978</td>\n",
       "      <td>3.51</td>\n",
       "      <td>0.56</td>\n",
       "      <td>9.4</td>\n",
       "      <td>5</td>\n",
       "    </tr>\n",
       "    <tr>\n",
       "      <th>1</th>\n",
       "      <td>7.8</td>\n",
       "      <td>0.88</td>\n",
       "      <td>0.00</td>\n",
       "      <td>2.6</td>\n",
       "      <td>0.098</td>\n",
       "      <td>25.0</td>\n",
       "      <td>67.0</td>\n",
       "      <td>0.9968</td>\n",
       "      <td>3.20</td>\n",
       "      <td>0.68</td>\n",
       "      <td>9.8</td>\n",
       "      <td>5</td>\n",
       "    </tr>\n",
       "    <tr>\n",
       "      <th>2</th>\n",
       "      <td>7.8</td>\n",
       "      <td>0.76</td>\n",
       "      <td>0.04</td>\n",
       "      <td>2.3</td>\n",
       "      <td>0.092</td>\n",
       "      <td>15.0</td>\n",
       "      <td>54.0</td>\n",
       "      <td>0.9970</td>\n",
       "      <td>3.26</td>\n",
       "      <td>0.65</td>\n",
       "      <td>9.8</td>\n",
       "      <td>5</td>\n",
       "    </tr>\n",
       "    <tr>\n",
       "      <th>3</th>\n",
       "      <td>11.2</td>\n",
       "      <td>0.28</td>\n",
       "      <td>0.56</td>\n",
       "      <td>1.9</td>\n",
       "      <td>0.075</td>\n",
       "      <td>17.0</td>\n",
       "      <td>60.0</td>\n",
       "      <td>0.9980</td>\n",
       "      <td>3.16</td>\n",
       "      <td>0.58</td>\n",
       "      <td>9.8</td>\n",
       "      <td>6</td>\n",
       "    </tr>\n",
       "    <tr>\n",
       "      <th>4</th>\n",
       "      <td>7.4</td>\n",
       "      <td>0.70</td>\n",
       "      <td>0.00</td>\n",
       "      <td>1.9</td>\n",
       "      <td>0.076</td>\n",
       "      <td>11.0</td>\n",
       "      <td>34.0</td>\n",
       "      <td>0.9978</td>\n",
       "      <td>3.51</td>\n",
       "      <td>0.56</td>\n",
       "      <td>9.4</td>\n",
       "      <td>5</td>\n",
       "    </tr>\n",
       "  </tbody>\n",
       "</table>\n",
       "</div>"
      ],
      "text/plain": [
       "   fixed acidity  volatile acidity  citric acid  residual sugar  chlorides  \\\n",
       "0            7.4              0.70         0.00             1.9      0.076   \n",
       "1            7.8              0.88         0.00             2.6      0.098   \n",
       "2            7.8              0.76         0.04             2.3      0.092   \n",
       "3           11.2              0.28         0.56             1.9      0.075   \n",
       "4            7.4              0.70         0.00             1.9      0.076   \n",
       "\n",
       "   free sulfur dioxide  total sulfur dioxide  density    pH  sulphates  \\\n",
       "0                 11.0                  34.0   0.9978  3.51       0.56   \n",
       "1                 25.0                  67.0   0.9968  3.20       0.68   \n",
       "2                 15.0                  54.0   0.9970  3.26       0.65   \n",
       "3                 17.0                  60.0   0.9980  3.16       0.58   \n",
       "4                 11.0                  34.0   0.9978  3.51       0.56   \n",
       "\n",
       "   alcohol  quality  \n",
       "0      9.4        5  \n",
       "1      9.8        5  \n",
       "2      9.8        5  \n",
       "3      9.8        6  \n",
       "4      9.4        5  "
      ]
     },
     "execution_count": 40,
     "metadata": {},
     "output_type": "execute_result"
    }
   ],
   "source": [
    "target_url = (\"http://archive.ics.uci.edu/ml/machine-learning-databases/\"\n",
    "\"wine-quality/winequality-red.csv\")\n",
    "df = pd.read_csv(target_url,header=0,sep=\";\")\n",
    "df.head()"
   ]
  },
  {
   "cell_type": "code",
   "execution_count": 41,
   "metadata": {},
   "outputs": [],
   "source": [
    "x  = np.array(df.iloc[:,:-1]) # 属性数组\n",
    "labels = [i for i in df.iloc[:,-1]] # 最后一列就是label\n",
    "names = list(df.columns)\n"
   ]
  },
  {
   "cell_type": "code",
   "execution_count": 50,
   "metadata": {},
   "outputs": [],
   "source": [
    "xList = []\n",
    "for i in range(len(x)):\n",
    "    xList.append([])\n",
    "# 添加 alcohol的平方项\n",
    "for i in range(len(x)):\n",
    "    alcElt = x[i][-1]\n",
    "    volAcid = x[i][1]\n",
    "    temp = list(x[i])\n",
    "    temp.append(alcElt * alcElt)\n",
    "    temp.append(alcElt * volAcid)\n",
    "    xList[i] = list(temp)\n",
    "\n",
    "# 添加新列明\n",
    "names = names + ['alco^2','alco*volAcid']\n",
    "#names.append('alco^2')\n",
    "#names.append('alco*volAcid')"
   ]
  },
  {
   "cell_type": "code",
   "execution_count": 55,
   "metadata": {},
   "outputs": [
    {
     "name": "stdout",
     "output_type": "stream",
     "text": [
      "(1599, 11) 1599 13\n"
     ]
    }
   ],
   "source": [
    "print(x.shape,len(xList),len(xList[0]))"
   ]
  },
  {
   "cell_type": "code",
   "execution_count": 56,
   "metadata": {},
   "outputs": [],
   "source": [
    "# 正则化columns in x and labels\n",
    "nrows = len(xList)\n",
    "ncols = len(xList[0])\n",
    "\n",
    "# 计算means and variance\n",
    "xMeans = []\n",
    "xSD = []\n",
    "for i in range(ncols):\n",
    "    col = [xList[j][i] for j in range(nrows)]\n",
    "    mean = sum(col)/nrows\n",
    "    xMeans.append(mean)\n",
    "    colDiff = sum((col - mean) **2)\n",
    "    \n",
    "    colDiff2 = [(xList[j][i] - mean) for j in range(nrows) ]\n",
    "    sumSq = sum([colDiff2[i]  * colDiff2[i] for i in range(nrows)])\n",
    "    stdDev2 = sqrt(sumSq/nrows)\n",
    "    \n",
    "    stdDev = sqrt(colDiff/nrows)\n",
    "    xSD.append(stdDev)\n",
    "#print(xMeans,'\\n',xSD)\n",
    "#print(stdDev == stdDev2) # broadcast广播变量的方式，发现结果一样\n",
    "\n",
    "\n",
    "# 正则化xList\n",
    "xNorm = []\n",
    "for i in range(nrows):\n",
    "    #rowNorm = ([xList[i] - xMeans]) / xSD  #列表不支持\n",
    "    rowNorm = [(xList[i][j] - xMeans[j]) / xSD[j] for j in range(ncols)]\n",
    "    xNorm.append(rowNorm)\n",
    "\n",
    "# 正则化 labels\n",
    "meanLable = sum(labels)/ nrows\n",
    "sdLabel = sqrt(sum([ (labels[i] - meanLable) * (labels[i] - meanLable) for i in range(nrows)]) / nrows)\n",
    "labelNorm = [ (labels[i] - meanLable) / sdLabel for i in range(nrows) ]"
   ]
  },
  {
   "cell_type": "code",
   "execution_count": 57,
   "metadata": {},
   "outputs": [
    {
     "name": "stdout",
     "output_type": "stream",
     "text": [
      "(1599, 11) 1599 13\n"
     ]
    }
   ],
   "source": [
    "print(x.shape,len(xNorm),len(xNorm[0]))"
   ]
  },
  {
   "cell_type": "code",
   "execution_count": 58,
   "metadata": {},
   "outputs": [],
   "source": [
    "# 将输入从list转换为np array 为了应用sklearn packages\n",
    "# 正则化的x,y\n",
    "Xn = np.array(xNorm)\n",
    "Yn = np.array(labelNorm)\n",
    "# 未正则化的x,y\n",
    "X = np.array(xList) # xList本来已经就是numpy array\n",
    "Y = np.array(labels)"
   ]
  },
  {
   "cell_type": "code",
   "execution_count": 59,
   "metadata": {},
   "outputs": [
    {
     "data": {
      "text/plain": [
       "((1599, 13), (1599, 13))"
      ]
     },
     "execution_count": 59,
     "metadata": {},
     "output_type": "execute_result"
    }
   ],
   "source": [
    "Xn.shape,X.shape"
   ]
  },
  {
   "cell_type": "code",
   "execution_count": 68,
   "metadata": {},
   "outputs": [
    {
     "data": {
      "image/png": "[encoded data removed]",
      "text/plain": [
       "<Figure size 432x288 with 1 Axes>"
      ]
     },
     "metadata": {
      "needs_background": "light"
     },
     "output_type": "display_data"
    },
    {
     "name": "stdout",
     "output_type": "stream",
     "text": [
      "alpha value that Minimize CV error 0.00887369899599796\n",
      "minimun MSE 0.43915574031440663\n"
     ]
    }
   ],
   "source": [
    "# LassoCV\n",
    "#alpha控制估计参数的稀疏度,自动搜索，越大惩罚项越大\n",
    "wineModel = linear_model.LassoCV(cv=10).fit(X,Y) # \n",
    "\n",
    "plt.figure()\n",
    "plt.plot(wineModel.alphas_[::-1],wineModel.mse_path_[::-1],':')\n",
    "plt.plot(wineModel.alphas_,wineModel.mse_path_.mean(axis=-1),\n",
    "        label='Average MSE Across Folds',linewidth=2)\n",
    "plt.axvline(wineModel.alpha_,linestyle='--',label='CV Estimate of Best alpha')\n",
    "plt.semilogx()\n",
    "plt.legend()\n",
    "ax = plt.gca()\n",
    "ax.invert_xaxis()\n",
    "plt.xlabel('alpha')\n",
    "plt.ylabel('Mean Squre Error')\n",
    "plt.axis('tight')\n",
    "plt.show()\n",
    "\n",
    "print(\"alpha value that Minimize CV error\", wineModel.alpha_)\n",
    "print(\"minimun MSE\",min(wineModel.mse_path_.mean(axis=-1)))\n"
   ]
  },
  {
   "cell_type": "code",
   "execution_count": 64,
   "metadata": {},
   "outputs": [
    {
     "data": {
      "text/plain": [
       "(100, 10)"
      ]
     },
     "execution_count": 64,
     "metadata": {},
     "output_type": "execute_result"
    }
   ],
   "source": [
    "wineModel.mse_path_.shape"
   ]
  },
  {
   "cell_type": "code",
   "execution_count": null,
   "metadata": {},
   "outputs": [],
   "source": []
  },
  {
   "cell_type": "code",
   "execution_count": null,
   "metadata": {},
   "outputs": [],
   "source": []
  },
  {
   "cell_type": "code",
   "execution_count": null,
   "metadata": {},
   "outputs": [],
   "source": []
  }
 ],
 "metadata": {
  "kernelspec": {
   "display_name": "Python 3",
   "language": "python",
   "name": "python3"
  },
  "language_info": {
   "codemirror_mode": {
    "name": "ipython",
    "version": 3
   },
   "file_extension": ".py",
   "mimetype": "text/x-python",
   "name": "python",
   "nbconvert_exporter": "python",
   "pygments_lexer": "ipython3",
   "version": "3.7.3"
  }
 },
 "nbformat": 4,
 "nbformat_minor": 2
}
