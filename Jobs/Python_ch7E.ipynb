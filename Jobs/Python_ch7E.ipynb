{
 "cells": [
  {
   "cell_type": "code",
   "execution_count": 1,
   "metadata": {},
   "outputs": [],
   "source": [
    "'''\n",
    "__author__ = 'Alex Cheng'\n",
    "Python集成方法工具包解决分类问题：梯度提升法 处理水雷二分类问题\n",
    "ensemble: RandomForestClassifier,\n",
    "回归：分割点质量是有平方误差和（mse）\n",
    "分类：误分类指标，ROC曲线，误分类率\n",
    "predict,predic_proba,predict_log_proba\n",
    "\n",
    "梯度提升算法会过拟合，持续跟踪AUC最佳值，其最佳值生成ROC曲线，fpr,tpr等\n",
    "决策树数目的增加就等同于在梯度下降中采取了更多步骤，每一步就意味着又训练了一个决策树\n",
    "\n",
    "'''\n",
    "import numpy as np\n",
    "import pandas as pd\n",
    "import matplotlib.pyplot as plt\n",
    "\n",
    "#from sklearn.cross_validation import train_test_split\n",
    "from sklearn.model_selection import train_test_split\n",
    "from sklearn import ensemble\n",
    "from sklearn import datasets,linear_model\n",
    "from sklearn.tree import DecisionTreeRegressor\n",
    "from sklearn.metrics import roc_curve,auc,roc_auc_score,mean_squared_error\n",
    "from math import sqrt\n",
    "import random"
   ]
  },
  {
   "cell_type": "code",
   "execution_count": 3,
   "metadata": {},
   "outputs": [
    {
     "data": {
      "text/html": [
       "<div>\n",
       "<style scoped>\n",
       "    .dataframe tbody tr th:only-of-type {\n",
       "        vertical-align: middle;\n",
       "    }\n",
       "\n",
       "    .dataframe tbody tr th {\n",
       "        vertical-align: top;\n",
       "    }\n",
       "\n",
       "    .dataframe thead th {\n",
       "        text-align: right;\n",
       "    }\n",
       "</style>\n",
       "<table border=\"1\" class=\"dataframe\">\n",
       "  <thead>\n",
       "    <tr style=\"text-align: right;\">\n",
       "      <th></th>\n",
       "      <th>V0</th>\n",
       "      <th>V1</th>\n",
       "      <th>V2</th>\n",
       "      <th>V3</th>\n",
       "      <th>V4</th>\n",
       "      <th>V5</th>\n",
       "      <th>V6</th>\n",
       "      <th>V7</th>\n",
       "      <th>V8</th>\n",
       "      <th>V9</th>\n",
       "      <th>...</th>\n",
       "      <th>V51</th>\n",
       "      <th>V52</th>\n",
       "      <th>V53</th>\n",
       "      <th>V54</th>\n",
       "      <th>V55</th>\n",
       "      <th>V56</th>\n",
       "      <th>V57</th>\n",
       "      <th>V58</th>\n",
       "      <th>V59</th>\n",
       "      <th>V60</th>\n",
       "    </tr>\n",
       "  </thead>\n",
       "  <tbody>\n",
       "    <tr>\n",
       "      <th>0</th>\n",
       "      <td>0.0200</td>\n",
       "      <td>0.0371</td>\n",
       "      <td>0.0428</td>\n",
       "      <td>0.0207</td>\n",
       "      <td>0.0954</td>\n",
       "      <td>0.0986</td>\n",
       "      <td>0.1539</td>\n",
       "      <td>0.1601</td>\n",
       "      <td>0.3109</td>\n",
       "      <td>0.2111</td>\n",
       "      <td>...</td>\n",
       "      <td>0.0027</td>\n",
       "      <td>0.0065</td>\n",
       "      <td>0.0159</td>\n",
       "      <td>0.0072</td>\n",
       "      <td>0.0167</td>\n",
       "      <td>0.0180</td>\n",
       "      <td>0.0084</td>\n",
       "      <td>0.0090</td>\n",
       "      <td>0.0032</td>\n",
       "      <td>R</td>\n",
       "    </tr>\n",
       "    <tr>\n",
       "      <th>1</th>\n",
       "      <td>0.0453</td>\n",
       "      <td>0.0523</td>\n",
       "      <td>0.0843</td>\n",
       "      <td>0.0689</td>\n",
       "      <td>0.1183</td>\n",
       "      <td>0.2583</td>\n",
       "      <td>0.2156</td>\n",
       "      <td>0.3481</td>\n",
       "      <td>0.3337</td>\n",
       "      <td>0.2872</td>\n",
       "      <td>...</td>\n",
       "      <td>0.0084</td>\n",
       "      <td>0.0089</td>\n",
       "      <td>0.0048</td>\n",
       "      <td>0.0094</td>\n",
       "      <td>0.0191</td>\n",
       "      <td>0.0140</td>\n",
       "      <td>0.0049</td>\n",
       "      <td>0.0052</td>\n",
       "      <td>0.0044</td>\n",
       "      <td>R</td>\n",
       "    </tr>\n",
       "    <tr>\n",
       "      <th>2</th>\n",
       "      <td>0.0262</td>\n",
       "      <td>0.0582</td>\n",
       "      <td>0.1099</td>\n",
       "      <td>0.1083</td>\n",
       "      <td>0.0974</td>\n",
       "      <td>0.2280</td>\n",
       "      <td>0.2431</td>\n",
       "      <td>0.3771</td>\n",
       "      <td>0.5598</td>\n",
       "      <td>0.6194</td>\n",
       "      <td>...</td>\n",
       "      <td>0.0232</td>\n",
       "      <td>0.0166</td>\n",
       "      <td>0.0095</td>\n",
       "      <td>0.0180</td>\n",
       "      <td>0.0244</td>\n",
       "      <td>0.0316</td>\n",
       "      <td>0.0164</td>\n",
       "      <td>0.0095</td>\n",
       "      <td>0.0078</td>\n",
       "      <td>R</td>\n",
       "    </tr>\n",
       "    <tr>\n",
       "      <th>3</th>\n",
       "      <td>0.0100</td>\n",
       "      <td>0.0171</td>\n",
       "      <td>0.0623</td>\n",
       "      <td>0.0205</td>\n",
       "      <td>0.0205</td>\n",
       "      <td>0.0368</td>\n",
       "      <td>0.1098</td>\n",
       "      <td>0.1276</td>\n",
       "      <td>0.0598</td>\n",
       "      <td>0.1264</td>\n",
       "      <td>...</td>\n",
       "      <td>0.0121</td>\n",
       "      <td>0.0036</td>\n",
       "      <td>0.0150</td>\n",
       "      <td>0.0085</td>\n",
       "      <td>0.0073</td>\n",
       "      <td>0.0050</td>\n",
       "      <td>0.0044</td>\n",
       "      <td>0.0040</td>\n",
       "      <td>0.0117</td>\n",
       "      <td>R</td>\n",
       "    </tr>\n",
       "    <tr>\n",
       "      <th>4</th>\n",
       "      <td>0.0762</td>\n",
       "      <td>0.0666</td>\n",
       "      <td>0.0481</td>\n",
       "      <td>0.0394</td>\n",
       "      <td>0.0590</td>\n",
       "      <td>0.0649</td>\n",
       "      <td>0.1209</td>\n",
       "      <td>0.2467</td>\n",
       "      <td>0.3564</td>\n",
       "      <td>0.4459</td>\n",
       "      <td>...</td>\n",
       "      <td>0.0031</td>\n",
       "      <td>0.0054</td>\n",
       "      <td>0.0105</td>\n",
       "      <td>0.0110</td>\n",
       "      <td>0.0015</td>\n",
       "      <td>0.0072</td>\n",
       "      <td>0.0048</td>\n",
       "      <td>0.0107</td>\n",
       "      <td>0.0094</td>\n",
       "      <td>R</td>\n",
       "    </tr>\n",
       "  </tbody>\n",
       "</table>\n",
       "<p>5 rows × 61 columns</p>\n",
       "</div>"
      ],
      "text/plain": [
       "       V0      V1      V2      V3      V4      V5      V6      V7      V8  \\\n",
       "0  0.0200  0.0371  0.0428  0.0207  0.0954  0.0986  0.1539  0.1601  0.3109   \n",
       "1  0.0453  0.0523  0.0843  0.0689  0.1183  0.2583  0.2156  0.3481  0.3337   \n",
       "2  0.0262  0.0582  0.1099  0.1083  0.0974  0.2280  0.2431  0.3771  0.5598   \n",
       "3  0.0100  0.0171  0.0623  0.0205  0.0205  0.0368  0.1098  0.1276  0.0598   \n",
       "4  0.0762  0.0666  0.0481  0.0394  0.0590  0.0649  0.1209  0.2467  0.3564   \n",
       "\n",
       "       V9  ...     V51     V52     V53     V54     V55     V56     V57  \\\n",
       "0  0.2111  ...  0.0027  0.0065  0.0159  0.0072  0.0167  0.0180  0.0084   \n",
       "1  0.2872  ...  0.0084  0.0089  0.0048  0.0094  0.0191  0.0140  0.0049   \n",
       "2  0.6194  ...  0.0232  0.0166  0.0095  0.0180  0.0244  0.0316  0.0164   \n",
       "3  0.1264  ...  0.0121  0.0036  0.0150  0.0085  0.0073  0.0050  0.0044   \n",
       "4  0.4459  ...  0.0031  0.0054  0.0105  0.0110  0.0015  0.0072  0.0048   \n",
       "\n",
       "      V58     V59  V60  \n",
       "0  0.0090  0.0032    R  \n",
       "1  0.0052  0.0044    R  \n",
       "2  0.0095  0.0078    R  \n",
       "3  0.0040  0.0117    R  \n",
       "4  0.0107  0.0094    R  \n",
       "\n",
       "[5 rows x 61 columns]"
      ]
     },
     "execution_count": 3,
     "metadata": {},
     "output_type": "execute_result"
    }
   ],
   "source": [
    "path = 'd:/input/jobs/'\n",
    "target_url = (\"http://archive.ics.uci.edu/ml/machine-learning-databases/\"\n",
    "             \"undocumented/connectionist-bench/sonar/sonar.all-data\")\n",
    "df = pd.read_csv(target_url,header=None,prefix=\"V\")\n",
    "df.head()"
   ]
  },
  {
   "cell_type": "code",
   "execution_count": 4,
   "metadata": {},
   "outputs": [],
   "source": [
    "# 原始数组\n",
    "xList  = np.array(df.iloc[:,:-1]) # 属性数组\n",
    "#labels = [i for i in df.iloc[:,-1]] # 最后一列就是label\n",
    "\n",
    "labels = []\n",
    "for label in df.iloc[:,-1]: # 分类问题，标签数值化\n",
    "    if(label == 'M'): # 对df迭代时是案列的\n",
    "        labels.append(1.0)\n",
    "    else:\n",
    "        labels.append(0.0)\n",
    "\n",
    "names = df.columns\n",
    "\n",
    "\n",
    "# 正则化columns in x and labels\n",
    "nrows = len(xList)\n",
    "ncols = len(xList[0])\n",
    "\n",
    "# RandomForest 要求数据为np.array格式\n",
    "x = np.array(xList)\n",
    "y = np.array(labels)\n",
    "names = np.array(df.columns)\n",
    "\n",
    "# model_selection\n",
    "xTrain,xTest,yTrain,yTest = train_test_split(x,y,test_size=0.30,random_state=828)"
   ]
  },
  {
   "cell_type": "code",
   "execution_count": 37,
   "metadata": {},
   "outputs": [
    {
     "name": "stdout",
     "output_type": "stream",
     "text": [
      "Best AUC 0.9290060851926978\n",
      "number of Trees for best AUC:  1691\n"
     ]
    },
    {
     "data": {
      "image/png": "[encoded data removed]",
      "text/plain": [
       "<Figure size 432x288 with 1 Axes>"
      ]
     },
     "metadata": {
      "needs_background": "light"
     },
     "output_type": "display_data"
    }
   ],
   "source": [
    "nEst = 2000\n",
    "depth = 3\n",
    "learnRate = 0.007\n",
    "maxFeatures = 20 # 随机森林作为基学习器，GB有点过拟合\n",
    "rockGB = ensemble.GradientBoostingClassifier(n_estimators=nEst,max_depth=depth,\n",
    "            learning_rate=learnRate,max_features=maxFeatures)\n",
    "rockGB.fit(xTrain,yTrain)\n",
    "#rockGB.decision_function(xTrain) # 梯度提升分类器实际上市回归决策树的集合\n",
    "\n",
    "auc = []\n",
    "aucBest = 0.0\n",
    "pred = rockGB.staged_decision_function(xTest) # 逐步增加树提升\n",
    "for p in pred:\n",
    "    auc_ = roc_auc_score(yTest,p) # auc\n",
    "    auc.append(auc_)\n",
    "    \n",
    "    if auc_ > aucBest:\n",
    "        aucBest = auc_\n",
    "        pBest = p\n",
    "    \n",
    "idxBest = auc.index(max(auc))\n",
    "print(\"Best AUC\",auc[idxBest])\n",
    "print(\"number of Trees for best AUC: \",idxBest)\n",
    "\n",
    "# 训练集deviance和测试集的auc vs trees\n",
    "plt.figure()\n",
    "plt.plot(range(1,nEst+1),rockGB.train_score_,label='Training Set Deviance', linestyle=':')\n",
    "plt.plot(range(1,nEst+1),auc,label='Test Set AUC')\n",
    "plt.legend(loc='upper right')\n",
    "plt.xlabel('number of trees in ensemble')\n",
    "plt.ylabel('Deviance/AUC')\n",
    "plt.show()"
   ]
  },
  {
   "cell_type": "code",
   "execution_count": 31,
   "metadata": {},
   "outputs": [
    {
     "data": {
      "image/png": "[encoded data removed]",
      "text/plain": [
       "<Figure size 432x288 with 1 Axes>"
      ]
     },
     "metadata": {
      "needs_background": "light"
     },
     "output_type": "display_data"
    }
   ],
   "source": [
    "fpr,tpr,thresh = roc_curve(yTest,list(pBest)) # 注意GB预知没有落在（0,1）\n",
    "ctClass = [i * 0.01 for i in range(101)]\n",
    "\n",
    "plt.plot(fpr,tpr,linewidth=2)\n",
    "plt.plot(ctClass,ctClass,linestyle=':')\n",
    "plt.xlabel('False Positive Rate')\n",
    "plt.ylabel('True Positive Rate')\n",
    "plt.show()"
   ]
  },
  {
   "cell_type": "code",
   "execution_count": 32,
   "metadata": {},
   "outputs": [
    {
     "name": "stdout",
     "output_type": "stream",
     "text": [
      "[1. 1. 1. 0. 0.] [[ 3.57054428]\n",
      " [ 5.17883154]\n",
      " [ 2.84316485]\n",
      " [-1.01410007]\n",
      " [-0.92355085]]\n"
     ]
    }
   ],
   "source": [
    "print(yTest[:5],pBest[:5])"
   ]
  },
  {
   "cell_type": "code",
   "execution_count": 33,
   "metadata": {},
   "outputs": [
    {
     "data": {
      "image/png": "[encoded data removed]",
      "text/plain": [
       "<Figure size 432x288 with 1 Axes>"
      ]
     },
     "metadata": {
      "needs_background": "light"
     },
     "output_type": "display_data"
    }
   ],
   "source": [
    "# 特征重要性,top30\n",
    "featImportance = rockGB.feature_importances_\n",
    "featImportance = featImportance / featImportance.max()\n",
    "#print(len(featImportance))\n",
    "idxSorted = np.argsort(featImportance)[40:] # 后面最大60-40个\n",
    "barPos = np.arange(idxSorted.shape[0]) + .5\n",
    "plt.barh(barPos,featImportance[idxSorted], align='center') # 水平柱状图\n",
    "plt.yticks(barPos, names[idxSorted]) # np.array的数组可以[]取值\n",
    "plt.xlabel('variable importance')\n",
    "#plt.subplots_adjust(left=0.2,right=0.9,top=0.9,bottom=0.1)\n",
    "plt.show()"
   ]
  },
  {
   "cell_type": "code",
   "execution_count": 34,
   "metadata": {},
   "outputs": [
    {
     "name": "stdout",
     "output_type": "stream",
     "text": [
      "confusion matrics for different threshold values\n",
      "\n",
      "Threshold value =  2.8431648544044656\n",
      "TP= 0.36507936507936506 FP= 0.1746031746031746\n",
      "FN= 0.015873015873015872 TN= 0.4444444444444444\n",
      "\n",
      "Threshold value =  2.2034189430618585\n",
      "TP= 0.42857142857142855 FP= 0.1111111111111111\n",
      "FN= 0.06349206349206349 TN= 0.3968253968253968\n",
      "\n",
      "Threshold value =  -0.0017309425063885605\n",
      "TP= 0.5079365079365079 FP= 0.031746031746031744\n",
      "FN= 0.15873015873015872 TN= 0.30158730158730157\n"
     ]
    }
   ],
   "source": [
    "# 计算confusion matrix, 注意，GBM预测不会再(0,1)范围\n",
    "idx25 = int(len(thresh) * 0.25)\n",
    "idx50 = int(len(thresh) * 0.50)\n",
    "idx75 = int(len(thresh) * 0.75)\n",
    "\n",
    "# \n",
    "totalPts = len(yTest)\n",
    "P = sum(yTest) # 正例数\n",
    "N = totalPts - P\n",
    "print('confusion matrics for different threshold values')\n",
    "# 可以看到 threshold值是递减的\n",
    "\n",
    "#25th\n",
    "TP = tpr[idx25] * P; TF = P - TP;\n",
    "FN = fpr[idx25] * N; TN = N - FN\n",
    "print('')\n",
    "print('Threshold value = ',thresh[idx25])\n",
    "print('TP=',TP/totalPts, 'FP=',TF/totalPts)\n",
    "print('FN=',FN/totalPts, 'TN=',TN/totalPts)\n",
    "\n",
    "#50th\n",
    "TP = tpr[idx50] * P; TF = P - TP;\n",
    "FN = fpr[idx50] * N; TN = N - FN\n",
    "print('')\n",
    "print('Threshold value = ',thresh[idx50])\n",
    "print('TP=',TP/totalPts, 'FP=',TF/totalPts)\n",
    "print('FN=',FN/totalPts, 'TN=',TN/totalPts)\n",
    "\n",
    "#75th\n",
    "TP = tpr[idx75] * P; TF = P - TP;\n",
    "FN = fpr[idx75] * N; TN = N - FN\n",
    "print('')\n",
    "print('Threshold value = ',thresh[idx75])\n",
    "print('TP=',TP/totalPts, 'FP=',TF/totalPts)\n",
    "print('FN=',FN/totalPts, 'TN=',TN/totalPts)\n"
   ]
  },
  {
   "cell_type": "code",
   "execution_count": null,
   "metadata": {},
   "outputs": [],
   "source": []
  }
 ],
 "metadata": {
  "kernelspec": {
   "display_name": "Python 3",
   "language": "python",
   "name": "python3"
  },
  "language_info": {
   "codemirror_mode": {
    "name": "ipython",
    "version": 3
   },
   "file_extension": ".py",
   "mimetype": "text/x-python",
   "name": "python",
   "nbconvert_exporter": "python",
   "pygments_lexer": "ipython3",
   "version": "3.7.3"
  }
 },
 "nbformat": 4,
 "nbformat_minor": 2
}
