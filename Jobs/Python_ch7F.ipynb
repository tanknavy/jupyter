{
 "cells": [
  {
   "cell_type": "code",
   "execution_count": 21,
   "metadata": {},
   "outputs": [],
   "source": [
    "'''\n",
    "__author__ = 'Alex Cheng'\n",
    "Python集成方法工具包解决分类问题：梯度提升法 处理玻璃多分类 数据不平衡 问题\n",
    "ensemble: RandomForestClassifier,\n",
    "回归：分割点质量是有平方误差和（mse）\n",
    "分类：误分类指标，ROC曲线，误分类率\n",
    "predict,predic_proba,predict_log_proba\n",
    "\n",
    "梯度提升算法会过拟合，持续跟踪AUC最佳值，其最佳值生成ROC曲线，fpr,tpr等\n",
    "决策树数目的增加就等同于在梯度下降中采取了更多步骤，每一步就意味着又训练了一个决策树\n",
    "\n",
    "'''\n",
    "import numpy as np\n",
    "import pandas as pd\n",
    "import matplotlib.pyplot as plt\n",
    "\n",
    "#from sklearn.cross_validation import train_test_split\n",
    "from sklearn.model_selection import train_test_split\n",
    "from sklearn import ensemble\n",
    "from sklearn import datasets,linear_model\n",
    "from sklearn.tree import DecisionTreeRegressor\n",
    "from sklearn.metrics import roc_curve,auc,roc_auc_score,mean_squared_error, \\\n",
    "accuracy_score,confusion_matrix\n",
    "from math import sqrt\n",
    "import random"
   ]
  },
  {
   "cell_type": "code",
   "execution_count": 13,
   "metadata": {},
   "outputs": [
    {
     "data": {
      "text/html": [
       "<div>\n",
       "<style scoped>\n",
       "    .dataframe tbody tr th:only-of-type {\n",
       "        vertical-align: middle;\n",
       "    }\n",
       "\n",
       "    .dataframe tbody tr th {\n",
       "        vertical-align: top;\n",
       "    }\n",
       "\n",
       "    .dataframe thead th {\n",
       "        text-align: right;\n",
       "    }\n",
       "</style>\n",
       "<table border=\"1\" class=\"dataframe\">\n",
       "  <thead>\n",
       "    <tr style=\"text-align: right;\">\n",
       "      <th></th>\n",
       "      <th>V0</th>\n",
       "      <th>V1</th>\n",
       "      <th>V2</th>\n",
       "      <th>V3</th>\n",
       "      <th>V4</th>\n",
       "      <th>V5</th>\n",
       "      <th>V6</th>\n",
       "      <th>V7</th>\n",
       "      <th>V8</th>\n",
       "      <th>V9</th>\n",
       "      <th>V10</th>\n",
       "    </tr>\n",
       "  </thead>\n",
       "  <tbody>\n",
       "    <tr>\n",
       "      <th>0</th>\n",
       "      <td>1</td>\n",
       "      <td>1.52101</td>\n",
       "      <td>13.64</td>\n",
       "      <td>4.49</td>\n",
       "      <td>1.10</td>\n",
       "      <td>71.78</td>\n",
       "      <td>0.06</td>\n",
       "      <td>8.75</td>\n",
       "      <td>0.0</td>\n",
       "      <td>0.0</td>\n",
       "      <td>1</td>\n",
       "    </tr>\n",
       "    <tr>\n",
       "      <th>1</th>\n",
       "      <td>2</td>\n",
       "      <td>1.51761</td>\n",
       "      <td>13.89</td>\n",
       "      <td>3.60</td>\n",
       "      <td>1.36</td>\n",
       "      <td>72.73</td>\n",
       "      <td>0.48</td>\n",
       "      <td>7.83</td>\n",
       "      <td>0.0</td>\n",
       "      <td>0.0</td>\n",
       "      <td>1</td>\n",
       "    </tr>\n",
       "    <tr>\n",
       "      <th>2</th>\n",
       "      <td>3</td>\n",
       "      <td>1.51618</td>\n",
       "      <td>13.53</td>\n",
       "      <td>3.55</td>\n",
       "      <td>1.54</td>\n",
       "      <td>72.99</td>\n",
       "      <td>0.39</td>\n",
       "      <td>7.78</td>\n",
       "      <td>0.0</td>\n",
       "      <td>0.0</td>\n",
       "      <td>1</td>\n",
       "    </tr>\n",
       "    <tr>\n",
       "      <th>3</th>\n",
       "      <td>4</td>\n",
       "      <td>1.51766</td>\n",
       "      <td>13.21</td>\n",
       "      <td>3.69</td>\n",
       "      <td>1.29</td>\n",
       "      <td>72.61</td>\n",
       "      <td>0.57</td>\n",
       "      <td>8.22</td>\n",
       "      <td>0.0</td>\n",
       "      <td>0.0</td>\n",
       "      <td>1</td>\n",
       "    </tr>\n",
       "    <tr>\n",
       "      <th>4</th>\n",
       "      <td>5</td>\n",
       "      <td>1.51742</td>\n",
       "      <td>13.27</td>\n",
       "      <td>3.62</td>\n",
       "      <td>1.24</td>\n",
       "      <td>73.08</td>\n",
       "      <td>0.55</td>\n",
       "      <td>8.07</td>\n",
       "      <td>0.0</td>\n",
       "      <td>0.0</td>\n",
       "      <td>1</td>\n",
       "    </tr>\n",
       "  </tbody>\n",
       "</table>\n",
       "</div>"
      ],
      "text/plain": [
       "   V0       V1     V2    V3    V4     V5    V6    V7   V8   V9  V10\n",
       "0   1  1.52101  13.64  4.49  1.10  71.78  0.06  8.75  0.0  0.0    1\n",
       "1   2  1.51761  13.89  3.60  1.36  72.73  0.48  7.83  0.0  0.0    1\n",
       "2   3  1.51618  13.53  3.55  1.54  72.99  0.39  7.78  0.0  0.0    1\n",
       "3   4  1.51766  13.21  3.69  1.29  72.61  0.57  8.22  0.0  0.0    1\n",
       "4   5  1.51742  13.27  3.62  1.24  73.08  0.55  8.07  0.0  0.0    1"
      ]
     },
     "execution_count": 13,
     "metadata": {},
     "output_type": "execute_result"
    }
   ],
   "source": [
    "path = 'd:/input/jobs/'\n",
    "target_url = (\"http://archive.ics.uci.edu/ml/machine-learning-databases/\"\n",
    "             \"glass/glass.data\")\n",
    "df = pd.read_csv(target_url,header=None,prefix=\"V\")\n",
    "#df = pd.read_csv(target_url)\n",
    "df.head()"
   ]
  },
  {
   "cell_type": "code",
   "execution_count": 41,
   "metadata": {},
   "outputs": [
    {
     "data": {
      "text/plain": [
       "Index(['V0', 'V1', 'V2', 'V3', 'V4', 'V5', 'V6', 'V7', 'V8', 'V9', 'V10'], dtype='object')"
      ]
     },
     "execution_count": 41,
     "metadata": {},
     "output_type": "execute_result"
    }
   ],
   "source": []
  },
  {
   "cell_type": "code",
   "execution_count": 42,
   "metadata": {},
   "outputs": [
    {
     "name": "stdout",
     "output_type": "stream",
     "text": [
      "{1: 0, 2: 1, 3: 2, 5: 3, 6: 4, 7: 5}\n",
      "2    76\n",
      "1    70\n",
      "7    29\n",
      "3    17\n",
      "5    13\n",
      "6     9\n",
      "Name: V10, dtype: int64\n"
     ]
    }
   ],
   "source": [
    "# 原始数组\n",
    "xList  = np.array(df.iloc[:,1:-1]) # 属性数组,第一列是标号没有意义\n",
    "#labels = [i for i in df.iloc[:,-1]] # 最后一列就是label\n",
    "# 标签是整数值，转换成连续整数\n",
    "labels = df.iloc[:,-1]\n",
    "newLabels = []\n",
    "labelSet = set(labels)\n",
    "labelList = list(labelSet)\n",
    "labelList.sort()\n",
    "for i in labels:\n",
    "    index = labelList.index(i)\n",
    "    newLabels.append(index)\n",
    "\n",
    "# 字典编码\n",
    "labelCode = {}\n",
    "for k,v in zip(labelList,range(len(labelList))):\n",
    "    labelCode[k] = v\n",
    "print(labelCode)\n",
    "print(df.iloc[:,-1].value_counts())\n",
    "'''\n",
    "2    76\n",
    "1    70\n",
    "7    29\n",
    "3    17\n",
    "5    13\n",
    "6     9\n",
    "Name: V10, dtype: int64\n",
    "'''\n",
    "\n",
    "glassNames = np.array(['RI','Na','Mg','Al','Si','K','Ca','Ba','Fe','Type'])\n",
    "\n"
   ]
  },
  {
   "cell_type": "code",
   "execution_count": null,
   "metadata": {},
   "outputs": [],
   "source": []
  },
  {
   "cell_type": "code",
   "execution_count": 50,
   "metadata": {},
   "outputs": [],
   "source": [
    "# 正则化columns in x and labels\n",
    "nrows = len(xList)\n",
    "ncols = len(xList[0])\n",
    "\n",
    "# RandomForest 要求数据为np.array格式\n",
    "x = np.array(df.iloc[:,:-1])\n",
    "y = np.array(newLabels)\n",
    "#names = np.array(df.columns)\n",
    "\n",
    "# 标签分布不均匀，随机抽样有可能不能保持总体的分布，采\n",
    "# 用分层抽样技术（stratifid sampleing）\n",
    "# model_selection\n",
    "# 每类标签选30%，先选一个算是初始化np.array, 为下面的np.append(x,xt,aix=0)为准备\n",
    "xTemp = [xList[i] for i in range(nrows) if newLabels[i] == 0] # 类数量最多的\n",
    "yTemp = [newLabels[i] for i in range(nrows) if newLabels[i] == 0]\n",
    "xTrain,xTest,yTrain,yTest = train_test_split(xTemp,yTemp,test_size=0.30,random_state=828)\n",
    "\n",
    "for label in range(1,len(labelList)): # 0以后其它标签类也按30%比例\n",
    "    xTemp = [xList[i] for i in range(nrows) if newLabels[i] == label]\n",
    "    yTemp = [newLabels[i] for i in range(nrows) if newLabels[i] == label]\n",
    "    xTrainTemp,xTestTemp,yTrainTemp,yTestTemp = train_test_split(\n",
    "        xTemp,yTemp,test_size=0.30,random_state=828)\n",
    "    # 累计最终结果\n",
    "    xTrain = np.append(xTrain,xTrainTemp,axis=0)\n",
    "    xTest =  np.append(xTest,xTestTemp,axis=0)\n",
    "    yTrain = np.append(yTrain,yTrainTemp,axis=0)\n",
    "    yTest =  np.append(yTest,yTestTemp,axis=0)\n",
    "\n",
    "error = []\n",
    "nTreeList = range(50,2000,50)\n",
    "for iTree in nTreeList:\n",
    "    depth = None\n",
    "    maxFeat = 4\n",
    "    glassRF = ensemble.RandomForestClassifier(n_estimators=iTree, max_depth=depth,\n",
    "                    max_features=maxFeat,oob_score=False,random_state=828)\n",
    "    glassRF.fit(xTrain,yTrain)\n",
    "    \n",
    "    pred = glassRF.predict(xTest) # 结果是numpy格式\n",
    "    acc = accuracy_score(yTest,pred)\n",
    "    error.append(1.0-acc)\n"
   ]
  },
  {
   "cell_type": "code",
   "execution_count": 55,
   "metadata": {},
   "outputs": [
    {
     "data": {
      "text/plain": [
       "([0.28787878787878785,\n",
       "  0.24242424242424243,\n",
       "  0.25757575757575757,\n",
       "  0.25757575757575757,\n",
       "  0.28787878787878785],\n",
       " array([5, 0, 0, 0, 0]))"
      ]
     },
     "execution_count": 55,
     "metadata": {},
     "output_type": "execute_result"
    }
   ],
   "source": [
    "error[:5],pred[:5]"
   ]
  },
  {
   "cell_type": "code",
   "execution_count": 52,
   "metadata": {},
   "outputs": [
    {
     "name": "stdout",
     "output_type": "stream",
     "text": [
      "66 66\n"
     ]
    }
   ],
   "source": [
    "print(len(yTest),len(pred))"
   ]
  },
  {
   "cell_type": "code",
   "execution_count": 53,
   "metadata": {},
   "outputs": [
    {
     "name": "stdout",
     "output_type": "stream",
     "text": [
      "Miss classification Error:  0.28787878787878785\n",
      "\n",
      "Confusion Matrix: \n",
      " [[19  1  0  0  0  1]\n",
      " [ 6 15  0  1  0  1]\n",
      " [ 3  2  1  0  0  0]\n",
      " [ 0  1  0  2  0  1]\n",
      " [ 0  0  0  0  3  0]\n",
      " [ 1  1  0  0  0  7]]\n"
     ]
    },
    {
     "data": {
      "image/png": "[encoded data removed]",
      "text/plain": [
       "<Figure size 432x288 with 1 Axes>"
      ]
     },
     "metadata": {
      "needs_background": "light"
     },
     "output_type": "display_data"
    }
   ],
   "source": [
    "print('Miss classification Error: ',error[-1])\n",
    "pList = pred.tolist()\n",
    "# 混淆矩阵(本例是多分类)，对于每一个类别，其样本分别有多少被预测成了其他类别\n",
    "confMat = confusion_matrix(yTest,pred)\n",
    "print('')\n",
    "print('Confusion Matrix: \\n',confMat)\n",
    "\n",
    "# 训练集，测试集错误率 vs 树的数量\n",
    "plt.plot(nTreeList,error)\n",
    "plt.xlabel('number of Random Forest Tree in Ensemble')\n",
    "plt.ylabel('Missclassification Error Rate')\n",
    "plt.show()"
   ]
  },
  {
   "cell_type": "code",
   "execution_count": 54,
   "metadata": {},
   "outputs": [
    {
     "data": {
      "image/png": "[encoded data removed]",
      "text/plain": [
       "<Figure size 432x288 with 1 Axes>"
      ]
     },
     "metadata": {
      "needs_background": "light"
     },
     "output_type": "display_data"
    }
   ],
   "source": [
    "# 特征重要性,top30\n",
    "featImportance = glassRF.feature_importances_\n",
    "featImportance = featImportance / featImportance.max()\n",
    "#print(len(featImportance))\n",
    "idxSorted = np.argsort(featImportance) # 后面最大60-40个\n",
    "barPos = np.arange(idxSorted.shape[0]) + .5\n",
    "plt.barh(barPos,featImportance[idxSorted], align='center') # 水平柱状图\n",
    "plt.yticks(barPos, glassNames[idxSorted]) # np.array的数组可以[]取值\n",
    "plt.xlabel('variable importance')\n",
    "#plt.subplots_adjust(left=0.2,right=0.9,top=0.9,bottom=0.1)\n",
    "plt.show()\n",
    "# 条状图中有些属性对性能的贡献是相当有些的，这不同寻常，在很多情况下，属性的重要性\n",
    "# 经过前几个后会迅速下降，但是对玻璃分类，有几个属性具有相同的重要性"
   ]
  },
  {
   "cell_type": "code",
   "execution_count": null,
   "metadata": {},
   "outputs": [],
   "source": []
  },
  {
   "cell_type": "code",
   "execution_count": null,
   "metadata": {},
   "outputs": [],
   "source": []
  },
  {
   "cell_type": "code",
   "execution_count": null,
   "metadata": {},
   "outputs": [],
   "source": []
  }
 ],
 "metadata": {
  "kernelspec": {
   "display_name": "Python 3",
   "language": "python",
   "name": "python3"
  },
  "language_info": {
   "codemirror_mode": {
    "name": "ipython",
    "version": 3
   },
   "file_extension": ".py",
   "mimetype": "text/x-python",
   "name": "python",
   "nbconvert_exporter": "python",
   "pygments_lexer": "ipython3",
   "version": "3.7.3"
  }
 },
 "nbformat": 4,
 "nbformat_minor": 2
}
