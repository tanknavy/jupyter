{
 "cells": [
  {
   "cell_type": "code",
   "execution_count": 52,
   "metadata": {},
   "outputs": [],
   "source": [
    "'''\n",
    "__author__ = 'Alex Cheng'\n",
    "惩罚回归系数控制过拟合-岭回归（L2）\n",
    "让系数变小，而不是将其中一些系数设定为0\n",
    "alpha一系列值按照10的倍数递减，通过不同值来控制模型数量\n",
    "'''\n",
    "import numpy as np\n",
    "import pandas as pd\n",
    "import matplotlib.pyplot as plt\n",
    "from sklearn import datasets,linear_model\n",
    "from sklearn.metrics import roc_curve,auc,roc_auc_score\n",
    "from math import sqrt"
   ]
  },
  {
   "cell_type": "code",
   "execution_count": 2,
   "metadata": {},
   "outputs": [
    {
     "data": {
      "text/html": [
       "<div>\n",
       "<style scoped>\n",
       "    .dataframe tbody tr th:only-of-type {\n",
       "        vertical-align: middle;\n",
       "    }\n",
       "\n",
       "    .dataframe tbody tr th {\n",
       "        vertical-align: top;\n",
       "    }\n",
       "\n",
       "    .dataframe thead th {\n",
       "        text-align: right;\n",
       "    }\n",
       "</style>\n",
       "<table border=\"1\" class=\"dataframe\">\n",
       "  <thead>\n",
       "    <tr style=\"text-align: right;\">\n",
       "      <th></th>\n",
       "      <th>V0</th>\n",
       "      <th>V1</th>\n",
       "      <th>V2</th>\n",
       "      <th>V3</th>\n",
       "      <th>V4</th>\n",
       "      <th>V5</th>\n",
       "      <th>V6</th>\n",
       "      <th>V7</th>\n",
       "      <th>V8</th>\n",
       "      <th>V9</th>\n",
       "      <th>...</th>\n",
       "      <th>V51</th>\n",
       "      <th>V52</th>\n",
       "      <th>V53</th>\n",
       "      <th>V54</th>\n",
       "      <th>V55</th>\n",
       "      <th>V56</th>\n",
       "      <th>V57</th>\n",
       "      <th>V58</th>\n",
       "      <th>V59</th>\n",
       "      <th>V60</th>\n",
       "    </tr>\n",
       "  </thead>\n",
       "  <tbody>\n",
       "    <tr>\n",
       "      <th>0</th>\n",
       "      <td>0.0200</td>\n",
       "      <td>0.0371</td>\n",
       "      <td>0.0428</td>\n",
       "      <td>0.0207</td>\n",
       "      <td>0.0954</td>\n",
       "      <td>0.0986</td>\n",
       "      <td>0.1539</td>\n",
       "      <td>0.1601</td>\n",
       "      <td>0.3109</td>\n",
       "      <td>0.2111</td>\n",
       "      <td>...</td>\n",
       "      <td>0.0027</td>\n",
       "      <td>0.0065</td>\n",
       "      <td>0.0159</td>\n",
       "      <td>0.0072</td>\n",
       "      <td>0.0167</td>\n",
       "      <td>0.0180</td>\n",
       "      <td>0.0084</td>\n",
       "      <td>0.0090</td>\n",
       "      <td>0.0032</td>\n",
       "      <td>R</td>\n",
       "    </tr>\n",
       "    <tr>\n",
       "      <th>1</th>\n",
       "      <td>0.0453</td>\n",
       "      <td>0.0523</td>\n",
       "      <td>0.0843</td>\n",
       "      <td>0.0689</td>\n",
       "      <td>0.1183</td>\n",
       "      <td>0.2583</td>\n",
       "      <td>0.2156</td>\n",
       "      <td>0.3481</td>\n",
       "      <td>0.3337</td>\n",
       "      <td>0.2872</td>\n",
       "      <td>...</td>\n",
       "      <td>0.0084</td>\n",
       "      <td>0.0089</td>\n",
       "      <td>0.0048</td>\n",
       "      <td>0.0094</td>\n",
       "      <td>0.0191</td>\n",
       "      <td>0.0140</td>\n",
       "      <td>0.0049</td>\n",
       "      <td>0.0052</td>\n",
       "      <td>0.0044</td>\n",
       "      <td>R</td>\n",
       "    </tr>\n",
       "    <tr>\n",
       "      <th>2</th>\n",
       "      <td>0.0262</td>\n",
       "      <td>0.0582</td>\n",
       "      <td>0.1099</td>\n",
       "      <td>0.1083</td>\n",
       "      <td>0.0974</td>\n",
       "      <td>0.2280</td>\n",
       "      <td>0.2431</td>\n",
       "      <td>0.3771</td>\n",
       "      <td>0.5598</td>\n",
       "      <td>0.6194</td>\n",
       "      <td>...</td>\n",
       "      <td>0.0232</td>\n",
       "      <td>0.0166</td>\n",
       "      <td>0.0095</td>\n",
       "      <td>0.0180</td>\n",
       "      <td>0.0244</td>\n",
       "      <td>0.0316</td>\n",
       "      <td>0.0164</td>\n",
       "      <td>0.0095</td>\n",
       "      <td>0.0078</td>\n",
       "      <td>R</td>\n",
       "    </tr>\n",
       "    <tr>\n",
       "      <th>3</th>\n",
       "      <td>0.0100</td>\n",
       "      <td>0.0171</td>\n",
       "      <td>0.0623</td>\n",
       "      <td>0.0205</td>\n",
       "      <td>0.0205</td>\n",
       "      <td>0.0368</td>\n",
       "      <td>0.1098</td>\n",
       "      <td>0.1276</td>\n",
       "      <td>0.0598</td>\n",
       "      <td>0.1264</td>\n",
       "      <td>...</td>\n",
       "      <td>0.0121</td>\n",
       "      <td>0.0036</td>\n",
       "      <td>0.0150</td>\n",
       "      <td>0.0085</td>\n",
       "      <td>0.0073</td>\n",
       "      <td>0.0050</td>\n",
       "      <td>0.0044</td>\n",
       "      <td>0.0040</td>\n",
       "      <td>0.0117</td>\n",
       "      <td>R</td>\n",
       "    </tr>\n",
       "    <tr>\n",
       "      <th>4</th>\n",
       "      <td>0.0762</td>\n",
       "      <td>0.0666</td>\n",
       "      <td>0.0481</td>\n",
       "      <td>0.0394</td>\n",
       "      <td>0.0590</td>\n",
       "      <td>0.0649</td>\n",
       "      <td>0.1209</td>\n",
       "      <td>0.2467</td>\n",
       "      <td>0.3564</td>\n",
       "      <td>0.4459</td>\n",
       "      <td>...</td>\n",
       "      <td>0.0031</td>\n",
       "      <td>0.0054</td>\n",
       "      <td>0.0105</td>\n",
       "      <td>0.0110</td>\n",
       "      <td>0.0015</td>\n",
       "      <td>0.0072</td>\n",
       "      <td>0.0048</td>\n",
       "      <td>0.0107</td>\n",
       "      <td>0.0094</td>\n",
       "      <td>R</td>\n",
       "    </tr>\n",
       "  </tbody>\n",
       "</table>\n",
       "<p>5 rows × 61 columns</p>\n",
       "</div>"
      ],
      "text/plain": [
       "       V0      V1      V2      V3      V4      V5      V6      V7      V8  \\\n",
       "0  0.0200  0.0371  0.0428  0.0207  0.0954  0.0986  0.1539  0.1601  0.3109   \n",
       "1  0.0453  0.0523  0.0843  0.0689  0.1183  0.2583  0.2156  0.3481  0.3337   \n",
       "2  0.0262  0.0582  0.1099  0.1083  0.0974  0.2280  0.2431  0.3771  0.5598   \n",
       "3  0.0100  0.0171  0.0623  0.0205  0.0205  0.0368  0.1098  0.1276  0.0598   \n",
       "4  0.0762  0.0666  0.0481  0.0394  0.0590  0.0649  0.1209  0.2467  0.3564   \n",
       "\n",
       "       V9  ...     V51     V52     V53     V54     V55     V56     V57  \\\n",
       "0  0.2111  ...  0.0027  0.0065  0.0159  0.0072  0.0167  0.0180  0.0084   \n",
       "1  0.2872  ...  0.0084  0.0089  0.0048  0.0094  0.0191  0.0140  0.0049   \n",
       "2  0.6194  ...  0.0232  0.0166  0.0095  0.0180  0.0244  0.0316  0.0164   \n",
       "3  0.1264  ...  0.0121  0.0036  0.0150  0.0085  0.0073  0.0050  0.0044   \n",
       "4  0.4459  ...  0.0031  0.0054  0.0105  0.0110  0.0015  0.0072  0.0048   \n",
       "\n",
       "      V58     V59  V60  \n",
       "0  0.0090  0.0032    R  \n",
       "1  0.0052  0.0044    R  \n",
       "2  0.0095  0.0078    R  \n",
       "3  0.0040  0.0117    R  \n",
       "4  0.0107  0.0094    R  \n",
       "\n",
       "[5 rows x 61 columns]"
      ]
     },
     "execution_count": 2,
     "metadata": {},
     "output_type": "execute_result"
    }
   ],
   "source": [
    "target_url = (\"http://archive.ics.uci.edu/ml/machine-learning-databases/\"\n",
    "             \"undocumented/connectionist-bench/sonar/sonar.all-data\")\n",
    "df = pd.read_csv(target_url,header=None,sep=\",\",prefix='V')\n",
    "df.head()"
   ]
  },
  {
   "cell_type": "code",
   "execution_count": 5,
   "metadata": {},
   "outputs": [
    {
     "name": "stdout",
     "output_type": "stream",
     "text": [
      "M    111\n",
      "R     97\n",
      "Name: V60, dtype: int64\n"
     ]
    }
   ],
   "source": [
    "xList  = np.array(df.iloc[:,:-1]) # 属性数组\n",
    "labels = []\n",
    "names = df.columns\n",
    "print(df.iloc[:,-1].value_counts()) # M:111, R:97\n",
    "\n",
    " # 二分类值转换为实数\n",
    "for label in df.iloc[:,-1]:\n",
    "    if(label == 'M'):\n",
    "        labels.append(1.0)\n",
    "    else:\n",
    "        labels.append(0.0)\n"
   ]
  },
  {
   "cell_type": "code",
   "execution_count": 8,
   "metadata": {},
   "outputs": [],
   "source": [
    "# 正则化columns in x and labels\n",
    "nrows = len(xList)\n",
    "ncols = len(xList[0])\n",
    "\n",
    "# 计算means and variance\n",
    "xMeans = []\n",
    "xSD = []\n",
    "for i in range(ncols):\n",
    "    col = [xList[j][i] for j in range(nrows)]\n",
    "    mean = sum(col)/nrows\n",
    "    xMeans.append(mean)\n",
    "    colDiff = sum((col - mean) **2)\n",
    "    \n",
    "    colDiff2 = [(xList[j][i] - mean) for j in range(nrows) ]\n",
    "    sumSq = sum([colDiff2[i]  * colDiff2[i] for i in range(nrows)])\n",
    "    stdDev2 = sqrt(sumSq/nrows)\n",
    "    \n",
    "    stdDev = sqrt(colDiff/nrows)\n",
    "    xSD.append(stdDev)\n",
    "#print(xMeans,'\\n',xSD)\n",
    "#print(stdDev == stdDev2) # broadcast广播变量的方式，发现结果一样\n",
    "\n",
    "\n",
    "# 正则化xList\n",
    "xNorm = []\n",
    "for i in range(nrows):\n",
    "    #rowNorm = ([xList[i] - xMeans]) / xSD  #列表不支持\n",
    "    rowNorm = [(xList[i][j] - xMeans[j]) / xSD[j] for j in range(ncols)]\n",
    "    xNorm.append(rowNorm)\n",
    "\n",
    "# 正则化 labels\n",
    "meanLable = sum(labels)/ nrows\n",
    "sdLabel = sqrt(sum([ (labels[i] - meanLable) * (labels[i] - meanLable) for i in range(nrows)]) / nrows)\n",
    "labelNorm = [ (labels[i] - meanLable) / sdLabel for i in range(nrows) ]"
   ]
  },
  {
   "cell_type": "code",
   "execution_count": 68,
   "metadata": {},
   "outputs": [
    {
     "name": "stdout",
     "output_type": "stream",
     "text": [
      "(21, 100)\n",
      "(42, 100)\n",
      "(63, 100)\n",
      "(84, 100)\n",
      "(105, 100)\n",
      "(126, 100)\n",
      "(147, 100)\n",
      "(168, 100)\n",
      "(188, 100)\n",
      "(208, 100)\n"
     ]
    }
   ],
   "source": [
    "# 交叉验证给出稳定的性能估计\n",
    "# number of cross-validation folds\n",
    "nxval = 10\n",
    "for ixval in range(nxval): # 交叉验证\n",
    "    # Define test and traing index sets\n",
    "    idxTest =  [i for i in range(nrows) if i % nxval == ixval]\n",
    "    idxTrain = [i for i in range(nrows) if i % nxval != ixval]\n",
    "    #idxTest =  [i for i in range(nrows) if i % nxval ==0]\n",
    "    #idxTrain = [i for i in range(nrows) if i % nxval !=0]\n",
    "\n",
    "    # 定义测试和训练的属性和列表\n",
    "    xTrain = [xNorm[r] for r in idxTrain]\n",
    "    xTest  = [xNorm[r] for r in idxTest]\n",
    "    yTrain = [labelNorm[r] for r in idxTrain]\n",
    "    yTest  = [labelNorm[r] for r in idxTest] # 列向量\n",
    "    \n",
    "    # ElasticNet， 已经normlized，fit_intercept为False\n",
    "    # coefs.shape = (60,100), 60个栏位，每组数据100次alpha尝试\n",
    "    alphas,coefs,_ = linear_model.enet_path(xTrain,yTrain,l1_ration=0.8,\n",
    "                                           fit_intercept=False,return_models=False)\n",
    "    \n",
    "    # 应用coefs测试数据产生预知和累计\n",
    "    if ixval == 0:\n",
    "        pred = np.dot(xTest,coefs) # 测试集预知，注意：每一次的测试集个数可能不一样\n",
    "        yOut = yTest\n",
    "    else:\n",
    "        yTemp = np.array(yOut) \n",
    "        yOut = np.concatenate((yTemp,yTest),axis=0) # 垂直方向叠加起来，\n",
    "        \n",
    "        predTemp = np.array(pred)\n",
    "        pred = np.concatenate((predTemp, np.dot(xTest,coefs)),axis=0) #（208,100）\n",
    "    \n",
    "    print(pred.shape)# （rows, 100）\n",
    "\n",
    "\n",
    "# 计算错误\n",
    "misClassRate = []\n",
    "_,nPred = pred.shape # 列方向是默认100次alpha迭代的预测\n",
    "for iPred in range(1,nPred): # 为什么从1开始？因为第0列的预测全部为0，不准没有参考价值\n",
    "    predList = list(pred[:,iPred])\n",
    "    errCnt = 0.0\n",
    "    for irow in range(nrows):\n",
    "        if (predList[irow] < 0.0) and (yOut[irow] >= 0.0):\n",
    "            errCnt += 1.0\n",
    "        elif (predList[irow] >= 0.0) and (yOut[irow] < 0.0):\n",
    "            errCnt += 1.0\n",
    "    misClassRate.append(errCnt/nrows)\n",
    "        \n"
   ]
  },
  {
   "cell_type": "code",
   "execution_count": 74,
   "metadata": {},
   "outputs": [
    {
     "data": {
      "text/plain": [
       "((100,), (60, 100))"
      ]
     },
     "execution_count": 74,
     "metadata": {},
     "output_type": "execute_result"
    }
   ],
   "source": [
    "alphas.shape,coefs.shape"
   ]
  },
  {
   "cell_type": "code",
   "execution_count": 107,
   "metadata": {},
   "outputs": [
    {
     "name": "stdout",
     "output_type": "stream",
     "text": [
      "Min Error index of alpha 47\n"
     ]
    },
    {
     "data": {
      "image/png": "[encoded data removed]",
      "text/plain": [
       "<Figure size 432x288 with 1 Axes>"
      ]
     },
     "metadata": {
      "needs_background": "light"
     },
     "output_type": "display_data"
    }
   ],
   "source": [
    "# 找到最小点绘图\n",
    "minError = min(misClassRate)\n",
    "idxMin = misClassRate.index(minError)\n",
    "plotAlphas = list(alphas[1:len(alphas)])\n",
    "print('Min Error index of alpha',idxMin)\n",
    "\n",
    "# 分类错误与alpha\n",
    "plt.figure()\n",
    "plt.plot(plotAlphas,misClassRate,label='Misclassification Error',linewidth=2)\n",
    "plt.axvline(plotAlphas[idxMin],linestyle='--',label='CV Estimate of Best alpha') # 最小值\n",
    "plt.legend()\n",
    "plt.semilogx()\n",
    "ax = plt.gca()\n",
    "ax.invert_xaxis()\n",
    "plt.xlabel('alpha')\n",
    "plt.ylabel('Misclassfication Error')\n",
    "plt.axis('tight')\n",
    "plt.show()"
   ]
  },
  {
   "cell_type": "code",
   "execution_count": null,
   "metadata": {},
   "outputs": [],
   "source": []
  },
  {
   "cell_type": "code",
   "execution_count": 108,
   "metadata": {},
   "outputs": [
    {
     "name": "stdout",
     "output_type": "stream",
     "text": [
      "Max AUC of the index of alpha 49\n"
     ]
    },
    {
     "data": {
      "image/png": "[encoded data removed]",
      "text/plain": [
       "<Figure size 432x288 with 1 Axes>"
      ]
     },
     "metadata": {
      "needs_background": "light"
     },
     "output_type": "display_data"
    }
   ],
   "source": [
    "# 计算AUC     # pred(60,100),\n",
    "idxPos = [i for i in range(nrows) if yOut[i] > 0.0] # 为什么是大于0？\n",
    "yOutBin = [0] * nrows\n",
    "for i in idxPos: yOutBin[i] = 1\n",
    "\n",
    "auc = []\n",
    "for iPred in range(1,nPred):\n",
    "    predList = list(pred[:,iPred])\n",
    "    aucCalc = roc_auc_score(yOutBin,predList)\n",
    "    auc.append(aucCalc)\n",
    "maxAUC = max(auc)\n",
    "idxMax = auc.index(maxAUC)\n",
    "print('Max AUC of the index of alpha',idxMax)\n",
    "\n",
    "# AUC 面积和alpha\n",
    "plt.figure()\n",
    "plt.plot(plotAlphas,auc,auc, label='AUC Across Folds', linewidth=2)\n",
    "plt.axvline(plotAlphas[idxMax],linestyle='--',label='CV Estimate of Best alpha')\n",
    "plt.legend()\n",
    "plt.semilogx()\n",
    "ax = plt.gca()\n",
    "ax.invert_xaxis()\n",
    "plt.xlabel('alpha')\n",
    "plt.ylabel('Area Under the ROC Curve')\n",
    "plt.axis('tight')\n",
    "plt.show()"
   ]
  },
  {
   "cell_type": "code",
   "execution_count": 79,
   "metadata": {},
   "outputs": [
    {
     "data": {
      "text/plain": [
       "<function matplotlib.pyplot.show(*args, **kw)>"
      ]
     },
     "execution_count": 79,
     "metadata": {},
     "output_type": "execute_result"
    },
    {
     "data": {
      "image/png": "[encoded data removed]",
      "text/plain": [
       "<Figure size 432x288 with 1 Axes>"
      ]
     },
     "metadata": {
      "needs_background": "light"
     },
     "output_type": "display_data"
    }
   ],
   "source": [
    "# ROC曲线在最大AUC时\n",
    "fpr,tpr,thresh = roc_curve(yOutBin, list(pred[:,idxMax]))\n",
    "ctClass = [i*0.01 for i in range(11)]\n",
    "plt.plot(fpr,tpr,linewidth=2)\n",
    "plt.plot(ctClass, ctClass, linestyle=':')\n",
    "plt.xlabel('False Positive Rate')\n",
    "plt.ylabel('True Positive Rate')\n",
    "plt.show\n"
   ]
  },
  {
   "cell_type": "code",
   "execution_count": 103,
   "metadata": {},
   "outputs": [
    {
     "name": "stdout",
     "output_type": "stream",
     "text": [
      "Best value of Misclassification Error=  0.22115384615384615\n",
      "Beat alpha for Misclassification Error= 0.032535813742947985\n",
      "\n",
      "Best value for AUC =  0.8700659422308907\n",
      "Best alpha for AUC =  0.028297991552286985\n",
      "\n",
      "Confusion Matrices for Different Threshold Values\n",
      "\n",
      "Threshold Vlaue= 0.2635334611160908\n",
      "TP=  58.0 FN=  53.0\n",
      "FP=  9.0 TN=  88.0\n",
      "\n",
      "Threshold Vlaue= -0.26557472044035657\n",
      "TP=  97.0 FN=  14.0\n",
      "FP=  32.0 TN=  65.0\n",
      "----------------------------\n",
      "\n",
      "Threshold Vlaue= 3.740391161773192\n",
      "TP=  0.0 FN=  111.0\n",
      "FP=  0.0 TN=  97.0\n",
      "\n",
      "Threshold Vlaue= -1.6395484709038615\n",
      "TP=  111.0 FN=  0.0\n",
      "FP=  97.0 TN=  0.0\n"
     ]
    }
   ],
   "source": [
    "print('Best value of Misclassification Error= ', misClassRate[idxMin])\n",
    "print('Beat alpha for Misclassification Error=', plotAlphas[idxMin])\n",
    "print('')\n",
    "print('Best value for AUC = ', auc[idxMax])\n",
    "print('Best alpha for AUC = ', plotAlphas[idxMax])\n",
    "\n",
    "print('')\n",
    "print('Confusion Matrices for Different Threshold Values')\n",
    "\n",
    "# 沿着ROC曲线挑取一些点\n",
    "P = len(idxPos) # 取值为正\n",
    "N = nrows - P\n",
    "\n",
    "# ROC点\n",
    "TP = tpr[16] * P\n",
    "FN = P - TP\n",
    "FP = fpr[16] * N\n",
    "TN = N - FP\n",
    "print('\\nThreshold Vlaue=',thresh[16])\n",
    "print('TP= ',TP, 'FN= ',FN)\n",
    "print('FP= ',FP, 'TN= ',TN)\n",
    "\n",
    "# ROC点\n",
    "TP = tpr[52] * P\n",
    "FN = P - TP\n",
    "FP = fpr[52] * N\n",
    "TN = N - FP\n",
    "print('\\nThreshold Vlaue=',thresh[52])\n",
    "print('TP= ',TP, 'FN= ',FN)\n",
    "print('FP= ',FP, 'TN= ',TN)\n",
    "\n",
    "# tpr, fpr，threshold都是72长度，看看最小和最大阈值的confusion matrix\n",
    "print('----------------------------')\n",
    "TP = tpr[0] * P\n",
    "FN = P - TP\n",
    "FP = fpr[0] * N\n",
    "TN = N - FP\n",
    "print('\\nThreshold Vlaue=',thresh[0])\n",
    "print('TP= ',TP, 'FN= ',FN)\n",
    "print('FP= ',FP, 'TN= ',TN)\n",
    "\n",
    "\n",
    "TP = tpr[71] * P\n",
    "FN = P - TP\n",
    "FP = fpr[71] * N\n",
    "TN = N - FP\n",
    "print('\\nThreshold Vlaue=',thresh[71])\n",
    "print('TP= ',TP, 'FN= ',FN)\n",
    "print('FP= ',FP, 'TN= ',TN)\n"
   ]
  },
  {
   "cell_type": "code",
   "execution_count": 105,
   "metadata": {},
   "outputs": [
    {
     "data": {
      "text/plain": [
       "array([0.        , 0.00900901, 0.11711712, 0.11711712, 0.21621622,\n",
       "       0.21621622, 0.42342342, 0.42342342, 0.47747748, 0.47747748,\n",
       "       0.48648649, 0.48648649, 0.5045045 , 0.5045045 , 0.51351351,\n",
       "       0.51351351, 0.52252252, 0.52252252, 0.57657658, 0.57657658,\n",
       "       0.58558559, 0.58558559, 0.63063063, 0.63063063, 0.64864865,\n",
       "       0.64864865, 0.67567568, 0.67567568, 0.7027027 , 0.7027027 ,\n",
       "       0.71171171, 0.71171171, 0.72072072, 0.72072072, 0.73873874,\n",
       "       0.73873874, 0.77477477, 0.77477477, 0.8018018 , 0.8018018 ,\n",
       "       0.81081081, 0.81081081, 0.81981982, 0.81981982, 0.82882883,\n",
       "       0.82882883, 0.83783784, 0.83783784, 0.84684685, 0.84684685,\n",
       "       0.86486486, 0.86486486, 0.87387387, 0.87387387, 0.9009009 ,\n",
       "       0.9009009 , 0.90990991, 0.90990991, 0.93693694, 0.93693694,\n",
       "       0.94594595, 0.94594595, 0.95495495, 0.95495495, 0.96396396,\n",
       "       0.96396396, 0.97297297, 0.97297297, 0.98198198, 0.98198198,\n",
       "       1.        , 1.        ])"
      ]
     },
     "execution_count": 105,
     "metadata": {},
     "output_type": "execute_result"
    }
   ],
   "source": []
  },
  {
   "cell_type": "code",
   "execution_count": 81,
   "metadata": {},
   "outputs": [
    {
     "data": {
      "text/plain": [
       "(72,)"
      ]
     },
     "execution_count": 81,
     "metadata": {},
     "output_type": "execute_result"
    }
   ],
   "source": [
    "fpr.shape"
   ]
  },
  {
   "cell_type": "code",
   "execution_count": 84,
   "metadata": {},
   "outputs": [
    {
     "data": {
      "text/plain": [
       "(208, 61)"
      ]
     },
     "execution_count": 84,
     "metadata": {},
     "output_type": "execute_result"
    }
   ],
   "source": [
    "df.shape"
   ]
  },
  {
   "cell_type": "code",
   "execution_count": 99,
   "metadata": {},
   "outputs": [
    {
     "data": {
      "text/plain": [
       "111"
      ]
     },
     "execution_count": 99,
     "metadata": {},
     "output_type": "execute_result"
    }
   ],
   "source": [
    "len(idxPos)"
   ]
  },
  {
   "cell_type": "code",
   "execution_count": null,
   "metadata": {},
   "outputs": [],
   "source": []
  }
 ],
 "metadata": {
  "kernelspec": {
   "display_name": "Python 3",
   "language": "python",
   "name": "python3"
  },
  "language_info": {
   "codemirror_mode": {
    "name": "ipython",
    "version": 3
   },
   "file_extension": ".py",
   "mimetype": "text/x-python",
   "name": "python",
   "nbconvert_exporter": "python",
   "pygments_lexer": "ipython3",
   "version": "3.7.3"
  }
 },
 "nbformat": 4,
 "nbformat_minor": 2
}
