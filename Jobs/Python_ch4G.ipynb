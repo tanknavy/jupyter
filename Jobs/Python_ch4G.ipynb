{
 "cells": [
  {
   "cell_type": "code",
   "execution_count": 14,
   "metadata": {},
   "outputs": [],
   "source": [
    "'''\n",
    "__author__ = 'Alex Cheng'\n",
    "惩罚线性回归模型 --- K折\n",
    "Ridge回归通过对回归系数的平方和进行惩罚来避免过拟合(beta的平方和，L2)\n",
    "其他惩罚项：Lasso(L1), ElasticNet(a)\n",
    "Lasso的系数向量beta是稀疏的，即对不同的lambda值，许多稀疏等于0,\n",
    "相比之下Ridge的向量beta是密集的，大部分不等于0\n",
    "\n",
    "最小角度回归(LARS),可以理解为一种改进的前向逐步回归算法：在引入新属性时只是部分\n",
    "生成变量重要性排序是惩罚线性回归模型的一个重要特征\n",
    "\n",
    "Glmnet算法解决ElasticNet问题，包括Lasso(L1)和Ridge(L2),lambda参数觉得惩罚程度\n",
    "alpha决定L1和L1之间接近程度\n",
    "\n",
    "\n",
    "本质上，线性方法假设分类以及回归预测可以表示为可用属性的线性组合，\n",
    "如果有理由怀疑线性模型不够的话，可以通过基扩展使用线性模型来处理非线性问题\n",
    "基扩展：非线性问题可以通过属性的多项式来近似或者属性的其他非线性函数（比如幂）\n",
    "\n",
    "向线性方法中引入非数值属性\n",
    "'''\n",
    "import numpy as np\n",
    "import pandas as pd\n",
    "import matplotlib.pyplot as plt\n",
    "from sklearn import datasets,linear_model\n",
    "from sklearn.metrics import roc_curve,auc\n",
    "from math import sqrt,log,cos"
   ]
  },
  {
   "cell_type": "code",
   "execution_count": 15,
   "metadata": {},
   "outputs": [],
   "source": [
    "target_url2 = (\"http://archive.ics.uci.edu/ml/machine-learning-databases/\"\n",
    "\"abalone/abalone.data\")\n",
    "df = pd.read_csv(target_url2,header=None,prefix=\"V\")\n",
    "df.columns = ['Sex','Length','Diameter','Heigth','Whole weight',\n",
    "              'Shucked weight','Viscera weight','Shell weight','Rings']"
   ]
  },
  {
   "cell_type": "code",
   "execution_count": 16,
   "metadata": {},
   "outputs": [
    {
     "data": {
      "text/html": [
       "<div>\n",
       "<style scoped>\n",
       "    .dataframe tbody tr th:only-of-type {\n",
       "        vertical-align: middle;\n",
       "    }\n",
       "\n",
       "    .dataframe tbody tr th {\n",
       "        vertical-align: top;\n",
       "    }\n",
       "\n",
       "    .dataframe thead th {\n",
       "        text-align: right;\n",
       "    }\n",
       "</style>\n",
       "<table border=\"1\" class=\"dataframe\">\n",
       "  <thead>\n",
       "    <tr style=\"text-align: right;\">\n",
       "      <th></th>\n",
       "      <th>Sex</th>\n",
       "      <th>Length</th>\n",
       "      <th>Diameter</th>\n",
       "      <th>Heigth</th>\n",
       "      <th>Whole weight</th>\n",
       "      <th>Shucked weight</th>\n",
       "      <th>Viscera weight</th>\n",
       "      <th>Shell weight</th>\n",
       "      <th>Rings</th>\n",
       "    </tr>\n",
       "  </thead>\n",
       "  <tbody>\n",
       "    <tr>\n",
       "      <th>0</th>\n",
       "      <td>M</td>\n",
       "      <td>0.455</td>\n",
       "      <td>0.365</td>\n",
       "      <td>0.095</td>\n",
       "      <td>0.5140</td>\n",
       "      <td>0.2245</td>\n",
       "      <td>0.1010</td>\n",
       "      <td>0.150</td>\n",
       "      <td>15</td>\n",
       "    </tr>\n",
       "    <tr>\n",
       "      <th>1</th>\n",
       "      <td>M</td>\n",
       "      <td>0.350</td>\n",
       "      <td>0.265</td>\n",
       "      <td>0.090</td>\n",
       "      <td>0.2255</td>\n",
       "      <td>0.0995</td>\n",
       "      <td>0.0485</td>\n",
       "      <td>0.070</td>\n",
       "      <td>7</td>\n",
       "    </tr>\n",
       "    <tr>\n",
       "      <th>2</th>\n",
       "      <td>F</td>\n",
       "      <td>0.530</td>\n",
       "      <td>0.420</td>\n",
       "      <td>0.135</td>\n",
       "      <td>0.6770</td>\n",
       "      <td>0.2565</td>\n",
       "      <td>0.1415</td>\n",
       "      <td>0.210</td>\n",
       "      <td>9</td>\n",
       "    </tr>\n",
       "    <tr>\n",
       "      <th>3</th>\n",
       "      <td>M</td>\n",
       "      <td>0.440</td>\n",
       "      <td>0.365</td>\n",
       "      <td>0.125</td>\n",
       "      <td>0.5160</td>\n",
       "      <td>0.2155</td>\n",
       "      <td>0.1140</td>\n",
       "      <td>0.155</td>\n",
       "      <td>10</td>\n",
       "    </tr>\n",
       "    <tr>\n",
       "      <th>4</th>\n",
       "      <td>I</td>\n",
       "      <td>0.330</td>\n",
       "      <td>0.255</td>\n",
       "      <td>0.080</td>\n",
       "      <td>0.2050</td>\n",
       "      <td>0.0895</td>\n",
       "      <td>0.0395</td>\n",
       "      <td>0.055</td>\n",
       "      <td>7</td>\n",
       "    </tr>\n",
       "  </tbody>\n",
       "</table>\n",
       "</div>"
      ],
      "text/plain": [
       "  Sex  Length  Diameter  Heigth  Whole weight  Shucked weight  Viscera weight  \\\n",
       "0   M   0.455     0.365   0.095        0.5140          0.2245          0.1010   \n",
       "1   M   0.350     0.265   0.090        0.2255          0.0995          0.0485   \n",
       "2   F   0.530     0.420   0.135        0.6770          0.2565          0.1415   \n",
       "3   M   0.440     0.365   0.125        0.5160          0.2155          0.1140   \n",
       "4   I   0.330     0.255   0.080        0.2050          0.0895          0.0395   \n",
       "\n",
       "   Shell weight  Rings  \n",
       "0         0.150     15  \n",
       "1         0.070      7  \n",
       "2         0.210      9  \n",
       "3         0.155     10  \n",
       "4         0.055      7  "
      ]
     },
     "execution_count": 16,
     "metadata": {},
     "output_type": "execute_result"
    }
   ],
   "source": [
    "df.head()"
   ]
  },
  {
   "cell_type": "code",
   "execution_count": 17,
   "metadata": {},
   "outputs": [
    {
     "data": {
      "image/png": "[encoded data removed]",
      "text/plain": [
       "<Figure size 432x288 with 1 Axes>"
      ]
     },
     "metadata": {
      "needs_background": "light"
     },
     "output_type": "display_data"
    }
   ],
   "source": [
    "# box plot the real-valued attributes\n",
    "array = df.iloc[:,1:9].values # values返回list\n",
    "plt.boxplot(array) # 箱线图\n",
    "plt.xlabel(\"Attribute Index\")\n",
    "plt.ylabel(\"Quartile Ranges\")\n",
    "plt.show()"
   ]
  },
  {
   "cell_type": "code",
   "execution_count": 18,
   "metadata": {},
   "outputs": [],
   "source": [
    "xList  = np.array(df.iloc[:,:-1]) # 属性数组\n",
    "labels = [i for i in df.iloc[:,-1]] # 最后一列就是label\n",
    "names = df.columns\n",
    "#nrows = len(xList)\n",
    "#ncols = len(xList[0])"
   ]
  },
  {
   "cell_type": "code",
   "execution_count": 19,
   "metadata": {},
   "outputs": [
    {
     "data": {
      "text/plain": [
       "['Sex1',\n",
       " 'Sex2',\n",
       " 'Length',\n",
       " 'Diameter',\n",
       " 'Heigth',\n",
       " 'Whole weight',\n",
       " 'Shucked weight',\n",
       " 'Viscera weight',\n",
       " 'Shell weight']"
      ]
     },
     "execution_count": 19,
     "metadata": {},
     "output_type": "execute_result"
    }
   ],
   "source": [
    "# 将sex属性装换为数值型\n",
    "xCoded = []\n",
    "for row in xList:\n",
    "    codedSex = [0.0,0.0]\n",
    "    if row[0] == 'M': codedSex[0] = 1.0\n",
    "    if row[0] == 'F': codedSex[1] = 1.0\n",
    "    \n",
    "    numRow = [float(row[i]) for i in range(1,len(row))]\n",
    "    rowCoded = list(codedSex) + numRow\n",
    "    xCoded.append(rowCoded) # 不包含标签\n",
    "    namesCoded = ['Sex1','Sex2'] + list(df.columns[1:-1]) # 不包含标签\n",
    " \n",
    "nrows = len(xCoded)\n",
    "ncols = len(xCoded[0])\n",
    "namesCoded"
   ]
  },
  {
   "cell_type": "code",
   "execution_count": 20,
   "metadata": {},
   "outputs": [
    {
     "data": {
      "text/plain": [
       "(4177, 9)"
      ]
     },
     "execution_count": 20,
     "metadata": {},
     "output_type": "execute_result"
    }
   ],
   "source": [
    "df.shape"
   ]
  },
  {
   "cell_type": "code",
   "execution_count": 26,
   "metadata": {},
   "outputs": [],
   "source": [
    "import copy\n",
    "xList = copy.deepcopy(xCoded)\n",
    "# 计算means and variance\n",
    "xMeans = []\n",
    "xSD = []\n",
    "for i in range(ncols):\n",
    "    col = [xList[j][i] for j in range(nrows)]\n",
    "    mean = sum(col)/nrows\n",
    "    xMeans.append(mean)\n",
    "    #colDiff = sum((col - mean) **2) # 出错\n",
    "    \n",
    "    colDiff2 = [(xList[j][i] - mean) for j in range(nrows) ]\n",
    "    sumSq = sum([colDiff2[i]  * colDiff2[i] for i in range(nrows)])\n",
    "    stdDev = sqrt(sumSq/nrows)\n",
    "    \n",
    "    #stdDev = sqrt(colDiff/nrows)\n",
    "    xSD.append(stdDev)\n",
    "#print(xMeans,'\\n',xSD)\n",
    "#print(stdDev == stdDev2) # broadcast广播变量的方式，发现结果一样\n",
    "\n",
    "\n",
    "# 正则化xList\n",
    "xNorm = []\n",
    "for i in range(nrows):\n",
    "    #rowNorm = ([xList[i] - xMeans]) / xSD  #列表不支持\n",
    "    rowNorm = [(xList[i][j] - xMeans[j]) / xSD[j] for j in range(ncols)]\n",
    "    xNorm.append(rowNorm)\n",
    "\n",
    "# 正则化 labels\n",
    "meanLable = sum(labels)/ nrows\n",
    "sdLabel = sqrt(sum([ (labels[i] - meanLable) * (labels[i] - meanLable) for i in range(nrows)]) / nrows)\n",
    "labelNorm = [ (labels[i] - meanLable) / sdLabel for i in range(nrows) ]"
   ]
  },
  {
   "cell_type": "code",
   "execution_count": 27,
   "metadata": {},
   "outputs": [],
   "source": [
    "# 定义测试和训练的属性和列表\n",
    "nxval = 100 # 几折采样\n",
    "\n",
    "# 无需normalized的从datafram中采样\n",
    "#indices = len(df)\n",
    "#xTrain = np.array(df[df.index % 3 != 0].iloc[:,:-1]) # dataframe转为numpy数组\n",
    "#yTrain = [labels[i] for i in df.index if i%3 !=0]\n",
    "#xTest =  np.array(df[df.index % 3 == 0].iloc[:,:-1])\n",
    "#yTest = [labels[i] for i in df.index if i%3 ==0]\n",
    "\n",
    "# 需要normalized的从list中采样\n",
    "\n",
    "idxTest =  [i for i in range(nrows) if i % nxval ==0]\n",
    "idxTrain = [i for i in range(nrows) if i % nxval !=0]\n",
    "xTrain = [xNorm[r] for r in idxTrain]\n",
    "xTest  = [xNorm[r] for r in idxTest]\n",
    "yTrain = [labelNorm[r] for r in idxTrain]\n",
    "yTest  = [labelNorm[r] for r in idxTest]\n",
    "nrowsTrain = len(xTrain)\n",
    "\n",
    "# 完全不采样"
   ]
  },
  {
   "cell_type": "code",
   "execution_count": 28,
   "metadata": {
    "scrolled": true
   },
   "outputs": [
    {
     "data": {
      "text/plain": [
       "[[1.3166771599202278,\n",
       "  -0.6748338290750765,\n",
       "  -1.4489858478494195,\n",
       "  -1.4399289969040858,\n",
       "  -1.1839783068513767,\n",
       "  -1.2302771064644944,\n",
       "  -1.1709098401337632,\n",
       "  -1.2052212408365943,\n",
       "  -1.212987317417671],\n",
       " [-0.759487618104231,\n",
       "  1.481846281136549,\n",
       "  0.05003309164830188,\n",
       "  0.122130318144275,\n",
       "  -0.10799086572908421,\n",
       "  -0.30946926027523863,\n",
       "  -0.46349989873853503,\n",
       "  -0.3566898302709934,\n",
       "  -0.20713906803326215],\n",
       " [1.3166771599202278,\n",
       "  -0.6748338290750765,\n",
       "  -0.6994763781005588,\n",
       "  -0.4321487936470789,\n",
       "  -0.34709918597848266,\n",
       "  -0.6378193449628803,\n",
       "  -0.648237526746206,\n",
       "  -0.6075996559758753,\n",
       "  -0.6022937374342799],\n",
       " [-0.759487618104231,\n",
       "  -0.6748338290750765,\n",
       "  -1.6155435077936104,\n",
       "  -1.5407070172297868,\n",
       "  -1.4230866271007747,\n",
       "  -1.2720856576203743,\n",
       "  -1.2159677981844148,\n",
       "  -1.2873371837945555,\n",
       "  -1.3207567727088578],\n",
       " [-0.759487618104231,\n",
       "  -0.6748338290750765,\n",
       "  -0.8243946230587024,\n",
       "  -1.0872059257641336,\n",
       "  -1.0644241467266773,\n",
       "  -0.9733074749698184,\n",
       "  -0.9839193142235596,\n",
       "  -0.9406254246387187,\n",
       "  -0.8537557997803822]]"
      ]
     },
     "execution_count": 28,
     "metadata": {},
     "output_type": "execute_result"
    }
   ],
   "source": [
    "xTrain[:5]"
   ]
  },
  {
   "cell_type": "code",
   "execution_count": 29,
   "metadata": {},
   "outputs": [
    {
     "name": "stdout",
     "output_type": "stream",
     "text": [
      "['Shell weight', 'Heigth', 'Sex2', 'Sex1']\n"
     ]
    },
    {
     "data": {
      "image/png": "[encoded data removed]",
      "text/plain": [
       "<Figure size 432x288 with 1 Axes>"
      ]
     },
     "metadata": {
      "needs_background": "light"
     },
     "output_type": "display_data"
    }
   ],
   "source": [
    "# 初始化相关系数向量\n",
    "beta = [0.0] * ncols\n",
    "\n",
    "# 初始化 matrix of beta 在每一步\n",
    "betaMat = []\n",
    "betaMat.append(list(beta))\n",
    "\n",
    "# number of steps to take\n",
    "steps = 350\n",
    "stepSize = 0.004\n",
    "nzList = [] # 记录非零的系数\n",
    "\n",
    "\n",
    "for step in range(steps):\n",
    "    #residuals = [0.0] * nrows # 全体记录数\n",
    "    residuals = [0.0] * nrowsTrain # 采样记录数\n",
    "    #for j in range(nrows): # 计算训练集的预测的残差\n",
    "    for j in range(nrowsTrain): # 计算训练集的预测的残差\n",
    "        labelsHat = sum([xTrain[j][k] * beta[k] for k in range(ncols)])\n",
    "        residuals[j] = yTrain[j] - labelsHat\n",
    "    \n",
    "    # 计算每个列（属性）和残差的相关性\n",
    "    corr = [0.0] * ncols\n",
    "    for j in range(ncols):\n",
    "        corr[j] = sum([xTrain[k][j] * residuals[k] for k \\\n",
    "                       in range(nrowsTrain)]) / nrowsTrain\n",
    "    \n",
    "    iStart = 0\n",
    "    corrStart = corr[0]\n",
    "    for j in range(1,ncols): #找绝对值最大的系数\n",
    "        if abs(corrStart) < corr[j]:\n",
    "            iStart = j; corrStart = corr[j]\n",
    "            \n",
    "    beta[iStart] += stepSize * corrStart / abs(corrStart) # 对应beta值增加\n",
    "    betaMat.append(list(beta)) # 这个步骤的beta系数\n",
    "    \n",
    "    # 非零的系数\n",
    "    nzBeta = [index for index in range(ncols) if beta[index] != 0]\n",
    "    for q in nzBeta:\n",
    "        if (q in nzList) == False: # 只记录首次出现的系数\n",
    "            nzList.append(q)\n",
    "\n",
    "#nameList = [names[nzList[i]] for i in range(len(nzList))]\n",
    "nameList = [namesCoded[nzList[i]] for i in range(len(nzList))]\n",
    "print(nameList)\n",
    "\n",
    "for i in range(ncols):\n",
    "    # 对应每个属性，画出beta 值的范围\n",
    "    coefCurve = [betaMat[k][i] for k in range(steps)]\n",
    "    xaxis = range(steps)\n",
    "    plt.plot(xaxis, coefCurve)\n",
    "    \n",
    "plt.xlabel(\"Steps Taken\")\n",
    "plt.ylabel(\"Coefficient Values\")\n",
    "plt.show()\n"
   ]
  },
  {
   "cell_type": "code",
   "execution_count": null,
   "metadata": {},
   "outputs": [],
   "source": []
  },
  {
   "cell_type": "code",
   "execution_count": null,
   "metadata": {},
   "outputs": [],
   "source": []
  },
  {
   "cell_type": "code",
   "execution_count": null,
   "metadata": {},
   "outputs": [],
   "source": []
  }
 ],
 "metadata": {
  "kernelspec": {
   "display_name": "Python 3",
   "language": "python",
   "name": "python3"
  },
  "language_info": {
   "codemirror_mode": {
    "name": "ipython",
    "version": 3
   },
   "file_extension": ".py",
   "mimetype": "text/x-python",
   "name": "python",
   "nbconvert_exporter": "python",
   "pygments_lexer": "ipython3",
   "version": "3.7.3"
  }
 },
 "nbformat": 4,
 "nbformat_minor": 2
}
