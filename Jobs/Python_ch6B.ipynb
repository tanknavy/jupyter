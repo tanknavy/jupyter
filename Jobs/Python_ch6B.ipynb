{
 "cells": [
  {
   "cell_type": "code",
   "execution_count": 1,
   "metadata": {},
   "outputs": [
    {
     "name": "stderr",
     "output_type": "stream",
     "text": [
      "C:\\ProgramData\\Anaconda3\\lib\\site-packages\\sklearn\\externals\\six.py:31: DeprecationWarning: The module is deprecated in version 0.21 and will be removed in version 0.23 since we've dropped support for Python 2.7. Please rely on the official version of six (https://pypi.org/project/six/).\n",
      "  \"(https://pypi.org/project/six/).\", DeprecationWarning)\n"
     ]
    }
   ],
   "source": [
    "'''\n",
    "__author__ = 'Alex Cheng'\n",
    "ensemble 集成方法：bagging, boosting, RF\n",
    "\n",
    "决策树过拟合，交叉验证,设置树深度，和最小叶子节点数\n",
    "\n",
    "# 决策树的深度 控制二元决策树模型的负载度，他的效果类似于惩罚回归模型的惩罚系数项\n",
    "# 树深最后过拟合了，决策树深度的增加意味着在付出额外的复杂度基础上，\n",
    "# 可以从数据中提取更复杂的行为\n",
    "\n",
    "# 最佳模型的复杂度是数据集规模的函数，当样本从100增加到1000时，最佳书深度从3增加到4，\n",
    "# 增加的数据支持更复杂的模型，另外均方误差有轻微的下降\n",
    "\n",
    "'''\n",
    "import numpy as np\n",
    "import pandas as pd\n",
    "import matplotlib.pyplot as plt\n",
    "from sklearn import tree\n",
    "from sklearn import datasets,linear_model\n",
    "from sklearn.tree import DecisionTreeRegressor\n",
    "from sklearn.metrics import roc_curve,auc,roc_auc_score\n",
    "from sklearn.externals.six import StringIO\n",
    "from math import sqrt"
   ]
  },
  {
   "cell_type": "code",
   "execution_count": 12,
   "metadata": {},
   "outputs": [
    {
     "name": "stdout",
     "output_type": "stream",
     "text": [
      "1001 1\n"
     ]
    }
   ],
   "source": [
    "# 合成数组的产生\n",
    "n = 1000\n",
    "xt = [(float(i)/float(n) - 0.5) for i in range(n+1)]\n",
    "x = [[s] for s in xt]\n",
    "# y has random noise added to x-value\n",
    "# set seed\n",
    "np.random.seed(1)\n",
    "y = [s + np.random.normal(scale=0.1) for s in xt] # 上市正态分布的噪音(0,1) * 0.1\n",
    "\n",
    "print(len(x),len(x[0]))"
   ]
  },
  {
   "cell_type": "code",
   "execution_count": 13,
   "metadata": {},
   "outputs": [
    {
     "data": {
      "image/png": "[encoded data removed]",
      "text/plain": [
       "<Figure size 432x288 with 1 Axes>"
      ]
     },
     "metadata": {
      "needs_background": "light"
     },
     "output_type": "display_data"
    }
   ],
   "source": [
    "nrows = len(x) # 样本数量\n",
    "depList = [1,2,3,4,5,6,7] # 树深度\n",
    "xvalMSE = [] # 测试误差\n",
    "nxval = 10 #  10 折交叉验证\n",
    "\n",
    "for dep in depList:\n",
    "    for ixval in range(nxval):\n",
    "        # Define test and traing index sets\n",
    "        idxTest =  [i for i in range(nrows) if i % nxval == ixval]\n",
    "        idxTrain = [i for i in range(nrows) if i % nxval != ixval]\n",
    "        #idxTest =  [i for i in range(nrows) if i % nxval ==0]\n",
    "        #idxTrain = [i for i in range(nrows) if i % nxval !=0]\n",
    "\n",
    "        # 定义测试和训练的属性和列表\n",
    "        xTrain = [x[r] for r in idxTrain]\n",
    "        xTest  = [x[r] for r in idxTest]\n",
    "        yTrain = [y[r] for r in idxTrain]\n",
    "        yTest  = [y[r] for r in idxTest] # 列向量\n",
    "    \n",
    "        # ElasticNet， 已经normlized，fit_intercept为False\n",
    "        # coefs.shape = (60,100), 60个栏位，每组数据100次alpha尝试\n",
    "        #alphas,coefs,_ = linear_model.enet_path(xTrain,yTrain,l1_ration=0.8,fit_intercept=False,return_models=False)\n",
    "        \n",
    "        # 训练树\n",
    "        treeModel = DecisionTreeRegressor(max_depth=dep)\n",
    "        treeModel.fit(xTrain,yTrain)\n",
    "        \n",
    "        treePred = treeModel.predict(xTest)\n",
    "        error = [yTest[r] - treePred[r] for r in range(len(yTest))]\n",
    "        \n",
    "        if ixval == 0:\n",
    "            oosErrors = sum([e * e for e in error]) # 第一次错误\n",
    "        else:\n",
    "            oosErrors += sum([e * e for e in error]) # 后续追加错误\n",
    "    \n",
    "    mse = oosErrors/nrows\n",
    "    xvalMSE.append(mse)\n",
    "\n",
    "plt.plot(depList,xvalMSE)\n",
    "plt.axis('tight')\n",
    "plt.xlabel('Tree Depth')\n",
    "plt.ylabel('Mean Squared Error')\n",
    "plt.show()\n",
    "\n"
   ]
  },
  {
   "cell_type": "code",
   "execution_count": null,
   "metadata": {},
   "outputs": [],
   "source": []
  },
  {
   "cell_type": "code",
   "execution_count": null,
   "metadata": {},
   "outputs": [],
   "source": [
    "simpleTree2 = DecisionTreeRegressor(max_depth=2)\n",
    "simpleTree2.fit(x,y)\n",
    "\n",
    "yHat = simpleTree2.predict(x)\n",
    "plt.figure()\n",
    "plt.plot(xt,y,label='Ture y')\n",
    "plt.plot(xt,yHat,label='Tree Prediction', linestyle='--')\n",
    "plt.legend(bbox_to_anchor=(1,0.2))\n",
    "plt.axis('tight')\n",
    "plt.xlabel('x')\n",
    "plt.ylabel('y')\n",
    "plt.show()\n"
   ]
  },
  {
   "cell_type": "code",
   "execution_count": null,
   "metadata": {},
   "outputs": [],
   "source": []
  },
  {
   "cell_type": "code",
   "execution_count": null,
   "metadata": {},
   "outputs": [],
   "source": []
  },
  {
   "cell_type": "code",
   "execution_count": null,
   "metadata": {},
   "outputs": [],
   "source": []
  }
 ],
 "metadata": {
  "kernelspec": {
   "display_name": "Python 3",
   "language": "python",
   "name": "python3"
  },
  "language_info": {
   "codemirror_mode": {
    "name": "ipython",
    "version": 3
   },
   "file_extension": ".py",
   "mimetype": "text/x-python",
   "name": "python",
   "nbconvert_exporter": "python",
   "pygments_lexer": "ipython3",
   "version": "3.7.3"
  }
 },
 "nbformat": 4,
 "nbformat_minor": 2
}
