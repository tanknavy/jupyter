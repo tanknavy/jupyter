{
 "cells": [
  {
   "cell_type": "code",
   "execution_count": 1,
   "metadata": {},
   "outputs": [],
   "source": [
    "'''\n",
    "__author__ = 'Alex Cheng'\n",
    "Python集成方法工具包解决分类问题：梯度提升法 处理玻璃多分类 数据不平衡 问题\n",
    "ensemble: RandomForestClassifier,\n",
    "回归：分割点质量是有平方误差和（mse）\n",
    "分类：误分类指标，ROC曲线，误分类率\n",
    "predict,predic_proba,predict_log_proba\n",
    "\n",
    "梯度提升算法会过拟合，持续跟踪AUC最佳值，其最佳值生成ROC曲线，fpr,tpr等\n",
    "决策树数目的增加就等同于在梯度下降中采取了更多步骤，每一步就意味着又训练了一个决策树\n",
    "\n",
    "'''\n",
    "import numpy as np\n",
    "import pandas as pd\n",
    "import matplotlib.pyplot as plt\n",
    "\n",
    "#from sklearn.cross_validation import train_test_split\n",
    "from sklearn.model_selection import train_test_split\n",
    "from sklearn import ensemble\n",
    "from sklearn import datasets,linear_model\n",
    "from sklearn.tree import DecisionTreeRegressor\n",
    "from sklearn.metrics import roc_curve,auc,roc_auc_score,mean_squared_error, \\\n",
    "accuracy_score,confusion_matrix\n",
    "from math import sqrt\n",
    "import random"
   ]
  },
  {
   "cell_type": "code",
   "execution_count": 2,
   "metadata": {},
   "outputs": [],
   "source": [
    "path = 'd:/input/jobs/'\n",
    "target_url = (\"http://archive.ics.uci.edu/ml/machine-learning-databases/\"\n",
    "             \"glass/glass.data\")\n",
    "df = pd.read_csv(target_url,header=None,prefix=\"V\")\n",
    "#df = pd.read_csv(target_url)\n",
    "df.head()\n",
    "glassNames = np.array(['RI','Na','Mg','Al','Si','K','Ca','Ba','Fe','Type'])"
   ]
  },
  {
   "cell_type": "code",
   "execution_count": 3,
   "metadata": {},
   "outputs": [
    {
     "data": {
      "text/plain": [
       "2    76\n",
       "1    70\n",
       "7    29\n",
       "3    17\n",
       "5    13\n",
       "6     9\n",
       "Name: V10, dtype: int64"
      ]
     },
     "execution_count": 3,
     "metadata": {},
     "output_type": "execute_result"
    }
   ],
   "source": [
    "# 原始数组\n",
    "xList  = np.array(df.iloc[:,1:-1]) # 属性数组,第一列是标号没有意义\n",
    "#labels = [i for i in df.iloc[:,-1]] # 最后一列就是label\n",
    "nrows = len(xList)\n",
    "ncols = len(xList[0])\n",
    "\n",
    "# 标签是整数值，转换成连续整数\n",
    "labels = df.iloc[:,-1]\n",
    "labelList = list(set(labels))\n",
    "labelList.sort() # 原地排序\n",
    "newLabels = []\n",
    "for i in labels:\n",
    "    newLabels.append(labelList.index(i))\n",
    "#print(labels[:5],newLabels[:5])\n",
    "\n",
    "labelCode = {}\n",
    "for k,v in zip(labelList,range(len(labelList))):\n",
    "    labelCode[k] = v\n",
    "#print(labelCode)\n",
    "labels.value_counts()"
   ]
  },
  {
   "cell_type": "code",
   "execution_count": 9,
   "metadata": {},
   "outputs": [
    {
     "name": "stdout",
     "output_type": "stream",
     "text": [
      "Best miss Error:  0.3333333333333333\n",
      "Best number of Gradient Boosting tree:  372\n"
     ]
    }
   ],
   "source": [
    "# 样本类别分布不均匀，分层抽样（stratified sampling）30%\n",
    "# 初始化，先去一种类型\n",
    "xTrainTemp = [xList[i] for i in range(nrows) if newLabels[i] == 0] # 0类型\n",
    "yTrainTemp = [newLabels[i] for i in range(nrows) if newLabels[i] == 0]\n",
    "xTrain,xTest,yTrain,yTest = train_test_split(xTrainTemp,yTrainTemp,test_size=0.30,random_state=828 ) # 列表格式\n",
    "#print(len(xTrain),len(yTrain))\n",
    "for label in range(1,len(labelList)):\n",
    "    xTemp = [xList[i] for i in range(nrows) if newLabels[i] == label] # 其它类型也分层抽样\n",
    "    yTemp = [newLabels[i] for i in range(nrows) if newLabels[i] == label]\n",
    "    xTrainTemp,xTestTemp,yTrainTemp,yTestTemp = train_test_split(xTemp,yTemp,test_size=0.30,random_state=828)\n",
    "    \n",
    "    xTrain = np.append(xTrain,xTrainTemp,axis=0)\n",
    "    xTest = np.append(xTest,xTestTemp,axis=0)\n",
    "    yTrain = np.append(yTrain,yTrainTemp,axis=0)\n",
    "    yTest = np.append(yTest,yTestTemp,axis=0)\n",
    "\n",
    "\n",
    "# Gradient Boosting \n",
    "#nEst = range(50,5000,50) # 梯度提升自动会依次增加\n",
    "nEst = 500\n",
    "depth = 3 # 梯度提升无需太深，除非属性之间有较大的关系\n",
    "maxFeat = 4 # 随机森林作为基学习器\n",
    "subSamp = 0.5\n",
    "lr = 0.003\n",
    "\n",
    "glassGB = ensemble.GradientBoostingClassifier(n_estimators=nEst,max_depth=depth,\n",
    "                learning_rate=lr,max_features=maxFeat,subsample=subSamp)\n",
    "glassGB.fit(xTrain,yTrain)\n",
    "\n",
    "# \n",
    "error = []\n",
    "missBest = 1.0\n",
    "pred = glassGB.staged_decision_function(xTest) # 迭代生成器\n",
    "for p in pred: # p是多分类\n",
    "    miss = 0 # 每轮\n",
    "    for i in range(len(p)):\n",
    "        listP = p[i].tolist()\n",
    "        #print(listP)\n",
    "        if listP.index(max(listP)) != yTest[i]: # 每个分类的概率，取最大的\n",
    "            miss +=1\n",
    "    miss = float(miss)/len(p) # 注意要float，否则可以异常数值\n",
    "    error.append(miss) # 错误率在（0,1）\n",
    "    #error.append(float(miss)/len(p))\n",
    "    \n",
    "    # 哪一轮最佳\n",
    "    if miss <missBest: # 这里miss必须是miss/len(p)\n",
    "        missBest = miss # 最小错误\n",
    "        pBest = p #用于后续混淆矩阵,注意p是多维的\n",
    "\n",
    "idxBest = error.index(min(error)) # 最佳的提升树数量\n",
    "#print(pred[:5]) # pred是generator\n",
    "print('Best miss Error: ',missBest)\n",
    "print('Best number of Gradient Boosting tree: ',idxBest)\n"
   ]
  },
  {
   "cell_type": "code",
   "execution_count": 5,
   "metadata": {},
   "outputs": [
    {
     "data": {
      "text/plain": [
       "array([[-0.82184546, -1.80312275, -2.47058413, -4.01754561, -4.40185948,\n",
       "        -1.22339597],\n",
       "       [-0.04023463, -1.47019896, -3.51217759, -4.05601577, -4.48448866,\n",
       "        -3.34735417],\n",
       "       [ 0.12523523, -1.71534034, -3.16889083, -3.98087019, -4.48482412,\n",
       "        -3.34693229],\n",
       "       [-0.8426281 , -1.07174374, -3.32742557, -4.04206879, -4.48499122,\n",
       "        -3.35030749],\n",
       "       [-0.50748029, -1.82675199, -2.71793562, -4.01976073, -4.36292931,\n",
       "        -3.30119668]])"
      ]
     },
     "execution_count": 5,
     "metadata": {},
     "output_type": "execute_result"
    }
   ],
   "source": [
    "p[:5]"
   ]
  },
  {
   "cell_type": "code",
   "execution_count": 10,
   "metadata": {},
   "outputs": [
    {
     "data": {
      "image/png": "[encoded data removed]",
      "text/plain": [
       "<Figure size 432x288 with 1 Axes>"
      ]
     },
     "metadata": {
      "needs_background": "light"
     },
     "output_type": "display_data"
    }
   ],
   "source": [
    "# 绘制训练deviance和ceshi1的auc vs number of trees\n",
    "error = [100 * er for er in error] #(0,1)为了和训练集的deviance比较\n",
    "plt.figure()\n",
    "plt.plot(range(1,nEst+1),glassGB.train_score_,label='Traing set Deviance',linestyle=\":\")\n",
    "plt.plot(range(1,nEst+1),error, label='Test set Error')\n",
    "plt.legend(loc='upper right')\n",
    "plt.xlabel('number of tree in ensemble')\n",
    "plt.ylabel('Deviance / Classification Error')\n",
    "plt.show()"
   ]
  },
  {
   "cell_type": "code",
   "execution_count": 7,
   "metadata": {},
   "outputs": [
    {
     "data": {
      "image/png": "[encoded data removed]",
      "text/plain": [
       "<Figure size 432x288 with 1 Axes>"
      ]
     },
     "metadata": {
      "needs_background": "light"
     },
     "output_type": "display_data"
    }
   ],
   "source": [
    "featImportance = glassGB.feature_importances_\n",
    "featImportance = featImportance / featImportance.max()\n",
    "#print(len(featImportance))\n",
    "idxSorted = np.argsort(featImportance) # 后面最大60-40个\n",
    "barPos = np.arange(idxSorted.shape[0]) + .5\n",
    "plt.barh(barPos,featImportance[idxSorted], align='center') # 水平柱状图\n",
    "plt.yticks(barPos, glassNames[idxSorted]) # np.array的数组可以[]取值\n",
    "plt.xlabel('variable importance')\n",
    "#plt.subplots_adjust(left=0.2,right=0.9,top=0.9,bottom=0.1)\n",
    "plt.show()\n",
    "# 条状图中有些属性对性能的贡献是相当有些的，这不同寻常，在很多情况下，属性的重要性\n",
    "# 经过前几个后会迅速下降，但是对玻璃分类，有几个属性具有相同的重要性"
   ]
  },
  {
   "cell_type": "code",
   "execution_count": 8,
   "metadata": {},
   "outputs": [
    {
     "name": "stdout",
     "output_type": "stream",
     "text": [
      "Confusion Matrix: \n",
      " [[21  0  0  0  0  0]\n",
      " [ 5 18  0  0  0  0]\n",
      " [ 4  2  0  0  0  0]\n",
      " [ 0  2  0  1  0  1]\n",
      " [ 0  1  0  0  2  0]\n",
      " [ 1  1  0  0  0  7]]\n"
     ]
    }
   ],
   "source": [
    "# 混淆举证，注意pBest是对应多分类的多维\n",
    "pBestList = pBest.tolist()\n",
    "Best = [r.index(max(r)) for r in pBestList] # 每行最大值对应的索引\n",
    "confMat = confusion_matrix(yTest,Best) #Best是列表\n",
    "\n",
    "print('Confusion Matrix: \\n',confMat)"
   ]
  },
  {
   "cell_type": "code",
   "execution_count": null,
   "metadata": {},
   "outputs": [],
   "source": []
  },
  {
   "cell_type": "code",
   "execution_count": null,
   "metadata": {},
   "outputs": [],
   "source": []
  },
  {
   "cell_type": "code",
   "execution_count": null,
   "metadata": {},
   "outputs": [],
   "source": []
  }
 ],
 "metadata": {
  "kernelspec": {
   "display_name": "Python 3",
   "language": "python",
   "name": "python3"
  },
  "language_info": {
   "codemirror_mode": {
    "name": "ipython",
    "version": 3
   },
   "file_extension": ".py",
   "mimetype": "text/x-python",
   "name": "python",
   "nbconvert_exporter": "python",
   "pygments_lexer": "ipython3",
   "version": "3.7.3"
  }
 },
 "nbformat": 4,
 "nbformat_minor": 2
}
