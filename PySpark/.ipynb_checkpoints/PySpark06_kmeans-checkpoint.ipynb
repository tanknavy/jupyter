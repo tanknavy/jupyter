{
 "cells": [
  {
   "cell_type": "code",
   "execution_count": 1,
   "metadata": {},
   "outputs": [
    {
     "data": {
      "text/plain": [
       "'\\n'"
      ]
     },
     "execution_count": 1,
     "metadata": {},
     "output_type": "execute_result"
    }
   ],
   "source": [
    "'''\n",
    "数据聚集\n",
    "k-means\n",
    "VectorAssmbler->StandardScaler->fit->transform\n",
    "'''"
   ]
  },
  {
   "cell_type": "code",
   "execution_count": 2,
   "metadata": {},
   "outputs": [],
   "source": [
    "import findspark\n",
    "findspark.init()\n",
    "from pyspark.sql import SparkSession\n",
    "\n",
    "spark = SparkSession.builder.appName(\"PySpark06\").master(\"local[2]\"). \\\n",
    "config(\"spark.sql.warehouse.dir\",\"file:///E:/input/spark/warehouse\").getOrCreate()\n",
    "\n",
    "#data = spark.read.csv(\"file:///e:/Download/mllib/seeds_dataset.txt\",inferSchema=True,header=True)"
   ]
  },
  {
   "cell_type": "code",
   "execution_count": 3,
   "metadata": {},
   "outputs": [
    {
     "name": "stdout",
     "output_type": "stream",
     "text": [
      "root\n",
      " |-- _c0: double (nullable = true)\n",
      " |-- _c1: double (nullable = true)\n",
      " |-- _c2: double (nullable = true)\n",
      " |-- _c3: double (nullable = true)\n",
      " |-- _c4: double (nullable = true)\n",
      " |-- _c5: double (nullable = true)\n",
      " |-- _c6: double (nullable = true)\n",
      " |-- _c7: double (nullable = true)\n",
      "\n"
     ]
    }
   ],
   "source": [
    "data_txt = spark.read.csv(\"file:///e:/Download/mllib/seeds_dataset.txt\",inferSchema=True,sep='\\t') # 文本文件\n",
    "data_txt.printSchema()"
   ]
  },
  {
   "cell_type": "code",
   "execution_count": 4,
   "metadata": {},
   "outputs": [
    {
     "name": "stdout",
     "output_type": "stream",
     "text": [
      "root\n",
      " |-- _c0: double (nullable = true)\n",
      " |-- _c1: double (nullable = true)\n",
      " |-- _c2: double (nullable = true)\n",
      " |-- _c3: double (nullable = true)\n",
      " |-- _c4: double (nullable = true)\n",
      " |-- _c5: double (nullable = true)\n",
      " |-- _c6: double (nullable = true)\n",
      " |-- _c7: integer (nullable = true)\n",
      "\n"
     ]
    }
   ],
   "source": [
    "data_csv = spark.read.csv(\"file:///e:/Download/mllib/seeds_dataset.csv\",inferSchema=True) # 文本文件\n",
    "data_csv.printSchema()"
   ]
  },
  {
   "cell_type": "code",
   "execution_count": 5,
   "metadata": {},
   "outputs": [
    {
     "data": {
      "text/plain": [
       "[Row(_c0=15.26, _c1=14.84, _c2=0.871, _c3=5.763, _c4=3.312, _c5=2.221, _c6=5.22, _c7=1)]"
      ]
     },
     "execution_count": 5,
     "metadata": {},
     "output_type": "execute_result"
    }
   ],
   "source": [
    "data_csv.head(1)"
   ]
  },
  {
   "cell_type": "code",
   "execution_count": 6,
   "metadata": {},
   "outputs": [
    {
     "data": {
      "text/plain": [
       "['_c0', '_c1', '_c2', '_c3', '_c4', '_c5', '_c6', '_c7']"
      ]
     },
     "execution_count": 6,
     "metadata": {},
     "output_type": "execute_result"
    }
   ],
   "source": [
    "#['area','perimeter','compactness','length_of_kernel','width_of_kernel','asymmetry_coefficient','length_of_froove','label']\n",
    "data_csv.columns"
   ]
  },
  {
   "cell_type": "code",
   "execution_count": 7,
   "metadata": {},
   "outputs": [],
   "source": [
    "from pyspark.ml.clustering import KMeans\n",
    "from pyspark.ml.feature import VectorAssembler"
   ]
  },
  {
   "cell_type": "code",
   "execution_count": 8,
   "metadata": {},
   "outputs": [],
   "source": [
    "assembler = VectorAssembler(inputCols=['_c0', '_c1', '_c2', '_c3', '_c4', '_c5', '_c6'],outputCol='features')"
   ]
  },
  {
   "cell_type": "code",
   "execution_count": 9,
   "metadata": {},
   "outputs": [
    {
     "data": {
      "text/plain": [
       "<bound method DataFrame.printSchema of DataFrame[_c0: double, _c1: double, _c2: double, _c3: double, _c4: double, _c5: double, _c6: double, _c7: int, features: vector]>"
      ]
     },
     "execution_count": 9,
     "metadata": {},
     "output_type": "execute_result"
    }
   ],
   "source": [
    "final_data = assembler.transform(data_csv) # 增加了一个向量features\n",
    "final_data.printSchema"
   ]
  },
  {
   "cell_type": "code",
   "execution_count": 10,
   "metadata": {},
   "outputs": [],
   "source": [
    "from pyspark.ml.feature import StandardScaler # scala栏位"
   ]
  },
  {
   "cell_type": "code",
   "execution_count": 11,
   "metadata": {},
   "outputs": [],
   "source": [
    "scaler = StandardScaler(inputCol='features',outputCol='scaledFeatures') # 标准缩放"
   ]
  },
  {
   "cell_type": "code",
   "execution_count": 12,
   "metadata": {},
   "outputs": [],
   "source": [
    "scaler_model = scaler.fit(final_data) # 标准化，返回model"
   ]
  },
  {
   "cell_type": "code",
   "execution_count": 13,
   "metadata": {},
   "outputs": [
    {
     "data": {
      "text/plain": [
       "StandardScaler_440a8431b8799b7dec95"
      ]
     },
     "execution_count": 13,
     "metadata": {},
     "output_type": "execute_result"
    }
   ],
   "source": [
    "scaler_model"
   ]
  },
  {
   "cell_type": "code",
   "execution_count": 14,
   "metadata": {},
   "outputs": [],
   "source": [
    "final_data = scaler_model.transform(final_data) # 返回DataFrame"
   ]
  },
  {
   "cell_type": "code",
   "execution_count": 15,
   "metadata": {},
   "outputs": [
    {
     "data": {
      "text/plain": [
       "[Row(_c0=15.26, _c1=14.84, _c2=0.871, _c3=5.763, _c4=3.312, _c5=2.221, _c6=5.22, _c7=1, features=DenseVector([15.26, 14.84, 0.871, 5.763, 3.312, 2.221, 5.22]), scaledFeatures=DenseVector([5.2445, 11.3633, 36.8608, 13.0072, 8.7685, 1.4772, 10.621]))]"
      ]
     },
     "execution_count": 15,
     "metadata": {},
     "output_type": "execute_result"
    }
   ],
   "source": [
    "final_data.head(1)"
   ]
  },
  {
   "cell_type": "code",
   "execution_count": 16,
   "metadata": {},
   "outputs": [],
   "source": [
    "kmeans = KMeans(featuresCol='scaledFeatures',predictionCol='prediction').setK(3).setSeed(42)"
   ]
  },
  {
   "cell_type": "code",
   "execution_count": 17,
   "metadata": {},
   "outputs": [],
   "source": [
    "model = kmeans.fit(final_data) # fit返回模型"
   ]
  },
  {
   "cell_type": "code",
   "execution_count": 20,
   "metadata": {},
   "outputs": [
    {
     "data": {
      "text/plain": [
       "<pyspark.ml.clustering.KMeansSummary at 0x9550b38>"
      ]
     },
     "execution_count": 20,
     "metadata": {},
     "output_type": "execute_result"
    }
   ],
   "source": [
    "model.summary"
   ]
  },
  {
   "cell_type": "code",
   "execution_count": 21,
   "metadata": {},
   "outputs": [
    {
     "data": {
      "text/plain": [
       "[array([ 4.07497225, 10.14410142, 35.89816849, 11.80812742,  7.54416916,\n",
       "         3.15411286, 10.38031464]),\n",
       " array([ 6.35645488, 12.40730852, 37.41990178, 13.93860446,  9.7892399 ,\n",
       "         2.41585309, 12.29286107]),\n",
       " array([ 4.96198582, 10.97871333, 37.30930808, 12.44647267,  8.62880781,\n",
       "         1.80062386, 10.41913733])]"
      ]
     },
     "execution_count": 21,
     "metadata": {},
     "output_type": "execute_result"
    }
   ],
   "source": [
    "model.clusterCenters()"
   ]
  },
  {
   "cell_type": "code",
   "execution_count": 23,
   "metadata": {},
   "outputs": [
    {
     "data": {
      "text/plain": [
       "428.60821613630515"
      ]
     },
     "execution_count": 23,
     "metadata": {},
     "output_type": "execute_result"
    }
   ],
   "source": [
    "wssse = model.computeCost(final_data)\n",
    "wssse"
   ]
  },
  {
   "cell_type": "code",
   "execution_count": 56,
   "metadata": {},
   "outputs": [],
   "source": [
    "results = model.transform(final_data) #返回新建prediction的DataFrame"
   ]
  },
  {
   "cell_type": "code",
   "execution_count": 58,
   "metadata": {},
   "outputs": [
    {
     "data": {
      "text/plain": [
       "['_c0',\n",
       " '_c1',\n",
       " '_c2',\n",
       " '_c3',\n",
       " '_c4',\n",
       " '_c5',\n",
       " '_c6',\n",
       " '_c7',\n",
       " 'features',\n",
       " 'scaledFeatures',\n",
       " 'prediction']"
      ]
     },
     "execution_count": 58,
     "metadata": {},
     "output_type": "execute_result"
    }
   ],
   "source": [
    "results.columns"
   ]
  },
  {
   "cell_type": "code",
   "execution_count": 29,
   "metadata": {},
   "outputs": [
    {
     "name": "stdout",
     "output_type": "stream",
     "text": [
      "centers: 2, cost: 656.793225\n",
      "[array([ 4.42210624, 10.46640451, 36.50749337, 12.04573012,  7.98091715,\n",
      "        2.56067167, 10.33364421]), array([ 6.20884577, 12.25651292, 37.43485358, 13.77282897,  9.67731721,\n",
      "        2.29894074, 12.09236686])]\n",
      "centers: 3, cost: 428.633351\n",
      "[array([ 6.35645488, 12.40730852, 37.41990178, 13.93860446,  9.7892399 ,\n",
      "        2.41585309, 12.29286107]), array([ 4.07135818, 10.14438097, 35.86461803, 11.81349589,  7.53471695,\n",
      "        3.18317516, 10.39230304]), array([ 4.94114963, 10.95557919, 37.3028184 , 12.42383591,  8.60815545,\n",
      "        1.80983779, 10.40657797])]\n",
      "centers: 4, cost: 384.117920\n",
      "[array([ 6.35645488, 12.40730852, 37.41990178, 13.93860446,  9.7892399 ,\n",
      "        2.41585309, 12.29286107]), array([ 4.94744855, 10.96692617, 37.27127694, 12.44433954,  8.60597995,\n",
      "        1.68529952, 10.42082516]), array([ 3.99907667, 10.09702376, 35.57069688, 11.80284016,  7.394573  ,\n",
      "        3.00329767, 10.40661462]), array([ 4.44392161, 10.42255647, 37.06497816, 11.91982269,  8.15771214,\n",
      "        3.72199897, 10.31276687])]\n",
      "centers: 5, cost: 337.860508\n",
      "[array([ 6.19660676, 12.21466022, 37.6545591 , 13.66365933,  9.74092869,\n",
      "        2.29361351, 12.05048615]), array([ 4.53663917, 10.49783834, 37.30693149, 11.91957467,  8.27229179,\n",
      "        1.91706239,  9.95584275]), array([ 4.05829295, 10.14045513, 35.77528896, 11.82997208,  7.4942816 ,\n",
      "        3.30391107, 10.44460049]), array([ 5.22658032, 11.29319338, 37.16892446, 12.79716303,  8.83059806,\n",
      "        1.86284316, 10.83501789]), array([ 6.7325167 , 12.82153843, 37.13896181, 14.50112754,  9.97653135,\n",
      "        2.51621965, 12.75924479])]\n",
      "centers: 6, cost: 304.521149\n",
      "[array([ 6.36018347, 12.40246784, 37.49281453, 13.91709284,  9.80511437,\n",
      "        2.04130735, 12.26620387]), array([ 4.5943217 , 10.57588298, 37.22146188, 12.0170892 ,  8.30269443,\n",
      "        1.64049224, 10.02476436]), array([ 5.31776412, 11.38627102, 37.19959648, 12.89721677,  8.91098969,\n",
      "        2.06768554, 10.98847067]), array([ 4.42817788, 10.40563768, 37.07187029, 11.89821985,  8.16366272,\n",
      "        4.08010214, 10.34927464]), array([ 6.76309423, 12.81981009, 37.31426388, 14.4589085 , 10.07960997,\n",
      "        3.34140945, 12.71130219]), array([ 3.99922354, 10.0975037 , 35.5658379 , 11.81159975,  7.38327397,\n",
      "        3.10036568, 10.4428981 ])]\n",
      "centers: 7, cost: 293.869287\n",
      "[array([ 6.45316814, 12.50084929, 37.43767881, 14.04179557,  9.86459493,\n",
      "        2.41241474, 12.37361369]), array([ 4.66027517, 10.60797033, 37.53175912, 11.97619428,  8.43135046,\n",
      "        1.54766555,  9.9577414 ]), array([ 4.76967937, 10.70988415, 37.6790231 , 12.09382764,  8.60923742,\n",
      "        4.58002772, 10.31373576]), array([ 3.92686608, 10.07045608, 35.12249221, 11.85744315,  7.23191828,\n",
      "        3.61888477, 10.49441434]), array([ 4.02323342, 10.07627556, 35.9318224 , 11.72057789,  7.48904374,\n",
      "        2.36763867, 10.24870775]), array([ 5.29735847, 11.36062827, 37.21898032, 12.8766787 ,  8.89228419,\n",
      "        1.8417116 , 10.96563416]), array([ 4.38332789, 10.42273878, 36.59174841, 12.01088241,  7.98199991,\n",
      "        3.11660921, 10.41334975])]\n"
     ]
    }
   ],
   "source": [
    "from collections import OrderedDict\n",
    "cost = OrderedDict()\n",
    "for i in range(2,8):\n",
    "    kmeans = KMeans(featuresCol='scaledFeatures',predictionCol='prediction').setK(i).setSeed(1)\n",
    "    model = kmeans.fit(final_data)\n",
    "    wssse = model.computeCost(final_data)\n",
    "    print(\"centers: %d, cost: %f\" %(i,wssse))\n",
    "    print(model.clusterCenters())\n",
    "    cost[i]=wssse"
   ]
  },
  {
   "cell_type": "code",
   "execution_count": 30,
   "metadata": {},
   "outputs": [
    {
     "data": {
      "text/plain": [
       "OrderedDict([(2, 656.793225326981),\n",
       "             (3, 428.63335105690976),\n",
       "             (4, 384.1179196509188),\n",
       "             (5, 337.86050826590963),\n",
       "             (6, 304.52114943408196),\n",
       "             (7, 293.8692870931636)])"
      ]
     },
     "execution_count": 30,
     "metadata": {},
     "output_type": "execute_result"
    }
   ],
   "source": [
    "cost"
   ]
  },
  {
   "cell_type": "code",
   "execution_count": 47,
   "metadata": {},
   "outputs": [],
   "source": [
    "list = []\n",
    "for dist in cost.values():\n",
    "    list.append(dist)"
   ]
  },
  {
   "cell_type": "code",
   "execution_count": 54,
   "metadata": {},
   "outputs": [
    {
     "data": {
      "text/plain": [
       "[<matplotlib.lines.Line2D at 0xbcc3588>]"
      ]
     },
     "metadata": {},
     "output_type": "display_data"
    },
    {
     "data": {
      "image/png": "[encoded data removed]",
      "text/plain": [
       "<Figure size 432x288 with 1 Axes>"
      ]
     },
     "metadata": {
      "needs_background": "light"
     },
     "output_type": "display_data"
    }
   ],
   "source": [
    "import matplotlib.pyplot as plt\n",
    "display(plt.plot(list))"
   ]
  },
  {
   "cell_type": "code",
   "execution_count": 55,
   "metadata": {},
   "outputs": [],
   "source": [
    "import pandas as pd"
   ]
  },
  {
   "cell_type": "code",
   "execution_count": null,
   "metadata": {},
   "outputs": [],
   "source": []
  }
 ],
 "metadata": {
  "kernelspec": {
   "display_name": "Python 3",
   "language": "python",
   "name": "python3"
  },
  "language_info": {
   "codemirror_mode": {
    "name": "ipython",
    "version": 3
   },
   "file_extension": ".py",
   "mimetype": "text/x-python",
   "name": "python",
   "nbconvert_exporter": "python",
   "pygments_lexer": "ipython3",
   "version": "3.7.3"
  }
 },
 "nbformat": 4,
 "nbformat_minor": 2
}
