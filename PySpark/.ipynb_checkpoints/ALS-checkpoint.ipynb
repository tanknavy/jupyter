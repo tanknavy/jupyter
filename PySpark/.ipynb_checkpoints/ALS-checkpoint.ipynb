{
 "cells": [
  {
   "cell_type": "code",
   "execution_count": 1,
   "metadata": {},
   "outputs": [
    {
     "data": {
      "text/plain": [
       "'\\nalternative least square\\n\\n'"
      ]
     },
     "execution_count": 1,
     "metadata": {},
     "output_type": "execute_result"
    }
   ],
   "source": [
    "'''\n",
    "alternative least square\n",
    "\n",
    "'''"
   ]
  },
  {
   "cell_type": "code",
   "execution_count": 2,
   "metadata": {},
   "outputs": [],
   "source": [
    "import findspark\n",
    "findspark.init() # spark_home目录\n",
    "from pyspark.sql import SparkSession\n",
    "\n",
    "spark = SparkSession.builder.appName(\"PySpark06\").master(\"local[2]\"). \\\n",
    "config(\"spark.sql.warehouse.dir\",\"file:///E:/input/spark/warehouse\").getOrCreate()\n",
    "\n",
    "#data = spark.read.csv(\"file:///e:/Download/mllib/seeds_dataset.txt\",inferSchema=True,header=True)"
   ]
  },
  {
   "cell_type": "code",
   "execution_count": 3,
   "metadata": {},
   "outputs": [],
   "source": [
    "from pyspark.ml.recommendation import ALS\n",
    "from pyspark.ml.evaluation import RegressionEvaluator"
   ]
  },
  {
   "cell_type": "code",
   "execution_count": 4,
   "metadata": {},
   "outputs": [
    {
     "name": "stdout",
     "output_type": "stream",
     "text": [
      "root\n",
      " |-- userId: integer (nullable = true)\n",
      " |-- movieId: integer (nullable = true)\n",
      " |-- rating: double (nullable = true)\n",
      " |-- timestamp: integer (nullable = true)\n",
      "\n"
     ]
    }
   ],
   "source": [
    "data = spark.read.csv(\"file:///e:/Download/mllib/ratings.csv\",inferSchema=True, header=True) # 文本文件\n",
    "data.printSchema()"
   ]
  },
  {
   "cell_type": "code",
   "execution_count": 5,
   "metadata": {},
   "outputs": [
    {
     "name": "stdout",
     "output_type": "stream",
     "text": [
      "+------+-------+------+---------+\n",
      "|userId|movieId|rating|timestamp|\n",
      "+------+-------+------+---------+\n",
      "|     1|      6|   2.0|980730861|\n",
      "|     1|     22|   3.0|980731380|\n",
      "|     1|     32|   2.0|980731926|\n",
      "|     1|     50|   5.0|980732037|\n",
      "|     1|    110|   4.0|980730408|\n",
      "|     1|    164|   3.0|980731766|\n",
      "|     1|    198|   3.0|980731282|\n",
      "|     1|    260|   5.0|980730769|\n",
      "|     1|    296|   4.0|980731208|\n",
      "|     1|    303|   3.0|980732235|\n",
      "|     1|    318|   3.0|980731417|\n",
      "|     1|    350|   3.0|980731745|\n",
      "|     1|    366|   2.0|980731621|\n",
      "|     1|    367|   4.0|980731380|\n",
      "|     1|    431|   2.0|980731312|\n",
      "|     1|    432|   2.0|980732235|\n",
      "|     1|    451|   1.0|980731789|\n",
      "|     1|    457|   4.0|980730816|\n",
      "|     1|    474|   3.0|980730816|\n",
      "|     1|    480|   4.0|980731903|\n",
      "+------+-------+------+---------+\n",
      "only showing top 20 rows\n",
      "\n"
     ]
    }
   ],
   "source": [
    "data.show()"
   ]
  },
  {
   "cell_type": "code",
   "execution_count": 6,
   "metadata": {},
   "outputs": [
    {
     "name": "stdout",
     "output_type": "stream",
     "text": [
      "+-------+-----------------+------------------+------------------+--------------------+\n",
      "|summary|           userId|           movieId|            rating|           timestamp|\n",
      "+-------+-----------------+------------------+------------------+--------------------+\n",
      "|  count|           100023|            100023|            100023|              100023|\n",
      "|   mean|341.7607650240445|  8613.12344160843| 3.491361986743049|1.0915203641766994E9|\n",
      "| stddev|193.8497546127998|19736.006106155033|1.0679416920809688| 1.633576771608459E8|\n",
      "|    min|                1|                 1|               0.5|           828504918|\n",
      "|    max|              706|            129651|               5.0|          1427754939|\n",
      "+-------+-----------------+------------------+------------------+--------------------+\n",
      "\n"
     ]
    }
   ],
   "source": [
    "data.describe().show()"
   ]
  },
  {
   "cell_type": "code",
   "execution_count": 7,
   "metadata": {},
   "outputs": [],
   "source": [
    "train,test = data.randomSplit([0.8,0.2])"
   ]
  },
  {
   "cell_type": "code",
   "execution_count": 8,
   "metadata": {},
   "outputs": [],
   "source": [
    "als = ALS(rank=10,\n",
    "    maxIter=10,\n",
    "    regParam=0.1,\n",
    "    numUserBlocks=10,\n",
    "    numItemBlocks=10,\n",
    "    implicitPrefs=False,\n",
    "    alpha=1.0,\n",
    "    userCol='user',\n",
    "    itemCol='item',\n",
    "    seed=None,\n",
    "    ratingCol='rating',\n",
    "    nonnegative=False,\n",
    "    checkpointInterval=10,\n",
    "    intermediateStorageLevel='MEMORY_AND_DISK',\n",
    "    finalStorageLevel='MEMORY_AND_DISK',\n",
    "    coldStartStrategy='nan',) # 将评分矩阵分解为两个Low rank举证"
   ]
  },
  {
   "cell_type": "code",
   "execution_count": 9,
   "metadata": {},
   "outputs": [],
   "source": [
    "als = ALS(maxIter=10,regParam=0.01,userCol='userId',itemCol='movieId',ratingCol='rating')"
   ]
  },
  {
   "cell_type": "code",
   "execution_count": 10,
   "metadata": {},
   "outputs": [],
   "source": [
    "model = als.fit(train)"
   ]
  },
  {
   "cell_type": "code",
   "execution_count": 11,
   "metadata": {},
   "outputs": [
    {
     "name": "stdout",
     "output_type": "stream",
     "text": [
      "706 706\n"
     ]
    }
   ],
   "source": [
    "print(data.select(\"userId\").distinct().count(), model.userFactors.count())"
   ]
  },
  {
   "cell_type": "code",
   "execution_count": 12,
   "metadata": {},
   "outputs": [
    {
     "name": "stdout",
     "output_type": "stream",
     "text": [
      "8552 7930\n"
     ]
    }
   ],
   "source": [
    "print(data.select(\"movieId\").distinct().count(),model.itemFactors.count())"
   ]
  },
  {
   "cell_type": "code",
   "execution_count": 13,
   "metadata": {},
   "outputs": [],
   "source": [
    "preds = model.transform(test) # 预测评分，产生新栏位prediction"
   ]
  },
  {
   "cell_type": "code",
   "execution_count": 14,
   "metadata": {},
   "outputs": [
    {
     "name": "stdout",
     "output_type": "stream",
     "text": [
      "+------+-------+------+----------+----------+\n",
      "|userId|movieId|rating| timestamp|prediction|\n",
      "+------+-------+------+----------+----------+\n",
      "|   159|    471|   4.0|1076529703| 4.0452576|\n",
      "|   182|    471|   3.0| 835697021|   4.90126|\n",
      "|   484|    471|   2.0| 938783830| 3.4903452|\n",
      "+------+-------+------+----------+----------+\n",
      "only showing top 3 rows\n",
      "\n"
     ]
    }
   ],
   "source": [
    "preds.show(3)"
   ]
  },
  {
   "cell_type": "code",
   "execution_count": 19,
   "metadata": {},
   "outputs": [
    {
     "name": "stdout",
     "output_type": "stream",
     "text": [
      "root\n",
      " |-- userId: integer (nullable = true)\n",
      " |-- movieId: integer (nullable = true)\n",
      " |-- rating: double (nullable = true)\n",
      " |-- timestamp: integer (nullable = true)\n",
      " |-- prediction: float (nullable = false)\n",
      "\n"
     ]
    }
   ],
   "source": [
    "preds.printSchema()"
   ]
  },
  {
   "cell_type": "code",
   "execution_count": 15,
   "metadata": {},
   "outputs": [],
   "source": [
    "evaluator = RegressionEvaluator(metricName='rmse',labelCol='rating',predictionCol='prediction' )"
   ]
  },
  {
   "cell_type": "code",
   "execution_count": 16,
   "metadata": {},
   "outputs": [],
   "source": [
    "rmse = evaluator.evaluate(preds) # 预测评估"
   ]
  },
  {
   "cell_type": "code",
   "execution_count": 22,
   "metadata": {},
   "outputs": [
    {
     "name": "stdout",
     "output_type": "stream",
     "text": [
      "nan\n"
     ]
    }
   ],
   "source": [
    "print(rmse) # 不能产生数据"
   ]
  },
  {
   "cell_type": "code",
   "execution_count": 44,
   "metadata": {},
   "outputs": [
    {
     "data": {
      "text/plain": [
       "nan"
      ]
     },
     "execution_count": 44,
     "metadata": {},
     "output_type": "execute_result"
    }
   ],
   "source": [
    "evaluator.evaluate(preds)"
   ]
  },
  {
   "cell_type": "code",
   "execution_count": 52,
   "metadata": {},
   "outputs": [],
   "source": [
    "rdd = preds.rdd"
   ]
  },
  {
   "cell_type": "code",
   "execution_count": 55,
   "metadata": {},
   "outputs": [],
   "source": [
    "#rdd.foreach(print)"
   ]
  },
  {
   "cell_type": "code",
   "execution_count": null,
   "metadata": {},
   "outputs": [],
   "source": [
    "preds.select('rating')."
   ]
  },
  {
   "cell_type": "code",
   "execution_count": 33,
   "metadata": {},
   "outputs": [],
   "source": [
    "single_user = test.filter(test['userId']==11) # 挑选一个测试用户"
   ]
  },
  {
   "cell_type": "code",
   "execution_count": 35,
   "metadata": {},
   "outputs": [
    {
     "name": "stdout",
     "output_type": "stream",
     "text": [
      "+------+-------+------+----------+\n",
      "|userId|movieId|rating| timestamp|\n",
      "+------+-------+------+----------+\n",
      "|    11|    104|   3.0|1111487971|\n",
      "|    11|    553|   3.0|1111487980|\n",
      "|    11|   1610|   3.0|1111487910|\n",
      "|    11|   2959|   4.0|1111487906|\n",
      "|    11|   2987|   3.0|1111487939|\n",
      "|    11|   3793|   3.5|1111488017|\n",
      "+------+-------+------+----------+\n",
      "\n"
     ]
    }
   ],
   "source": [
    "single_user.show() # 用户实际评分"
   ]
  },
  {
   "cell_type": "code",
   "execution_count": 36,
   "metadata": {},
   "outputs": [],
   "source": [
    "recomendations = model.transform(single_user) # 测试用户推荐"
   ]
  },
  {
   "cell_type": "code",
   "execution_count": 39,
   "metadata": {},
   "outputs": [
    {
     "name": "stdout",
     "output_type": "stream",
     "text": [
      "+------+-------+------+----------+----------+\n",
      "|userId|movieId|rating| timestamp|prediction|\n",
      "+------+-------+------+----------+----------+\n",
      "|    11|   2959|   4.0|1111487906| 6.1474605|\n",
      "|    11|    553|   3.0|1111487980| 5.1136513|\n",
      "|    11|   1610|   3.0|1111487910|  3.964507|\n",
      "|    11|   3793|   3.5|1111488017|  3.650897|\n",
      "|    11|   2987|   3.0|1111487939| 3.0012856|\n",
      "|    11|    104|   3.0|1111487971|  2.096114|\n",
      "+------+-------+------+----------+----------+\n",
      "\n"
     ]
    }
   ],
   "source": [
    "recomendations.orderBy('prediction',ascending=False).show()"
   ]
  },
  {
   "cell_type": "code",
   "execution_count": null,
   "metadata": {},
   "outputs": [],
   "source": []
  }
 ],
 "metadata": {
  "kernelspec": {
   "display_name": "Python 3",
   "language": "python",
   "name": "python3"
  },
  "language_info": {
   "codemirror_mode": {
    "name": "ipython",
    "version": 3
   },
   "file_extension": ".py",
   "mimetype": "text/x-python",
   "name": "python",
   "nbconvert_exporter": "python",
   "pygments_lexer": "ipython3",
   "version": "3.7.3"
  }
 },
 "nbformat": 4,
 "nbformat_minor": 2
}
