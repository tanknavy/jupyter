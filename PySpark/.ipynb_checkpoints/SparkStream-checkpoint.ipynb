{
 "cells": [
  {
   "cell_type": "code",
   "execution_count": 1,
   "metadata": {},
   "outputs": [
    {
     "data": {
      "text/plain": [
       "'\\n'"
      ]
     },
     "execution_count": 1,
     "metadata": {},
     "output_type": "execute_result"
    }
   ],
   "source": [
    "'''\n",
    "ncat.exe -lk 9999\n",
    "'''"
   ]
  },
  {
   "cell_type": "code",
   "execution_count": 2,
   "metadata": {},
   "outputs": [],
   "source": [
    "import findspark\n",
    "findspark.init()\n",
    "#from pyspark.sql import SparkSession\n",
    "from pyspark import SparkContext\n",
    "from pyspark.streaming import StreamingContext\n",
    "\n",
    "#spark = SparkSession.builder.appName(\"PySpark06\").master(\"local[2]\").config(\"spark.sql.warehouse.dir\",\"file:///E:/input/spark/warehouse\").getOrCreate()\n",
    "\n",
    "#data = spark.read.csv(\"file:///e:/Download/mllib/seeds_dataset.txt\",inferSchema=True,header=True)"
   ]
  },
  {
   "cell_type": "code",
   "execution_count": 3,
   "metadata": {},
   "outputs": [],
   "source": [
    "sc = SparkContext('local[2]','NetworkWordCount')\n",
    "ssc = StreamingContext(sc,10) #一秒更新一次"
   ]
  },
  {
   "cell_type": "code",
   "execution_count": 4,
   "metadata": {},
   "outputs": [],
   "source": [
    "lines = ssc.socketTextStream('localhost',9999)"
   ]
  },
  {
   "cell_type": "code",
   "execution_count": 5,
   "metadata": {},
   "outputs": [],
   "source": [
    "words = lines.flatMap(lambda line: line.split(' '))"
   ]
  },
  {
   "cell_type": "code",
   "execution_count": null,
   "metadata": {},
   "outputs": [],
   "source": []
  },
  {
   "cell_type": "code",
   "execution_count": 6,
   "metadata": {},
   "outputs": [],
   "source": [
    "words.map(lambda word:(word,1)).reduceByKey(lambda num1,num2:num1+num2).pprint()"
   ]
  },
  {
   "cell_type": "code",
   "execution_count": 7,
   "metadata": {},
   "outputs": [
    {
     "data": {
      "text/plain": [
       "<bound method StreamingContext.awaitTermination of <pyspark.streaming.context.StreamingContext object at 0x00000000052B25C0>>"
      ]
     },
     "execution_count": 7,
     "metadata": {},
     "output_type": "execute_result"
    },
    {
     "name": "stdout",
     "output_type": "stream",
     "text": [
      "-------------------------------------------\n",
      "Time: 2020-01-25 19:58:50\n",
      "-------------------------------------------\n",
      "\n",
      "-------------------------------------------\n",
      "Time: 2020-01-25 19:59:00\n",
      "-------------------------------------------\n",
      "\n",
      "-------------------------------------------\n",
      "Time: 2020-01-25 19:59:10\n",
      "-------------------------------------------\n",
      "\n",
      "-------------------------------------------\n",
      "Time: 2020-01-25 19:59:20\n",
      "-------------------------------------------\n",
      "\n",
      "-------------------------------------------\n",
      "Time: 2020-01-25 19:59:30\n",
      "-------------------------------------------\n",
      "\n",
      "-------------------------------------------\n",
      "Time: 2020-01-25 19:59:40\n",
      "-------------------------------------------\n",
      "\n",
      "-------------------------------------------\n",
      "Time: 2020-01-25 19:59:50\n",
      "-------------------------------------------\n",
      "\n",
      "-------------------------------------------\n",
      "Time: 2020-01-25 20:00:00\n",
      "-------------------------------------------\n",
      "(\"i'm\", 1)\n",
      "('a', 1)\n",
      "('million', 1)\n",
      "('dollar', 1)\n",
      "('man', 1)\n",
      "\n",
      "-------------------------------------------\n",
      "Time: 2020-01-25 20:00:10\n",
      "-------------------------------------------\n",
      "(\"I'm\", 4)\n",
      "('a', 4)\n",
      "('million', 4)\n",
      "('dollar', 4)\n",
      "('man', 4)\n",
      "\n",
      "-------------------------------------------\n",
      "Time: 2020-01-25 20:00:20\n",
      "-------------------------------------------\n",
      "\n",
      "-------------------------------------------\n",
      "Time: 2020-01-25 20:00:30\n",
      "-------------------------------------------\n",
      "(\"I'm\", 6)\n",
      "('a', 6)\n",
      "('million', 6)\n",
      "('dollar', 6)\n",
      "('man', 6)\n",
      "\n",
      "-------------------------------------------\n",
      "Time: 2020-01-25 20:00:40\n",
      "-------------------------------------------\n",
      "('is', 1)\n",
      "('luck', 3)\n",
      "('dog', 3)\n",
      "('me', 1)\n",
      "\n",
      "-------------------------------------------\n",
      "Time: 2020-01-25 20:00:50\n",
      "-------------------------------------------\n",
      "\n"
     ]
    }
   ],
   "source": [
    "ssc.start()\n",
    "ssc.awaitTermination"
   ]
  },
  {
   "cell_type": "code",
   "execution_count": null,
   "metadata": {},
   "outputs": [],
   "source": []
  }
 ],
 "metadata": {
  "kernelspec": {
   "display_name": "Python 3",
   "language": "python",
   "name": "python3"
  },
  "language_info": {
   "codemirror_mode": {
    "name": "ipython",
    "version": 3
   },
   "file_extension": ".py",
   "mimetype": "text/x-python",
   "name": "python",
   "nbconvert_exporter": "python",
   "pygments_lexer": "ipython3",
   "version": "3.7.3"
  }
 },
 "nbformat": 4,
 "nbformat_minor": 2
}
