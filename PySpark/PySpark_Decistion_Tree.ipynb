{
 "cells": [
  {
   "cell_type": "code",
   "execution_count": null,
   "metadata": {},
   "outputs": [],
   "source": [
    "'''\n",
    "使用决策树，随机森林，梯度提升树分类\n",
    "'''"
   ]
  },
  {
   "cell_type": "code",
   "execution_count": 3,
   "metadata": {},
   "outputs": [],
   "source": [
    "import findspark\n",
    "findspark.init()\n",
    "from pyspark.sql import SparkSession"
   ]
  },
  {
   "cell_type": "code",
   "execution_count": 4,
   "metadata": {},
   "outputs": [],
   "source": [
    "spark = SparkSession.builder.appName(\"PySpark05\").master(\"local[2]\"). \\\n",
    "config(\"spark.sql.warehouse.dir\",\"file:///E:/input/spark/warehouse\").getOrCreate()"
   ]
  },
  {
   "cell_type": "code",
   "execution_count": 5,
   "metadata": {},
   "outputs": [],
   "source": [
    "from pyspark.ml import Pipeline"
   ]
  },
  {
   "cell_type": "code",
   "execution_count": 6,
   "metadata": {},
   "outputs": [],
   "source": [
    "# 分类：决策树，随机森林，梯度提升\n",
    "from pyspark.ml.classification import RandomForestClassifier,GBTClassifier,DecisionTreeClassifier"
   ]
  },
  {
   "cell_type": "code",
   "execution_count": 35,
   "metadata": {},
   "outputs": [],
   "source": [
    "# 回归：\n",
    "from pyspark.ml.regression import DecisionTreeRegressor,RandomForestRegressor,GBTRegressor"
   ]
  },
  {
   "cell_type": "code",
   "execution_count": 9,
   "metadata": {},
   "outputs": [],
   "source": [
    "data = spark.read.format('libsvm').load(\"file:///e:/Download/sample_libsvm_data.txt\")"
   ]
  },
  {
   "cell_type": "code",
   "execution_count": 80,
   "metadata": {},
   "outputs": [
    {
     "name": "stdout",
     "output_type": "stream",
     "text": [
      "+-----+--------------------+\n",
      "|label|            features|\n",
      "+-----+--------------------+\n",
      "|  0.0|(692,[127,128,129...|\n",
      "|  1.0|(692,[158,159,160...|\n",
      "|  1.0|(692,[124,125,126...|\n",
      "+-----+--------------------+\n",
      "only showing top 3 rows\n",
      "\n"
     ]
    }
   ],
   "source": [
    "data.show(3)"
   ]
  },
  {
   "cell_type": "code",
   "execution_count": 10,
   "metadata": {},
   "outputs": [
    {
     "name": "stdout",
     "output_type": "stream",
     "text": [
      "root\n",
      " |-- label: double (nullable = true)\n",
      " |-- features: vector (nullable = true)\n",
      "\n"
     ]
    }
   ],
   "source": [
    "data.printSchema()"
   ]
  },
  {
   "cell_type": "code",
   "execution_count": 54,
   "metadata": {},
   "outputs": [],
   "source": [
    "train_data,test_data = data.randomSplit([0.7,0.3])"
   ]
  },
  {
   "cell_type": "code",
   "execution_count": 55,
   "metadata": {},
   "outputs": [],
   "source": [
    "dtc = DecisionTreeClassifier()\n",
    "rfc = RandomForestClassifier(numTrees=100)\n",
    "gbt = GBTClassifier()"
   ]
  },
  {
   "cell_type": "code",
   "execution_count": 56,
   "metadata": {},
   "outputs": [],
   "source": [
    "dtc_model = dtc.fit(train_data)\n",
    "rfc_model = rfc.fit(train_data)\n",
    "gbt_model = gbt.fit(train_data)"
   ]
  },
  {
   "cell_type": "code",
   "execution_count": 57,
   "metadata": {},
   "outputs": [],
   "source": [
    "dtc_preds = dtc_model.transform(test_data) # 这里是transform,会产生三个新的栏位'rawPrediction', 'probability', 'prediction'\n",
    "rfc_preds = rfc_model.transform(test_data)\n",
    "gbt_preds = gbt_model.transform(test_data)"
   ]
  },
  {
   "cell_type": "code",
   "execution_count": 58,
   "metadata": {},
   "outputs": [
    {
     "data": {
      "text/plain": [
       "['label', 'features']"
      ]
     },
     "execution_count": 58,
     "metadata": {},
     "output_type": "execute_result"
    }
   ],
   "source": [
    "train_data.columns"
   ]
  },
  {
   "cell_type": "code",
   "execution_count": 59,
   "metadata": {},
   "outputs": [
    {
     "data": {
      "text/plain": [
       "['label', 'features', 'rawPrediction', 'probability', 'prediction']"
      ]
     },
     "execution_count": 59,
     "metadata": {},
     "output_type": "execute_result"
    }
   ],
   "source": [
    "dtc_preds.columns"
   ]
  },
  {
   "cell_type": "code",
   "execution_count": 60,
   "metadata": {},
   "outputs": [
    {
     "name": "stdout",
     "output_type": "stream",
     "text": [
      "+-----+--------------------+-------------+-----------+----------+\n",
      "|label|            features|rawPrediction|probability|prediction|\n",
      "+-----+--------------------+-------------+-----------+----------+\n",
      "|  0.0|(692,[98,99,100,1...|    [0.0,1.0]|  [0.0,1.0]|       1.0|\n",
      "|  0.0|(692,[123,124,125...|   [31.0,0.0]|  [1.0,0.0]|       0.0|\n",
      "|  0.0|(692,[124,125,126...|   [31.0,0.0]|  [1.0,0.0]|       0.0|\n",
      "+-----+--------------------+-------------+-----------+----------+\n",
      "only showing top 3 rows\n",
      "\n"
     ]
    }
   ],
   "source": [
    "dtc_preds.show(3)"
   ]
  },
  {
   "cell_type": "code",
   "execution_count": 61,
   "metadata": {},
   "outputs": [
    {
     "name": "stdout",
     "output_type": "stream",
     "text": [
      "+-----+--------------------+-------------+-----------+----------+\n",
      "|label|            features|rawPrediction|probability|prediction|\n",
      "+-----+--------------------+-------------+-----------+----------+\n",
      "|  0.0|(692,[98,99,100,1...|   [98.0,2.0]|[0.98,0.02]|       0.0|\n",
      "|  0.0|(692,[123,124,125...|   [97.0,3.0]|[0.97,0.03]|       0.0|\n",
      "|  0.0|(692,[124,125,126...|  [100.0,0.0]|  [1.0,0.0]|       0.0|\n",
      "+-----+--------------------+-------------+-----------+----------+\n",
      "only showing top 3 rows\n",
      "\n"
     ]
    }
   ],
   "source": [
    "rfc_preds.show(3)"
   ]
  },
  {
   "cell_type": "code",
   "execution_count": 62,
   "metadata": {},
   "outputs": [
    {
     "name": "stdout",
     "output_type": "stream",
     "text": [
      "+-----+--------------------+--------------------+--------------------+----------+\n",
      "|label|            features|       rawPrediction|         probability|prediction|\n",
      "+-----+--------------------+--------------------+--------------------+----------+\n",
      "|  0.0|(692,[98,99,100,1...|[-0.7378600704627...|[0.18607473723157...|       1.0|\n",
      "|  0.0|(692,[123,124,125...|[1.54350200272498...|[0.95635347857270...|       0.0|\n",
      "|  0.0|(692,[124,125,126...|[1.54350200272498...|[0.95635347857270...|       0.0|\n",
      "+-----+--------------------+--------------------+--------------------+----------+\n",
      "only showing top 3 rows\n",
      "\n"
     ]
    }
   ],
   "source": [
    "gbt_preds.show(3)"
   ]
  },
  {
   "cell_type": "code",
   "execution_count": 63,
   "metadata": {},
   "outputs": [],
   "source": [
    "from pyspark.ml.evaluation import BinaryClassificationEvaluator, MulticlassClassificationEvaluator"
   ]
  },
  {
   "cell_type": "code",
   "execution_count": 64,
   "metadata": {},
   "outputs": [],
   "source": [
    "acc_eval = MulticlassClassificationEvaluator(predictionCol='prediction',labelCol='label',metricName='f1')"
   ]
  },
  {
   "cell_type": "code",
   "execution_count": 65,
   "metadata": {},
   "outputs": [
    {
     "data": {
      "text/plain": [
       "0.9598711755233494"
      ]
     },
     "execution_count": 65,
     "metadata": {},
     "output_type": "execute_result"
    }
   ],
   "source": [
    "acc_eval.evaluate(dtc_preds)"
   ]
  },
  {
   "cell_type": "code",
   "execution_count": 66,
   "metadata": {},
   "outputs": [
    {
     "name": "stdout",
     "output_type": "stream",
     "text": [
      "0.9598711755233494\n",
      "1.0\n",
      "0.9598711755233494\n"
     ]
    }
   ],
   "source": [
    "# 随机森林看起来不错\n",
    "for pred in (dtc_preds,rfc_preds,gbt_preds):\n",
    "    #print(pred)\n",
    "    print(acc_eval.evaluate(pred))"
   ]
  },
  {
   "cell_type": "code",
   "execution_count": 67,
   "metadata": {},
   "outputs": [],
   "source": [
    "acc_eval2 = MulticlassClassificationEvaluator(predictionCol='prediction',labelCol='label',metricName='accuracy')"
   ]
  },
  {
   "cell_type": "code",
   "execution_count": 85,
   "metadata": {},
   "outputs": [
    {
     "name": "stdout",
     "output_type": "stream",
     "text": [
      "model accuracy: 0.960000\n",
      "model accuracy: 1.000000\n",
      "model accuracy: 0.960000\n"
     ]
    }
   ],
   "source": [
    "for pred in (dtc_preds,rfc_preds,gbt_preds):\n",
    "    #print(pred)\n",
    "    #print(acc_eval2.evaluate(pred))\n",
    "    print(\"model accuracy: %f\" %(acc_eval2.evaluate(pred)))"
   ]
  },
  {
   "cell_type": "code",
   "execution_count": null,
   "metadata": {},
   "outputs": [],
   "source": []
  },
  {
   "cell_type": "code",
   "execution_count": 69,
   "metadata": {},
   "outputs": [
    {
     "data": {
      "text/plain": [
       "SparseVector(692, {100: 0.0007, 101: 0.0004, 131: 0.0005, 155: 0.0002, 159: 0.0005, 180: 0.0005, 182: 0.0005, 183: 0.0001, 206: 0.0013, 207: 0.003, 208: 0.0008, 209: 0.006, 231: 0.0013, 233: 0.0005, 235: 0.0007, 241: 0.0009, 244: 0.0144, 245: 0.0048, 263: 0.017, 264: 0.0015, 265: 0.003, 267: 0.0005, 271: 0.0052, 272: 0.007, 273: 0.0005, 289: 0.0036, 290: 0.0011, 291: 0.0018, 293: 0.0005, 295: 0.0015, 297: 0.0003, 300: 0.0084, 301: 0.0144, 302: 0.0024, 316: 0.0005, 317: 0.0004, 318: 0.0005, 322: 0.0066, 323: 0.0237, 324: 0.0055, 327: 0.0049, 328: 0.0058, 329: 0.0123, 330: 0.0046, 331: 0.0025, 341: 0.0005, 342: 0.0014, 345: 0.0079, 350: 0.022, 351: 0.0414, 352: 0.0069, 353: 0.0012, 357: 0.0226, 359: 0.0063, 371: 0.0006, 373: 0.0016, 374: 0.0006, 378: 0.0581, 379: 0.0263, 380: 0.0002, 382: 0.0005, 385: 0.0165, 386: 0.0071, 387: 0.0051, 401: 0.0038, 402: 0.0005, 405: 0.0357, 406: 0.037, 407: 0.0089, 409: 0.0013, 410: 0.002, 415: 0.0006, 426: 0.0011, 429: 0.0083, 430: 0.0003, 433: 0.048, 434: 0.031, 435: 0.0254, 436: 0.0005, 439: 0.0024, 440: 0.0146, 441: 0.0152, 442: 0.0007, 453: 0.0015, 454: 0.0023, 455: 0.0092, 456: 0.0037, 457: 0.0151, 458: 0.0027, 461: 0.0005, 462: 0.0534, 463: 0.013, 468: 0.0077, 469: 0.0005, 481: 0.0038, 482: 0.0005, 483: 0.0082, 484: 0.0154, 485: 0.0094, 486: 0.0007, 489: 0.027, 490: 0.014, 491: 0.0012, 492: 0.0003, 496: 0.0134, 498: 0.0023, 510: 0.0018, 511: 0.0413, 512: 0.0256, 513: 0.0053, 517: 0.0145, 518: 0.0147, 519: 0.0018, 520: 0.001, 521: 0.0006, 522: 0.0014, 540: 0.0088, 546: 0.0009, 549: 0.0011, 554: 0.0003, 565: 0.0007, 568: 0.0111, 574: 0.0005, 575: 0.0011, 576: 0.0052, 578: 0.0075, 579: 0.0003, 580: 0.0005, 595: 0.0007, 624: 0.0005, 629: 0.0005, 631: 0.0005, 634: 0.0067, 635: 0.0002, 654: 0.0008, 656: 0.0002, 658: 0.0005, 678: 0.0006})"
      ]
     },
     "execution_count": 69,
     "metadata": {},
     "output_type": "execute_result"
    }
   ],
   "source": [
    "# 参数重要性\n",
    "rfc_model.featureImportances"
   ]
  },
  {
   "cell_type": "code",
   "execution_count": null,
   "metadata": {},
   "outputs": [],
   "source": []
  },
  {
   "cell_type": "code",
   "execution_count": null,
   "metadata": {},
   "outputs": [],
   "source": []
  }
 ],
 "metadata": {
  "kernelspec": {
   "display_name": "Python 3",
   "language": "python",
   "name": "python3"
  },
  "language_info": {
   "codemirror_mode": {
    "name": "ipython",
    "version": 3
   },
   "file_extension": ".py",
   "mimetype": "text/x-python",
   "name": "python",
   "nbconvert_exporter": "python",
   "pygments_lexer": "ipython3",
   "version": "3.7.3"
  }
 },
 "nbformat": 4,
 "nbformat_minor": 2
}
