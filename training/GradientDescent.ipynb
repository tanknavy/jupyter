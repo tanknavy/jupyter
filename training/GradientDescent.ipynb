{
 "cells": [
  {
   "cell_type": "markdown",
   "metadata": {},
   "source": [
    "# 简单线性回归（手动梯度下降）"
   ]
  },
  {
   "cell_type": "markdown",
   "metadata": {},
   "source": [
    "### 0.引入依赖"
   ]
  },
  {
   "cell_type": "code",
   "execution_count": 36,
   "metadata": {},
   "outputs": [],
   "source": [
    "import numpy as np\n",
    "import matplotlib.pyplot as plt"
   ]
  },
  {
   "cell_type": "markdown",
   "metadata": {},
   "source": [
    "### 1.导入数据（data.csv）"
   ]
  },
  {
   "cell_type": "code",
   "execution_count": 37,
   "metadata": {},
   "outputs": [
    {
     "data": {
      "image/png": "[encoded data removed]",
      "text/plain": [
       "<Figure size 432x288 with 1 Axes>"
      ]
     },
     "metadata": {
      "needs_background": "light"
     },
     "output_type": "display_data"
    }
   ],
   "source": [
    "points = np.genfromtxt('e:/input/data.csv',delimiter=',') # 返回一个二维的array\n",
    "len(points)\n",
    "\n",
    "# 提取两列数据，分别作为x,y\n",
    "x = points[:,0]\n",
    "y = points[:,1]\n",
    "\n",
    "# 用plt散点图\n",
    "plt.scatter(x,y)\n",
    "plt.show()"
   ]
  },
  {
   "cell_type": "markdown",
   "metadata": {},
   "source": [
    "### 2.定义损失函数"
   ]
  },
  {
   "cell_type": "code",
   "execution_count": 38,
   "metadata": {},
   "outputs": [],
   "source": [
    "# 损失函数是系数的函数，最小二乘使用平方损失，这里可以使用任意\n",
    "def compute_cost(w,b,points):\n",
    "    total_cost = 0\n",
    "    M = len(points)\n",
    "    for i in range(M):\n",
    "        x = points[i,0]\n",
    "        y = points[i,1]\n",
    "        total_cost += (y- w * x - b) ** 2\n",
    "    return total_cost/M #python的除数直接是float类型\n"
   ]
  },
  {
   "cell_type": "markdown",
   "metadata": {},
   "source": [
    "### 3.定义超参数"
   ]
  },
  {
   "cell_type": "code",
   "execution_count": 43,
   "metadata": {},
   "outputs": [],
   "source": [
    "# 损失函数是系数的函数\n",
    "# 梯度下降是迭代法，需要定义初始化参数，步长，迭代次数 \n",
    "alpha = 0.0001\n",
    "init_w = 0\n",
    "init_b = 0\n",
    "num_iter = 20\n"
   ]
  },
  {
   "cell_type": "markdown",
   "metadata": {},
   "source": [
    "### 4.定义算法拟合函数"
   ]
  },
  {
   "cell_type": "code",
   "execution_count": 56,
   "metadata": {},
   "outputs": [],
   "source": [
    "# 梯度下降\n",
    "def grad_desc(points,init_w,init_b,alpha,num_iter):\n",
    "    w = init_w\n",
    "    b = init_b\n",
    "    \n",
    "    # 定义一个list保存所有损失函数值，用来显示下降的过程\n",
    "    cost_list = []\n",
    "    temp_wb = []\n",
    "    \n",
    "    for i in range(num_iter):\n",
    "        cost_list.append(compute_cost(w,b,points)) #当前损失\n",
    "        w,b = step_grad_desc(w,b,alpha,points) #计算每一步梯度\n",
    "        temp_wb.append((w,b))\n",
    "            \n",
    "    return [w,b,cost_list,temp_wb]   \n",
    "\n",
    "\n",
    "# 根据公式计算当前梯度：\n",
    "def step_grad_desc(current_w,current_b,alpha,points):\n",
    "    sum_grad_w = 0\n",
    "    sum_grad_b = 0\n",
    "    M = len(points)\n",
    "    \n",
    "    #对每一个点，带入公式求和\n",
    "    for i in range(M):\n",
    "        x = points[i,0]\n",
    "        y = points[i,1]\n",
    "        sum_grad_w += (current_w * x + current_b - y) * x\n",
    "        sum_grad_b += current_w * x +current_b - y\n",
    "    \n",
    "    #用公式求当前梯度(偏导数)\n",
    "    grad_w = 2/M * sum_grad_w\n",
    "    grad_b = 2/M * sum_grad_b\n",
    "    \n",
    "    #梯度下降，更新当前w和b\n",
    "    update_w = current_w - alpha * grad_w\n",
    "    update_b = current_b - alpha * grad_b\n",
    "    \n",
    "    return update_w, update_b\n",
    "    "
   ]
  },
  {
   "cell_type": "markdown",
   "metadata": {},
   "source": [
    "### 5.运行梯度下降算法计算最优w和b"
   ]
  },
  {
   "cell_type": "code",
   "execution_count": 60,
   "metadata": {},
   "outputs": [
    {
     "name": "stdout",
     "output_type": "stream",
     "text": [
      "w is :  1.478895662279729\n",
      "b is :  0.030269517287775896\n",
      "cost is:  [5565.107834483211, 1484.5865574086483, 457.85425757376686, 199.50998572553866, 134.50591058200533, 118.14969342239948, 114.03414906038148, 112.99857731713661, 112.73798187568467, 112.67238435909101, 112.65585181499748, 112.65166489759582, 112.6505843615011, 112.65028544701501, 112.6501832029397, 112.65013044507194, 112.65009013922885, 112.65005296694635, 112.65001658353181, 112.64998039901866]\n",
      "\n",
      "\n",
      "w and b is :  [(0.7370702973591055, 0.014547010110737297), (1.106795454351516, 0.021873962959596406), (1.2922546649131117, 0.02557922432129313), (1.385283255651245, 0.027467789559144345), (1.4319472323843205, 0.028445071981738953), (1.4553540088980408, 0.02896524076647861), (1.4670946177201354, 0.02925611412604669), (1.4729832982243762, 0.02943196916380712), (1.4759365618962286, 0.029550129024383063), (1.4774173755483797, 0.02963934787473238), (1.4781595857319891, 0.029714049245227036), (1.4785313011122556, 0.029781468199526512), (1.4787171706313593, 0.029845233956332408), (1.47880981702566, 0.02990716698731023), (1.4788557012777628, 0.029968180468920382), (1.4788781289278565, 0.030028732464457784), (1.4788887903917065, 0.030089052745485782), (1.4788935497608395, 0.030149256568940047), (1.4788953485533445, 0.030209401749465792), (1.478895662279729, 0.030269517287775896)]\n"
     ]
    }
   ],
   "source": [
    "w,b,cost_list,temp_wb= grad_desc(points, init_w, init_b, alpha, num_iter) # 解构赋值\n",
    "print(\"w is : \",w)\n",
    "print(\"b is : \",b)\n",
    "\n",
    "# 最小二乘法w=1.33,b=7.99\n",
    "print(\"cost is: \", cost_list)\n",
    "print(\"\\n\")\n",
    "print(\"w and b is : \", temp_wb)"
   ]
  },
  {
   "cell_type": "code",
   "execution_count": 58,
   "metadata": {},
   "outputs": [
    {
     "data": {
      "text/plain": [
       "[<matplotlib.lines.Line2D at 0x8df0748>]"
      ]
     },
     "execution_count": 58,
     "metadata": {},
     "output_type": "execute_result"
    },
    {
     "data": {
      "image/png": "[encoded data removed]",
      "text/plain": [
       "<Figure size 432x288 with 1 Axes>"
      ]
     },
     "metadata": {
      "needs_background": "light"
     },
     "output_type": "display_data"
    }
   ],
   "source": [
    "### 5. 画出损失\n",
    "# 收敛还蛮快的\n",
    "plt.plot(cost_list)"
   ]
  },
  {
   "cell_type": "code",
   "execution_count": 51,
   "metadata": {},
   "outputs": [
    {
     "data": {
      "text/plain": [
       "[<matplotlib.lines.Line2D at 0x91a2da0>]"
      ]
     },
     "execution_count": 51,
     "metadata": {},
     "output_type": "execute_result"
    },
    {
     "data": {
      "image/png": "[encoded data removed]",
      "text/plain": [
       "<Figure size 432x288 with 1 Axes>"
      ]
     },
     "metadata": {
      "needs_background": "light"
     },
     "output_type": "display_data"
    }
   ],
   "source": [
    "plt.scatter(x,y)\n",
    "plt.plot(x,w*x+b,c='r')"
   ]
  },
  {
   "cell_type": "code",
   "execution_count": null,
   "metadata": {},
   "outputs": [],
   "source": []
  },
  {
   "cell_type": "code",
   "execution_count": null,
   "metadata": {},
   "outputs": [],
   "source": []
  }
 ],
 "metadata": {
  "kernelspec": {
   "display_name": "Python 3",
   "language": "python",
   "name": "python3"
  },
  "language_info": {
   "codemirror_mode": {
    "name": "ipython",
    "version": 3
   },
   "file_extension": ".py",
   "mimetype": "text/x-python",
   "name": "python",
   "nbconvert_exporter": "python",
   "pygments_lexer": "ipython3",
   "version": "3.7.3"
  }
 },
 "nbformat": 4,
 "nbformat_minor": 2
}
