{
 "cells": [
  {
   "cell_type": "markdown",
   "metadata": {},
   "source": [
    "# LFM-隐因子模型"
   ]
  },
  {
   "cell_type": "code",
   "execution_count": 1,
   "metadata": {},
   "outputs": [
    {
     "data": {
      "text/plain": [
       "'\\n评分矩阵分解\\nR = P * Q\\n损失函数：参考线性回归的最小二乘法（least squares），求导计算系数，这里p和q都是要变动的\\n使用交替最小二乘法(alternaing least squares, ALS)\\n损失函数涉及到矩阵求逆，使用梯度下降\\n'"
      ]
     },
     "execution_count": 1,
     "metadata": {},
     "output_type": "execute_result"
    }
   ],
   "source": [
    "'''\n",
    "评分矩阵分解\n",
    "R = P * Q\n",
    "损失函数：参考线性回归的最小二乘法（least squares），求导计算系数，这里p和q都是要变动的\n",
    "使用交替最小二乘法(alternaing least squares, ALS)\n",
    "损失函数涉及到矩阵求逆，使用梯度下降\n",
    "'''"
   ]
  },
  {
   "cell_type": "markdown",
   "metadata": {},
   "source": [
    "### 0.引入依赖"
   ]
  },
  {
   "cell_type": "code",
   "execution_count": 18,
   "metadata": {},
   "outputs": [],
   "source": [
    "import numpy as np\n",
    "import pandas as pd\n",
    "from matplotlib import pyplot as plt"
   ]
  },
  {
   "cell_type": "markdown",
   "metadata": {},
   "source": [
    "### 1.数据准备"
   ]
  },
  {
   "cell_type": "code",
   "execution_count": 5,
   "metadata": {},
   "outputs": [
    {
     "data": {
      "text/plain": [
       "(6, 5)"
      ]
     },
     "execution_count": 5,
     "metadata": {},
     "output_type": "execute_result"
    }
   ],
   "source": [
    "#评分矩阵R， 0不代表评分是0，而是没有评分\n",
    "R = np.array([[4,0,2,0,1],\n",
    "            [1,2,3,0,0],\n",
    "            [1,0,2,4,1],\n",
    "            [5,0,3,0,2],\n",
    "            [0,0,1,5,1],\n",
    "            [0,3,2,4,1]])\n",
    "R.shape"
   ]
  },
  {
   "cell_type": "markdown",
   "metadata": {},
   "source": [
    "### 2.算法的实现"
   ]
  },
  {
   "cell_type": "code",
   "execution_count": 57,
   "metadata": {},
   "outputs": [],
   "source": [
    "\"\"\"\n",
    "@输入参数：\n",
    "R: m*n评分矩阵\n",
    "K：隐特征向量维度\n",
    "max_iter: 最大迭代次数\n",
    "alpha:步长\n",
    "lambda:正则化参数\n",
    "\n",
    "@输出参数：\n",
    "分解之后的P,Q\n",
    "P: 分解后的用户特征矩阵m*k\n",
    "Q：分级后的物品特征举证n*k\n",
    "\"\"\"\n",
    "\n",
    "\n",
    "#给定超参数\n",
    "K = 2\n",
    "max_iter = 5000\n",
    "alpha = 0.0002\n",
    "lamda = 0.004\n",
    "\n",
    "#核心算法\n",
    "def LFM_GradDesc(R, K=2, max_iter=300, alpha=0.0001, lamda=0.002):\n",
    "    #基本维度参数定义\n",
    "    M = len(R)\n",
    "    N = len(R[0])\n",
    "    \n",
    "    #P,Q初始值，随机生成\n",
    "    P = np.random.rand(M,K)\n",
    "    Q = np.random.rand(N,K)\n",
    "    Q = Q.T #转置\n",
    "    \n",
    "    cost_list = []\n",
    "    \n",
    "    #开始迭代\n",
    "    for step in range(max_iter):\n",
    "        \n",
    "        # 对所有用户u，物品i, 使用als思想，梯度下降\n",
    "        for u in range(M):\n",
    "            for i in range(N):\n",
    "                if R[u][i] > 0: # 评分为0表示没有评分\n",
    "                    eui = np.dot(P[u,:], Q[:,i]) - R[u][i] #向量点乘，计算偏导\n",
    "                    \n",
    "                    #代入公式，按照梯度下降算法更新当前Pu, Qi\n",
    "                    for k in range(K):\n",
    "                        P[u][k] = P[u][k] - alpha *  (2 * eui * Q[k][i] + 2 * lamda * P[u][k])\n",
    "                        Q[k][i] = Q[k][i] - alpha *  (2 * eui * P[u][k] + 2 * lamda * Q[k][i])\n",
    "            \n",
    "        \n",
    "        # u,i遍历完成，所有特征向量更新完成，得到P,Q可以计算预测评分矩阵\n",
    "        predR = np.dot(P,Q)\n",
    "        \n",
    "        #有了当前P和Q,计算当前损失函数\n",
    "        cost = 0\n",
    "        for u in range(M):\n",
    "            for i in range(N):\n",
    "                if R[u][i] > 0:\n",
    "                    cost += (np.dot(P[u,:],Q[:,i]) - R[u][i]) ** 2 # 预测和实际的平方差\n",
    "                    #加上正则化项\n",
    "                    for k in range(K):\n",
    "                        cost += lamda * (P[u][k] ** 2 + Q[k][i] ** 2)\n",
    "        # 损失\n",
    "        cost_list.append(cost)\n",
    "        \n",
    "        #临界值\n",
    "        if cost < 0.0001: #收敛的话可以提前退出\n",
    "            break\n",
    "    \n",
    "    Q = Q.T\n",
    "    return P,Q,cost_list\n",
    "    \n",
    "    "
   ]
  },
  {
   "cell_type": "markdown",
   "metadata": {},
   "source": [
    "### 3.测试"
   ]
  },
  {
   "cell_type": "code",
   "execution_count": 62,
   "metadata": {},
   "outputs": [
    {
     "name": "stdout",
     "output_type": "stream",
     "text": [
      "[[ 0.4779257   0.85517944  0.27216953  0.99179952  1.36790979]\n",
      " [ 0.94433955  0.66029807  1.25039925 -0.15696858  0.47424952]\n",
      " [ 0.59544293  0.44056017  1.0456465  -0.04928926  0.82158917]\n",
      " [ 0.96905313  1.23078974  0.52220534  1.4753842   1.17350005]\n",
      " [-0.3242731   1.22083313  1.08718006  0.73135406  0.57509277]\n",
      " [ 0.58181835  0.12682264  0.74019933  0.96730504  1.03851265]]\n",
      "[[ 0.31412036  1.05982391 -0.18180302  1.65375426  0.91750832]\n",
      " [ 0.88603843  0.52122633  0.64223139  0.99096558  0.78103635]\n",
      " [ 1.42174362  0.47173778  0.70283281  0.05372564  0.47607296]\n",
      " [ 0.48292794  1.44728462  1.70013347  0.84797035  1.50151102]\n",
      " [ 0.61114756  0.34943288  0.25128134  0.48636001  0.05151502]]\n"
     ]
    }
   ],
   "source": [
    "P,Q,cost_list = LFM_GradDesc(R, K=5, max_iter=5000, alpha=0.0001, lamda=0.002)\n",
    "\n",
    "print(P)\n",
    "print(Q)"
   ]
  },
  {
   "cell_type": "code",
   "execution_count": 63,
   "metadata": {},
   "outputs": [
    {
     "name": "stdout",
     "output_type": "stream",
     "text": [
      "[[4 0 2 0 1]\n",
      " [1 2 3 0 0]\n",
      " [1 0 2 4 1]\n",
      " [5 0 3 0 2]\n",
      " [0 0 1 5 1]\n",
      " [0 3 2 4 1]]\n",
      "[[3.90224587 3.09522486 1.97870787 4.82616446 1.2121416 ]\n",
      " [0.94465003 2.19878718 2.75026203 4.11651899 1.07015041]\n",
      " [1.13615783 2.02161093 2.17779902 3.89473996 0.79895301]\n",
      " [5.03050017 4.21411614 2.96331576 6.15020996 1.93155407]\n",
      " [2.73148702 2.22114816 1.19206429 4.94231835 0.88693587]\n",
      " [2.73512901 2.82667809 1.9536368  4.10254662 1.10984864]]\n"
     ]
    }
   ],
   "source": [
    "print(R)\n",
    "print(np.dot(P,Q.T))"
   ]
  },
  {
   "cell_type": "code",
   "execution_count": 64,
   "metadata": {},
   "outputs": [
    {
     "name": "stdout",
     "output_type": "stream",
     "text": [
      "[69.54486589605592, 69.41409467233318, 69.28345675621618, 69.15295240577694, 69.02258187894708]\n",
      "[0.6643111640401461, 0.6641311450855587, 0.6639512428343377, 0.6637714571866792, 0.6635917880428839]\n"
     ]
    }
   ],
   "source": [
    "print(cost_list[:5])\n",
    "print(cost_list[-5:])"
   ]
  },
  {
   "cell_type": "code",
   "execution_count": 65,
   "metadata": {},
   "outputs": [
    {
     "data": {
      "text/plain": [
       "[<matplotlib.lines.Line2D at 0xb200e80>]"
      ]
     },
     "execution_count": 65,
     "metadata": {},
     "output_type": "execute_result"
    },
    {
     "data": {
      "image/png": "[encoded data removed]",
      "text/plain": [
       "<Figure size 432x288 with 1 Axes>"
      ]
     },
     "metadata": {
      "needs_background": "light"
     },
     "output_type": "display_data"
    }
   ],
   "source": [
    "plt.plot(cost_list)"
   ]
  },
  {
   "cell_type": "code",
   "execution_count": null,
   "metadata": {},
   "outputs": [],
   "source": []
  },
  {
   "cell_type": "code",
   "execution_count": null,
   "metadata": {},
   "outputs": [],
   "source": []
  },
  {
   "cell_type": "code",
   "execution_count": null,
   "metadata": {},
   "outputs": [],
   "source": []
  }
 ],
 "metadata": {
  "kernelspec": {
   "display_name": "Python 3",
   "language": "python",
   "name": "python3"
  },
  "language_info": {
   "codemirror_mode": {
    "name": "ipython",
    "version": 3
   },
   "file_extension": ".py",
   "mimetype": "text/x-python",
   "name": "python",
   "nbconvert_exporter": "python",
   "pygments_lexer": "ipython3",
   "version": "3.7.3"
  }
 },
 "nbformat": 4,
 "nbformat_minor": 2
}
